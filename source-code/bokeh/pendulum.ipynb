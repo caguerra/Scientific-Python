{
 "cells": [
  {
   "cell_type": "markdown",
   "metadata": {},
   "source": [
    "# Harmonic oscillator"
   ]
  },
  {
   "cell_type": "markdown",
   "metadata": {},
   "source": [
    "The second order differential equation describing the harmonic oscillator is given by:\n",
    "$m \\frac{d^2 \\theta}{dt^2}(t) = -\\frac{g}{l}\\theta(t) - q\\frac{d\\theta}{dt}(t) + F_d \\sin \\Omega_d t$. To solve it, this equation is rewritten as a set of two first order differential equations by introducing $\\omega(t) = \\frac{d\\theta}{dt}(t)$."
   ]
  },
  {
   "cell_type": "markdown",
   "metadata": {},
   "source": [
    "## Preparation"
   ]
  },
  {
   "cell_type": "markdown",
   "metadata": {},
   "source": [
    "Load the required modules."
   ]
  },
  {
   "cell_type": "code",
   "execution_count": null,
   "metadata": {},
   "outputs": [],
   "source": [
    "from bokeh.io import output_notebook, push_notebook, show\n",
    "from bokeh.layouts import gridplot\n",
    "from bokeh.models import ColumnDataSource, HoverTool, PanTool, ResetTool, WheelZoomTool\n",
    "from bokeh.plotting import figure\n",
    "from ipywidgets import interact\n",
    "import numpy as np\n",
    "from scipy.integrate import ode\n",
    "output_notebook()"
   ]
  },
  {
   "cell_type": "markdown",
   "metadata": {},
   "source": [
    "## Definitions"
   ]
  },
  {
   "cell_type": "markdown",
   "metadata": {},
   "source": [
    "Implement the function that define the ordinary first order differential equations to solve."
   ]
  },
  {
   "cell_type": "code",
   "execution_count": null,
   "metadata": {},
   "outputs": [],
   "source": [
    "def func(t, y, l, q, F_d, omega_d):\n",
    "    g = 9.81\n",
    "    return [\n",
    "        y[1],\n",
    "        -(g/l)*y[0] - q*y[1] + F_d*np.sin(omega_d*t)\n",
    "    ]"
   ]
  },
  {
   "cell_type": "markdown",
   "metadata": {},
   "source": [
    "The Jacobian is given by the matrix defined as follows."
   ]
  },
  {
   "cell_type": "code",
   "execution_count": null,
   "metadata": {},
   "outputs": [],
   "source": [
    "def jacobian(t, y, l, q, F_d, omega_d):\n",
    "    g = 9.81\n",
    "    return [\n",
    "        [0.0, 1.0],\n",
    "        [-g/l, -q]\n",
    "    ]"
   ]
  },
  {
   "cell_type": "markdown",
   "metadata": {},
   "source": [
    "Define a function to solve the set of differential equations for the giving initial conditions, and parameters. The result is a dictionary."
   ]
  },
  {
   "cell_type": "code",
   "execution_count": null,
   "metadata": {},
   "outputs": [],
   "source": [
    "def solve(func, jac, t_max=20.0, delta_t=0.01,\n",
    "          theta_0=0.1, omega_0=0.0, params={'l': 9.81, 'q': 0.0,\n",
    "                                            'F_d': 0.0, 'Omega_d': 0.5},\n",
    "          atol=1.0e-6, rtol=0.0):\n",
    "    t_0 = 0.0\n",
    "    integrator = ode(func, jac).set_integrator('dopri', atol=atol, rtol=rtol)\n",
    "    integrator.set_initial_value([theta_0, omega_0], t_0)\n",
    "    integrator.set_f_params(params['l'], params['q'], params['F_d'], params['Omega_d'])\n",
    "    integrator.set_jac_params(params['l'], params['q'], params['F_d'], params['Omega_d'])\n",
    "    times = [t_0]\n",
    "    thetas = [theta_0]\n",
    "    omegas = [omega_0]\n",
    "    while integrator.successful() and integrator.t < t_max:\n",
    "        integrator.integrate(integrator.t + delta_t)\n",
    "        times.append(integrator.t)\n",
    "        theta = integrator.y[0]\n",
    "        while theta > np.pi:\n",
    "            theta -= 2.0*np.pi\n",
    "        while theta < -np.pi:\n",
    "            theta += 2.0*np.pi\n",
    "        thetas.append(theta)\n",
    "        omegas.append(integrator.y[1])\n",
    "    return {'t': times, 'theta': thetas, 'omega': omegas}"
   ]
  },
  {
   "cell_type": "markdown",
   "metadata": {},
   "source": [
    "## Interactive parameters"
   ]
  },
  {
   "cell_type": "markdown",
   "metadata": {},
   "source": [
    "Compute the initial plot for a harmonic, non-damped, non-driven pendulum."
   ]
  },
  {
   "cell_type": "code",
   "execution_count": null,
   "metadata": {},
   "outputs": [],
   "source": [
    "data = solve(func, jacobian)"
   ]
  },
  {
   "cell_type": "markdown",
   "metadata": {},
   "source": [
    "Create the original plots for $\\theta(t)$, $\\omega(t)$, and $\\omega(\\theta)$."
   ]
  },
  {
   "cell_type": "code",
   "execution_count": null,
   "metadata": {},
   "outputs": [],
   "source": [
    "plot_options = {'plot_width': 250, 'plot_height': 200,\n",
    "                'tools': 'pan,wheel_zoom,help'}\n",
    "theta_fig = figure(**plot_options)\n",
    "theta_fig.xaxis.axis_label = 't'\n",
    "theta_fig.yaxis.axis_label = 'theta'\n",
    "theta_plot = theta_fig.line(data['t'], data['theta'])\n",
    "omega_fig = figure(x_range=theta_fig.x_range, y_range=theta_fig.y_range,\n",
    "                   **plot_options)\n",
    "omega_fig.xaxis.axis_label = 't'\n",
    "omega_fig.yaxis.axis_label = 'omega'\n",
    "omega_plot = omega_fig.line(data['t'], data['omega'])\n",
    "phase_fig = figure(x_range=theta_fig.y_range, y_range=omega_fig.y_range,\n",
    "                   **plot_options)\n",
    "phase_fig.xaxis.axis_label = 'theta'\n",
    "phase_fig.yaxis.axis_label = 'omega'\n",
    "phase_plot = phase_fig.line(data['theta'], data['omega'])\n",
    "plot = gridplot([[theta_fig, omega_fig], [None, phase_fig]]);"
   ]
  },
  {
   "cell_type": "markdown",
   "metadata": {},
   "source": [
    "Define the update function with the appropriate parameters."
   ]
  },
  {
   "cell_type": "code",
   "execution_count": null,
   "metadata": {},
   "outputs": [],
   "source": [
    "def update(l=9.81, q=0.0, F_d=0.0, Omega_d=0.5, t_max=20.0):\n",
    "    params = {'l': l, 'q': q, 'F_d': F_d, 'Omega_d': Omega_d}\n",
    "    results = solve(func, jacobian, t_max=t_max, params=params)\n",
    "    theta_plot.data_source.data['x'] = results['t']\n",
    "    theta_plot.data_source.data['y'] = results['theta']\n",
    "    omega_plot.data_source.data['x'] = results['t']\n",
    "    omega_plot.data_source.data['y'] = results['omega']\n",
    "    phase_plot.data_source.data['x'] = results['theta']\n",
    "    phase_plot.data_source.data['y'] = results['omega']\n",
    "    push_notebook()"
   ]
  },
  {
   "cell_type": "markdown",
   "metadata": {},
   "source": [
    "Show the plots, and the widgets for interaction."
   ]
  },
  {
   "cell_type": "code",
   "execution_count": null,
   "metadata": {},
   "outputs": [],
   "source": [
    "show(plot, notebook_handle=True);"
   ]
  },
  {
   "cell_type": "code",
   "execution_count": null,
   "metadata": {},
   "outputs": [],
   "source": [
    "interact(update, l=(5.0, 15.0), q=(0.0, 5.0), F_d=(0.0, 2.0), Omega_d=(0.1, 1.5), t_max=(20.0, 100.0));"
   ]
  },
  {
   "cell_type": "markdown",
   "metadata": {},
   "source": [
    "## Exploring the phase space"
   ]
  },
  {
   "cell_type": "markdown",
   "metadata": {},
   "source": [
    "Create scatter plots for linked brushing so that the selection in one plot is shown in all others. This makes interpreting the phase plot easier."
   ]
  },
  {
   "cell_type": "code",
   "execution_count": null,
   "metadata": {},
   "outputs": [],
   "source": [
    "params = {'l': 9.81, 'q': 0.2, 'F_d': 0.4, 'Omega_d': 0.5}\n",
    "data = solve(func, jacobian, params=params, t_max=100.0)\n",
    "stride=50\n",
    "point_source = ColumnDataSource(data={'t': data['t'][::stride],\n",
    "                                      'theta': data['theta'][::stride],\n",
    "                                      'omega': data['omega'][::stride]})"
   ]
  },
  {
   "cell_type": "code",
   "execution_count": null,
   "metadata": {},
   "outputs": [],
   "source": [
    "plot_options = {'plot_width': 350, 'plot_height': 300,\n",
    "                'tools': 'pan,wheel_zoom,box_select,help'}\n",
    "theta_fig = figure(**plot_options)\n",
    "theta_fig.xaxis.axis_label = 't'\n",
    "theta_fig.yaxis.axis_label = 'theta'\n",
    "theta_plot = theta_fig.circle('t', 'theta', source=point_source)\n",
    "omega_fig = figure(x_range=theta_fig.x_range, y_range=theta_fig.y_range,\n",
    "                   **plot_options)\n",
    "omega_fig.xaxis.axis_label = 't'\n",
    "omega_fig.yaxis.axis_label = 'omega'\n",
    "omega_plot = omega_fig.circle('t', 'omega', source=point_source)\n",
    "phase_fig = figure(x_range=theta_fig.y_range, y_range=omega_fig.y_range,\n",
    "                   **plot_options)\n",
    "phase_fig.xaxis.axis_label = 'theta'\n",
    "phase_fig.yaxis.axis_label = 'omega'\n",
    "phase_plot = phase_fig.circle('theta', 'omega', source=point_source)\n",
    "plot = gridplot([[theta_fig, omega_fig], [None, phase_fig]]);\n",
    "show(plot)"
   ]
  },
  {
   "cell_type": "markdown",
   "metadata": {},
   "source": [
    "Create a scatter plot of the phase space that shows $t$, $\\theta(t)$, and $\\omega(t)$ when hovering over a point."
   ]
  },
  {
   "cell_type": "code",
   "execution_count": null,
   "metadata": {},
   "outputs": [],
   "source": [
    "hover_tool = HoverTool(tooltips=[('(t, theta, omega)', '(@t, @theta, @omega)')])\n",
    "phase_fig = figure(plot_width=500, plot_height=300, tools=[PanTool(), WheelZoomTool(), hover_tool, ResetTool()])\n",
    "phase_fig.xaxis.axis_label = 'theta'\n",
    "phase_fig.yaxis.axis_label = 'omega'\n",
    "phase_plot = phase_fig.circle('theta', 'omega', source=point_source)\n",
    "show(phase_fig)"
   ]
  },
  {
   "cell_type": "code",
   "execution_count": null,
   "metadata": {},
   "outputs": [],
   "source": []
  }
 ],
 "metadata": {
  "anaconda-cloud": {},
  "kernelspec": {
   "display_name": "Python 3",
   "language": "python",
   "name": "python3"
  },
  "language_info": {
   "codemirror_mode": {
    "name": "ipython",
    "version": 3
   },
   "file_extension": ".py",
   "mimetype": "text/x-python",
   "name": "python",
   "nbconvert_exporter": "python",
   "pygments_lexer": "ipython3",
   "version": "3.7.5"
  },
  "widgets": {
   "state": {
    "944275575711411a99db4849c84c2aae": {
     "views": [
      {
       "cell_index": 21
      }
     ]
    }
   },
   "version": "1.2.0"
  }
 },
 "nbformat": 4,
 "nbformat_minor": 4
}
