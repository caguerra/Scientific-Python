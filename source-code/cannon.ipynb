{
 "cells": [
  {
   "cell_type": "markdown",
   "id": "5ee73faa-5163-4cb0-869b-2da4f99a4b45",
   "metadata": {},
   "source": [
    "# Requirements"
   ]
  },
  {
   "cell_type": "code",
   "execution_count": null,
   "id": "44cff1d6-9227-4e67-bff6-1bd8be0007cf",
   "metadata": {},
   "outputs": [],
   "source": [
    "from bokeh.io import output_notebook, show\n",
    "from bokeh.plotting import figure\n",
    "import numpy as np\n",
    "import scipy as sp\n",
    "import scipy.integrate\n",
    "import scipy.optimize\n",
    "import sympy\n",
    "output_notebook()"
   ]
  },
  {
   "cell_type": "markdown",
   "id": "97f14719-62ed-4260-a3bd-e605319a3ea5",
   "metadata": {},
   "source": [
    "# No drag"
   ]
  },
  {
   "cell_type": "markdown",
   "id": "b8cc06a0-dc78-41f1-be3f-383cf7951747",
   "metadata": {},
   "source": [
    "The equations of motion of a projectile fired by a cannon is given by:\n",
    "$$\n",
    "  \\frac{d^2 \\vec{r}}{d t^2} = -g \\vec{e}_y\n",
    "$$\n",
    "The value for $g$ is $9.81 m/s^2$, and the initial velocity $v_0$ is $700 m/s$."
   ]
  },
  {
   "cell_type": "code",
   "execution_count": null,
   "id": "87dd24e7-cb1b-4b1b-805a-42d973a47798",
   "metadata": {},
   "outputs": [],
   "source": [
    "g = 9.81"
   ]
  },
  {
   "cell_type": "markdown",
   "id": "61448f4f-a696-49d3-b92a-60858f9fa8cf",
   "metadata": {},
   "source": [
    "## Equations"
   ]
  },
  {
   "cell_type": "markdown",
   "id": "aa5ea503-1e96-4887-b0a5-15be3a3c396c",
   "metadata": {},
   "source": [
    "As usual, the second order differential equation is transformed into a set of first order equations, and the right hand side of the equations is defined by the function `rhs`.  Additionally, the Jacobian is provided."
   ]
  },
  {
   "cell_type": "code",
   "execution_count": null,
   "id": "7923aebe-5c4b-4451-b3b5-3c1403f8f112",
   "metadata": {},
   "outputs": [],
   "source": [
    "def rhs(t, Y, g):\n",
    "    x, y, v_x, v_y = Y\n",
    "    return np.array([\n",
    "        v_x,\n",
    "        v_y,\n",
    "        0.0,\n",
    "        -g,\n",
    "    ])"
   ]
  },
  {
   "cell_type": "code",
   "execution_count": null,
   "id": "ceac7619-9e7e-4c73-931a-8a0399666590",
   "metadata": {},
   "outputs": [],
   "source": [
    "def jac(t, Y, g):\n",
    "    x, y, v_x, v_y = Y\n",
    "    v = np.sqrt(v_x**2 + v_y**2)\n",
    "    return np.array([\n",
    "        [0.0, 0.0, 1.0, 0.0],\n",
    "        [0.0, 0.0, 0.0, 1.0],\n",
    "        [0.0, 0.0, 0.0, 0.0],\n",
    "        [0.0, 0.0, 0.0, 0.0],\n",
    "    ])\n"
   ]
  },
  {
   "cell_type": "markdown",
   "id": "a8b570cf-0761-4373-96c3-56811cfb42ab",
   "metadata": {},
   "source": [
    "Since it is more convenient to approach the problem using degrees rather than radians, a function is defined to compute the initial values."
   ]
  },
  {
   "cell_type": "code",
   "execution_count": null,
   "id": "d8680596-cf1b-43bb-8ed7-550a6a449c54",
   "metadata": {},
   "outputs": [],
   "source": [
    "def compute_init_values(alpha, v_0 = 700):\n",
    "    alpha_rad = np.pi*alpha/180.0\n",
    "    return np.array([0.0, 0.0,\n",
    "                     v_0*np.cos(alpha_rad), v_0*np.sin(alpha_rad),\n",
    "                     ])"
   ]
  },
  {
   "cell_type": "markdown",
   "id": "e52846cb-4c06-4676-bfc2-ff9d5ef2b666",
   "metadata": {},
   "source": [
    "## Solution"
   ]
  },
  {
   "cell_type": "markdown",
   "id": "852e38d6-68aa-4bfd-a1e7-2b52b7781e8b",
   "metadata": {},
   "source": [
    "We can solve the set of equations for an angle of 40 degrees."
   ]
  },
  {
   "cell_type": "code",
   "execution_count": null,
   "id": "7031203e-25c3-4dca-a5b0-3006b5830db3",
   "metadata": {},
   "outputs": [],
   "source": [
    "init_values = compute_init_values(40.0)\n",
    "x_0, y_0, v_x_0, v_y_0 = init_values"
   ]
  },
  {
   "cell_type": "markdown",
   "id": "798790ef-ea95-486e-bca5-ee9a9ce41145",
   "metadata": {},
   "source": [
    "Define the ODE system, setting initial conditions and parameters."
   ]
  },
  {
   "cell_type": "code",
   "execution_count": null,
   "id": "e8102c8c-191e-48a8-af03-6ca179b2f10d",
   "metadata": {},
   "outputs": [],
   "source": [
    "sys = scipy.integrate.ode(rhs, jac) \\\n",
    "           .set_integrator('dopri5') \\\n",
    "           .set_initial_value(init_values, 0.0) \\\n",
    "           .set_f_params(g) \\\n",
    "           .set_jac_params(g)"
   ]
  },
  {
   "cell_type": "code",
   "execution_count": null,
   "id": "e60b6387-b7df-4e9f-80db-f650ad078015",
   "metadata": {},
   "outputs": [],
   "source": [
    "delta_t = 0.5e-2"
   ]
  },
  {
   "cell_type": "code",
   "execution_count": null,
   "id": "eb333b14-6a7e-4a7b-80da-f8bf55fdf93b",
   "metadata": {},
   "outputs": [],
   "source": [
    "t, x, y, v_x, v_y = [0.0], [x_0], [y_0], [v_x_0], [v_y_0]"
   ]
  },
  {
   "cell_type": "code",
   "execution_count": null,
   "id": "6b640f71-5841-4165-aea2-04d8354d13a9",
   "metadata": {},
   "outputs": [],
   "source": [
    "while sys.successful() and y[-1] >= 0:\n",
    "    sys.integrate(sys.t + delta_t)\n",
    "    t.append(sys.t)\n",
    "    x.append(sys.y[0])\n",
    "    y.append(sys.y[1])\n",
    "    v_x.append(sys.y[2])\n",
    "    v_y.append(sys.y[3])"
   ]
  },
  {
   "cell_type": "code",
   "execution_count": null,
   "id": "3560e3d7-8a79-462a-bf3e-9e13d57609e5",
   "metadata": {},
   "outputs": [],
   "source": [
    "fig = figure(width=500, height=300,\n",
    "             x_axis_label='x', y_axis_label='y')\n",
    "fig.line(x, y)\n",
    "show(fig)"
   ]
  },
  {
   "cell_type": "markdown",
   "id": "625e34d1-28aa-44fc-9dec-a87003b7a778",
   "metadata": {},
   "source": [
    "## Range as a function of the firing angle"
   ]
  },
  {
   "cell_type": "code",
   "execution_count": null,
   "id": "6db58723-646e-467b-bed3-03c64df1c904",
   "metadata": {},
   "outputs": [],
   "source": [
    "def compute_range(alpha, delta_t = 1.0e-3,\n",
    "                  rhs=rhs, jac=jac,\n",
    "                  rhs_params=(g, ), jac_params=(g, )):\n",
    "    init_values = compute_init_values(alpha)\n",
    "    x_0, y_0, v_x_0, v_y_0 = init_values\n",
    "    sys = scipy.integrate.ode(rhs, jac) \\\n",
    "               .set_integrator('dopri5') \\\n",
    "               .set_initial_value(init_values, 0.0) \\\n",
    "               .set_f_params(*rhs_params) \\\n",
    "               .set_jac_params(*jac_params)\n",
    "    t, x, y, v_x, v_y = [0.0], [x_0], [y_0], [v_x_0], [v_y_0]\n",
    "    while sys.successful() and y[-1] >= 0:\n",
    "        sys.integrate(sys.t + delta_t)\n",
    "        t.append(sys.t)\n",
    "        x.append(sys.y[0])\n",
    "        y.append(sys.y[1])\n",
    "        v_x.append(sys.y[2])\n",
    "        v_y.append(sys.y[3])\n",
    "    return 0.5*(x[-2] + x[-1])"
   ]
  },
  {
   "cell_type": "code",
   "execution_count": null,
   "id": "8929beee-7364-4ea4-8246-362946b9f89f",
   "metadata": {},
   "outputs": [],
   "source": [
    "alphas = np.linspace(10.0, 80.0, 50)\n",
    "ranges = [compute_range(alpha) for alpha in alphas]"
   ]
  },
  {
   "cell_type": "code",
   "execution_count": null,
   "id": "2855adac-fa45-4d57-be8d-bf05e055eb5b",
   "metadata": {},
   "outputs": [],
   "source": [
    "fig = figure(width=500, height=300,\n",
    "             x_axis_label='alpha', y_axis_label='range')\n",
    "fig.line(alphas, ranges)\n",
    "show(fig)"
   ]
  },
  {
   "cell_type": "markdown",
   "id": "9f1a9588-0623-46ef-8490-849b2519577e",
   "metadata": {},
   "source": [
    "## Maximal range"
   ]
  },
  {
   "cell_type": "code",
   "execution_count": null,
   "id": "6f6f15b8-e569-4bba-a512-ef516e65798d",
   "metadata": {},
   "outputs": [],
   "source": [
    "scipy.optimize.minimize_scalar(\n",
    "    lambda alpha: -compute_range(alpha),\n",
    "    bracket=(10.0, 80.0), method='golden'\n",
    ")"
   ]
  },
  {
   "cell_type": "markdown",
   "id": "99424ce1-4b46-4cfd-9033-370bbf425352",
   "metadata": {},
   "source": [
    "# Drag"
   ]
  },
  {
   "cell_type": "markdown",
   "id": "53e8ef8b-5aae-4f75-a483-4d07ad7c01a8",
   "metadata": {},
   "source": [
    "The equations of motion of a projectile fired by a cannon is given by:\n",
    "$$\n",
    "  \\frac{d^2 \\vec{r}}{d t^2} = -g \\vec{e}_y - \\frac{B_2}{m} v e^{-\\frac{y}{y_d}} \\vec{v} \n",
    "$$\n",
    "Realistic values for $g = 9.81 \\frac{m}{s^2}$, $\\frac{B_2}{m} = 4\\cdot10^{-5} m^{-1}$, $y_d = 10^4 m$."
   ]
  },
  {
   "cell_type": "code",
   "execution_count": null,
   "id": "7a36d097-5259-4134-b0cc-11d90e4db45b",
   "metadata": {},
   "outputs": [],
   "source": [
    "def rhs(t, Y, g, b_2_m, y_d):\n",
    "    x, y, v_x, v_y = Y\n",
    "    v = np.sqrt(v_x**2 + v_y**2)\n",
    "    drag_factor = b_2_m*v*np.exp(-y/y_d)\n",
    "    return np.array([\n",
    "        v_x,\n",
    "        v_y,\n",
    "        -drag_factor*v_x,\n",
    "        -g - drag_factor*v_y,\n",
    "    ])"
   ]
  },
  {
   "cell_type": "markdown",
   "id": "be5eac95-0469-4504-b510-7db84bb03540",
   "metadata": {},
   "source": [
    "## Jacobian"
   ]
  },
  {
   "cell_type": "markdown",
   "id": "d4cb6a18-6269-428c-821a-46f929346777",
   "metadata": {},
   "source": [
    "Computing the Jacobian is not really hard, but a little tedious.  It can easily be done using sympy."
   ]
  },
  {
   "cell_type": "code",
   "execution_count": null,
   "id": "4fd37eb7-da0f-4bf5-abad-5175422c2904",
   "metadata": {},
   "outputs": [],
   "source": [
    "y, v_x, v_y, g, b_2_m, y_d = sympy.symbols('y v_x v_y g b_2_m y_d')"
   ]
  },
  {
   "cell_type": "code",
   "execution_count": null,
   "id": "839185a2-f943-41ab-afc7-f19e0286dc65",
   "metadata": {},
   "outputs": [],
   "source": [
    "rhs_v_x = -b_2_m*sympy.sqrt(v_x**2 + v_y**2)*sympy.exp(-y/y_d)*v_x"
   ]
  },
  {
   "cell_type": "code",
   "execution_count": null,
   "id": "0f8cdda3-7f61-4340-ab40-1bbd8917735e",
   "metadata": {},
   "outputs": [],
   "source": [
    "rhs_v_y = -g -b_2_m*sympy.sqrt(v_x**2 + v_y**2)*sympy.exp(-y/y_d)*v_y"
   ]
  },
  {
   "cell_type": "code",
   "execution_count": null,
   "id": "9e4379c4-7c06-46f0-af1b-71992b363ba8",
   "metadata": {},
   "outputs": [],
   "source": [
    "def jac_element(expr, symbol):\n",
    "    return sympy.lambdify(\n",
    "        (y, v_x, v_y, g, b_2_m, y_d),\n",
    "        sympy.diff(expr, symbol)\n",
    "    )"
   ]
  },
  {
   "cell_type": "code",
   "execution_count": null,
   "id": "b56e3a71-10b5-4cd8-b254-8206783d271d",
   "metadata": {},
   "outputs": [],
   "source": [
    "dv_x_dy = jac_element(rhs_v_x, y)"
   ]
  },
  {
   "cell_type": "code",
   "execution_count": null,
   "id": "57aa85ab-5518-48fb-838a-52ebb4752a86",
   "metadata": {},
   "outputs": [],
   "source": [
    "dv_x_dv_x = jac_element(rhs_v_x, v_x)"
   ]
  },
  {
   "cell_type": "code",
   "execution_count": null,
   "id": "f8405ba5-3b8c-42b6-805e-4f86ade0bc92",
   "metadata": {},
   "outputs": [],
   "source": [
    "dv_x_dv_y = jac_element(rhs_v_x, v_y)"
   ]
  },
  {
   "cell_type": "code",
   "execution_count": null,
   "id": "ea3f0e70-b0d5-4141-bb84-a68ba3227ec1",
   "metadata": {},
   "outputs": [],
   "source": [
    "dv_y_dy = jac_element(rhs_v_y, y)"
   ]
  },
  {
   "cell_type": "code",
   "execution_count": null,
   "id": "6083cfbb-f3b1-47cc-91ef-96b8a25dd05d",
   "metadata": {},
   "outputs": [],
   "source": [
    "dv_y_dv_x = jac_element(rhs_v_y, v_x)"
   ]
  },
  {
   "cell_type": "code",
   "execution_count": null,
   "id": "50813f09-bcf4-443c-8550-c880eb09fd40",
   "metadata": {},
   "outputs": [],
   "source": [
    "dv_y_dv_y = jac_element(rhs_v_y, v_y)"
   ]
  },
  {
   "cell_type": "code",
   "execution_count": null,
   "id": "51b72b40-c147-4613-b16f-7501a0ab3102",
   "metadata": {},
   "outputs": [],
   "source": [
    "def jac(t, Y, g, b_2_m, y_d):\n",
    "    x, y, v_x, v_y = Y\n",
    "    return np.array([\n",
    "        [0.0, 0.0, 1.0, 0.0],\n",
    "        [0.0, 0.0, 0.0, 1.0],\n",
    "        [0.0, dv_x_dy(y, v_x, v_y, g, b_2_m, y_d), dv_x_dv_x(y, v_x, v_y, g, b_2_m, y_d), dv_x_dv_y(y, v_x, v_y, g, b_2_m, y_d)],\n",
    "        [0.0, dv_y_dy(y, v_x, v_y, g, b_2_m, y_d), dv_y_dv_x(y, v_x, v_y, g, b_2_m, y_d), dv_y_dv_y(y, v_x, v_y, g, b_2_m, y_d)],\n",
    "    ])"
   ]
  },
  {
   "cell_type": "markdown",
   "id": "6048940d-422c-46bb-bc36-a17e87ad9918",
   "metadata": {
    "tags": []
   },
   "source": [
    "## Solution"
   ]
  },
  {
   "cell_type": "code",
   "execution_count": null,
   "id": "8fba4d55-d97a-45a8-9b7f-c922f74c8898",
   "metadata": {},
   "outputs": [],
   "source": [
    "g, b_2_m, y_d = 9.81, 4.0e-5, 1.0e4"
   ]
  },
  {
   "cell_type": "code",
   "execution_count": null,
   "id": "16ead9c5-6e91-4b86-a097-0f79e0ca8d32",
   "metadata": {},
   "outputs": [],
   "source": [
    "init_values = compute_init_values(40.0)\n",
    "x_0, y_0, v_x_0, v_y_0 = init_values"
   ]
  },
  {
   "cell_type": "markdown",
   "id": "ad964c85-c680-4b80-ad79-884e5079f09c",
   "metadata": {},
   "source": [
    "Define the ODE system, setting initial conditions and parameters."
   ]
  },
  {
   "cell_type": "code",
   "execution_count": null,
   "id": "2abaeddf-5e36-45bd-a0d0-578bdc717691",
   "metadata": {},
   "outputs": [],
   "source": [
    "sys = scipy.integrate.ode(rhs, jac) \\\n",
    "           .set_integrator('dopri5') \\\n",
    "           .set_initial_value(init_values, 0.0) \\\n",
    "           .set_f_params(g, b_2_m, y_d) \\\n",
    "           .set_jac_params(g, b_2_m, y_d)"
   ]
  },
  {
   "cell_type": "code",
   "execution_count": null,
   "id": "929bc91b-46fb-4d6b-b9bd-788655cd88ce",
   "metadata": {},
   "outputs": [],
   "source": [
    "delta_t = 0.5e-4"
   ]
  },
  {
   "cell_type": "code",
   "execution_count": null,
   "id": "4e647c0f-f4cf-443c-8c84-da5d171f4c63",
   "metadata": {},
   "outputs": [],
   "source": [
    "t, x, y, v_x, v_y = [0.0], [x_0], [y_0], [v_x_0], [v_y_0]"
   ]
  },
  {
   "cell_type": "code",
   "execution_count": null,
   "id": "0c54dea9-9348-49a7-9bc9-19a96a7cac5b",
   "metadata": {},
   "outputs": [],
   "source": [
    "while sys.successful() and y[-1] >= 0:\n",
    "    sys.integrate(sys.t + delta_t)\n",
    "    t.append(sys.t)\n",
    "    x.append(sys.y[0])\n",
    "    y.append(sys.y[1])\n",
    "    v_x.append(sys.y[2])\n",
    "    v_y.append(sys.y[3])"
   ]
  },
  {
   "cell_type": "code",
   "execution_count": null,
   "id": "6dc88642-da7f-43a3-bb24-dc05c6faf34b",
   "metadata": {},
   "outputs": [],
   "source": [
    "fig = figure(width=500, height=300,\n",
    "             x_axis_label='x', y_axis_label='y')\n",
    "fig.line(x, y)\n",
    "show(fig)"
   ]
  },
  {
   "cell_type": "markdown",
   "id": "9c3baa45-c28d-4e41-9378-d8ceaeaafcaf",
   "metadata": {},
   "source": [
    "## Total energy"
   ]
  },
  {
   "cell_type": "markdown",
   "id": "ac023b13-f1e5-43d6-b8c2-fb2910fd65f3",
   "metadata": {},
   "source": [
    "It is useful to check that the total energy decreases monotonically.  This is the sum of the kinetic and the potential energy, so\n",
    "$$\n",
    "    \\frac{E}{m} = \\frac{v_x^2 + v_y^2}{2} + g y\n",
    "$$"
   ]
  },
  {
   "cell_type": "code",
   "execution_count": null,
   "id": "e038beff-4200-4c36-be9f-67b200adb577",
   "metadata": {},
   "outputs": [],
   "source": [
    "def total_energy(x, y, v_x, v_y, g):\n",
    "    return 0.5*(np.array(v_x)**2 + np.array(v_y)**2) + g*np.array(y)"
   ]
  },
  {
   "cell_type": "code",
   "execution_count": null,
   "id": "50ad9244-40dc-4def-99cd-93c660173d4d",
   "metadata": {},
   "outputs": [],
   "source": [
    "energy = total_energy(x, y, v_x, v_y, g)"
   ]
  },
  {
   "cell_type": "code",
   "execution_count": null,
   "id": "9dece1ed-778c-43d3-8681-2fcd71b2d6f3",
   "metadata": {},
   "outputs": [],
   "source": [
    "fig = figure(width=500, height=300,\n",
    "             x_axis_label='t', y_axis_label='E')\n",
    "fig.line(t, energy)\n",
    "show(fig)"
   ]
  },
  {
   "cell_type": "markdown",
   "id": "3035b50e-5189-4dae-a8ff-cd7f221b46f6",
   "metadata": {},
   "source": [
    "## Work"
   ]
  },
  {
   "cell_type": "markdown",
   "id": "c23c48eb-1962-468e-a5e4-d3e656f53c01",
   "metadata": {},
   "source": [
    "The work is defined as\n",
    "$$\n",
    "    W = \\int \\vec{F} d\\vec{s}\n",
    "$$\n",
    "where $\\vec{F}$ is the total force acting on the projectile and $d\\vec{s}$ is the displacement.  The integral is taken along the projectile's path."
   ]
  },
  {
   "cell_type": "code",
   "execution_count": null,
   "id": "6d735a05-055f-4d38-b28a-612013279620",
   "metadata": {},
   "outputs": [],
   "source": [
    "def work(x, y, v_x, v_y, g, b_2_m, y_d):\n",
    "    x = np.array(x)\n",
    "    y = np.array(y)\n",
    "    delta_x = x[1:] - x[:-1]\n",
    "    delta_y = y[1:] - y[:-1]\n",
    "    Y = np.vstack((x, y, np.array(v_x), np.array(v_y)))\n",
    "    values = rhs(0.0, Y, g, b_2_m, y_d)\n",
    "    F_x = 0.5*(values[2, 1:] + values[2, :-1])\n",
    "    F_y = 0.5*(values[3, 1:] + values[3, :-1])\n",
    "    return np.sum(F_x*delta_x + F_y*delta_y)"
   ]
  },
  {
   "cell_type": "code",
   "execution_count": null,
   "id": "24f1f393-76cb-4553-beea-6e9946200930",
   "metadata": {},
   "outputs": [],
   "source": [
    "work(x, y, v_x, v_y, g, b_2_m, y_d)"
   ]
  },
  {
   "cell_type": "code",
   "execution_count": null,
   "id": "cf8a8eb4-4537-4338-a3f0-fa8b2c90cac0",
   "metadata": {},
   "outputs": [],
   "source": [
    "energy[0] - energy[-1]"
   ]
  },
  {
   "cell_type": "markdown",
   "id": "a49a50e7-ebd7-4e5c-807b-cf5464a126ed",
   "metadata": {},
   "source": [
    "The work is indeed (almost) exactly equal to the energy difference between firing and impact."
   ]
  },
  {
   "cell_type": "markdown",
   "id": "d5ee88fe-f91c-4bcb-a9d4-308ec37d6f57",
   "metadata": {
    "tags": []
   },
   "source": [
    "## Maximal range"
   ]
  },
  {
   "cell_type": "markdown",
   "id": "4afa9866-7742-4122-8af4-88795f93d372",
   "metadata": {},
   "source": [
    "Again, we can compute the maximal range of the artillery piece by maximizing the following helper function."
   ]
  },
  {
   "cell_type": "code",
   "execution_count": null,
   "id": "934e12cf-f278-4512-ae3c-ea4b88f56c08",
   "metadata": {},
   "outputs": [],
   "source": [
    "def helper_func(alpha):\n",
    "    return -compute_range(alpha, rhs=rhs, jac=jac,\n",
    "                          rhs_params=(g, b_2_m, y_d),\n",
    "                          jac_params=(g, b_2_m, y_d))"
   ]
  },
  {
   "cell_type": "code",
   "execution_count": null,
   "id": "35660222-76ec-4f4f-8cc3-ba7451705e90",
   "metadata": {},
   "outputs": [],
   "source": [
    "scipy.optimize.minimize_scalar(\n",
    "    lambda alpha: -compute_range(\n",
    "                        alpha, rhs=rhs, jac=jac,\n",
    "                        rhs_params=(g, b_2_m, y_d),\n",
    "                        jac_params=(g, b_2_m, y_d)\n",
    "                   ),\n",
    "    bracket=(10.0, 80.0), method='golden'\n",
    ")"
   ]
  },
  {
   "cell_type": "markdown",
   "id": "b8401e52-7ecb-4a7e-a47e-75024c325dca",
   "metadata": {},
   "source": [
    "Taking drag into account, the firing angle to get the maximal range increases by almost a degree, and the range is almost halved."
   ]
  }
 ],
 "metadata": {
  "kernelspec": {
   "display_name": "Python 3 (ipykernel)",
   "language": "python",
   "name": "python3"
  },
  "language_info": {
   "codemirror_mode": {
    "name": "ipython",
    "version": 3
   },
   "file_extension": ".py",
   "mimetype": "text/x-python",
   "name": "python",
   "nbconvert_exporter": "python",
   "pygments_lexer": "ipython3",
   "version": "3.10.9"
  }
 },
 "nbformat": 4,
 "nbformat_minor": 5
}
