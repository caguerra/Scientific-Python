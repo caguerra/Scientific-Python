{
 "cells": [
  {
   "cell_type": "markdown",
   "metadata": {},
   "source": [
    "# Requirements"
   ]
  },
  {
   "cell_type": "code",
   "execution_count": 27,
   "metadata": {},
   "outputs": [],
   "source": [
    "import h5py\n",
    "import matplotlib.pyplot as plt\n",
    "%matplotlib inline\n",
    "import numpy as np"
   ]
  },
  {
   "cell_type": "code",
   "execution_count": 28,
   "metadata": {},
   "outputs": [
    {
     "data": {
      "text/plain": [
       "'3.2.1'"
      ]
     },
     "execution_count": 28,
     "metadata": {},
     "output_type": "execute_result"
    }
   ],
   "source": [
    "h5py.__version__"
   ]
  },
  {
   "cell_type": "markdown",
   "metadata": {},
   "source": [
    "# Writing data to a file"
   ]
  },
  {
   "cell_type": "markdown",
   "metadata": {},
   "source": [
    "Suppose you want to store the following numpy arrays in an HDF5 file."
   ]
  },
  {
   "cell_type": "code",
   "execution_count": 29,
   "metadata": {},
   "outputs": [],
   "source": [
    "x_values = np.linspace(0.0, 1.0, 11)\n",
    "y_values = np.linspace(-1.0, 1.0, 21)"
   ]
  },
  {
   "cell_type": "markdown",
   "metadata": {},
   "source": [
    "Open the file for writing."
   ]
  },
  {
   "cell_type": "code",
   "execution_count": 30,
   "metadata": {},
   "outputs": [],
   "source": [
    "h5file = h5py.File('temp.h5', 'w')"
   ]
  },
  {
   "cell_type": "markdown",
   "metadata": {},
   "source": [
    "Create a group.  This is not required, but it may help you to organize your data."
   ]
  },
  {
   "cell_type": "code",
   "execution_count": 31,
   "metadata": {},
   "outputs": [],
   "source": [
    "input_group = h5file.create_group('input')"
   ]
  },
  {
   "cell_type": "markdown",
   "metadata": {},
   "source": [
    "Create a dataset in the group, the dataspace is determined by the data."
   ]
  },
  {
   "cell_type": "code",
   "execution_count": 32,
   "metadata": {},
   "outputs": [],
   "source": [
    "x_dset = input_group.create_dataset('x', data=x_values)\n",
    "y_dset = input_group.create_dataset('y', data=y_values)"
   ]
  },
  {
   "cell_type": "markdown",
   "metadata": {},
   "source": [
    "Close the file."
   ]
  },
  {
   "cell_type": "code",
   "execution_count": 33,
   "metadata": {},
   "outputs": [],
   "source": [
    "h5file.close()"
   ]
  },
  {
   "cell_type": "code",
   "execution_count": 34,
   "metadata": {},
   "outputs": [
    {
     "name": "stdout",
     "output_type": "stream",
     "text": [
      "HDF5 \"temp.h5\" {\n",
      "GROUP \"/\" {\n",
      "   GROUP \"input\" {\n",
      "      DATASET \"x\" {\n",
      "         DATATYPE  H5T_IEEE_F64LE\n",
      "         DATASPACE  SIMPLE { ( 11 ) / ( 11 ) }\n",
      "         DATA {\n",
      "         (0): 0, 0.1, 0.2, 0.3, 0.4, 0.5, 0.6, 0.7, 0.8, 0.9, 1\n",
      "         }\n",
      "      }\n",
      "      DATASET \"y\" {\n",
      "         DATATYPE  H5T_IEEE_F64LE\n",
      "         DATASPACE  SIMPLE { ( 21 ) / ( 21 ) }\n",
      "         DATA {\n",
      "         (0): -1, -0.9, -0.8, -0.7, -0.6, -0.5, -0.4, -0.3, -0.2, -0.1, 0,\n",
      "         (11): 0.1, 0.2, 0.3, 0.4, 0.5, 0.6, 0.7, 0.8, 0.9, 1\n",
      "         }\n",
      "      }\n",
      "   }\n",
      "}\n",
      "}\n"
     ]
    }
   ],
   "source": [
    "!h5dump temp.h5"
   ]
  },
  {
   "cell_type": "markdown",
   "metadata": {},
   "source": [
    "# Reading data from a file"
   ]
  },
  {
   "cell_type": "markdown",
   "metadata": {},
   "source": [
    "Open the file for reading, this time using a context manager."
   ]
  },
  {
   "cell_type": "code",
   "execution_count": 35,
   "metadata": {},
   "outputs": [
    {
     "name": "stdout",
     "output_type": "stream",
     "text": [
      "0.0\n",
      "0.1\n",
      "0.2\n",
      "0.30000000000000004\n",
      "0.4\n",
      "0.5\n",
      "0.6000000000000001\n",
      "0.7000000000000001\n",
      "0.8\n",
      "0.9\n",
      "1.0\n",
      "<class 'h5py._hl.dataset.Dataset'> float64 (11,)\n"
     ]
    }
   ],
   "source": [
    "with h5py.File('temp.h5', 'r') as h5file:\n",
    "    x_dset = h5file['input']['x']\n",
    "    for value in x_dset:\n",
    "        print(value)\n",
    "    print(type(x_dset), x_dset.dtype, x_dset.shape)"
   ]
  },
  {
   "cell_type": "markdown",
   "metadata": {},
   "source": [
    "Note that HDF5 file objects and groups behave like dictionaries.  The contents can be addressed by indexing and they have methods such as `keys`, `values` and `items`."
   ]
  },
  {
   "cell_type": "markdown",
   "metadata": {},
   "source": [
    "# Modifying a file"
   ]
  },
  {
   "cell_type": "markdown",
   "metadata": {},
   "source": [
    "Now you want to use the values of $x$ and $y$ to compute $e^{x^2 + y^2}$."
   ]
  },
  {
   "cell_type": "code",
   "execution_count": 36,
   "metadata": {},
   "outputs": [],
   "source": [
    "def gaussian(x, y):\n",
    "    return np.exp(-(x**2 + y**2)/2.0)"
   ]
  },
  {
   "cell_type": "markdown",
   "metadata": {},
   "source": [
    "You can open a file for both reading and writing using `r+` as the mode."
   ]
  },
  {
   "cell_type": "code",
   "execution_count": 37,
   "metadata": {},
   "outputs": [],
   "source": [
    "with h5py.File('temp.h5', 'r+') as h5file:\n",
    "    x = h5file['input/x'][:]\n",
    "    y = h5file['input/y'][:]\n",
    "    X, Y = np.meshgrid(x, y)\n",
    "    Z = gaussian(X, Y)\n",
    "    h5file.create_dataset('output/z', data=Z)"
   ]
  },
  {
   "cell_type": "markdown",
   "metadata": {},
   "source": [
    "Note that the dataset `z` is created in the new group `output`.  The latter is created implicitly since it doesn't exist."
   ]
  },
  {
   "cell_type": "code",
   "execution_count": 38,
   "metadata": {},
   "outputs": [
    {
     "name": "stdout",
     "output_type": "stream",
     "text": [
      "HDF5 \"temp.h5\" {\n",
      "GROUP \"/\" {\n",
      "   GROUP \"input\" {\n",
      "      DATASET \"x\" {\n",
      "         DATATYPE  H5T_IEEE_F64LE\n",
      "         DATASPACE  SIMPLE { ( 11 ) / ( 11 ) }\n",
      "         DATA {\n",
      "         (0): 0, 0.1, 0.2, 0.3, 0.4, 0.5, 0.6, 0.7, 0.8, 0.9, 1\n",
      "         }\n",
      "      }\n",
      "      DATASET \"y\" {\n",
      "         DATATYPE  H5T_IEEE_F64LE\n",
      "         DATASPACE  SIMPLE { ( 21 ) / ( 21 ) }\n",
      "         DATA {\n",
      "         (0): -1, -0.9, -0.8, -0.7, -0.6, -0.5, -0.4, -0.3, -0.2, -0.1, 0,\n",
      "         (11): 0.1, 0.2, 0.3, 0.4, 0.5, 0.6, 0.7, 0.8, 0.9, 1\n",
      "         }\n",
      "      }\n",
      "   }\n",
      "   GROUP \"output\" {\n",
      "      DATASET \"z\" {\n",
      "         DATATYPE  H5T_IEEE_F64LE\n",
      "         DATASPACE  SIMPLE { ( 21, 11 ) / ( 21, 11 ) }\n",
      "         DATA {\n",
      "         (0,0): 0.606531, 0.603506, 0.594521, 0.579842, 0.559898, 0.535261,\n",
      "         (0,6): 0.506617, 0.474734, 0.440432, 0.404542, 0.367879,\n",
      "         (1,0): 0.666977, 0.66365, 0.65377, 0.637628, 0.615697, 0.588605,\n",
      "         (1,6): 0.557106, 0.522046, 0.484325, 0.444858, 0.404542,\n",
      "         (2,0): 0.726149, 0.722527, 0.71177, 0.694197, 0.67032, 0.640824,\n",
      "         (2,6): 0.606531, 0.56836, 0.527292, 0.484325, 0.440432,\n",
      "         (3,0): 0.782705, 0.778801, 0.767206, 0.748264, 0.722527, 0.690734,\n",
      "         (3,6): 0.65377, 0.612626, 0.56836, 0.522046, 0.474734,\n",
      "         (4,0): 0.83527, 0.831104, 0.818731, 0.798516, 0.771052, 0.737123,\n",
      "         (4,6): 0.697676, 0.65377, 0.606531, 0.557106, 0.506617,\n",
      "         (5,0): 0.882497, 0.878095, 0.865022, 0.843665, 0.814647, 0.778801,\n",
      "         (5,6): 0.737123, 0.690734, 0.640824, 0.588605, 0.535261,\n",
      "         (6,0): 0.923116, 0.918512, 0.904837, 0.882497, 0.852144, 0.814647,\n",
      "         (6,6): 0.771052, 0.722527, 0.67032, 0.615697, 0.559898,\n",
      "         (7,0): 0.955997, 0.951229, 0.937067, 0.913931, 0.882497, 0.843665,\n",
      "         (7,6): 0.798516, 0.748264, 0.694197, 0.637628, 0.579842,\n",
      "         (8,0): 0.980199, 0.97531, 0.960789, 0.937067, 0.904837, 0.865022,\n",
      "         (8,6): 0.818731, 0.767206, 0.71177, 0.65377, 0.594521,\n",
      "         (9,0): 0.995012, 0.99005, 0.97531, 0.951229, 0.918512, 0.878095,\n",
      "         (9,6): 0.831104, 0.778801, 0.722527, 0.66365, 0.603506,\n",
      "         (10,0): 1, 0.995012, 0.980199, 0.955997, 0.923116, 0.882497,\n",
      "         (10,6): 0.83527, 0.782705, 0.726149, 0.666977, 0.606531,\n",
      "         (11,0): 0.995012, 0.99005, 0.97531, 0.951229, 0.918512, 0.878095,\n",
      "         (11,6): 0.831104, 0.778801, 0.722527, 0.66365, 0.603506,\n",
      "         (12,0): 0.980199, 0.97531, 0.960789, 0.937067, 0.904837, 0.865022,\n",
      "         (12,6): 0.818731, 0.767206, 0.71177, 0.65377, 0.594521,\n",
      "         (13,0): 0.955997, 0.951229, 0.937067, 0.913931, 0.882497, 0.843665,\n",
      "         (13,6): 0.798516, 0.748264, 0.694197, 0.637628, 0.579842,\n",
      "         (14,0): 0.923116, 0.918512, 0.904837, 0.882497, 0.852144, 0.814647,\n",
      "         (14,6): 0.771052, 0.722527, 0.67032, 0.615697, 0.559898,\n",
      "         (15,0): 0.882497, 0.878095, 0.865022, 0.843665, 0.814647, 0.778801,\n",
      "         (15,6): 0.737123, 0.690734, 0.640824, 0.588605, 0.535261,\n",
      "         (16,0): 0.83527, 0.831104, 0.818731, 0.798516, 0.771052, 0.737123,\n",
      "         (16,6): 0.697676, 0.65377, 0.606531, 0.557106, 0.506617,\n",
      "         (17,0): 0.782705, 0.778801, 0.767206, 0.748264, 0.722527, 0.690734,\n",
      "         (17,6): 0.65377, 0.612626, 0.56836, 0.522046, 0.474734,\n",
      "         (18,0): 0.726149, 0.722527, 0.71177, 0.694197, 0.67032, 0.640824,\n",
      "         (18,6): 0.606531, 0.56836, 0.527292, 0.484325, 0.440432,\n",
      "         (19,0): 0.666977, 0.66365, 0.65377, 0.637628, 0.615697, 0.588605,\n",
      "         (19,6): 0.557106, 0.522046, 0.484325, 0.444858, 0.404542,\n",
      "         (20,0): 0.606531, 0.603506, 0.594521, 0.579842, 0.559898, 0.535261,\n",
      "         (20,6): 0.506617, 0.474734, 0.440432, 0.404542, 0.367879\n",
      "         }\n",
      "      }\n",
      "   }\n",
      "}\n",
      "}\n"
     ]
    }
   ],
   "source": [
    "!h5dump temp.h5"
   ]
  },
  {
   "cell_type": "code",
   "execution_count": 39,
   "metadata": {},
   "outputs": [
    {
     "data": {
      "image/png": "[encoded data removed]",
      "text/plain": [
       "<Figure size 432x288 with 1 Axes>"
      ]
     },
     "metadata": {
      "needs_background": "light"
     },
     "output_type": "display_data"
    }
   ],
   "source": [
    "with h5py.File('temp.h5', 'r') as h5file:\n",
    "    plt.imshow(h5file['output/z'])"
   ]
  },
  {
   "cell_type": "markdown",
   "metadata": {},
   "source": [
    "# Hyperslabs"
   ]
  },
  {
   "cell_type": "markdown",
   "metadata": {},
   "source": [
    "Up to this point, you wrote or read entire datasets, but that is not necessary, and often not possible when working with large datasets.  You can use slicing to read (or write) just a subset of the data.  This is called hyperslabs in HDF5 parlance.  For example, you can read only the $z$ values in a rectangle around the origin."
   ]
  },
  {
   "cell_type": "code",
   "execution_count": 40,
   "metadata": {},
   "outputs": [
    {
     "name": "stdout",
     "output_type": "stream",
     "text": [
      "[[0.84366482 0.81464732 0.77880078 0.73712337]\n",
      " [0.8824969  0.85214379 0.81464732 0.77105159]\n",
      " [0.91393119 0.8824969  0.84366482 0.79851622]\n",
      " [0.93706746 0.90483742 0.86502229 0.81873075]\n",
      " [0.95122942 0.91851228 0.87809543 0.83110428]\n",
      " [0.95599748 0.92311635 0.8824969  0.83527021]\n",
      " [0.95122942 0.91851228 0.87809543 0.83110428]\n",
      " [0.93706746 0.90483742 0.86502229 0.81873075]\n",
      " [0.91393119 0.8824969  0.84366482 0.79851622]\n",
      " [0.8824969  0.85214379 0.81464732 0.77105159]]\n",
      "<class 'numpy.ndarray'>\n"
     ]
    },
    {
     "data": {
      "image/png": "[encoded data removed]",
      "text/plain": [
       "<Figure size 432x288 with 1 Axes>"
      ]
     },
     "metadata": {
      "needs_background": "light"
     },
     "output_type": "display_data"
    }
   ],
   "source": [
    "with h5py.File('temp.h5', 'r') as h5file:\n",
    "    z_dset = h5file['output/z']\n",
    "    idx = tuple(map(lambda x: x//2, z_dset.shape))\n",
    "    width = tuple(map(lambda x: x//4, z_dset.shape))\n",
    "    data = z_dset[idx[0] - width[0]:idx[0] + width[0], idx[1] - width[1]:idx[1] + width[1]]\n",
    "    print(data)\n",
    "    print(type(data))\n",
    "    plt.imshow(data)"
   ]
  },
  {
   "cell_type": "markdown",
   "metadata": {},
   "source": [
    "Note that the result of the slicing of an HDF5 dataset is a numpy array."
   ]
  },
  {
   "cell_type": "markdown",
   "metadata": {},
   "source": [
    "You can also use slices to write data to a dataset.  The data is clipped row by row."
   ]
  },
  {
   "cell_type": "code",
   "execution_count": 41,
   "metadata": {},
   "outputs": [],
   "source": [
    "with h5py.File('temp.h5', 'a') as h5file:\n",
    "    threshold = 0.9\n",
    "    z_dset = h5file['output/z']\n",
    "    for row_nr in range(z_dset.shape[0]):\n",
    "        row = z_dset[row_nr, :]\n",
    "        row[row > threshold] = threshold\n",
    "        z_dset[row_nr, :] = row"
   ]
  },
  {
   "cell_type": "code",
   "execution_count": 42,
   "metadata": {},
   "outputs": [
    {
     "data": {
      "image/png": "[encoded data removed]",
      "text/plain": [
       "<Figure size 432x288 with 1 Axes>"
      ]
     },
     "metadata": {
      "needs_background": "light"
     },
     "output_type": "display_data"
    }
   ],
   "source": [
    "with h5py.File('temp.h5') as h5file:\n",
    "    plt.imshow(h5file['output/z'])"
   ]
  },
  {
   "cell_type": "code",
   "execution_count": 43,
   "metadata": {},
   "outputs": [
    {
     "name": "stdout",
     "output_type": "stream",
     "text": [
      "HDF5 \"temp.h5\" {\n",
      "GROUP \"/\" {\n",
      "   GROUP \"input\" {\n",
      "      DATASET \"x\" {\n",
      "         DATATYPE  H5T_IEEE_F64LE\n",
      "         DATASPACE  SIMPLE { ( 11 ) / ( 11 ) }\n",
      "         DATA {\n",
      "         (0): 0, 0.1, 0.2, 0.3, 0.4, 0.5, 0.6, 0.7, 0.8, 0.9, 1\n",
      "         }\n",
      "      }\n",
      "      DATASET \"y\" {\n",
      "         DATATYPE  H5T_IEEE_F64LE\n",
      "         DATASPACE  SIMPLE { ( 21 ) / ( 21 ) }\n",
      "         DATA {\n",
      "         (0): -1, -0.9, -0.8, -0.7, -0.6, -0.5, -0.4, -0.3, -0.2, -0.1, 0,\n",
      "         (11): 0.1, 0.2, 0.3, 0.4, 0.5, 0.6, 0.7, 0.8, 0.9, 1\n",
      "         }\n",
      "      }\n",
      "   }\n",
      "   GROUP \"output\" {\n",
      "      DATASET \"z\" {\n",
      "         DATATYPE  H5T_IEEE_F64LE\n",
      "         DATASPACE  SIMPLE { ( 21, 11 ) / ( 21, 11 ) }\n",
      "         DATA {\n",
      "         (0,0): 0.606531, 0.603506, 0.594521, 0.579842, 0.559898, 0.535261,\n",
      "         (0,6): 0.506617, 0.474734, 0.440432, 0.404542, 0.367879,\n",
      "         (1,0): 0.666977, 0.66365, 0.65377, 0.637628, 0.615697, 0.588605,\n",
      "         (1,6): 0.557106, 0.522046, 0.484325, 0.444858, 0.404542,\n",
      "         (2,0): 0.726149, 0.722527, 0.71177, 0.694197, 0.67032, 0.640824,\n",
      "         (2,6): 0.606531, 0.56836, 0.527292, 0.484325, 0.440432,\n",
      "         (3,0): 0.782705, 0.778801, 0.767206, 0.748264, 0.722527, 0.690734,\n",
      "         (3,6): 0.65377, 0.612626, 0.56836, 0.522046, 0.474734,\n",
      "         (4,0): 0.83527, 0.831104, 0.818731, 0.798516, 0.771052, 0.737123,\n",
      "         (4,6): 0.697676, 0.65377, 0.606531, 0.557106, 0.506617,\n",
      "         (5,0): 0.882497, 0.878095, 0.865022, 0.843665, 0.814647, 0.778801,\n",
      "         (5,6): 0.737123, 0.690734, 0.640824, 0.588605, 0.535261,\n",
      "         (6,0): 0.9, 0.9, 0.9, 0.882497, 0.852144, 0.814647, 0.771052,\n",
      "         (6,7): 0.722527, 0.67032, 0.615697, 0.559898,\n",
      "         (7,0): 0.9, 0.9, 0.9, 0.9, 0.882497, 0.843665, 0.798516, 0.748264,\n",
      "         (7,8): 0.694197, 0.637628, 0.579842,\n",
      "         (8,0): 0.9, 0.9, 0.9, 0.9, 0.9, 0.865022, 0.818731, 0.767206,\n",
      "         (8,8): 0.71177, 0.65377, 0.594521,\n",
      "         (9,0): 0.9, 0.9, 0.9, 0.9, 0.9, 0.878095, 0.831104, 0.778801,\n",
      "         (9,8): 0.722527, 0.66365, 0.603506,\n",
      "         (10,0): 0.9, 0.9, 0.9, 0.9, 0.9, 0.882497, 0.83527, 0.782705,\n",
      "         (10,8): 0.726149, 0.666977, 0.606531,\n",
      "         (11,0): 0.9, 0.9, 0.9, 0.9, 0.9, 0.878095, 0.831104, 0.778801,\n",
      "         (11,8): 0.722527, 0.66365, 0.603506,\n",
      "         (12,0): 0.9, 0.9, 0.9, 0.9, 0.9, 0.865022, 0.818731, 0.767206,\n",
      "         (12,8): 0.71177, 0.65377, 0.594521,\n",
      "         (13,0): 0.9, 0.9, 0.9, 0.9, 0.882497, 0.843665, 0.798516, 0.748264,\n",
      "         (13,8): 0.694197, 0.637628, 0.579842,\n",
      "         (14,0): 0.9, 0.9, 0.9, 0.882497, 0.852144, 0.814647, 0.771052,\n",
      "         (14,7): 0.722527, 0.67032, 0.615697, 0.559898,\n",
      "         (15,0): 0.882497, 0.878095, 0.865022, 0.843665, 0.814647, 0.778801,\n",
      "         (15,6): 0.737123, 0.690734, 0.640824, 0.588605, 0.535261,\n",
      "         (16,0): 0.83527, 0.831104, 0.818731, 0.798516, 0.771052, 0.737123,\n",
      "         (16,6): 0.697676, 0.65377, 0.606531, 0.557106, 0.506617,\n",
      "         (17,0): 0.782705, 0.778801, 0.767206, 0.748264, 0.722527, 0.690734,\n",
      "         (17,6): 0.65377, 0.612626, 0.56836, 0.522046, 0.474734,\n",
      "         (18,0): 0.726149, 0.722527, 0.71177, 0.694197, 0.67032, 0.640824,\n",
      "         (18,6): 0.606531, 0.56836, 0.527292, 0.484325, 0.440432,\n",
      "         (19,0): 0.666977, 0.66365, 0.65377, 0.637628, 0.615697, 0.588605,\n",
      "         (19,6): 0.557106, 0.522046, 0.484325, 0.444858, 0.404542,\n",
      "         (20,0): 0.606531, 0.603506, 0.594521, 0.579842, 0.559898, 0.535261,\n",
      "         (20,6): 0.506617, 0.474734, 0.440432, 0.404542, 0.367879\n",
      "         }\n",
      "      }\n",
      "   }\n",
      "}\n",
      "}\n"
     ]
    }
   ],
   "source": [
    "!h5dump temp.h5"
   ]
  },
  {
   "cell_type": "markdown",
   "metadata": {},
   "source": [
    "Note that indices for hyperslabs can be list, as you can do for numpy arrays."
   ]
  },
  {
   "cell_type": "markdown",
   "metadata": {},
   "source": [
    "# Attributes"
   ]
  },
  {
   "cell_type": "markdown",
   "metadata": {},
   "source": [
    "You can set attributes, i.e., annotations on groups as well as datasets."
   ]
  },
  {
   "cell_type": "code",
   "execution_count": 44,
   "metadata": {},
   "outputs": [],
   "source": [
    "with h5py.File('temp.h5', 'a') as h5file:\n",
    "    h5file.attrs['experiment'] = 'by trial and error'\n",
    "    h5file['input'].attrs['description'] = 'x/y coordinates'\n",
    "    h5file['input/x'].attrs['units'] = 'km'\n",
    "    h5file['input/x'].attrs['description'] = 'x-coordinates'\n",
    "    h5file['input/y'].attrs['units'] = 'km'\n",
    "    h5file['input/y'].attrs['description'] = 'y-coordinates'\n",
    "    h5file['output'].attrs['description'] = 'fields'\n",
    "    h5file['output/z'].attrs['description'] = 'temperature'\n",
    "    h5file['output/z'].attrs['units'] = 'K'"
   ]
  },
  {
   "cell_type": "code",
   "execution_count": 45,
   "metadata": {},
   "outputs": [
    {
     "name": "stdout",
     "output_type": "stream",
     "text": [
      "HDF5 \"temp.h5\" {\n",
      "GROUP \"/\" {\n",
      "   ATTRIBUTE \"experiment\" {\n",
      "      DATATYPE  H5T_STRING {\n",
      "         STRSIZE H5T_VARIABLE;\n",
      "         STRPAD H5T_STR_NULLTERM;\n",
      "         CSET H5T_CSET_UTF8;\n",
      "         CTYPE H5T_C_S1;\n",
      "      }\n",
      "      DATASPACE  SCALAR\n",
      "      DATA {\n",
      "      (0): \"by trial and error\"\n",
      "      }\n",
      "   }\n",
      "   GROUP \"input\" {\n",
      "      ATTRIBUTE \"description\" {\n",
      "         DATATYPE  H5T_STRING {\n",
      "            STRSIZE H5T_VARIABLE;\n",
      "            STRPAD H5T_STR_NULLTERM;\n",
      "            CSET H5T_CSET_UTF8;\n",
      "            CTYPE H5T_C_S1;\n",
      "         }\n",
      "         DATASPACE  SCALAR\n",
      "         DATA {\n",
      "         (0): \"x/y coordinates\"\n",
      "         }\n",
      "      }\n",
      "      DATASET \"x\" {\n",
      "         DATATYPE  H5T_IEEE_F64LE\n",
      "         DATASPACE  SIMPLE { ( 11 ) / ( 11 ) }\n",
      "         DATA {\n",
      "         (0): 0, 0.1, 0.2, 0.3, 0.4, 0.5, 0.6, 0.7, 0.8, 0.9, 1\n",
      "         }\n",
      "         ATTRIBUTE \"description\" {\n",
      "            DATATYPE  H5T_STRING {\n",
      "               STRSIZE H5T_VARIABLE;\n",
      "               STRPAD H5T_STR_NULLTERM;\n",
      "               CSET H5T_CSET_UTF8;\n",
      "               CTYPE H5T_C_S1;\n",
      "            }\n",
      "            DATASPACE  SCALAR\n",
      "            DATA {\n",
      "            (0): \"x-coordinates\"\n",
      "            }\n",
      "         }\n",
      "         ATTRIBUTE \"units\" {\n",
      "            DATATYPE  H5T_STRING {\n",
      "               STRSIZE H5T_VARIABLE;\n",
      "               STRPAD H5T_STR_NULLTERM;\n",
      "               CSET H5T_CSET_UTF8;\n",
      "               CTYPE H5T_C_S1;\n",
      "            }\n",
      "            DATASPACE  SCALAR\n",
      "            DATA {\n",
      "            (0): \"km\"\n",
      "            }\n",
      "         }\n",
      "      }\n",
      "      DATASET \"y\" {\n",
      "         DATATYPE  H5T_IEEE_F64LE\n",
      "         DATASPACE  SIMPLE { ( 21 ) / ( 21 ) }\n",
      "         DATA {\n",
      "         (0): -1, -0.9, -0.8, -0.7, -0.6, -0.5, -0.4, -0.3, -0.2, -0.1, 0,\n",
      "         (11): 0.1, 0.2, 0.3, 0.4, 0.5, 0.6, 0.7, 0.8, 0.9, 1\n",
      "         }\n",
      "         ATTRIBUTE \"description\" {\n",
      "            DATATYPE  H5T_STRING {\n",
      "               STRSIZE H5T_VARIABLE;\n",
      "               STRPAD H5T_STR_NULLTERM;\n",
      "               CSET H5T_CSET_UTF8;\n",
      "               CTYPE H5T_C_S1;\n",
      "            }\n",
      "            DATASPACE  SCALAR\n",
      "            DATA {\n",
      "            (0): \"y-coordinates\"\n",
      "            }\n",
      "         }\n",
      "         ATTRIBUTE \"units\" {\n",
      "            DATATYPE  H5T_STRING {\n",
      "               STRSIZE H5T_VARIABLE;\n",
      "               STRPAD H5T_STR_NULLTERM;\n",
      "               CSET H5T_CSET_UTF8;\n",
      "               CTYPE H5T_C_S1;\n",
      "            }\n",
      "            DATASPACE  SCALAR\n",
      "            DATA {\n",
      "            (0): \"km\"\n",
      "            }\n",
      "         }\n",
      "      }\n",
      "   }\n",
      "   GROUP \"output\" {\n",
      "      ATTRIBUTE \"description\" {\n",
      "         DATATYPE  H5T_STRING {\n",
      "            STRSIZE H5T_VARIABLE;\n",
      "            STRPAD H5T_STR_NULLTERM;\n",
      "            CSET H5T_CSET_UTF8;\n",
      "            CTYPE H5T_C_S1;\n",
      "         }\n",
      "         DATASPACE  SCALAR\n",
      "         DATA {\n",
      "         (0): \"fields\"\n",
      "         }\n",
      "      }\n",
      "      DATASET \"z\" {\n",
      "         DATATYPE  H5T_IEEE_F64LE\n",
      "         DATASPACE  SIMPLE { ( 21, 11 ) / ( 21, 11 ) }\n",
      "         DATA {\n",
      "         (0,0): 0.606531, 0.603506, 0.594521, 0.579842, 0.559898, 0.535261,\n",
      "         (0,6): 0.506617, 0.474734, 0.440432, 0.404542, 0.367879,\n",
      "         (1,0): 0.666977, 0.66365, 0.65377, 0.637628, 0.615697, 0.588605,\n",
      "         (1,6): 0.557106, 0.522046, 0.484325, 0.444858, 0.404542,\n",
      "         (2,0): 0.726149, 0.722527, 0.71177, 0.694197, 0.67032, 0.640824,\n",
      "         (2,6): 0.606531, 0.56836, 0.527292, 0.484325, 0.440432,\n",
      "         (3,0): 0.782705, 0.778801, 0.767206, 0.748264, 0.722527, 0.690734,\n",
      "         (3,6): 0.65377, 0.612626, 0.56836, 0.522046, 0.474734,\n",
      "         (4,0): 0.83527, 0.831104, 0.818731, 0.798516, 0.771052, 0.737123,\n",
      "         (4,6): 0.697676, 0.65377, 0.606531, 0.557106, 0.506617,\n",
      "         (5,0): 0.882497, 0.878095, 0.865022, 0.843665, 0.814647, 0.778801,\n",
      "         (5,6): 0.737123, 0.690734, 0.640824, 0.588605, 0.535261,\n",
      "         (6,0): 0.9, 0.9, 0.9, 0.882497, 0.852144, 0.814647, 0.771052,\n",
      "         (6,7): 0.722527, 0.67032, 0.615697, 0.559898,\n",
      "         (7,0): 0.9, 0.9, 0.9, 0.9, 0.882497, 0.843665, 0.798516, 0.748264,\n",
      "         (7,8): 0.694197, 0.637628, 0.579842,\n",
      "         (8,0): 0.9, 0.9, 0.9, 0.9, 0.9, 0.865022, 0.818731, 0.767206,\n",
      "         (8,8): 0.71177, 0.65377, 0.594521,\n",
      "         (9,0): 0.9, 0.9, 0.9, 0.9, 0.9, 0.878095, 0.831104, 0.778801,\n",
      "         (9,8): 0.722527, 0.66365, 0.603506,\n",
      "         (10,0): 0.9, 0.9, 0.9, 0.9, 0.9, 0.882497, 0.83527, 0.782705,\n",
      "         (10,8): 0.726149, 0.666977, 0.606531,\n",
      "         (11,0): 0.9, 0.9, 0.9, 0.9, 0.9, 0.878095, 0.831104, 0.778801,\n",
      "         (11,8): 0.722527, 0.66365, 0.603506,\n",
      "         (12,0): 0.9, 0.9, 0.9, 0.9, 0.9, 0.865022, 0.818731, 0.767206,\n",
      "         (12,8): 0.71177, 0.65377, 0.594521,\n",
      "         (13,0): 0.9, 0.9, 0.9, 0.9, 0.882497, 0.843665, 0.798516, 0.748264,\n",
      "         (13,8): 0.694197, 0.637628, 0.579842,\n",
      "         (14,0): 0.9, 0.9, 0.9, 0.882497, 0.852144, 0.814647, 0.771052,\n",
      "         (14,7): 0.722527, 0.67032, 0.615697, 0.559898,\n",
      "         (15,0): 0.882497, 0.878095, 0.865022, 0.843665, 0.814647, 0.778801,\n",
      "         (15,6): 0.737123, 0.690734, 0.640824, 0.588605, 0.535261,\n",
      "         (16,0): 0.83527, 0.831104, 0.818731, 0.798516, 0.771052, 0.737123,\n",
      "         (16,6): 0.697676, 0.65377, 0.606531, 0.557106, 0.506617,\n",
      "         (17,0): 0.782705, 0.778801, 0.767206, 0.748264, 0.722527, 0.690734,\n",
      "         (17,6): 0.65377, 0.612626, 0.56836, 0.522046, 0.474734,\n",
      "         (18,0): 0.726149, 0.722527, 0.71177, 0.694197, 0.67032, 0.640824,\n",
      "         (18,6): 0.606531, 0.56836, 0.527292, 0.484325, 0.440432,\n",
      "         (19,0): 0.666977, 0.66365, 0.65377, 0.637628, 0.615697, 0.588605,\n",
      "         (19,6): 0.557106, 0.522046, 0.484325, 0.444858, 0.404542,\n",
      "         (20,0): 0.606531, 0.603506, 0.594521, 0.579842, 0.559898, 0.535261,\n",
      "         (20,6): 0.506617, 0.474734, 0.440432, 0.404542, 0.367879\n",
      "         }\n",
      "         ATTRIBUTE \"description\" {\n",
      "            DATATYPE  H5T_STRING {\n",
      "               STRSIZE H5T_VARIABLE;\n",
      "               STRPAD H5T_STR_NULLTERM;\n",
      "               CSET H5T_CSET_UTF8;\n",
      "               CTYPE H5T_C_S1;\n",
      "            }\n",
      "            DATASPACE  SCALAR\n",
      "            DATA {\n",
      "            (0): \"temperature\"\n",
      "            }\n",
      "         }\n",
      "         ATTRIBUTE \"units\" {\n",
      "            DATATYPE  H5T_STRING {\n",
      "               STRSIZE H5T_VARIABLE;\n",
      "               STRPAD H5T_STR_NULLTERM;\n",
      "               CSET H5T_CSET_UTF8;\n",
      "               CTYPE H5T_C_S1;\n",
      "            }\n",
      "            DATASPACE  SCALAR\n",
      "            DATA {\n",
      "            (0): \"K\"\n",
      "            }\n",
      "         }\n",
      "      }\n",
      "   }\n",
      "}\n",
      "}\n"
     ]
    }
   ],
   "source": [
    "!h5dump temp.h5"
   ]
  },
  {
   "cell_type": "markdown",
   "metadata": {},
   "source": [
    "Attributes behave like dictionaries, they can be indexed by name, and have methods such as `keys`, `values` and `items`."
   ]
  },
  {
   "cell_type": "code",
   "execution_count": 46,
   "metadata": {},
   "outputs": [
    {
     "name": "stdout",
     "output_type": "stream",
     "text": [
      "description: \"temperature\"\n",
      "units: \"K\"\n"
     ]
    }
   ],
   "source": [
    "with h5py.File('temp.h5', 'r') as h5file:\n",
    "    for key, value in h5file['output/z'].attrs.items():\n",
    "        print(f'{key}: \"{value}\"')"
   ]
  },
  {
   "cell_type": "markdown",
   "metadata": {},
   "source": [
    "# Dimension scales"
   ]
  },
  {
   "cell_type": "markdown",
   "metadata": {},
   "source": [
    "Scales can be associated with dimensions."
   ]
  },
  {
   "cell_type": "code",
   "execution_count": 47,
   "metadata": {},
   "outputs": [],
   "source": [
    "with h5py.File('temp.h5', 'a') as h5file:\n",
    "    h5file['input/x'].make_scale('x')\n",
    "    h5file['input/y'].make_scale('y')\n",
    "    h5file['output/z'].dims[0].label = 'y'\n",
    "    h5file['output/z'].dims[1].label = 'x'\n",
    "    h5file['output/z'].dims[0].attach_scale(h5file['input/y'])\n",
    "    h5file['output/z'].dims[1].attach_scale(h5file['input/x'])"
   ]
  },
  {
   "cell_type": "code",
   "execution_count": 50,
   "metadata": {},
   "outputs": [
    {
     "name": "stdout",
     "output_type": "stream",
     "text": [
      "           x           y    temperature\n",
      "       0.000      -1.000:        0.60653\n",
      "       0.000      -0.900:        0.66698\n",
      "       0.000      -0.800:        0.72615\n",
      "       0.000      -0.700:        0.78270\n",
      "       0.000      -0.600:        0.83527\n",
      "       0.000      -0.500:        0.88250\n",
      "       0.000      -0.400:        0.90000\n",
      "       0.000      -0.300:        0.90000\n",
      "       0.000      -0.200:        0.90000\n",
      "       0.000      -0.100:        0.90000\n",
      "       0.000       0.000:        0.90000\n",
      "       0.000       0.100:        0.90000\n",
      "       0.000       0.200:        0.90000\n",
      "       0.000       0.300:        0.90000\n",
      "       0.000       0.400:        0.90000\n",
      "       0.000       0.500:        0.88250\n",
      "       0.000       0.600:        0.83527\n",
      "       0.000       0.700:        0.78270\n",
      "       0.000       0.800:        0.72615\n",
      "       0.000       0.900:        0.66698\n",
      "       0.000       1.000:        0.60653\n",
      "       0.100      -1.000:        0.60351\n",
      "       0.100      -0.900:        0.66365\n",
      "       0.100      -0.800:        0.72253\n",
      "       0.100      -0.700:        0.77880\n",
      "       0.100      -0.600:        0.83110\n",
      "       0.100      -0.500:        0.87810\n",
      "       0.100      -0.400:        0.90000\n",
      "       0.100      -0.300:        0.90000\n",
      "       0.100      -0.200:        0.90000\n",
      "       0.100      -0.100:        0.90000\n",
      "       0.100       0.000:        0.90000\n",
      "       0.100       0.100:        0.90000\n",
      "       0.100       0.200:        0.90000\n",
      "       0.100       0.300:        0.90000\n",
      "       0.100       0.400:        0.90000\n",
      "       0.100       0.500:        0.87810\n",
      "       0.100       0.600:        0.83110\n",
      "       0.100       0.700:        0.77880\n",
      "       0.100       0.800:        0.72253\n",
      "       0.100       0.900:        0.66365\n",
      "       0.100       1.000:        0.60351\n",
      "       0.200      -1.000:        0.59452\n",
      "       0.200      -0.900:        0.65377\n",
      "       0.200      -0.800:        0.71177\n",
      "       0.200      -0.700:        0.76721\n",
      "       0.200      -0.600:        0.81873\n",
      "       0.200      -0.500:        0.86502\n",
      "       0.200      -0.400:        0.90000\n",
      "       0.200      -0.300:        0.90000\n",
      "       0.200      -0.200:        0.90000\n",
      "       0.200      -0.100:        0.90000\n",
      "       0.200       0.000:        0.90000\n",
      "       0.200       0.100:        0.90000\n",
      "       0.200       0.200:        0.90000\n",
      "       0.200       0.300:        0.90000\n",
      "       0.200       0.400:        0.90000\n",
      "       0.200       0.500:        0.86502\n",
      "       0.200       0.600:        0.81873\n",
      "       0.200       0.700:        0.76721\n",
      "       0.200       0.800:        0.71177\n",
      "       0.200       0.900:        0.65377\n",
      "       0.200       1.000:        0.59452\n",
      "       0.300      -1.000:        0.57984\n",
      "       0.300      -0.900:        0.63763\n",
      "       0.300      -0.800:        0.69420\n",
      "       0.300      -0.700:        0.74826\n",
      "       0.300      -0.600:        0.79852\n",
      "       0.300      -0.500:        0.84366\n",
      "       0.300      -0.400:        0.88250\n",
      "       0.300      -0.300:        0.90000\n",
      "       0.300      -0.200:        0.90000\n",
      "       0.300      -0.100:        0.90000\n",
      "       0.300       0.000:        0.90000\n",
      "       0.300       0.100:        0.90000\n",
      "       0.300       0.200:        0.90000\n",
      "       0.300       0.300:        0.90000\n",
      "       0.300       0.400:        0.88250\n",
      "       0.300       0.500:        0.84366\n",
      "       0.300       0.600:        0.79852\n",
      "       0.300       0.700:        0.74826\n",
      "       0.300       0.800:        0.69420\n",
      "       0.300       0.900:        0.63763\n",
      "       0.300       1.000:        0.57984\n",
      "       0.400      -1.000:        0.55990\n",
      "       0.400      -0.900:        0.61570\n",
      "       0.400      -0.800:        0.67032\n",
      "       0.400      -0.700:        0.72253\n",
      "       0.400      -0.600:        0.77105\n",
      "       0.400      -0.500:        0.81465\n",
      "       0.400      -0.400:        0.85214\n",
      "       0.400      -0.300:        0.88250\n",
      "       0.400      -0.200:        0.90000\n",
      "       0.400      -0.100:        0.90000\n",
      "       0.400       0.000:        0.90000\n",
      "       0.400       0.100:        0.90000\n",
      "       0.400       0.200:        0.90000\n",
      "       0.400       0.300:        0.88250\n",
      "       0.400       0.400:        0.85214\n",
      "       0.400       0.500:        0.81465\n",
      "       0.400       0.600:        0.77105\n",
      "       0.400       0.700:        0.72253\n",
      "       0.400       0.800:        0.67032\n",
      "       0.400       0.900:        0.61570\n",
      "       0.400       1.000:        0.55990\n",
      "       0.500      -1.000:        0.53526\n",
      "       0.500      -0.900:        0.58860\n",
      "       0.500      -0.800:        0.64082\n",
      "       0.500      -0.700:        0.69073\n",
      "       0.500      -0.600:        0.73712\n",
      "       0.500      -0.500:        0.77880\n",
      "       0.500      -0.400:        0.81465\n",
      "       0.500      -0.300:        0.84366\n",
      "       0.500      -0.200:        0.86502\n",
      "       0.500      -0.100:        0.87810\n",
      "       0.500       0.000:        0.88250\n",
      "       0.500       0.100:        0.87810\n",
      "       0.500       0.200:        0.86502\n",
      "       0.500       0.300:        0.84366\n",
      "       0.500       0.400:        0.81465\n",
      "       0.500       0.500:        0.77880\n",
      "       0.500       0.600:        0.73712\n",
      "       0.500       0.700:        0.69073\n",
      "       0.500       0.800:        0.64082\n",
      "       0.500       0.900:        0.58860\n",
      "       0.500       1.000:        0.53526\n",
      "       0.600      -1.000:        0.50662\n",
      "       0.600      -0.900:        0.55711\n",
      "       0.600      -0.800:        0.60653\n",
      "       0.600      -0.700:        0.65377\n",
      "       0.600      -0.600:        0.69768\n",
      "       0.600      -0.500:        0.73712\n",
      "       0.600      -0.400:        0.77105\n",
      "       0.600      -0.300:        0.79852\n",
      "       0.600      -0.200:        0.81873\n",
      "       0.600      -0.100:        0.83110\n",
      "       0.600       0.000:        0.83527\n",
      "       0.600       0.100:        0.83110\n",
      "       0.600       0.200:        0.81873\n",
      "       0.600       0.300:        0.79852\n",
      "       0.600       0.400:        0.77105\n",
      "       0.600       0.500:        0.73712\n",
      "       0.600       0.600:        0.69768\n",
      "       0.600       0.700:        0.65377\n",
      "       0.600       0.800:        0.60653\n",
      "       0.600       0.900:        0.55711\n",
      "       0.600       1.000:        0.50662\n",
      "       0.700      -1.000:        0.47473\n",
      "       0.700      -0.900:        0.52205\n",
      "       0.700      -0.800:        0.56836\n",
      "       0.700      -0.700:        0.61263\n",
      "       0.700      -0.600:        0.65377\n",
      "       0.700      -0.500:        0.69073\n",
      "       0.700      -0.400:        0.72253\n",
      "       0.700      -0.300:        0.74826\n",
      "       0.700      -0.200:        0.76721\n",
      "       0.700      -0.100:        0.77880\n",
      "       0.700       0.000:        0.78270\n",
      "       0.700       0.100:        0.77880\n",
      "       0.700       0.200:        0.76721\n",
      "       0.700       0.300:        0.74826\n",
      "       0.700       0.400:        0.72253\n",
      "       0.700       0.500:        0.69073\n",
      "       0.700       0.600:        0.65377\n",
      "       0.700       0.700:        0.61263\n",
      "       0.700       0.800:        0.56836\n",
      "       0.700       0.900:        0.52205\n",
      "       0.700       1.000:        0.47473\n",
      "       0.800      -1.000:        0.44043\n",
      "       0.800      -0.900:        0.48432\n",
      "       0.800      -0.800:        0.52729\n",
      "       0.800      -0.700:        0.56836\n",
      "       0.800      -0.600:        0.60653\n",
      "       0.800      -0.500:        0.64082\n",
      "       0.800      -0.400:        0.67032\n",
      "       0.800      -0.300:        0.69420\n",
      "       0.800      -0.200:        0.71177\n",
      "       0.800      -0.100:        0.72253\n",
      "       0.800       0.000:        0.72615\n",
      "       0.800       0.100:        0.72253\n",
      "       0.800       0.200:        0.71177\n",
      "       0.800       0.300:        0.69420\n",
      "       0.800       0.400:        0.67032\n",
      "       0.800       0.500:        0.64082\n",
      "       0.800       0.600:        0.60653\n",
      "       0.800       0.700:        0.56836\n",
      "       0.800       0.800:        0.52729\n",
      "       0.800       0.900:        0.48432\n",
      "       0.800       1.000:        0.44043\n",
      "       0.900      -1.000:        0.40454\n",
      "       0.900      -0.900:        0.44486\n",
      "       0.900      -0.800:        0.48432\n",
      "       0.900      -0.700:        0.52205\n",
      "       0.900      -0.600:        0.55711\n",
      "       0.900      -0.500:        0.58860\n",
      "       0.900      -0.400:        0.61570\n",
      "       0.900      -0.300:        0.63763\n",
      "       0.900      -0.200:        0.65377\n",
      "       0.900      -0.100:        0.66365\n",
      "       0.900       0.000:        0.66698\n",
      "       0.900       0.100:        0.66365\n",
      "       0.900       0.200:        0.65377\n",
      "       0.900       0.300:        0.63763\n",
      "       0.900       0.400:        0.61570\n",
      "       0.900       0.500:        0.58860\n",
      "       0.900       0.600:        0.55711\n",
      "       0.900       0.700:        0.52205\n",
      "       0.900       0.800:        0.48432\n",
      "       0.900       0.900:        0.44486\n",
      "       0.900       1.000:        0.40454\n",
      "       1.000      -1.000:        0.36788\n",
      "       1.000      -0.900:        0.40454\n",
      "       1.000      -0.800:        0.44043\n",
      "       1.000      -0.700:        0.47473\n",
      "       1.000      -0.600:        0.50662\n",
      "       1.000      -0.500:        0.53526\n",
      "       1.000      -0.400:        0.55990\n",
      "       1.000      -0.300:        0.57984\n",
      "       1.000      -0.200:        0.59452\n",
      "       1.000      -0.100:        0.60351\n",
      "       1.000       0.000:        0.60653\n",
      "       1.000       0.100:        0.60351\n",
      "       1.000       0.200:        0.59452\n",
      "       1.000       0.300:        0.57984\n",
      "       1.000       0.400:        0.55990\n",
      "       1.000       0.500:        0.53526\n",
      "       1.000       0.600:        0.50662\n",
      "       1.000       0.700:        0.47473\n",
      "       1.000       0.800:        0.44043\n",
      "       1.000       0.900:        0.40454\n",
      "       1.000       1.000:        0.36788\n"
     ]
    }
   ],
   "source": [
    "with h5py.File('temp.h5', 'r') as h5file:\n",
    "    z_dset = h5file['output/z']\n",
    "    print(f'{z_dset.dims[1].label:>12s}{z_dset.dims[0].label:>12s}{z_dset.attrs[\"description\"]:>15s}')\n",
    "    x_values = z_dset.dims[1].keys()\n",
    "    for j, x in enumerate(z_dset.dims[1]['x']):\n",
    "        for i, y in enumerate(z_dset.dims[0]['y']):\n",
    "            print(f'{x:12.3f}{y:12.3f}:{z_dset[i, j]:15.5f}')"
   ]
  },
  {
   "cell_type": "markdown",
   "metadata": {},
   "source": [
    "The advantage of adding dimension scales is that it links the data appropriately so that the correct $x$ and $yh$ values are used."
   ]
  },
  {
   "cell_type": "markdown",
   "metadata": {},
   "source": [
    "# Clean up"
   ]
  },
  {
   "cell_type": "code",
   "execution_count": 24,
   "metadata": {},
   "outputs": [],
   "source": [
    "!rm temp.h5"
   ]
  }
 ],
 "metadata": {
  "kernelspec": {
   "display_name": "Python 3",
   "language": "python",
   "name": "python3"
  },
  "language_info": {
   "codemirror_mode": {
    "name": "ipython",
    "version": 3
   },
   "file_extension": ".py",
   "mimetype": "text/x-python",
   "name": "python",
   "nbconvert_exporter": "python",
   "pygments_lexer": "ipython3",
   "version": "3.9.5"
  }
 },
 "nbformat": 4,
 "nbformat_minor": 4
}
