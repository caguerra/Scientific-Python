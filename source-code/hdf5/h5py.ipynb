{
 "cells": [
  {
   "cell_type": "markdown",
   "metadata": {},
   "source": [
    "# Requirements"
   ]
  },
  {
   "cell_type": "code",
   "execution_count": 1,
   "metadata": {},
   "outputs": [],
   "source": [
    "import h5py\n",
    "import matplotlib.pyplot as plt\n",
    "%matplotlib inline\n",
    "import numpy as np"
   ]
  },
  {
   "cell_type": "markdown",
   "metadata": {},
   "source": [
    "# Writing data to a file"
   ]
  },
  {
   "cell_type": "markdown",
   "metadata": {},
   "source": [
    "Suppose you want to store the following numpy arrays in an HDF5 file."
   ]
  },
  {
   "cell_type": "code",
   "execution_count": 2,
   "metadata": {},
   "outputs": [],
   "source": [
    "x_values = np.linspace(0.0, 1.0, 11)\n",
    "y_values = np.linspace(-1.0, 1.0, 21)"
   ]
  },
  {
   "cell_type": "markdown",
   "metadata": {},
   "source": [
    "Open the file for writing."
   ]
  },
  {
   "cell_type": "code",
   "execution_count": 3,
   "metadata": {},
   "outputs": [],
   "source": [
    "h5file = h5py.File('temp.h5', 'w')"
   ]
  },
  {
   "cell_type": "markdown",
   "metadata": {},
   "source": [
    "Create a group.  This is not required, but it may help you to organize your data."
   ]
  },
  {
   "cell_type": "code",
   "execution_count": 4,
   "metadata": {},
   "outputs": [],
   "source": [
    "input_group = h5file.create_group('input')"
   ]
  },
  {
   "cell_type": "markdown",
   "metadata": {},
   "source": [
    "Create a dataset in the group, the dataspace is determined by the data."
   ]
  },
  {
   "cell_type": "code",
   "execution_count": 5,
   "metadata": {},
   "outputs": [],
   "source": [
    "x_dset = input_group.create_dataset('x', data=x_values)\n",
    "y_dset = input_group.create_dataset('y', data=y_values)"
   ]
  },
  {
   "cell_type": "markdown",
   "metadata": {},
   "source": [
    "Close the file."
   ]
  },
  {
   "cell_type": "code",
   "execution_count": 6,
   "metadata": {},
   "outputs": [],
   "source": [
    "h5file.close()"
   ]
  },
  {
   "cell_type": "code",
   "execution_count": 7,
   "metadata": {},
   "outputs": [
    {
     "name": "stdout",
     "output_type": "stream",
     "text": [
      "HDF5 \"temp.h5\" {\n",
      "GROUP \"/\" {\n",
      "   GROUP \"input\" {\n",
      "      DATASET \"x\" {\n",
      "         DATATYPE  H5T_IEEE_F64LE\n",
      "         DATASPACE  SIMPLE { ( 11 ) / ( 11 ) }\n",
      "         DATA {\n",
      "         (0): 0, 0.1, 0.2, 0.3, 0.4, 0.5, 0.6, 0.7, 0.8, 0.9, 1\n",
      "         }\n",
      "      }\n",
      "      DATASET \"y\" {\n",
      "         DATATYPE  H5T_IEEE_F64LE\n",
      "         DATASPACE  SIMPLE { ( 21 ) / ( 21 ) }\n",
      "         DATA {\n",
      "         (0): -1, -0.9, -0.8, -0.7, -0.6, -0.5, -0.4, -0.3, -0.2, -0.1, 0,\n",
      "         (11): 0.1, 0.2, 0.3, 0.4, 0.5, 0.6, 0.7, 0.8, 0.9, 1\n",
      "         }\n",
      "      }\n",
      "   }\n",
      "}\n",
      "}\n"
     ]
    }
   ],
   "source": [
    "!h5dump temp.h5"
   ]
  },
  {
   "cell_type": "markdown",
   "metadata": {},
   "source": [
    "# Reading data from a file"
   ]
  },
  {
   "cell_type": "markdown",
   "metadata": {},
   "source": [
    "Open the file for reading, this time using a context manager."
   ]
  },
  {
   "cell_type": "code",
   "execution_count": 8,
   "metadata": {},
   "outputs": [
    {
     "name": "stdout",
     "output_type": "stream",
     "text": [
      "0.0\n",
      "0.1\n",
      "0.2\n",
      "0.30000000000000004\n",
      "0.4\n",
      "0.5\n",
      "0.6000000000000001\n",
      "0.7000000000000001\n",
      "0.8\n",
      "0.9\n",
      "1.0\n",
      "<class 'h5py._hl.dataset.Dataset'> float64 (11,)\n"
     ]
    }
   ],
   "source": [
    "with h5py.File('temp.h5', 'r') as h5file:\n",
    "    x_dset = h5file['input']['x']\n",
    "    for value in x_dset:\n",
    "        print(value)\n",
    "    print(type(x_dset), x_dset.dtype, x_dset.shape)"
   ]
  },
  {
   "cell_type": "markdown",
   "metadata": {},
   "source": [
    "Note that HDF5 file objects and groups behave like dictionaries.  The contents can be addressed by indexing and they have methods such as `keys`, `values` and `items`."
   ]
  },
  {
   "cell_type": "markdown",
   "metadata": {},
   "source": [
    "# Modifying a file"
   ]
  },
  {
   "cell_type": "markdown",
   "metadata": {},
   "source": [
    "Now you want to use the values of $x$ and $y$ to compute $e^{x^2 + y^2}$."
   ]
  },
  {
   "cell_type": "code",
   "execution_count": 9,
   "metadata": {},
   "outputs": [],
   "source": [
    "def gaussian(x, y):\n",
    "    return np.exp(x**2 + y**2)"
   ]
  },
  {
   "cell_type": "markdown",
   "metadata": {},
   "source": [
    "You can open a file for both reading and writing using `r+` as the mode."
   ]
  },
  {
   "cell_type": "code",
   "execution_count": 10,
   "metadata": {},
   "outputs": [],
   "source": [
    "with h5py.File('temp.h5', 'r+') as h5file:\n",
    "    x = h5file['input/x'][:]\n",
    "    y = h5file['input/y'][:]\n",
    "    X, Y = np.meshgrid(x, y)\n",
    "    Z = gaussian(X, Y)\n",
    "    h5file.create_dataset('output/z', data=Z)"
   ]
  },
  {
   "cell_type": "markdown",
   "metadata": {},
   "source": [
    "Note that the dataset `z` is created in the new group `output`.  The latter is created implicitly since it doesn't exist."
   ]
  },
  {
   "cell_type": "code",
   "execution_count": 11,
   "metadata": {},
   "outputs": [
    {
     "name": "stdout",
     "output_type": "stream",
     "text": [
      "HDF5 \"temp.h5\" {\n",
      "GROUP \"/\" {\n",
      "   GROUP \"input\" {\n",
      "      DATASET \"x\" {\n",
      "         DATATYPE  H5T_IEEE_F64LE\n",
      "         DATASPACE  SIMPLE { ( 11 ) / ( 11 ) }\n",
      "         DATA {\n",
      "         (0): 0, 0.1, 0.2, 0.3, 0.4, 0.5, 0.6, 0.7, 0.8, 0.9, 1\n",
      "         }\n",
      "      }\n",
      "      DATASET \"y\" {\n",
      "         DATATYPE  H5T_IEEE_F64LE\n",
      "         DATASPACE  SIMPLE { ( 21 ) / ( 21 ) }\n",
      "         DATA {\n",
      "         (0): -1, -0.9, -0.8, -0.7, -0.6, -0.5, -0.4, -0.3, -0.2, -0.1, 0,\n",
      "         (11): 0.1, 0.2, 0.3, 0.4, 0.5, 0.6, 0.7, 0.8, 0.9, 1\n",
      "         }\n",
      "      }\n",
      "   }\n",
      "   GROUP \"output\" {\n",
      "      DATASET \"z\" {\n",
      "         DATATYPE  H5T_IEEE_F64LE\n",
      "         DATASPACE  SIMPLE { ( 21, 11 ) / ( 21, 11 ) }\n",
      "         DATA {\n",
      "         (0,0): 2.71828, 2.7456, 2.82922, 2.97427, 3.18993, 3.49034, 3.89619,\n",
      "         (0,7): 4.4371, 5.15517, 6.11045, 7.38906,\n",
      "         (1,0): 2.24791, 2.2705, 2.33965, 2.4596, 2.63794, 2.88637, 3.22199,\n",
      "         (1,7): 3.6693, 4.26311, 5.05309, 6.11045,\n",
      "         (2,0): 1.89648, 1.91554, 1.97388, 2.07508, 2.22554, 2.43513,\n",
      "         (2,6): 2.71828, 3.09566, 3.59664, 4.26311, 5.15517,\n",
      "         (3,0): 1.63232, 1.64872, 1.69893, 1.78604, 1.91554, 2.09594,\n",
      "         (3,6): 2.33965, 2.66446, 3.09566, 3.6693, 4.4371,\n",
      "         (4,0): 1.43333, 1.44773, 1.49182, 1.56831, 1.68203, 1.84043,\n",
      "         (4,6): 2.05443, 2.33965, 2.71828, 3.22199, 3.89619,\n",
      "         (5,0): 1.28403, 1.29693, 1.33643, 1.40495, 1.50682, 1.64872,\n",
      "         (5,6): 1.84043, 2.09594, 2.43513, 2.88637, 3.49034,\n",
      "         (6,0): 1.17351, 1.1853, 1.2214, 1.28403, 1.37713, 1.50682, 1.68203,\n",
      "         (6,7): 1.91554, 2.22554, 2.63794, 3.18993,\n",
      "         (7,0): 1.09417, 1.10517, 1.13883, 1.19722, 1.28403, 1.40495,\n",
      "         (7,6): 1.56831, 1.78604, 2.07508, 2.4596, 2.97427,\n",
      "         (8,0): 1.04081, 1.05127, 1.08329, 1.13883, 1.2214, 1.33643, 1.49182,\n",
      "         (8,7): 1.69893, 1.97388, 2.33965, 2.82922,\n",
      "         (9,0): 1.01005, 1.0202, 1.05127, 1.10517, 1.1853, 1.29693, 1.44773,\n",
      "         (9,7): 1.64872, 1.91554, 2.2705, 2.7456,\n",
      "         (10,0): 1, 1.01005, 1.04081, 1.09417, 1.17351, 1.28403, 1.43333,\n",
      "         (10,7): 1.63232, 1.89648, 2.24791, 2.71828,\n",
      "         (11,0): 1.01005, 1.0202, 1.05127, 1.10517, 1.1853, 1.29693, 1.44773,\n",
      "         (11,7): 1.64872, 1.91554, 2.2705, 2.7456,\n",
      "         (12,0): 1.04081, 1.05127, 1.08329, 1.13883, 1.2214, 1.33643,\n",
      "         (12,6): 1.49182, 1.69893, 1.97388, 2.33965, 2.82922,\n",
      "         (13,0): 1.09417, 1.10517, 1.13883, 1.19722, 1.28403, 1.40495,\n",
      "         (13,6): 1.56831, 1.78604, 2.07508, 2.4596, 2.97427,\n",
      "         (14,0): 1.17351, 1.1853, 1.2214, 1.28403, 1.37713, 1.50682, 1.68203,\n",
      "         (14,7): 1.91554, 2.22554, 2.63794, 3.18993,\n",
      "         (15,0): 1.28403, 1.29693, 1.33643, 1.40495, 1.50682, 1.64872,\n",
      "         (15,6): 1.84043, 2.09594, 2.43513, 2.88637, 3.49034,\n",
      "         (16,0): 1.43333, 1.44773, 1.49182, 1.56831, 1.68203, 1.84043,\n",
      "         (16,6): 2.05443, 2.33965, 2.71828, 3.22199, 3.89619,\n",
      "         (17,0): 1.63232, 1.64872, 1.69893, 1.78604, 1.91554, 2.09594,\n",
      "         (17,6): 2.33965, 2.66446, 3.09566, 3.6693, 4.4371,\n",
      "         (18,0): 1.89648, 1.91554, 1.97388, 2.07508, 2.22554, 2.43513,\n",
      "         (18,6): 2.71828, 3.09566, 3.59664, 4.26311, 5.15517,\n",
      "         (19,0): 2.24791, 2.2705, 2.33965, 2.4596, 2.63794, 2.88637, 3.22199,\n",
      "         (19,7): 3.6693, 4.26311, 5.05309, 6.11045,\n",
      "         (20,0): 2.71828, 2.7456, 2.82922, 2.97427, 3.18993, 3.49034,\n",
      "         (20,6): 3.89619, 4.4371, 5.15517, 6.11045, 7.38906\n",
      "         }\n",
      "      }\n",
      "   }\n",
      "}\n",
      "}\n"
     ]
    }
   ],
   "source": [
    "!h5dump temp.h5"
   ]
  },
  {
   "cell_type": "code",
   "execution_count": 12,
   "metadata": {},
   "outputs": [
    {
     "data": {
      "image/png": "[encoded data removed]",
      "text/plain": [
       "<Figure size 432x288 with 1 Axes>"
      ]
     },
     "metadata": {
      "needs_background": "light"
     },
     "output_type": "display_data"
    }
   ],
   "source": [
    "with h5py.File('temp.h5', 'r') as h5file:\n",
    "    plt.imshow(h5file['output/z'])"
   ]
  },
  {
   "cell_type": "markdown",
   "metadata": {},
   "source": [
    "# Hyperslabs"
   ]
  },
  {
   "cell_type": "markdown",
   "metadata": {},
   "source": [
    "Up to this point, you wrote or read entire datasets, but that is not necessary, and often not possible when working with large datasets.  You can use slicing to read (or write) just a subset of the data.  This is called hyperslabs in HDF5 parlance.  For example, you can read only the $z$ values in a rectangle around the origin."
   ]
  },
  {
   "cell_type": "code",
   "execution_count": 13,
   "metadata": {},
   "outputs": [
    {
     "name": "stdout",
     "output_type": "stream",
     "text": [
      "[[1.40494759 1.50681779 1.64872127 1.8404314 ]\n",
      " [1.28402542 1.37712776 1.50681779 1.68202765]\n",
      " [1.19721736 1.28402542 1.40494759 1.56831219]\n",
      " [1.13882838 1.22140276 1.33642749 1.4918247 ]\n",
      " [1.10517092 1.18530485 1.29693009 1.44773461]\n",
      " [1.09417428 1.17351087 1.28402542 1.43332941]\n",
      " [1.10517092 1.18530485 1.29693009 1.44773461]\n",
      " [1.13882838 1.22140276 1.33642749 1.4918247 ]\n",
      " [1.19721736 1.28402542 1.40494759 1.56831219]\n",
      " [1.28402542 1.37712776 1.50681779 1.68202765]]\n",
      "<class 'numpy.ndarray'>\n"
     ]
    },
    {
     "data": {
      "image/png": "[encoded data removed]",
      "text/plain": [
       "<Figure size 432x288 with 1 Axes>"
      ]
     },
     "metadata": {
      "needs_background": "light"
     },
     "output_type": "display_data"
    }
   ],
   "source": [
    "with h5py.File('temp.h5', 'r') as h5file:\n",
    "    z_dset = h5file['output/z']\n",
    "    idx = tuple(map(lambda x: x//2, z_dset.shape))\n",
    "    width = tuple(map(lambda x: x//4, z_dset.shape))\n",
    "    data = z_dset[idx[0] - width[0]:idx[0] + width[0], idx[1] - width[1]:idx[1] + width[1]]\n",
    "    print(data)\n",
    "    print(type(data))\n",
    "    plt.imshow(data)"
   ]
  },
  {
   "cell_type": "markdown",
   "metadata": {},
   "source": [
    "Note that the result of the slicing of an HDF5 dataset is a numpy array."
   ]
  },
  {
   "cell_type": "markdown",
   "metadata": {},
   "source": [
    "You can also use slices to write data to a dataset.  The data is clipped row by row."
   ]
  },
  {
   "cell_type": "code",
   "execution_count": 14,
   "metadata": {},
   "outputs": [],
   "source": [
    "with h5py.File('temp.h5', 'a') as h5file:\n",
    "    threshold = 1.5\n",
    "    z_dset = h5file['output/z']\n",
    "    for row_nr in range(z_dset.shape[0]):\n",
    "        row = z_dset[row_nr, :]\n",
    "        row[row > threshold] = threshold\n",
    "        z_dset[row_nr, :] = row"
   ]
  },
  {
   "cell_type": "code",
   "execution_count": 15,
   "metadata": {},
   "outputs": [
    {
     "data": {
      "image/png": "[encoded data removed]",
      "text/plain": [
       "<Figure size 432x288 with 1 Axes>"
      ]
     },
     "metadata": {
      "needs_background": "light"
     },
     "output_type": "display_data"
    }
   ],
   "source": [
    "with h5py.File('temp.h5') as h5file:\n",
    "    plt.imshow(h5file['output/z'])"
   ]
  },
  {
   "cell_type": "code",
   "execution_count": 16,
   "metadata": {},
   "outputs": [
    {
     "name": "stdout",
     "output_type": "stream",
     "text": [
      "HDF5 \"temp.h5\" {\n",
      "GROUP \"/\" {\n",
      "   GROUP \"input\" {\n",
      "      DATASET \"x\" {\n",
      "         DATATYPE  H5T_IEEE_F64LE\n",
      "         DATASPACE  SIMPLE { ( 11 ) / ( 11 ) }\n",
      "         DATA {\n",
      "         (0): 0, 0.1, 0.2, 0.3, 0.4, 0.5, 0.6, 0.7, 0.8, 0.9, 1\n",
      "         }\n",
      "      }\n",
      "      DATASET \"y\" {\n",
      "         DATATYPE  H5T_IEEE_F64LE\n",
      "         DATASPACE  SIMPLE { ( 21 ) / ( 21 ) }\n",
      "         DATA {\n",
      "         (0): -1, -0.9, -0.8, -0.7, -0.6, -0.5, -0.4, -0.3, -0.2, -0.1, 0,\n",
      "         (11): 0.1, 0.2, 0.3, 0.4, 0.5, 0.6, 0.7, 0.8, 0.9, 1\n",
      "         }\n",
      "      }\n",
      "   }\n",
      "   GROUP \"output\" {\n",
      "      DATASET \"z\" {\n",
      "         DATATYPE  H5T_IEEE_F64LE\n",
      "         DATASPACE  SIMPLE { ( 21, 11 ) / ( 21, 11 ) }\n",
      "         DATA {\n",
      "         (0,0): 1.5, 1.5, 1.5, 1.5, 1.5, 1.5, 1.5, 1.5, 1.5, 1.5, 1.5,\n",
      "         (1,0): 1.5, 1.5, 1.5, 1.5, 1.5, 1.5, 1.5, 1.5, 1.5, 1.5, 1.5,\n",
      "         (2,0): 1.5, 1.5, 1.5, 1.5, 1.5, 1.5, 1.5, 1.5, 1.5, 1.5, 1.5,\n",
      "         (3,0): 1.5, 1.5, 1.5, 1.5, 1.5, 1.5, 1.5, 1.5, 1.5, 1.5, 1.5,\n",
      "         (4,0): 1.43333, 1.44773, 1.49182, 1.5, 1.5, 1.5, 1.5, 1.5, 1.5, 1.5,\n",
      "         (4,10): 1.5,\n",
      "         (5,0): 1.28403, 1.29693, 1.33643, 1.40495, 1.5, 1.5, 1.5, 1.5, 1.5,\n",
      "         (5,9): 1.5, 1.5,\n",
      "         (6,0): 1.17351, 1.1853, 1.2214, 1.28403, 1.37713, 1.5, 1.5, 1.5,\n",
      "         (6,8): 1.5, 1.5, 1.5,\n",
      "         (7,0): 1.09417, 1.10517, 1.13883, 1.19722, 1.28403, 1.40495, 1.5,\n",
      "         (7,7): 1.5, 1.5, 1.5, 1.5,\n",
      "         (8,0): 1.04081, 1.05127, 1.08329, 1.13883, 1.2214, 1.33643, 1.49182,\n",
      "         (8,7): 1.5, 1.5, 1.5, 1.5,\n",
      "         (9,0): 1.01005, 1.0202, 1.05127, 1.10517, 1.1853, 1.29693, 1.44773,\n",
      "         (9,7): 1.5, 1.5, 1.5, 1.5,\n",
      "         (10,0): 1, 1.01005, 1.04081, 1.09417, 1.17351, 1.28403, 1.43333,\n",
      "         (10,7): 1.5, 1.5, 1.5, 1.5,\n",
      "         (11,0): 1.01005, 1.0202, 1.05127, 1.10517, 1.1853, 1.29693, 1.44773,\n",
      "         (11,7): 1.5, 1.5, 1.5, 1.5,\n",
      "         (12,0): 1.04081, 1.05127, 1.08329, 1.13883, 1.2214, 1.33643,\n",
      "         (12,6): 1.49182, 1.5, 1.5, 1.5, 1.5,\n",
      "         (13,0): 1.09417, 1.10517, 1.13883, 1.19722, 1.28403, 1.40495, 1.5,\n",
      "         (13,7): 1.5, 1.5, 1.5, 1.5,\n",
      "         (14,0): 1.17351, 1.1853, 1.2214, 1.28403, 1.37713, 1.5, 1.5, 1.5,\n",
      "         (14,8): 1.5, 1.5, 1.5,\n",
      "         (15,0): 1.28403, 1.29693, 1.33643, 1.40495, 1.5, 1.5, 1.5, 1.5, 1.5,\n",
      "         (15,9): 1.5, 1.5,\n",
      "         (16,0): 1.43333, 1.44773, 1.49182, 1.5, 1.5, 1.5, 1.5, 1.5, 1.5,\n",
      "         (16,9): 1.5, 1.5,\n",
      "         (17,0): 1.5, 1.5, 1.5, 1.5, 1.5, 1.5, 1.5, 1.5, 1.5, 1.5, 1.5,\n",
      "         (18,0): 1.5, 1.5, 1.5, 1.5, 1.5, 1.5, 1.5, 1.5, 1.5, 1.5, 1.5,\n",
      "         (19,0): 1.5, 1.5, 1.5, 1.5, 1.5, 1.5, 1.5, 1.5, 1.5, 1.5, 1.5,\n",
      "         (20,0): 1.5, 1.5, 1.5, 1.5, 1.5, 1.5, 1.5, 1.5, 1.5, 1.5, 1.5\n",
      "         }\n",
      "      }\n",
      "   }\n",
      "}\n",
      "}\n"
     ]
    }
   ],
   "source": [
    "!h5dump temp.h5"
   ]
  },
  {
   "cell_type": "markdown",
   "metadata": {},
   "source": [
    "Note that indices for hyperslabs can be list, as you can do for numpy arrays."
   ]
  },
  {
   "cell_type": "markdown",
   "metadata": {},
   "source": [
    "# Attributes"
   ]
  },
  {
   "cell_type": "markdown",
   "metadata": {},
   "source": [
    "You can set attributes, i.e., annotations on groups as well as datasets."
   ]
  },
  {
   "cell_type": "code",
   "execution_count": 17,
   "metadata": {},
   "outputs": [],
   "source": [
    "with h5py.File('temp.h5', 'a') as h5file:\n",
    "    h5file.attrs['experiment'] = 'by trial and error'\n",
    "    h5file['input'].attrs['description'] = 'x/y coordinates'\n",
    "    h5file['input/x'].attrs['units'] = 'km'\n",
    "    h5file['input/x'].attrs['desciption'] = 'x-coordinates'\n",
    "    h5file['input/y'].attrs['units'] = 'km'\n",
    "    h5file['input/y'].attrs['desciption'] = 'y-coordinates'\n",
    "    h5file['output'].attrs['desciption'] = 'fields'\n",
    "    h5file['output/z'].attrs['desciption'] = 'temperature'\n",
    "    h5file['output/z'].attrs['units'] = 'K'"
   ]
  },
  {
   "cell_type": "code",
   "execution_count": 18,
   "metadata": {},
   "outputs": [
    {
     "name": "stdout",
     "output_type": "stream",
     "text": [
      "HDF5 \"temp.h5\" {\n",
      "GROUP \"/\" {\n",
      "   ATTRIBUTE \"experiment\" {\n",
      "      DATATYPE  H5T_STRING {\n",
      "         STRSIZE H5T_VARIABLE;\n",
      "         STRPAD H5T_STR_NULLTERM;\n",
      "         CSET H5T_CSET_UTF8;\n",
      "         CTYPE H5T_C_S1;\n",
      "      }\n",
      "      DATASPACE  SCALAR\n",
      "      DATA {\n",
      "      (0): \"by trial and error\"\n",
      "      }\n",
      "   }\n",
      "   GROUP \"input\" {\n",
      "      ATTRIBUTE \"description\" {\n",
      "         DATATYPE  H5T_STRING {\n",
      "            STRSIZE H5T_VARIABLE;\n",
      "            STRPAD H5T_STR_NULLTERM;\n",
      "            CSET H5T_CSET_UTF8;\n",
      "            CTYPE H5T_C_S1;\n",
      "         }\n",
      "         DATASPACE  SCALAR\n",
      "         DATA {\n",
      "         (0): \"x/y coordinates\"\n",
      "         }\n",
      "      }\n",
      "      DATASET \"x\" {\n",
      "         DATATYPE  H5T_IEEE_F64LE\n",
      "         DATASPACE  SIMPLE { ( 11 ) / ( 11 ) }\n",
      "         DATA {\n",
      "         (0): 0, 0.1, 0.2, 0.3, 0.4, 0.5, 0.6, 0.7, 0.8, 0.9, 1\n",
      "         }\n",
      "         ATTRIBUTE \"desciption\" {\n",
      "            DATATYPE  H5T_STRING {\n",
      "               STRSIZE H5T_VARIABLE;\n",
      "               STRPAD H5T_STR_NULLTERM;\n",
      "               CSET H5T_CSET_UTF8;\n",
      "               CTYPE H5T_C_S1;\n",
      "            }\n",
      "            DATASPACE  SCALAR\n",
      "            DATA {\n",
      "            (0): \"x-coordinates\"\n",
      "            }\n",
      "         }\n",
      "         ATTRIBUTE \"units\" {\n",
      "            DATATYPE  H5T_STRING {\n",
      "               STRSIZE H5T_VARIABLE;\n",
      "               STRPAD H5T_STR_NULLTERM;\n",
      "               CSET H5T_CSET_UTF8;\n",
      "               CTYPE H5T_C_S1;\n",
      "            }\n",
      "            DATASPACE  SCALAR\n",
      "            DATA {\n",
      "            (0): \"km\"\n",
      "            }\n",
      "         }\n",
      "      }\n",
      "      DATASET \"y\" {\n",
      "         DATATYPE  H5T_IEEE_F64LE\n",
      "         DATASPACE  SIMPLE { ( 21 ) / ( 21 ) }\n",
      "         DATA {\n",
      "         (0): -1, -0.9, -0.8, -0.7, -0.6, -0.5, -0.4, -0.3, -0.2, -0.1, 0,\n",
      "         (11): 0.1, 0.2, 0.3, 0.4, 0.5, 0.6, 0.7, 0.8, 0.9, 1\n",
      "         }\n",
      "         ATTRIBUTE \"desciption\" {\n",
      "            DATATYPE  H5T_STRING {\n",
      "               STRSIZE H5T_VARIABLE;\n",
      "               STRPAD H5T_STR_NULLTERM;\n",
      "               CSET H5T_CSET_UTF8;\n",
      "               CTYPE H5T_C_S1;\n",
      "            }\n",
      "            DATASPACE  SCALAR\n",
      "            DATA {\n",
      "            (0): \"y-coordinates\"\n",
      "            }\n",
      "         }\n",
      "         ATTRIBUTE \"units\" {\n",
      "            DATATYPE  H5T_STRING {\n",
      "               STRSIZE H5T_VARIABLE;\n",
      "               STRPAD H5T_STR_NULLTERM;\n",
      "               CSET H5T_CSET_UTF8;\n",
      "               CTYPE H5T_C_S1;\n",
      "            }\n",
      "            DATASPACE  SCALAR\n",
      "            DATA {\n",
      "            (0): \"km\"\n",
      "            }\n",
      "         }\n",
      "      }\n",
      "   }\n",
      "   GROUP \"output\" {\n",
      "      ATTRIBUTE \"desciption\" {\n",
      "         DATATYPE  H5T_STRING {\n",
      "            STRSIZE H5T_VARIABLE;\n",
      "            STRPAD H5T_STR_NULLTERM;\n",
      "            CSET H5T_CSET_UTF8;\n",
      "            CTYPE H5T_C_S1;\n",
      "         }\n",
      "         DATASPACE  SCALAR\n",
      "         DATA {\n",
      "         (0): \"fields\"\n",
      "         }\n",
      "      }\n",
      "      DATASET \"z\" {\n",
      "         DATATYPE  H5T_IEEE_F64LE\n",
      "         DATASPACE  SIMPLE { ( 21, 11 ) / ( 21, 11 ) }\n",
      "         DATA {\n",
      "         (0,0): 1.5, 1.5, 1.5, 1.5, 1.5, 1.5, 1.5, 1.5, 1.5, 1.5, 1.5,\n",
      "         (1,0): 1.5, 1.5, 1.5, 1.5, 1.5, 1.5, 1.5, 1.5, 1.5, 1.5, 1.5,\n",
      "         (2,0): 1.5, 1.5, 1.5, 1.5, 1.5, 1.5, 1.5, 1.5, 1.5, 1.5, 1.5,\n",
      "         (3,0): 1.5, 1.5, 1.5, 1.5, 1.5, 1.5, 1.5, 1.5, 1.5, 1.5, 1.5,\n",
      "         (4,0): 1.43333, 1.44773, 1.49182, 1.5, 1.5, 1.5, 1.5, 1.5, 1.5, 1.5,\n",
      "         (4,10): 1.5,\n",
      "         (5,0): 1.28403, 1.29693, 1.33643, 1.40495, 1.5, 1.5, 1.5, 1.5, 1.5,\n",
      "         (5,9): 1.5, 1.5,\n",
      "         (6,0): 1.17351, 1.1853, 1.2214, 1.28403, 1.37713, 1.5, 1.5, 1.5,\n",
      "         (6,8): 1.5, 1.5, 1.5,\n",
      "         (7,0): 1.09417, 1.10517, 1.13883, 1.19722, 1.28403, 1.40495, 1.5,\n",
      "         (7,7): 1.5, 1.5, 1.5, 1.5,\n",
      "         (8,0): 1.04081, 1.05127, 1.08329, 1.13883, 1.2214, 1.33643, 1.49182,\n",
      "         (8,7): 1.5, 1.5, 1.5, 1.5,\n",
      "         (9,0): 1.01005, 1.0202, 1.05127, 1.10517, 1.1853, 1.29693, 1.44773,\n",
      "         (9,7): 1.5, 1.5, 1.5, 1.5,\n",
      "         (10,0): 1, 1.01005, 1.04081, 1.09417, 1.17351, 1.28403, 1.43333,\n",
      "         (10,7): 1.5, 1.5, 1.5, 1.5,\n",
      "         (11,0): 1.01005, 1.0202, 1.05127, 1.10517, 1.1853, 1.29693, 1.44773,\n",
      "         (11,7): 1.5, 1.5, 1.5, 1.5,\n",
      "         (12,0): 1.04081, 1.05127, 1.08329, 1.13883, 1.2214, 1.33643,\n",
      "         (12,6): 1.49182, 1.5, 1.5, 1.5, 1.5,\n",
      "         (13,0): 1.09417, 1.10517, 1.13883, 1.19722, 1.28403, 1.40495, 1.5,\n",
      "         (13,7): 1.5, 1.5, 1.5, 1.5,\n",
      "         (14,0): 1.17351, 1.1853, 1.2214, 1.28403, 1.37713, 1.5, 1.5, 1.5,\n",
      "         (14,8): 1.5, 1.5, 1.5,\n",
      "         (15,0): 1.28403, 1.29693, 1.33643, 1.40495, 1.5, 1.5, 1.5, 1.5, 1.5,\n",
      "         (15,9): 1.5, 1.5,\n",
      "         (16,0): 1.43333, 1.44773, 1.49182, 1.5, 1.5, 1.5, 1.5, 1.5, 1.5,\n",
      "         (16,9): 1.5, 1.5,\n",
      "         (17,0): 1.5, 1.5, 1.5, 1.5, 1.5, 1.5, 1.5, 1.5, 1.5, 1.5, 1.5,\n",
      "         (18,0): 1.5, 1.5, 1.5, 1.5, 1.5, 1.5, 1.5, 1.5, 1.5, 1.5, 1.5,\n",
      "         (19,0): 1.5, 1.5, 1.5, 1.5, 1.5, 1.5, 1.5, 1.5, 1.5, 1.5, 1.5,\n",
      "         (20,0): 1.5, 1.5, 1.5, 1.5, 1.5, 1.5, 1.5, 1.5, 1.5, 1.5, 1.5\n",
      "         }\n",
      "         ATTRIBUTE \"desciption\" {\n",
      "            DATATYPE  H5T_STRING {\n",
      "               STRSIZE H5T_VARIABLE;\n",
      "               STRPAD H5T_STR_NULLTERM;\n",
      "               CSET H5T_CSET_UTF8;\n",
      "               CTYPE H5T_C_S1;\n",
      "            }\n",
      "            DATASPACE  SCALAR\n",
      "            DATA {\n",
      "            (0): \"temperature\"\n",
      "            }\n",
      "         }\n",
      "         ATTRIBUTE \"units\" {\n",
      "            DATATYPE  H5T_STRING {\n",
      "               STRSIZE H5T_VARIABLE;\n",
      "               STRPAD H5T_STR_NULLTERM;\n",
      "               CSET H5T_CSET_UTF8;\n",
      "               CTYPE H5T_C_S1;\n",
      "            }\n",
      "            DATASPACE  SCALAR\n",
      "            DATA {\n",
      "            (0): \"K\"\n",
      "            }\n",
      "         }\n",
      "      }\n",
      "   }\n",
      "}\n",
      "}\n"
     ]
    }
   ],
   "source": [
    "!h5dump temp.h5"
   ]
  },
  {
   "cell_type": "markdown",
   "metadata": {},
   "source": [
    "Attributes behave like dictionaries, they can be indexed by name, and have methods such as `keys`, `values` and `items`."
   ]
  },
  {
   "cell_type": "code",
   "execution_count": 19,
   "metadata": {},
   "outputs": [
    {
     "name": "stdout",
     "output_type": "stream",
     "text": [
      "desciption: \"temperature\"\n",
      "units: \"K\"\n"
     ]
    }
   ],
   "source": [
    "with h5py.File('temp.h5', 'r') as h5file:\n",
    "    for key, value in h5file['output/z'].attrs.items():\n",
    "        print(f'{key}: \"{value}\"')"
   ]
  },
  {
   "cell_type": "markdown",
   "metadata": {},
   "source": [
    "# Clean up"
   ]
  },
  {
   "cell_type": "code",
   "execution_count": 20,
   "metadata": {},
   "outputs": [],
   "source": [
    "!rm temp.h5"
   ]
  }
 ],
 "metadata": {
  "kernelspec": {
   "display_name": "Python 3",
   "language": "python",
   "name": "python3"
  },
  "language_info": {
   "codemirror_mode": {
    "name": "ipython",
    "version": 3
   },
   "file_extension": ".py",
   "mimetype": "text/x-python",
   "name": "python",
   "nbconvert_exporter": "python",
   "pygments_lexer": "ipython3",
   "version": "3.7.5"
  }
 },
 "nbformat": 4,
 "nbformat_minor": 4
}
