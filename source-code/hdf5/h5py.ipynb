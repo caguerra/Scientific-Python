{
 "cells": [
  {
   "cell_type": "markdown",
   "metadata": {},
   "source": [
    "# Requirements"
   ]
  },
  {
   "cell_type": "code",
   "execution_count": 1,
   "metadata": {},
   "outputs": [],
   "source": [
    "import h5py\n",
    "import numpy as np"
   ]
  },
  {
   "cell_type": "markdown",
   "metadata": {},
   "source": [
    "# Writing data to a file"
   ]
  },
  {
   "cell_type": "markdown",
   "metadata": {},
   "source": [
    "Open the file for writing."
   ]
  },
  {
   "cell_type": "code",
   "execution_count": 2,
   "metadata": {},
   "outputs": [],
   "source": [
    "h5file = h5py.File('temp.h5', 'w')"
   ]
  },
  {
   "cell_type": "markdown",
   "metadata": {},
   "source": [
    "Create a group.  This is not required, but it may help you to organize your data."
   ]
  },
  {
   "cell_type": "code",
   "execution_count": 3,
   "metadata": {},
   "outputs": [],
   "source": [
    "input_group = h5file.create_group('input')"
   ]
  },
  {
   "cell_type": "markdown",
   "metadata": {},
   "source": [
    "Create a dataset in the group, the dataspace is specified as the dimensions and the type of the data."
   ]
  },
  {
   "cell_type": "code",
   "execution_count": 4,
   "metadata": {},
   "outputs": [],
   "source": [
    "dataset = input_group.create_dataset('values', (10, 8), dtype=np.float64)"
   ]
  },
  {
   "cell_type": "markdown",
   "metadata": {},
   "source": [
    "Fill the dataset row by row."
   ]
  },
  {
   "cell_type": "code",
   "execution_count": 5,
   "metadata": {},
   "outputs": [],
   "source": [
    "for row in range(dataset.shape[0]):\n",
    "    dataset[row, :] = row*np.linspace(1.0, dataset.shape[1], dataset.shape[1])"
   ]
  },
  {
   "cell_type": "markdown",
   "metadata": {},
   "source": [
    "Close the file."
   ]
  },
  {
   "cell_type": "code",
   "execution_count": 6,
   "metadata": {},
   "outputs": [],
   "source": [
    "h5file.close()"
   ]
  },
  {
   "cell_type": "code",
   "execution_count": 7,
   "metadata": {},
   "outputs": [
    {
     "name": "stdout",
     "output_type": "stream",
     "text": [
      "HDF5 \"temp.h5\" {\n",
      "GROUP \"/\" {\n",
      "   GROUP \"input\" {\n",
      "      DATASET \"values\" {\n",
      "         DATATYPE  H5T_IEEE_F64LE\n",
      "         DATASPACE  SIMPLE { ( 10, 8 ) / ( 10, 8 ) }\n",
      "         DATA {\n",
      "         (0,0): 0, 0, 0, 0, 0, 0, 0, 0,\n",
      "         (1,0): 1, 2, 3, 4, 5, 6, 7, 8,\n",
      "         (2,0): 2, 4, 6, 8, 10, 12, 14, 16,\n",
      "         (3,0): 3, 6, 9, 12, 15, 18, 21, 24,\n",
      "         (4,0): 4, 8, 12, 16, 20, 24, 28, 32,\n",
      "         (5,0): 5, 10, 15, 20, 25, 30, 35, 40,\n",
      "         (6,0): 6, 12, 18, 24, 30, 36, 42, 48,\n",
      "         (7,0): 7, 14, 21, 28, 35, 42, 49, 56,\n",
      "         (8,0): 8, 16, 24, 32, 40, 48, 56, 64,\n",
      "         (9,0): 9, 18, 27, 36, 45, 54, 63, 72\n",
      "         }\n",
      "      }\n",
      "   }\n",
      "}\n",
      "}\n"
     ]
    }
   ],
   "source": [
    "!h5dump temp.h5"
   ]
  },
  {
   "cell_type": "markdown",
   "metadata": {},
   "source": [
    "# Reading data from a file"
   ]
  },
  {
   "cell_type": "markdown",
   "metadata": {},
   "source": [
    "Open the file for reading, this time using a context manager."
   ]
  },
  {
   "cell_type": "code",
   "execution_count": 8,
   "metadata": {},
   "outputs": [
    {
     "name": "stdout",
     "output_type": "stream",
     "text": [
      "[0. 0. 0. 0. 0. 0. 0. 0.] <class 'numpy.ndarray'>\n",
      "[1. 2. 3. 4. 5. 6. 7. 8.] <class 'numpy.ndarray'>\n",
      "[ 2.  4.  6.  8. 10. 12. 14. 16.] <class 'numpy.ndarray'>\n",
      "[ 3.  6.  9. 12. 15. 18. 21. 24.] <class 'numpy.ndarray'>\n",
      "[ 4.  8. 12. 16. 20. 24. 28. 32.] <class 'numpy.ndarray'>\n",
      "[ 5. 10. 15. 20. 25. 30. 35. 40.] <class 'numpy.ndarray'>\n",
      "[ 6. 12. 18. 24. 30. 36. 42. 48.] <class 'numpy.ndarray'>\n",
      "[ 7. 14. 21. 28. 35. 42. 49. 56.] <class 'numpy.ndarray'>\n",
      "[ 8. 16. 24. 32. 40. 48. 56. 64.] <class 'numpy.ndarray'>\n",
      "[ 9. 18. 27. 36. 45. 54. 63. 72.] <class 'numpy.ndarray'>\n"
     ]
    }
   ],
   "source": [
    "with h5py.File('temp.h5', 'r') as h5file:\n",
    "    data = h5file['input']['values']\n",
    "    for row in range(data.shape[0]):\n",
    "        print(data[row, :], type(data[row, :]))"
   ]
  },
  {
   "cell_type": "markdown",
   "metadata": {},
   "source": [
    "Note that HDF5 file objects and groups behave like dictionaries.  The contents can be addressed by indexing and they have methods such as `keys`, `values` and `items`."
   ]
  },
  {
   "cell_type": "markdown",
   "metadata": {},
   "source": [
    "# Hyperslabs"
   ]
  },
  {
   "cell_type": "markdown",
   "metadata": {},
   "source": [
    "Note that we don't have to write or read an entire dataset, we can use slicing to read (or write) just a subset.  This is called hyperslabs in HDF5 parlance."
   ]
  },
  {
   "cell_type": "code",
   "execution_count": 9,
   "metadata": {},
   "outputs": [
    {
     "name": "stdout",
     "output_type": "stream",
     "text": [
      "[[ 8. 10.]\n",
      " [12. 15.]\n",
      " [16. 20.]]\n"
     ]
    }
   ],
   "source": [
    "with h5py.File('temp.h5', 'r') as h5file:\n",
    "    data = h5file['input']['values']\n",
    "    print(data[2:5, 3:5])"
   ]
  },
  {
   "cell_type": "code",
   "execution_count": 10,
   "metadata": {},
   "outputs": [],
   "source": [
    "with h5py.File('temp.h5', 'a') as h5file:\n",
    "    data = h5file['input']['values']\n",
    "    data[2:5, 3:5] = np.linspace(101.0, 106.0, 6).reshape((3, 2))"
   ]
  },
  {
   "cell_type": "code",
   "execution_count": 11,
   "metadata": {},
   "outputs": [
    {
     "name": "stdout",
     "output_type": "stream",
     "text": [
      "HDF5 \"temp.h5\" {\n",
      "GROUP \"/\" {\n",
      "   GROUP \"input\" {\n",
      "      DATASET \"values\" {\n",
      "         DATATYPE  H5T_IEEE_F64LE\n",
      "         DATASPACE  SIMPLE { ( 10, 8 ) / ( 10, 8 ) }\n",
      "         DATA {\n",
      "         (0,0): 0, 0, 0, 0, 0, 0, 0, 0,\n",
      "         (1,0): 1, 2, 3, 4, 5, 6, 7, 8,\n",
      "         (2,0): 2, 4, 6, 101, 102, 12, 14, 16,\n",
      "         (3,0): 3, 6, 9, 103, 104, 18, 21, 24,\n",
      "         (4,0): 4, 8, 12, 105, 106, 24, 28, 32,\n",
      "         (5,0): 5, 10, 15, 20, 25, 30, 35, 40,\n",
      "         (6,0): 6, 12, 18, 24, 30, 36, 42, 48,\n",
      "         (7,0): 7, 14, 21, 28, 35, 42, 49, 56,\n",
      "         (8,0): 8, 16, 24, 32, 40, 48, 56, 64,\n",
      "         (9,0): 9, 18, 27, 36, 45, 54, 63, 72\n",
      "         }\n",
      "      }\n",
      "   }\n",
      "}\n",
      "}\n"
     ]
    }
   ],
   "source": [
    "!h5dump temp.h5"
   ]
  },
  {
   "cell_type": "markdown",
   "metadata": {},
   "source": [
    "Note that indices for hyperslabs can be list."
   ]
  },
  {
   "cell_type": "code",
   "execution_count": 12,
   "metadata": {},
   "outputs": [
    {
     "name": "stdout",
     "output_type": "stream",
     "text": [
      "[[  1.   2.   3.   4.   5.   6.   7.   8.]\n",
      " [  3.   6.   9. 103. 104.  18.  21.  24.]\n",
      " [  6.  12.  18.  24.  30.  36.  42.  48.]]\n"
     ]
    }
   ],
   "source": [
    "with h5py.File('temp.h5', 'r') as h5file:\n",
    "    dataset = h5file['input/values']\n",
    "    print(dataset[[1, 3, 6], :])"
   ]
  },
  {
   "cell_type": "markdown",
   "metadata": {},
   "source": [
    "# Attributes"
   ]
  },
  {
   "cell_type": "markdown",
   "metadata": {},
   "source": [
    "You can set attributes, i.e., annotations on groups as well as datasets."
   ]
  },
  {
   "cell_type": "code",
   "execution_count": 13,
   "metadata": {},
   "outputs": [],
   "source": [
    "with h5py.File('temp.h5', 'a') as h5file:\n",
    "    h5file.attrs['experiment'] = 'by trial and error'\n",
    "    group = h5file['input']\n",
    "    group.attrs['name'] = 'my stuff'\n",
    "    dataset = h5file['input/values']\n",
    "    dataset.attrs['units'] = 'km'"
   ]
  },
  {
   "cell_type": "code",
   "execution_count": 14,
   "metadata": {},
   "outputs": [
    {
     "name": "stdout",
     "output_type": "stream",
     "text": [
      "HDF5 \"temp.h5\" {\n",
      "GROUP \"/\" {\n",
      "   ATTRIBUTE \"experiment\" {\n",
      "      DATATYPE  H5T_STRING {\n",
      "         STRSIZE H5T_VARIABLE;\n",
      "         STRPAD H5T_STR_NULLTERM;\n",
      "         CSET H5T_CSET_UTF8;\n",
      "         CTYPE H5T_C_S1;\n",
      "      }\n",
      "      DATASPACE  SCALAR\n",
      "      DATA {\n",
      "      (0): \"by trial and error\"\n",
      "      }\n",
      "   }\n",
      "   GROUP \"input\" {\n",
      "      ATTRIBUTE \"name\" {\n",
      "         DATATYPE  H5T_STRING {\n",
      "            STRSIZE H5T_VARIABLE;\n",
      "            STRPAD H5T_STR_NULLTERM;\n",
      "            CSET H5T_CSET_UTF8;\n",
      "            CTYPE H5T_C_S1;\n",
      "         }\n",
      "         DATASPACE  SCALAR\n",
      "         DATA {\n",
      "         (0): \"my stuff\"\n",
      "         }\n",
      "      }\n",
      "      DATASET \"values\" {\n",
      "         DATATYPE  H5T_IEEE_F64LE\n",
      "         DATASPACE  SIMPLE { ( 10, 8 ) / ( 10, 8 ) }\n",
      "         DATA {\n",
      "         (0,0): 0, 0, 0, 0, 0, 0, 0, 0,\n",
      "         (1,0): 1, 2, 3, 4, 5, 6, 7, 8,\n",
      "         (2,0): 2, 4, 6, 101, 102, 12, 14, 16,\n",
      "         (3,0): 3, 6, 9, 103, 104, 18, 21, 24,\n",
      "         (4,0): 4, 8, 12, 105, 106, 24, 28, 32,\n",
      "         (5,0): 5, 10, 15, 20, 25, 30, 35, 40,\n",
      "         (6,0): 6, 12, 18, 24, 30, 36, 42, 48,\n",
      "         (7,0): 7, 14, 21, 28, 35, 42, 49, 56,\n",
      "         (8,0): 8, 16, 24, 32, 40, 48, 56, 64,\n",
      "         (9,0): 9, 18, 27, 36, 45, 54, 63, 72\n",
      "         }\n",
      "         ATTRIBUTE \"units\" {\n",
      "            DATATYPE  H5T_STRING {\n",
      "               STRSIZE H5T_VARIABLE;\n",
      "               STRPAD H5T_STR_NULLTERM;\n",
      "               CSET H5T_CSET_UTF8;\n",
      "               CTYPE H5T_C_S1;\n",
      "            }\n",
      "            DATASPACE  SCALAR\n",
      "            DATA {\n",
      "            (0): \"km\"\n",
      "            }\n",
      "         }\n",
      "      }\n",
      "   }\n",
      "}\n",
      "}\n"
     ]
    }
   ],
   "source": [
    "!h5dump temp.h5"
   ]
  },
  {
   "cell_type": "markdown",
   "metadata": {},
   "source": [
    "Attributes behave like dictionaries, they can be indexed by name, and have methods such as `keys`, `values` and `items`."
   ]
  },
  {
   "cell_type": "code",
   "execution_count": 15,
   "metadata": {},
   "outputs": [
    {
     "name": "stdout",
     "output_type": "stream",
     "text": [
      "experiment: \"by trial and error\"\n"
     ]
    }
   ],
   "source": [
    "with h5py.File('temp.h5', 'r') as h5file:\n",
    "    for key, value in h5file.attrs.items():\n",
    "        print(f'{key}: \"{value}\"')"
   ]
  },
  {
   "cell_type": "markdown",
   "metadata": {},
   "source": [
    "# Clean up"
   ]
  },
  {
   "cell_type": "code",
   "execution_count": 16,
   "metadata": {},
   "outputs": [],
   "source": [
    "!rm temp.h5"
   ]
  }
 ],
 "metadata": {
  "kernelspec": {
   "display_name": "Python 3",
   "language": "python",
   "name": "python3"
  },
  "language_info": {
   "codemirror_mode": {
    "name": "ipython",
    "version": 3
   },
   "file_extension": ".py",
   "mimetype": "text/x-python",
   "name": "python",
   "nbconvert_exporter": "python",
   "pygments_lexer": "ipython3",
   "version": "3.7.5"
  }
 },
 "nbformat": 4,
 "nbformat_minor": 4
}
