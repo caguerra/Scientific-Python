{
 "cells": [
  {
   "cell_type": "markdown",
   "metadata": {},
   "source": [
    "# Top 500 supercomputers & VSC"
   ]
  },
  {
   "cell_type": "markdown",
   "metadata": {},
   "source": [
    "Import modules and configure defaults."
   ]
  },
  {
   "cell_type": "code",
   "execution_count": 1,
   "metadata": {
    "collapsed": true
   },
   "outputs": [],
   "source": [
    "import pandas as pd\n",
    "import matplotlib.pyplot as plt\n",
    "%matplotlib inline\n",
    "import numpy as np"
   ]
  },
  {
   "cell_type": "markdown",
   "metadata": {},
   "source": [
    "Define conversion function for dates formatted as, e.g., 'Jun-15'."
   ]
  },
  {
   "cell_type": "code",
   "execution_count": 2,
   "metadata": {
    "collapsed": true
   },
   "outputs": [],
   "source": [
    "def dt_conv(dt):\n",
    "        return pd.datetime.strptime(dt, '%b-%y')"
   ]
  },
  {
   "cell_type": "markdown",
   "metadata": {},
   "source": [
    "Read the data from a CSV file, use the date as index, and convert the latter to an actual date. Column names are automatically inferred."
   ]
  },
  {
   "cell_type": "code",
   "execution_count": 3,
   "metadata": {
    "collapsed": false
   },
   "outputs": [
    {
     "data": {
      "text/html": [
       "<div>\n",
       "<table border=\"1\" class=\"dataframe\">\n",
       "  <thead>\n",
       "    <tr style=\"text-align: right;\">\n",
       "      <th></th>\n",
       "      <th>Rmax_1</th>\n",
       "      <th>Rmax_500</th>\n",
       "      <th>VSC_rank</th>\n",
       "      <th>Rmax_VSC</th>\n",
       "    </tr>\n",
       "    <tr>\n",
       "      <th>date</th>\n",
       "      <th></th>\n",
       "      <th></th>\n",
       "      <th></th>\n",
       "      <th></th>\n",
       "    </tr>\n",
       "  </thead>\n",
       "  <tbody>\n",
       "    <tr>\n",
       "      <th>2011-12-01</th>\n",
       "      <td>10510000.0</td>\n",
       "      <td>50941.0</td>\n",
       "      <td>NaN</td>\n",
       "      <td>NaN</td>\n",
       "    </tr>\n",
       "    <tr>\n",
       "      <th>2012-06-01</th>\n",
       "      <td>16324751.0</td>\n",
       "      <td>60824.0</td>\n",
       "      <td>118.0</td>\n",
       "      <td>152348.0</td>\n",
       "    </tr>\n",
       "    <tr>\n",
       "      <th>2012-11-01</th>\n",
       "      <td>17590000.0</td>\n",
       "      <td>76411.0</td>\n",
       "      <td>163.0</td>\n",
       "      <td>152348.0</td>\n",
       "    </tr>\n",
       "    <tr>\n",
       "      <th>2013-06-01</th>\n",
       "      <td>33862700.0</td>\n",
       "      <td>96619.0</td>\n",
       "      <td>239.0</td>\n",
       "      <td>152348.0</td>\n",
       "    </tr>\n",
       "    <tr>\n",
       "      <th>2013-11-01</th>\n",
       "      <td>33862700.0</td>\n",
       "      <td>117831.0</td>\n",
       "      <td>306.0</td>\n",
       "      <td>152348.0</td>\n",
       "    </tr>\n",
       "    <tr>\n",
       "      <th>2014-06-01</th>\n",
       "      <td>33862700.0</td>\n",
       "      <td>133700.0</td>\n",
       "      <td>429.0</td>\n",
       "      <td>152348.0</td>\n",
       "    </tr>\n",
       "    <tr>\n",
       "      <th>2014-11-01</th>\n",
       "      <td>33862700.0</td>\n",
       "      <td>153381.0</td>\n",
       "      <td>NaN</td>\n",
       "      <td>152348.0</td>\n",
       "    </tr>\n",
       "    <tr>\n",
       "      <th>2015-06-01</th>\n",
       "      <td>33862700.0</td>\n",
       "      <td>164790.0</td>\n",
       "      <td>NaN</td>\n",
       "      <td>152348.0</td>\n",
       "    </tr>\n",
       "    <tr>\n",
       "      <th>2015-11-01</th>\n",
       "      <td>33862700.0</td>\n",
       "      <td>206304.0</td>\n",
       "      <td>NaN</td>\n",
       "      <td>152348.0</td>\n",
       "    </tr>\n",
       "    <tr>\n",
       "      <th>2016-06-01</th>\n",
       "      <td>93014594.0</td>\n",
       "      <td>285908.0</td>\n",
       "      <td>195.0</td>\n",
       "      <td>548000.0</td>\n",
       "    </tr>\n",
       "    <tr>\n",
       "      <th>2016-12-01</th>\n",
       "      <td>NaN</td>\n",
       "      <td>NaN</td>\n",
       "      <td>NaN</td>\n",
       "      <td>548000.0</td>\n",
       "    </tr>\n",
       "  </tbody>\n",
       "</table>\n",
       "</div>"
      ],
      "text/plain": [
       "                Rmax_1  Rmax_500  VSC_rank  Rmax_VSC\n",
       "date                                                \n",
       "2011-12-01  10510000.0   50941.0       NaN       NaN\n",
       "2012-06-01  16324751.0   60824.0     118.0  152348.0\n",
       "2012-11-01  17590000.0   76411.0     163.0  152348.0\n",
       "2013-06-01  33862700.0   96619.0     239.0  152348.0\n",
       "2013-11-01  33862700.0  117831.0     306.0  152348.0\n",
       "2014-06-01  33862700.0  133700.0     429.0  152348.0\n",
       "2014-11-01  33862700.0  153381.0       NaN  152348.0\n",
       "2015-06-01  33862700.0  164790.0       NaN  152348.0\n",
       "2015-11-01  33862700.0  206304.0       NaN  152348.0\n",
       "2016-06-01  93014594.0  285908.0     195.0  548000.0\n",
       "2016-12-01         NaN       NaN       NaN  548000.0"
      ]
     },
     "execution_count": 3,
     "metadata": {},
     "output_type": "execute_result"
    }
   ],
   "source": [
    "top500 = pd.read_csv('top500.csv', index_col='date', converters={0: dt_conv})\n",
    "top500"
   ]
  },
  {
   "cell_type": "markdown",
   "metadata": {},
   "source": [
    "Create the plot."
   ]
  },
  {
   "cell_type": "code",
   "execution_count": 4,
   "metadata": {
    "collapsed": false,
    "scrolled": false
   },
   "outputs": [
    {
     "data": {
      "image/png": "[encoded data removed]",
      "text/plain": [
       "<matplotlib.figure.Figure at 0x7f418ca70fd0>"
      ]
     },
     "metadata": {},
     "output_type": "display_data"
    }
   ],
   "source": [
    "figure, axes = plt.subplots()\n",
    "figure.set_figwidth(10.0)\n",
    "figure.set_figheight(8.0)\n",
    "axes.plot_date(top500.index, np.log10(top500.Rmax_1), 'r-', label=r'rank 1')\n",
    "axes.plot_date(top500.index, np.log10(top500.Rmax_500), 'b-', label=r'rank 500')\n",
    "axes.plot_date(top500.index, np.log10(top500.Rmax_VSC), 'g-', label=r'VSC tier-1')\n",
    "axes.set_xlabel('time', size=16)\n",
    "axes.set_xticks(top500.index)\n",
    "axes.set_xticklabels([pd.datetime.strftime(x, '%b %y') for x in top500.index])\n",
    "for tick_label in axes.get_xticklabels():\n",
    "    tick_label.set_rotation(45)\n",
    "axes.set_ylabel(r'$\\mathrm{R}_{\\mathrm{max}}$', size=20)\n",
    "axes.set_yticks(range(4, 10))\n",
    "axes.set_yticklabels([r'$10^{0:d}$'.format(x) for x in range(4, 10)], size=14)\n",
    "axes2 = axes.twinx()\n",
    "axes2.set_ylabel('VSC tier-1 rank', size=16)\n",
    "axes2.set_ylim(500, 0)\n",
    "axes2.set_yticklabels([1, 100, 200, 300, 400, 500], size=14)\n",
    "axes2.plot_date(top500.index, top500.VSC_rank, 'o')\n",
    "for date, rank in zip(top500.index, top500.VSC_rank):\n",
    "    axes2.annotate('{:.0f}'.format(rank), xy=(date, rank - 11))\n",
    "axes.legend(loc='upper left');"
   ]
  }
 ],
 "metadata": {
  "kernelspec": {
   "display_name": "Python 3",
   "language": "python",
   "name": "python3"
  },
  "language_info": {
   "codemirror_mode": {
    "name": "ipython",
    "version": 3
   },
   "file_extension": ".py",
   "mimetype": "text/x-python",
   "name": "python",
   "nbconvert_exporter": "python",
   "pygments_lexer": "ipython3",
   "version": "3.5.2"
  }
 },
 "nbformat": 4,
 "nbformat_minor": 0
}
