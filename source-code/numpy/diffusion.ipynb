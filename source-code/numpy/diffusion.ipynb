{
 "cells": [
  {
   "cell_type": "markdown",
   "metadata": {},
   "source": [
    "# Heat equation"
   ]
  },
  {
   "cell_type": "markdown",
   "metadata": {},
   "source": [
    "## Problem definition"
   ]
  },
  {
   "cell_type": "markdown",
   "metadata": {},
   "source": [
    "The heat equation for a 2D surface is given by:\n",
    "$$\n",
    "  \\frac{\\partial T}{\\partial t} = D \\left( \\frac{\\partial^2 T}{\\partial x^2} + \\frac{\\partial^2 T}{\\partial y^2} \\right)\n",
    "$$\n",
    "with boundary conditions $T(0, y) = T(1, y) = T(x, 0) = T(x, 1) = 0$ for any value of $t$."
   ]
  },
  {
   "cell_type": "markdown",
   "metadata": {},
   "source": [
    "At $t = 0$, the temperature is given by $T(x, y) = 1$ for $0.4 \\le x \\le 0.6$ and $0.4 \\le y \\le 0.6$ and $T(x, y) = 0$ elsewhere."
   ]
  },
  {
   "cell_type": "markdown",
   "metadata": {},
   "source": [
    "Discretization yields:\n",
    "$$\n",
    "    T(x_i, y_j)_{t + \\Delta t} = T(x_i, y_j)_t +\n",
    "        D \\Delta t \\left( \\frac{T(x_{i-1}, y_j)_t - 2T(x_i, y_j)_t + T(x_{i+1}, y_j)_t}{\\Delta x^2} +\n",
    "                            \\frac{T(x_i, y_{j-1})_t - 2T(x_i, y_j)_t + T(x_i, y_{j+1})_t}{\\Delta y^2} \\right)\n",
    "$$"
   ]
  },
  {
   "cell_type": "markdown",
   "metadata": {},
   "source": [
    "Use an $N \\times N$ discretization for $x$ and $y$, and let $\\Delta = \\Delta x = \\Delta y$. Define $\\alpha = \\frac{\\Delta t D}{\\Delta^2}$."
   ]
  },
  {
   "cell_type": "markdown",
   "metadata": {},
   "source": [
    "## Implementation of solution"
   ]
  },
  {
   "cell_type": "markdown",
   "metadata": {},
   "source": [
    "Import the required modules."
   ]
  },
  {
   "cell_type": "code",
   "execution_count": null,
   "metadata": {},
   "outputs": [],
   "source": [
    "import matplotlib.pyplot as plt\n",
    "%matplotlib inline\n",
    "import numpy as np"
   ]
  },
  {
   "cell_type": "markdown",
   "metadata": {},
   "source": [
    "The initial temerature is given by:"
   ]
  },
  {
   "cell_type": "code",
   "execution_count": null,
   "metadata": {},
   "outputs": [],
   "source": [
    "def init_temp(N=100, T_max=1.0):\n",
    "    T = np.zeros((N, N))\n",
    "    min_idx, max_idx = int(0.4*N), int(0.6*N)\n",
    "    T[min_idx:max_idx, min_idx:max_idx] = T_max\n",
    "    return T"
   ]
  },
  {
   "cell_type": "markdown",
   "metadata": {},
   "source": [
    "Define the function that updates the temperature from one time step to the next."
   ]
  },
  {
   "cell_type": "code",
   "execution_count": null,
   "metadata": {},
   "outputs": [],
   "source": [
    "def update_temp(T, alpha):\n",
    "    T_new = T\n",
    "    T_new[1:-1, 1:-1] += alpha*(T[0:-2, 1:-1] - 2*T[1:-1, 1:-1] + T[2:, 1:-1] +\n",
    "                                T[1:-1, 0:-2] - 2*T[1:-1, 1:-1] + T[1:-1, 2:])\n",
    "    T = T_new"
   ]
  },
  {
   "cell_type": "markdown",
   "metadata": {},
   "source": [
    "Define a function that plots the temperature using a consistent colormap."
   ]
  },
  {
   "cell_type": "code",
   "execution_count": null,
   "metadata": {},
   "outputs": [],
   "source": [
    "def plot_temp(T, T_max=1.0, t=None):\n",
    "    _ = plt.imshow(T, cmap='coolwarm', vmin=0.0, vmax=T_max)\n",
    "    _ = plt.colorbar()\n",
    "    if t is not None:\n",
    "        _ = plt.title(f't = {t}')\n",
    "    _ = plt.text(20, 85, f'$T_{{min}} = {T.min():.3f}, T_{{max}} = {T.max():.3f}$',\n",
    "                 backgroundcolor='white')\n",
    "    plt.show()"
   ]
  },
  {
   "cell_type": "markdown",
   "metadata": {},
   "source": [
    "Solve the PDE for $t_{max}$ time steps, showing initial temperature, and 10 time steps."
   ]
  },
  {
   "cell_type": "code",
   "execution_count": null,
   "metadata": {
    "scrolled": false
   },
   "outputs": [],
   "source": [
    "t_max = 5_000\n",
    "alpha = 0.01\n",
    "nr_plots = 10\n",
    "T = init_temp()\n",
    "plot_temp(T, t=0)\n",
    "for t in range(1, t_max + 1):\n",
    "    update_temp(T, alpha)\n",
    "    if t % (t_max//nr_plots) == 0:\n",
    "        plot_temp(T, t=t)"
   ]
  }
 ],
 "metadata": {
  "kernelspec": {
   "display_name": "Python 3",
   "language": "python",
   "name": "python3"
  },
  "language_info": {
   "codemirror_mode": {
    "name": "ipython",
    "version": 3
   },
   "file_extension": ".py",
   "mimetype": "text/x-python",
   "name": "python",
   "nbconvert_exporter": "python",
   "pygments_lexer": "ipython3",
   "version": "3.6.8"
  }
 },
 "nbformat": 4,
 "nbformat_minor": 2
}
