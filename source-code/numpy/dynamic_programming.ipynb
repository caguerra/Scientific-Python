{
 "cells": [
  {
   "cell_type": "markdown",
   "metadata": {},
   "source": [
    "# String alignment using dynamic programming"
   ]
  },
  {
   "cell_type": "code",
   "execution_count": 1,
   "metadata": {
    "ExecuteTime": {
     "end_time": "2019-06-06T16:16:02.617174Z",
     "start_time": "2019-06-06T16:16:02.255547Z"
    }
   },
   "outputs": [],
   "source": [
    "import numpy as np\n",
    "import random"
   ]
  },
  {
   "cell_type": "markdown",
   "metadata": {},
   "source": [
    "Alphabet of the strings we consider for alignment, for this example we use nucliotides that encode DNA."
   ]
  },
  {
   "cell_type": "code",
   "execution_count": 2,
   "metadata": {
    "ExecuteTime": {
     "end_time": "2019-06-06T16:16:04.090230Z",
     "start_time": "2019-06-06T16:16:04.082829Z"
    }
   },
   "outputs": [],
   "source": [
    "alphabet = ['A', 'C', 'G', 'T']"
   ]
  },
  {
   "cell_type": "markdown",
   "metadata": {},
   "source": [
    "Scoring matrix, substituting an `A` by a `C` or `T` yields a penalty of -1, while substituing an `A` by a `G` yields a reward of 1, and matching an `A` yields 2."
   ]
  },
  {
   "cell_type": "code",
   "execution_count": 3,
   "metadata": {
    "ExecuteTime": {
     "end_time": "2019-06-06T16:16:05.886447Z",
     "start_time": "2019-06-06T16:16:05.873126Z"
    }
   },
   "outputs": [],
   "source": [
    "scoring_matrix = np.array(\n",
    "    [[ 2, -1,  1, -1],\n",
    "     [-1,  2, -1,  1],\n",
    "     [ 1, -1,  2, -1],\n",
    "     [-1,  1, -1,  2]]\n",
    ")"
   ]
  },
  {
   "cell_type": "markdown",
   "metadata": {},
   "source": [
    "Alignments can introduce gaps, and they come with an associated score as well."
   ]
  },
  {
   "cell_type": "code",
   "execution_count": 15,
   "metadata": {
    "ExecuteTime": {
     "end_time": "2019-06-07T07:43:17.085711Z",
     "start_time": "2019-06-07T07:43:17.075390Z"
    }
   },
   "outputs": [],
   "source": [
    "gap_score = -2"
   ]
  },
  {
   "cell_type": "markdown",
   "metadata": {},
   "source": [
    "The following function generates a function to generate random strings for the given alphabet."
   ]
  },
  {
   "cell_type": "code",
   "execution_count": 4,
   "metadata": {
    "ExecuteTime": {
     "end_time": "2019-06-06T16:16:07.775614Z",
     "start_time": "2019-06-06T16:16:07.768546Z"
    }
   },
   "outputs": [],
   "source": [
    "def random_string_generator(alphabet):\n",
    "    def random_string(n):\n",
    "        return ''.join(random.choices(alphabet, k=n))\n",
    "    return random_string"
   ]
  },
  {
   "cell_type": "markdown",
   "metadata": {},
   "source": [
    "Create a function to generate DNA fragments of a given length."
   ]
  },
  {
   "cell_type": "code",
   "execution_count": 5,
   "metadata": {
    "ExecuteTime": {
     "end_time": "2019-06-06T16:16:09.786613Z",
     "start_time": "2019-06-06T16:16:09.778555Z"
    }
   },
   "outputs": [],
   "source": [
    "random_dna = random_string_generator(alphabet)"
   ]
  },
  {
   "cell_type": "markdown",
   "metadata": {},
   "source": [
    "Seed the random number generator for reproducible results."
   ]
  },
  {
   "cell_type": "code",
   "execution_count": 6,
   "metadata": {
    "ExecuteTime": {
     "end_time": "2019-06-06T16:16:11.560291Z",
     "start_time": "2019-06-06T16:16:11.554123Z"
    }
   },
   "outputs": [],
   "source": [
    "random.seed(1234)"
   ]
  },
  {
   "cell_type": "markdown",
   "metadata": {},
   "source": [
    "Test the function for a few strings:"
   ]
  },
  {
   "cell_type": "code",
   "execution_count": 7,
   "metadata": {
    "ExecuteTime": {
     "end_time": "2019-06-06T16:16:13.806864Z",
     "start_time": "2019-06-06T16:16:13.796911Z"
    }
   },
   "outputs": [
    {
     "name": "stdout",
     "output_type": "stream",
     "text": [
      "T\n",
      "C\n",
      "A\n",
      "TT\n",
      "GG\n",
      "AT\n",
      "AAT\n",
      "CGG\n",
      "AAA\n",
      "ACTA\n",
      "GCGA\n",
      "GCGG\n",
      "CCATC\n",
      "GAGAA\n",
      "CCAGA\n",
      "GATTTA\n",
      "CACTAA\n",
      "TATACC\n"
     ]
    }
   ],
   "source": [
    "for i in range(3, 21):\n",
    "    print(random_dna(i//3))"
   ]
  },
  {
   "cell_type": "markdown",
   "metadata": {},
   "source": [
    "Implement the alignment algorithm as a class so that the alphabet, the scoring matrix and the gap score can be initialized once for alignment of many string pairs."
   ]
  },
  {
   "cell_type": "code",
   "execution_count": 11,
   "metadata": {
    "ExecuteTime": {
     "end_time": "2019-06-07T07:26:55.762715Z",
     "start_time": "2019-06-07T07:26:55.632388Z"
    }
   },
   "outputs": [],
   "source": [
    "class Aligner:\n",
    "    \n",
    "    def __init__(self, alphabet, scoring_matrix, gap_score):\n",
    "        self._idx = {char: index for index, char in enumerate(alphabet)}\n",
    "        self._scoring_matrix = scoring_matrix\n",
    "        self._gap_score = gap_score\n",
    " \n",
    "    def _init(self, str1, str2):\n",
    "        self._str1 = 'X' + str1\n",
    "        self._str2 = 'X' + str2\n",
    "        self._dist = np.empty((1 + len(str1), 1 + len(str2)), np.int)\n",
    "        self._dist[0, 0] = 0\n",
    "        for i in range(1, self._dist.shape[0]):\n",
    "            self._dist[i, 0] = self._dist[i - 1, 0] + self._gap_score\n",
    "        for j in range(1, self._dist.shape[1]):\n",
    "            self._dist[0, j] = self._dist[0, j - 1] + self._gap_score\n",
    "        \n",
    "    def _compute_edit_distance(self):\n",
    "        # from IPython.core.debugger import Tracer; Tracer()()\n",
    "        for i in range(1, self._dist.shape[0]):\n",
    "            for j in range(1, self._dist.shape[1]):\n",
    "                self._dist[i, j] = self._distance(i, j)\n",
    "    \n",
    "    def _distance(self, i, j):\n",
    "        idx1 = self._idx[self._str1[i]]\n",
    "        idx2 = self._idx[self._str2[j]]\n",
    "        match = self._dist[i - 1, j - 1] + self._scoring_matrix[idx1, idx2]\n",
    "        gap1 = self._dist[i, j - 1] + self._gap_score\n",
    "        gap2 = self._dist[i - 1, j] + self._gap_score\n",
    "        return max((match, gap1, gap2,))\n",
    "\n",
    "    def align(self, str1, str2):\n",
    "        self._init(str1, str2)\n",
    "        self._compute_edit_distance()\n",
    "        a1, a2 = '', ''\n",
    "        i, j = self._dist.shape[0] - 1, self._dist.shape[1] - 1\n",
    "        while i > 0 and j  > 0:\n",
    "            idx1 = self._idx[self._str1[i]]\n",
    "            idx2 = self._idx[self._str2[j]]\n",
    "            match = self._dist[i - 1, j - 1] + self._scoring_matrix[idx1, idx2]\n",
    "            if self._dist[i, j] == match:\n",
    "                a1 = self._str1[i] + a1\n",
    "                a2 = self._str2[j] + a2\n",
    "                i, j = i - 1, j - 1\n",
    "            elif  self._dist[i, j] == self._dist[i - 1, j] + self._gap_score:\n",
    "                a1 = self._str1[i] + a1\n",
    "                a2 = '_' + a2\n",
    "                i -= 1\n",
    "            elif self._dist[i, j] == self._dist[i, j - 1] + self._gap_score:\n",
    "                a1 = '_' + a1\n",
    "                a2 = self._str2[j] + a2\n",
    "                j -= 1\n",
    "        if i > 0:\n",
    "            while i > 0:\n",
    "                a1 = self._str1[i] + a1\n",
    "                a2 = '_' + a2\n",
    "                i -= 1\n",
    "        elif j > 0:\n",
    "            while j > 0:\n",
    "                a1 = '_' + a1\n",
    "                a2 = self._str2[j] + a2\n",
    "                j -= 1\n",
    "        return a1, a2\n",
    "\n",
    "    @property\n",
    "    def index(self):\n",
    "        return self._idx\n",
    "            \n",
    "    @property\n",
    "    def string1(self):\n",
    "        return self._str1[1:]\n",
    "    \n",
    "    @property\n",
    "    def string2(self):\n",
    "        return self._str2[1:]\n",
    "    \n",
    "    @property\n",
    "    def distance_matrix(self):\n",
    "        return np.copy(self._dist)"
   ]
  },
  {
   "cell_type": "markdown",
   "metadata": {},
   "source": [
    "Test the implementation on the example of http://www.biorecipes.com/DynProgBasic/code.html"
   ]
  },
  {
   "cell_type": "code",
   "execution_count": 17,
   "metadata": {
    "ExecuteTime": {
     "end_time": "2019-06-07T07:44:33.745963Z",
     "start_time": "2019-06-07T07:44:33.721318Z"
    }
   },
   "outputs": [
    {
     "name": "stdout",
     "output_type": "stream",
     "text": [
      "CCTA_AG\n",
      "ACGGTAG\n"
     ]
    }
   ],
   "source": [
    "alignment = Aligner(alphabet=alphabet, scoring_matrix=scoring_matrix, gap_score=gap_score)\n",
    "a1, a2 = alignment.align('CCTAAG', 'ACGGTAG',)\n",
    "print(a1)\n",
    "print(a2)"
   ]
  },
  {
   "cell_type": "markdown",
   "metadata": {},
   "source": [
    "The result is tested against the expected result:"
   ]
  },
  {
   "cell_type": "code",
   "execution_count": 24,
   "metadata": {
    "ExecuteTime": {
     "end_time": "2019-06-07T07:50:57.908673Z",
     "start_time": "2019-06-07T07:50:57.900142Z"
    }
   },
   "outputs": [],
   "source": [
    "assert(a1 == 'CCTA_AG')\n",
    "assert(a2 == 'ACGGTAG')"
   ]
  },
  {
   "cell_type": "code",
   "execution_count": 18,
   "metadata": {
    "ExecuteTime": {
     "end_time": "2019-06-07T07:44:37.582661Z",
     "start_time": "2019-06-07T07:44:37.569811Z"
    }
   },
   "outputs": [
    {
     "data": {
      "text/plain": [
       "array([[  0,  -2,  -4,  -6,  -8, -10, -12, -14],\n",
       "       [ -2,  -1,   0,  -2,  -4,  -6,  -8, -10],\n",
       "       [ -4,  -3,   1,  -1,  -3,  -3,  -5,  -7],\n",
       "       [ -6,  -5,  -1,   0,  -2,  -1,  -3,  -5],\n",
       "       [ -8,  -4,  -3,   0,   1,  -1,   1,  -1],\n",
       "       [-10,  -6,  -5,  -2,   1,   0,   1,   2],\n",
       "       [-12,  -8,  -7,  -3,   0,   0,   1,   3]])"
      ]
     },
     "execution_count": 18,
     "metadata": {},
     "output_type": "execute_result"
    }
   ],
   "source": [
    "alignment.distance_matrix"
   ]
  },
  {
   "cell_type": "markdown",
   "metadata": {},
   "source": [
    "To test implementations of new algorithms or in other programming languages, a test set is quite useful.  For each example, two DNA strings are generated.  The first will have a length between `min_length` and `max_length`, and the second string's length will deviated from that by a number between `min_dev` and `max_dev` (`min_legnth` can be negative, if so, it should be choosen such that `min_length` + `_min_dev` > 0."
   ]
  },
  {
   "cell_type": "code",
   "execution_count": 33,
   "metadata": {
    "ExecuteTime": {
     "end_time": "2019-06-07T13:01:40.871009Z",
     "start_time": "2019-06-07T13:01:40.725048Z"
    }
   },
   "outputs": [
    {
     "name": "stdout",
     "output_type": "stream",
     "text": [
      "AATTAGACATAG CCAGTGTAGTAGGA __AAT_TAGACATAG CCAGTGTAG_TAGGA\n",
      "ACTCGATGTACG GAACAAACAGGCCGA _ACTCGATGTA_CG_ GAACAAACAGGCCGA\n",
      "CTTCGTCG CATTG CTTCGTCG ___CATTG\n",
      "GGCCTCT TATCTCAAG GGCCTC__T TATCTCAAG\n",
      "TCATGTC ACACAGATGCT _T_C__ATGTC ACACAGATGCT\n",
      "CACACG TGTCTGGAGC CA_C__ACG_ TGTCTGGAGC\n",
      "GCTGCAGTTACA GGTAACGATCTT GCT_GCAGTTACA GGTAACGATC_TT\n",
      "TCGTTACCTC ACAGGATCTACACCG TC__G_T_TAC_CTC ACAGGATCTACACCG\n",
      "CCCCGAGTC GGTGGA CCCCGAGTC _GGTGGA__\n",
      "AATGTTTC GCTCATCGGC AAT_GTT_TC GCTCATCGGC\n"
     ]
    }
   ],
   "source": [
    "random.seed(1234)\n",
    "file_name = 'alignment_data.txt'\n",
    "min_length, max_length = 6, 12\n",
    "min_dev, max_dev = -5, 5\n",
    "nr_samples = 10\n",
    "aligner = Aligner(alphabet, scoring_matrix, gap_score)\n",
    "data = []\n",
    "for sample_nr in range(nr_samples):\n",
    "    data_str = ''\n",
    "    n1 = random.randint(min_length, max_length)\n",
    "    n2 = n1 + random.randint(min_dev, max_dev)\n",
    "    str1, str2 = random_dna(n1), random_dna(n2)\n",
    "    data_str += f'{str1} {str2}'\n",
    "    aligned1, aligned2 = aligner.align(str1, str2)\n",
    "    data_str += f' {aligned1} {aligned2}'\n",
    "    data.append(data_str)\n",
    "data_str = '\\n'.join(data)\n",
    "print(data_str)\n",
    "with open(file_name, 'w') as file:\n",
    "    print(data_str, file=file)"
   ]
  },
  {
   "cell_type": "code",
   "execution_count": null,
   "metadata": {},
   "outputs": [],
   "source": []
  }
 ],
 "metadata": {
  "kernelspec": {
   "display_name": "Python 3",
   "language": "python",
   "name": "python3"
  },
  "language_info": {
   "codemirror_mode": {
    "name": "ipython",
    "version": 3
   },
   "file_extension": ".py",
   "mimetype": "text/x-python",
   "name": "python",
   "nbconvert_exporter": "python",
   "pygments_lexer": "ipython3",
   "version": "3.7.3"
  }
 },
 "nbformat": 4,
 "nbformat_minor": 2
}
