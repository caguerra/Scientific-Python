{
 "cells": [
  {
   "cell_type": "markdown",
   "id": "b4236788-a52a-4f9c-9202-ee40e34b28c8",
   "metadata": {},
   "source": [
    "## Requirements"
   ]
  },
  {
   "cell_type": "code",
   "execution_count": 4,
   "id": "817638d7-366c-471e-ab50-1b9dc972efa5",
   "metadata": {},
   "outputs": [],
   "source": [
    "import numpy as np"
   ]
  },
  {
   "cell_type": "markdown",
   "id": "2213c531-b05e-4981-ab8b-74968d3df9d2",
   "metadata": {},
   "source": [
    "## Problem setting"
   ]
  },
  {
   "cell_type": "markdown",
   "id": "c7cc6dd1-4ccb-4a40-9645-52217c4ad842",
   "metadata": {},
   "source": [
    "To illustrate that algorithms have a potentially large inflcuence on run times, you can consider the matrix power operation, i.e., for a square matrix $A$, compute\n",
    "$$\n",
    "    A^n = A \\cdot A \\cdot \\cdots A\n",
    "$$"
   ]
  },
  {
   "cell_type": "markdown",
   "id": "8990314e-c2cc-424b-9819-1c6c84dfa37d",
   "metadata": {},
   "source": [
    "## Implementation"
   ]
  },
  {
   "cell_type": "markdown",
   "id": "8523227c-9636-44fa-9778-c9e7f6c46401",
   "metadata": {},
   "source": [
    "### Naive implementation"
   ]
  },
  {
   "cell_type": "markdown",
   "id": "c844eb8e-02f8-49c4-8a24-ffc463a8ef66",
   "metadata": {},
   "source": [
    "The following implementation is the baseline, it simply multiplies the given matrix $n$ times."
   ]
  },
  {
   "cell_type": "code",
   "execution_count": 8,
   "id": "e4cc4767-7e01-4a1f-b28a-0bfbae57cc24",
   "metadata": {},
   "outputs": [],
   "source": [
    "def naive_exponentiation(A, n):\n",
    "    result = np.eye(A.shape[0])\n",
    "    for _ in range(n):\n",
    "        result = result@A\n",
    "    return result"
   ]
  },
  {
   "cell_type": "markdown",
   "id": "352931fb-289c-4da0-abcb-fc3de79abcdf",
   "metadata": {},
   "source": [
    "It is easy to verify that the implementation produces the correct result."
   ]
  },
  {
   "cell_type": "code",
   "execution_count": 9,
   "id": "9ee8caa0-848e-4f0e-9e8e-5eb0c34812ca",
   "metadata": {},
   "outputs": [],
   "source": [
    "A = np.array([\n",
    "    [1, 2],\n",
    "    [3, 5],\n",
    "])"
   ]
  },
  {
   "cell_type": "code",
   "execution_count": 10,
   "id": "ad274257-cb37-45de-9eaf-a00487808f7c",
   "metadata": {},
   "outputs": [
    {
     "data": {
      "text/plain": [
       "array([[ 7., 12.],\n",
       "       [18., 31.]])"
      ]
     },
     "execution_count": 10,
     "metadata": {},
     "output_type": "execute_result"
    }
   ],
   "source": [
    "naive_exponentiation(A, 2)"
   ]
  },
  {
   "cell_type": "markdown",
   "id": "8eeffa5b-496a-46c0-a520-354e9094b4dc",
   "metadata": {},
   "source": [
    "### Binary exponentiation"
   ]
  },
  {
   "cell_type": "markdown",
   "id": "70eaaea8-4ead-44b3-97e2-f1304c55bcac",
   "metadata": {},
   "source": [
    "The following example can help you realize that $n$ multiplication are not required.\n",
    "$$\n",
    "    A^13 = A^8 \\cdot A^4 \\cdot A\n",
    "$$\n",
    "where\n",
    "$$\n",
    "    \\begin{array}{lcr}\n",
    "        A_2 & = & A \\cdot A \\\\\n",
    "        A_4 & = & A_2 \\cdot A_2 \\\\\n",
    "        A_8 & = & A_4 \\cdot A_4 \\\\\n",
    "        A^13 = A_8 \\cdot A_4 \\cdot A\n",
    "    \\end{array}\n",
    "$$\n",
    "So rather tha 13 multiplications in the naive implementation, you only need 5 multiplications using this approach.\n",
    "\n",
    "The crux is to convert the exponent to binary, e.g., $13 = 2^4 + 2^2 + 1 = 1101_2$"
   ]
  },
  {
   "cell_type": "code",
   "execution_count": 11,
   "id": "972da591-2bd2-4917-be2f-2f32e15f370f",
   "metadata": {},
   "outputs": [],
   "source": [
    "def binary_exponentiation(A, n):\n",
    "    powers = []\n",
    "    factors = []\n",
    "    factor = None\n",
    "    idx = 0\n",
    "    while n > 0:\n",
    "        factors.append(factors[-1]@factors[-1] if factors else A)\n",
    "        if n & 1:\n",
    "            powers.append(idx)\n",
    "        n >>= 1\n",
    "        idx += 1\n",
    "    result = None\n",
    "    for idx in powers:\n",
    "        factor = factors[idx]\n",
    "        result = factor if result is None else result@factor\n",
    "    return result"
   ]
  },
  {
   "cell_type": "markdown",
   "id": "dde9c5c3-467f-4885-b9d2-eead34b371c1",
   "metadata": {},
   "source": [
    "The result is identical to that of the naive implementation."
   ]
  },
  {
   "cell_type": "code",
   "execution_count": 12,
   "id": "b7f9743b-d794-49cc-818a-9353baed4e1c",
   "metadata": {},
   "outputs": [
    {
     "data": {
      "text/plain": [
       "array([[ 43,  74],\n",
       "       [111, 191]])"
      ]
     },
     "execution_count": 12,
     "metadata": {},
     "output_type": "execute_result"
    }
   ],
   "source": [
    "binary_exponentiation(A, 3)"
   ]
  },
  {
   "cell_type": "code",
   "execution_count": 13,
   "id": "0ccc0709-0164-4a41-9dfb-33a4de6476e6",
   "metadata": {},
   "outputs": [
    {
     "data": {
      "text/plain": [
       "array([[ 43.,  74.],\n",
       "       [111., 191.]])"
      ]
     },
     "execution_count": 13,
     "metadata": {},
     "output_type": "execute_result"
    }
   ],
   "source": [
    "naive_exponentiation(A, 3)"
   ]
  },
  {
   "cell_type": "markdown",
   "id": "e2c77537-7574-42ac-a946-9a69d48e6569",
   "metadata": {},
   "source": [
    "## Performance"
   ]
  },
  {
   "cell_type": "markdown",
   "id": "f6633652-19e4-4494-a2bc-8605007e5870",
   "metadata": {},
   "source": [
    "To test the performance of both implementations, you would use a large(r) matrix and a larger exponent."
   ]
  },
  {
   "cell_type": "code",
   "execution_count": 14,
   "id": "0e29ed09-6a2a-4cbb-89e8-c27aa1afe949",
   "metadata": {},
   "outputs": [],
   "source": [
    "A = np.random.normal(size=(2_000, 2_000))"
   ]
  },
  {
   "cell_type": "code",
   "execution_count": 15,
   "id": "8b87ec58-9725-4560-aba8-76732a599b51",
   "metadata": {},
   "outputs": [
    {
     "name": "stdout",
     "output_type": "stream",
     "text": [
      "807 ms ± 74.4 ms per loop (mean ± std. dev. of 7 runs, 1 loop each)\n"
     ]
    }
   ],
   "source": [
    "%timeit binary_exponentiation(A, 31)"
   ]
  },
  {
   "cell_type": "code",
   "execution_count": 16,
   "id": "c555ca20-a574-4acb-82a0-cb83344ce26f",
   "metadata": {},
   "outputs": [
    {
     "name": "stdout",
     "output_type": "stream",
     "text": [
      "2.76 s ± 44.9 ms per loop (mean ± std. dev. of 7 runs, 1 loop each)\n"
     ]
    }
   ],
   "source": [
    "%timeit naive_exponentiation(A, 31)"
   ]
  },
  {
   "cell_type": "code",
   "execution_count": 17,
   "id": "6faf8cc4-2aa4-4c2a-8d28-f17de5dd2455",
   "metadata": {},
   "outputs": [
    {
     "name": "stdout",
     "output_type": "stream",
     "text": [
      "494 ms ± 26.4 ms per loop (mean ± std. dev. of 7 runs, 1 loop each)\n"
     ]
    }
   ],
   "source": [
    "%timeit binary_exponentiation(A, 32)"
   ]
  },
  {
   "cell_type": "code",
   "execution_count": 18,
   "id": "0e50b0c0-eaae-4157-bd3f-2bf275a5c889",
   "metadata": {},
   "outputs": [
    {
     "name": "stdout",
     "output_type": "stream",
     "text": [
      "2.84 s ± 48.9 ms per loop (mean ± std. dev. of 7 runs, 1 loop each)\n"
     ]
    }
   ],
   "source": [
    "%timeit naive_exponentiation(A, 32)"
   ]
  },
  {
   "cell_type": "markdown",
   "id": "a0d18913-932c-455c-b87f-5b4e6204024e",
   "metadata": {},
   "source": [
    "It is clear that the binary exponentiation is significantly faster than the naive implementation."
   ]
  },
  {
   "cell_type": "markdown",
   "id": "a9902e94-247a-4c70-aeb8-7a15aba73f60",
   "metadata": {},
   "source": [
    "However, the numpy implementation is about 10 % faster."
   ]
  },
  {
   "cell_type": "code",
   "execution_count": 19,
   "id": "8f411334-abee-4256-affa-02bec554317d",
   "metadata": {},
   "outputs": [
    {
     "name": "stdout",
     "output_type": "stream",
     "text": [
      "759 ms ± 34.7 ms per loop (mean ± std. dev. of 7 runs, 1 loop each)\n"
     ]
    }
   ],
   "source": [
    "%timeit np.linalg.matrix_power(A, 31)"
   ]
  },
  {
   "cell_type": "code",
   "execution_count": 20,
   "id": "c6375fae-7b42-4fa4-8e9d-1d138ec92f45",
   "metadata": {},
   "outputs": [
    {
     "name": "stdout",
     "output_type": "stream",
     "text": [
      "450 ms ± 8.97 ms per loop (mean ± std. dev. of 7 runs, 1 loop each)\n"
     ]
    }
   ],
   "source": [
    "%timeit np.linalg.matrix_power(A, 32)"
   ]
  }
 ],
 "metadata": {
  "kernelspec": {
   "display_name": "Python 3 (ipykernel)",
   "language": "python",
   "name": "python3"
  },
  "language_info": {
   "codemirror_mode": {
    "name": "ipython",
    "version": 3
   },
   "file_extension": ".py",
   "mimetype": "text/x-python",
   "name": "python",
   "nbconvert_exporter": "python",
   "pygments_lexer": "ipython3",
   "version": "3.10.9"
  }
 },
 "nbformat": 4,
 "nbformat_minor": 5
}
