{
 "cells": [
  {
   "cell_type": "markdown",
   "metadata": {},
   "source": [
    "# Game of Life"
   ]
  },
  {
   "cell_type": "markdown",
   "metadata": {},
   "source": [
    "[Game of Life](https://en.wikipedia.org/wiki/Conway%27s_Game_of_Life), introduced by John H. Conway in 1970, is a 2D cellular automaton that simulates a world populated by cells.  The world is a 2D square grid that is, in principle, infinite.  Each grid position represents a cell that can be either alive, or dead.  The game is played over a number of generations.  To compute the next generation, each grid position is considered indepedently. The rules are straightforward:\n",
    "\n",
    "* If a cell in generation $t$ is alive,\n",
    "  * it is alive in generation $t + 1$ if it has either two or three life neighbours in generation $t$;\n",
    "  * it is dead in generation $t + 1$ otherwise.\n",
    "* If a cell in generation $t$ is dead,\n",
    "  * it is alive in generatino $t + 1$ if it has exactly three neighbours in generation $t$;\n",
    "  * it is dead in generation $t + 1$ otherwise.\n",
    "  \n",
    "Each cell has eight neighbours.  Typically, the Game of Life world is represented by an $n \\times n$ array, and periodic boundary conditions are applied to simulate an infinite world."
   ]
  },
  {
   "cell_type": "markdown",
   "metadata": {
    "heading_collapsed": true
   },
   "source": [
    "## Required imports"
   ]
  },
  {
   "cell_type": "code",
   "execution_count": 15,
   "metadata": {
    "ExecuteTime": {
     "end_time": "2019-06-28T04:48:13.103144Z",
     "start_time": "2019-06-28T04:48:10.171209Z"
    },
    "hidden": true
   },
   "outputs": [],
   "source": [
    "from IPython.display import HTML\n",
    "from collections import Counter\n",
    "import matplotlib.pyplot as plt\n",
    "from matplotlib.animation import FuncAnimation\n",
    "%matplotlib inline\n",
    "import numpy as np"
   ]
  },
  {
   "cell_type": "markdown",
   "metadata": {
    "heading_collapsed": true,
    "toc-hr-collapsed": false
   },
   "source": [
    "## World representation"
   ]
  },
  {
   "cell_type": "markdown",
   "metadata": {
    "hidden": true
   },
   "source": [
    "A Game of Life world will be represented by an array of integers.  Each array element represents a cell that can either be dead (0) or alive (1).  First, we define a class that represents a world, and that is initialized from a given numpy array.  This will serve as a base class for classes that implement specific initializations.  Typically, those should override `__init__`.  The `World` base class defines all methods to compute the next generation, get information on the world's state, as well a string representation."
   ]
  },
  {
   "cell_type": "code",
   "execution_count": 2,
   "metadata": {
    "ExecuteTime": {
     "end_time": "2019-06-28T07:31:38.500827Z",
     "start_time": "2019-06-28T07:31:38.332773Z"
    },
    "hidden": true
   },
   "outputs": [],
   "source": [
    "class World:\n",
    "    '''Class representing a Game of Life world, intended to be subclassed\n",
    "    for specific initialization strategies.'''\n",
    "    \n",
    "    def __init__(self, cells):\n",
    "        '''Initialize a world using the cells provided\n",
    "        \n",
    "        Parameters\n",
    "        ----------\n",
    "        cells : np.ndarray\n",
    "            2D numpy array representing the world, 1 represents a cell that\n",
    "            is alive, 0 represents a dead cell.\n",
    "        '''\n",
    "        self._world = np.copy(cells.astype(np.int8))\n",
    "        self._tmp_world = np.empty_like(self._world)\n",
    "    \n",
    "    @property\n",
    "    def shape(self):\n",
    "        '''Get the shape of the world\n",
    "        \n",
    "        Returns\n",
    "        -------\n",
    "        tuple\n",
    "            shape of the world as a 2-tuple of int\n",
    "        '''\n",
    "        return self._world.shape\n",
    "    \n",
    "    @property\n",
    "    def nr_alive(self):\n",
    "        '''Get the number of cells that are alive\n",
    "        \n",
    "        Returns\n",
    "        -------\n",
    "        int\n",
    "            number of cells alive in the world\n",
    "        '''\n",
    "        return np.sum(self._world)\n",
    "\n",
    "    @property\n",
    "    def cells(self):\n",
    "        '''Get the world as a 2D numpy array\n",
    "        \n",
    "        Returns\n",
    "        -------\n",
    "        np.ndarray\n",
    "            2D numpy array of 0 and 1 int values, where 1 represents\n",
    "            a cell that is alive, and 0 one that is dead\n",
    "        '''\n",
    "        return np.copy(self._world)\n",
    "\n",
    "    @property\n",
    "    def fraction_alive(self):\n",
    "        '''Get the fraction of cells that are alive in the world\n",
    "        \n",
    "        Returns\n",
    "        -------\n",
    "        float\n",
    "            fraction of cells that are alive\n",
    "        '''\n",
    "        return np.sum(self._world)/(self.shape[0]*self.shape[1])\n",
    "    \n",
    "    def is_alive(self, i, j):\n",
    "        return self._world[i, j] == 1\n",
    "    \n",
    "    def nr_neignbours(self, i, j):\n",
    "        up = (i + self.shape[0] - 1) % self.shape[0]\n",
    "        down = (i + 1) % self.shape[0]\n",
    "        left = (j + self.shape[1] - 1) % self.shape[1]\n",
    "        right = (j + 1) % self.shape[1]\n",
    "        return (self._world[up, left] + self._world[up, j] +\n",
    "                    self._world[up, right] +\n",
    "                self._world[i, left] + self._world[i, right] +\n",
    "                self._world[down, left] + self._world[down, j] +\n",
    "                    self._world[down, right])\n",
    "    \n",
    "    def next_generation(self):\n",
    "        '''Compute the world's next generation\n",
    "        '''\n",
    "        for i in range(self.shape[0]):\n",
    "            for j in range(self.shape[1]):\n",
    "                nr_nb = self.nr_neignbours(i, j)\n",
    "                if self.is_alive(i, j):\n",
    "                    self._tmp_world[i, j] = 1 if nr_nb == 2 or nr_nb == 3 else 0\n",
    "                else:\n",
    "                    self._tmp_world[i, j] = 1 if nr_nb == 3 else 0\n",
    "        self._world = self._tmp_world\n",
    "\n",
    "\n",
    "        \n",
    "    def __repr__(self):\n",
    "        return '\\n'.join(' '.join(f'{self._world[i, j]:1d}'\n",
    "                                  for j in range(self.shape[1]))\n",
    "                         for i in range(self.shape[0]))"
   ]
  },
  {
   "cell_type": "markdown",
   "metadata": {
    "heading_collapsed": true,
    "hidden": true
   },
   "source": [
    "### Random world"
   ]
  },
  {
   "cell_type": "markdown",
   "metadata": {
    "hidden": true
   },
   "source": [
    "The `RandomWorld` class inherits from the `World` basse class, and initializes a world of $n \\times n$ randomly, but where a fraction $f_{\\rm alive}$ is alive."
   ]
  },
  {
   "cell_type": "code",
   "execution_count": 3,
   "metadata": {
    "ExecuteTime": {
     "end_time": "2019-06-28T06:58:42.229271Z",
     "start_time": "2019-06-28T06:58:42.212731Z"
    },
    "hidden": true
   },
   "outputs": [],
   "source": [
    "class RandomWorld(World):\n",
    "    '''Class representing a world that is initialized randomly so that a given\n",
    "    fraction of cells is alive.  Note this is not necessarily exact.'''\n",
    "    \n",
    "    def __init__(self, n, f_alive):\n",
    "        '''Create a random world with a give fraction of cells that are alive.\n",
    "        \n",
    "        Parameters\n",
    "        ----------\n",
    "        n : int\n",
    "            size of the n*n world\n",
    "        f_alive : float\n",
    "            fraction of cells that are alive (between 0.0 and 1.0)\n",
    "        '''\n",
    "        super().__init__(np.random.choice(np.array([0, 1], dtype=np.int8),\n",
    "                                          (n, n), p=(1 - f_alive, f_alive)))"
   ]
  },
  {
   "cell_type": "markdown",
   "metadata": {
    "hidden": true
   },
   "source": [
    "Create a world and run a generation."
   ]
  },
  {
   "cell_type": "code",
   "execution_count": null,
   "metadata": {
    "ExecuteTime": {
     "end_time": "2019-06-27T11:36:17.116303Z",
     "start_time": "2019-06-27T11:36:17.086851Z"
    },
    "hidden": true
   },
   "outputs": [],
   "source": [
    "world = RandomWorld(10, 0.4)\n",
    "world"
   ]
  },
  {
   "cell_type": "code",
   "execution_count": null,
   "metadata": {
    "ExecuteTime": {
     "end_time": "2019-06-27T11:36:17.153490Z",
     "start_time": "2019-06-27T11:36:17.135383Z"
    },
    "hidden": true
   },
   "outputs": [],
   "source": [
    "world.next_generation()\n",
    "print(world)"
   ]
  },
  {
   "cell_type": "markdown",
   "metadata": {
    "heading_collapsed": true,
    "hidden": true
   },
   "source": [
    "### Patch world"
   ]
  },
  {
   "cell_type": "markdown",
   "metadata": {
    "hidden": true
   },
   "source": [
    "A second, interesting way to initialize a world is from a numpy array representing an $p_0 \\times p_1$ patch in the $n \\times n$ world, where, obviously, $p_0 \\le n$ and $p_1 \\le n$."
   ]
  },
  {
   "cell_type": "code",
   "execution_count": 4,
   "metadata": {
    "ExecuteTime": {
     "end_time": "2019-06-28T07:37:40.666747Z",
     "start_time": "2019-06-28T07:37:40.632962Z"
    },
    "hidden": true
   },
   "outputs": [],
   "source": [
    "class PatchWorld(World):\n",
    "    '''Class that is initialized with a patch given as a 2D numpy array. All\n",
    "    other cells are dead.'''\n",
    "    \n",
    "    def __init__(self, n, patch):\n",
    "        '''Create a random world with a give initial patch, all\n",
    "        other cells will be dead.\n",
    "        \n",
    "        Parameters\n",
    "        ----------\n",
    "        n : int\n",
    "            size of the n*n world\n",
    "        patch : np.ndarray\n",
    "            2D numpy array containing the part of the world to be\n",
    "            initialized; patch.shape[0] <= n, patch.shape[1] <= n,\n",
    "            and patch should contain 1 for a cell that is alive, 0\n",
    "            for a cell that is dead\n",
    "        '''\n",
    "        world = np.zeros((n, n))\n",
    "        world[0:patch.shape[0], 0:patch.shape[1]] = patch\n",
    "        super().__init__(world)"
   ]
  },
  {
   "cell_type": "code",
   "execution_count": null,
   "metadata": {
    "ExecuteTime": {
     "end_time": "2019-06-28T04:48:51.573900Z",
     "start_time": "2019-06-28T04:48:51.525231Z"
    },
    "hidden": true
   },
   "outputs": [],
   "source": [
    "world = PatchWorld(10, np.array([[1, 0, 0], [1, 1, 0]]))\n",
    "world"
   ]
  },
  {
   "cell_type": "markdown",
   "metadata": {
    "heading_collapsed": true
   },
   "source": [
    "## Simulation runner"
   ]
  },
  {
   "cell_type": "markdown",
   "metadata": {
    "hidden": true
   },
   "source": [
    "We define a class to conveniently perform a complete simulation.  At most `max_gen` generations are computed, but the computation stops as soon as a cycle is detected."
   ]
  },
  {
   "cell_type": "code",
   "execution_count": 58,
   "metadata": {
    "ExecuteTime": {
     "end_time": "2019-06-28T04:49:05.994333Z",
     "start_time": "2019-06-28T04:49:05.927121Z"
    },
    "hidden": true
   },
   "outputs": [],
   "source": [
    "class WorldRunner:\n",
    "    '''Class to run a simulation of the given world over a maximum of\n",
    "    generations. The simulation will stop as soon as a cycle is detected.'''\n",
    "    \n",
    "    def __init__(self, world, max_gen, early_stopping=True):\n",
    "        '''Initialize the run with the initial world and the maximum\n",
    "        number of generations to simulate.\n",
    "        \n",
    "        Parameters\n",
    "        ----------\n",
    "        world : World\n",
    "            initial world to run the simulation on\n",
    "        max_gen : int\n",
    "            maximum number of generations to simulate\n",
    "        early_stopping : bool\n",
    "            if True, stop when a cycle is detected, otherwise,\n",
    "            continue form max_gen generations\n",
    "        '''\n",
    "        self._world = world\n",
    "        self._max_gen = max_gen\n",
    "        self._early_stopping = early_stopping\n",
    "        self._cycle_length = None\n",
    "        self._hist = [self._world.cells]\n",
    "    \n",
    "    @property\n",
    "    def max_gen(self):\n",
    "        '''Get the maximum generation for this simulation\n",
    "        \n",
    "        Returns\n",
    "        -------\n",
    "        int\n",
    "            maximum number of generations for this run\n",
    "        '''\n",
    "        return self._max_gen\n",
    "\n",
    "    @property\n",
    "    def nr_generations(self):\n",
    "        '''Get the number of generations computed, note that this may be less than\n",
    "        the maximum number of generations if a cycle was detected.\n",
    "        \n",
    "        Returns\n",
    "        -------\n",
    "        int\n",
    "            number of generations computed in this run\n",
    "        '''\n",
    "        return len(self._hist) - 1\n",
    "    \n",
    "    def has_cycle(self):\n",
    "        '''Check whether a cycle was detected.\n",
    "        \n",
    "        Returns\n",
    "        -------\n",
    "        bool\n",
    "            True if a cycle was detected, False otherwise\n",
    "        '''\n",
    "        return self._cycle_length is not None\n",
    "    \n",
    "    @property\n",
    "    def cycle_length(self):\n",
    "        '''Get the cycle length, if any.\n",
    "        \n",
    "        Returns\n",
    "        -------\n",
    "        int\n",
    "            length of the detected cycle, None if no cycle was found.\n",
    "        '''\n",
    "        return self._cycle_length\n",
    "    \n",
    "    @property\n",
    "    def history(self):\n",
    "        '''Get the world history.\n",
    "        \n",
    "        Returns\n",
    "        -------\n",
    "        list\n",
    "            a list of the generations of this world, represented as 2D\n",
    "            numpy arrays.\n",
    "        '''\n",
    "        return self._hist\n",
    "    \n",
    "    def _has_cycle(self):\n",
    "        for gen in range(-2, -len(self._hist), -1):\n",
    "            if np.all(self._hist[-1] == self._hist[gen]):\n",
    "                self._cycle_length = -gen - 1\n",
    "                return True\n",
    "        return False\n",
    "    \n",
    "    def run(self):\n",
    "        '''Run the simulation for the world.\n",
    "        '''\n",
    "        for _ in range(1, self.max_gen + 1):\n",
    "            self._world.next_generation()\n",
    "            self._hist.append(self._world.cells)\n",
    "            if self._has_cycle() and self._early_stopping:\n",
    "                break"
   ]
  },
  {
   "cell_type": "markdown",
   "metadata": {
    "hidden": true
   },
   "source": [
    "Create a world, and run it for a number of generations, then check on the properties."
   ]
  },
  {
   "cell_type": "code",
   "execution_count": null,
   "metadata": {
    "ExecuteTime": {
     "end_time": "2019-06-27T11:36:17.680061Z",
     "start_time": "2019-06-27T11:36:17.283617Z"
    },
    "hidden": true
   },
   "outputs": [],
   "source": [
    "world = RandomWorld(10, 0.3)\n",
    "runner = WorldRunner(world, 100)\n",
    "runner.run()"
   ]
  },
  {
   "cell_type": "markdown",
   "metadata": {
    "hidden": true
   },
   "source": [
    "The current state of the world can be checked."
   ]
  },
  {
   "cell_type": "code",
   "execution_count": null,
   "metadata": {
    "ExecuteTime": {
     "end_time": "2019-06-27T11:36:17.707976Z",
     "start_time": "2019-06-27T11:36:17.693237Z"
    },
    "hidden": true
   },
   "outputs": [],
   "source": [
    "world"
   ]
  },
  {
   "cell_type": "code",
   "execution_count": null,
   "metadata": {
    "ExecuteTime": {
     "end_time": "2019-06-27T11:36:17.747719Z",
     "start_time": "2019-06-27T11:36:17.733689Z"
    },
    "hidden": true
   },
   "outputs": [],
   "source": [
    "world.fraction_alive"
   ]
  },
  {
   "cell_type": "markdown",
   "metadata": {
    "hidden": true
   },
   "source": [
    "Check whether a cycle has been detected, what the cycle length is, and after how many generations it occured."
   ]
  },
  {
   "cell_type": "code",
   "execution_count": null,
   "metadata": {
    "ExecuteTime": {
     "end_time": "2019-06-27T11:36:17.790419Z",
     "start_time": "2019-06-27T11:36:17.763300Z"
    },
    "hidden": true
   },
   "outputs": [],
   "source": [
    "runner.has_cycle()"
   ]
  },
  {
   "cell_type": "code",
   "execution_count": null,
   "metadata": {
    "ExecuteTime": {
     "end_time": "2019-06-27T11:36:17.820273Z",
     "start_time": "2019-06-27T11:36:17.806910Z"
    },
    "hidden": true
   },
   "outputs": [],
   "source": [
    "runner.cycle_length"
   ]
  },
  {
   "cell_type": "code",
   "execution_count": null,
   "metadata": {
    "ExecuteTime": {
     "end_time": "2019-06-27T11:36:17.845152Z",
     "start_time": "2019-06-27T11:36:17.829629Z"
    },
    "hidden": true
   },
   "outputs": [],
   "source": [
    "runner.nr_generations"
   ]
  },
  {
   "cell_type": "markdown",
   "metadata": {
    "heading_collapsed": true
   },
   "source": [
    "## Simulation visualization"
   ]
  },
  {
   "cell_type": "markdown",
   "metadata": {},
   "source": [
    "To gain insight in the Game of Life dynamics, it is useful to visualize the consecutive generations of a world.  This can be done by using the `FuncAnimation` function provided by matplotlib.  Given the setup for this function, it is convenient to wrap its creation in a class."
   ]
  },
  {
   "cell_type": "code",
   "execution_count": 6,
   "metadata": {
    "ExecuteTime": {
     "end_time": "2019-06-27T11:36:17.905204Z",
     "start_time": "2019-06-27T11:36:17.848746Z"
    },
    "hidden": true
   },
   "outputs": [],
   "source": [
    "class WorldView:\n",
    "    '''Class for creating an animation of the world's history.'''\n",
    "    \n",
    "    def __init__(self, world_runner):\n",
    "        '''Initialize the view object.\n",
    "        \n",
    "        Parameters\n",
    "        ----------\n",
    "        world_runner : WorldRunner\n",
    "            runner that has completed a simulation to visualize.\n",
    "        '''\n",
    "        self._world_runner = world_runner\n",
    "        self._nr_gen = world_runner.nr_generations\n",
    "        self._figure, self._axes = plt.subplots()\n",
    "        self._axes.get_xaxis().set_visible(False)\n",
    "        self._axes.get_yaxis().set_visible(False)\n",
    "    \n",
    "    @property\n",
    "    def figure(self):\n",
    "        return self._figure\n",
    "\n",
    "    def create_animation(self):\n",
    "        '''Create an animation.\n",
    "        \n",
    "        Returns\n",
    "        -------\n",
    "        function\n",
    "            function that will visualize the simulation.\n",
    "        '''\n",
    "        return FuncAnimation(self.figure, self.create_animate(),\n",
    "                             init_func=self.create_init(),\n",
    "                             frames=self._world_runner.nr_generations)\n",
    "        \n",
    "    def create_animate(self):\n",
    "        def animate(i):\n",
    "            self._axes.imshow(self._world_runner.history[i])\n",
    "        return animate\n",
    "\n",
    "    def create_init(self):\n",
    "        def init():\n",
    "            self._axes.imshow(self._world_runner.history[0])\n",
    "        return init"
   ]
  },
  {
   "cell_type": "code",
   "execution_count": null,
   "metadata": {
    "ExecuteTime": {
     "end_time": "2019-06-27T11:36:18.695765Z",
     "start_time": "2019-06-27T11:36:17.917969Z"
    },
    "hidden": true
   },
   "outputs": [],
   "source": [
    "world_size = 10\n",
    "f_alive = 0.3\n",
    "max_generations = 100\n",
    "world = RandomWorld(world_size, f_alive)\n",
    "world_runner = WorldRunner(world, max_generations)\n",
    "world_runner.run()"
   ]
  },
  {
   "cell_type": "code",
   "execution_count": null,
   "metadata": {
    "ExecuteTime": {
     "end_time": "2019-06-27T11:36:18.732625Z",
     "start_time": "2019-06-27T11:36:18.715565Z"
    },
    "hidden": true
   },
   "outputs": [],
   "source": [
    "world_runner.nr_generations"
   ]
  },
  {
   "cell_type": "code",
   "execution_count": null,
   "metadata": {
    "ExecuteTime": {
     "end_time": "2019-06-27T11:37:18.138080Z",
     "start_time": "2019-06-27T11:36:18.747143Z"
    },
    "hidden": true,
    "scrolled": true
   },
   "outputs": [],
   "source": [
    "world_view = WorldView(world_runner)\n",
    "animation = world_view.create_animation()\n",
    "\n",
    "HTML(animation.to_jshtml(default_mode='once'))"
   ]
  },
  {
   "cell_type": "code",
   "execution_count": null,
   "metadata": {
    "ExecuteTime": {
     "end_time": "2019-06-27T11:38:09.257869Z",
     "start_time": "2019-06-27T11:38:09.241826Z"
    },
    "hidden": true
   },
   "outputs": [],
   "source": [
    "world"
   ]
  },
  {
   "cell_type": "code",
   "execution_count": null,
   "metadata": {
    "ExecuteTime": {
     "end_time": "2019-06-27T11:38:37.953597Z",
     "start_time": "2019-06-27T11:38:37.942228Z"
    },
    "hidden": true
   },
   "outputs": [],
   "source": [
    "world_runner.cycle_length"
   ]
  },
  {
   "cell_type": "markdown",
   "metadata": {},
   "source": [
    "## Simulation statistics"
   ]
  },
  {
   "cell_type": "markdown",
   "metadata": {},
   "source": [
    "First, we define a class that is an iterator over randomlly initialized worlds.  All worlds will have the same given size, and fraction of cells that are alive."
   ]
  },
  {
   "cell_type": "code",
   "execution_count": 40,
   "metadata": {
    "ExecuteTime": {
     "end_time": "2019-06-28T06:48:44.844036Z",
     "start_time": "2019-06-28T06:48:44.796739Z"
    }
   },
   "outputs": [],
   "source": [
    "class RandomWorldGenerator:\n",
    "    '''Iterator over randomly initialized worlds.'''\n",
    "    \n",
    "    def __init__(self, nr_worlds, size, f_alive):\n",
    "        '''Create an iterator over a given number of worlds, each of the same\n",
    "        size, and (approximately) the same number of cells that are alive.\n",
    "        \n",
    "        Parameters\n",
    "        ---------\n",
    "        nr_worlds : int\n",
    "            number of worlds to generate\n",
    "        size : int\n",
    "            world size\n",
    "        f_alive : float\n",
    "            fractino of cells that are alive\n",
    "        '''\n",
    "        self._nr_worlds = nr_worlds\n",
    "        self._size = size\n",
    "        self._f_alive = f_alive\n",
    "    \n",
    "    def __iter__(self):\n",
    "        self._current = 0\n",
    "        return self\n",
    "    \n",
    "    def __next__(self):\n",
    "        if self._current < self._nr_worlds:\n",
    "            self._current += 1\n",
    "            return RandomWorld(self._size, self._f_alive)\n",
    "        else:\n",
    "            raise StopIteration"
   ]
  },
  {
   "cell_type": "code",
   "execution_count": 41,
   "metadata": {
    "ExecuteTime": {
     "end_time": "2019-06-28T06:22:21.449739Z",
     "start_time": "2019-06-28T06:22:21.430516Z"
    }
   },
   "outputs": [
    {
     "name": "stdout",
     "output_type": "stream",
     "text": [
      "0 0 1 0 0\n",
      "0 0 0 0 0\n",
      "1 0 1 0 0\n",
      "0 0 0 1 0\n",
      "0 1 0 0 0\n",
      "\n",
      "0 0 0 0 1\n",
      "0 0 0 0 1\n",
      "0 0 0 0 0\n",
      "1 0 0 0 0\n",
      "1 1 0 0 1\n",
      "\n",
      "1 1 0 0 1\n",
      "1 1 0 0 1\n",
      "1 1 0 1 0\n",
      "0 0 0 0 0\n",
      "0 0 0 1 0\n",
      "\n"
     ]
    }
   ],
   "source": [
    "for world in RandomWorldGenerator(3, 5, 0.3):\n",
    "    print(world, end='\\n\\n')"
   ]
  },
  {
   "cell_type": "markdown",
   "metadata": {},
   "source": [
    "Next, we define a class to perform a number of simulation, and gather statistics on the number of cells that are alive for each generation."
   ]
  },
  {
   "cell_type": "code",
   "execution_count": 59,
   "metadata": {
    "ExecuteTime": {
     "end_time": "2019-06-28T06:53:09.969508Z",
     "start_time": "2019-06-28T06:53:09.927468Z"
    }
   },
   "outputs": [],
   "source": [
    "def compute_avg_live_cels(world_generator, max_gen):\n",
    "    nr_alive = np.zeros(max_gen + 1)\n",
    "    nr_worlds = 0\n",
    "    for world in world_generator:\n",
    "        nr_worlds += 1\n",
    "        world_runner = WorldRunner(world, max_gen, early_stopping=False)\n",
    "        world_runner.run()\n",
    "        for i, generation in enumerate(world_runner.history):\n",
    "            nr_alive[i] += np.sum(generation)\n",
    "    return nr_alive/(nr_worlds*generation.shape[0]*generation.shape[1])"
   ]
  },
  {
   "cell_type": "code",
   "execution_count": 68,
   "metadata": {
    "ExecuteTime": {
     "end_time": "2019-06-28T06:58:42.198972Z",
     "start_time": "2019-06-28T06:58:41.429594Z"
    }
   },
   "outputs": [
    {
     "data": {
      "image/png": "[encoded data removed]",
      "text/plain": [
       "<Figure size 432x288 with 1 Axes>"
      ]
     },
     "metadata": {
      "needs_background": "light"
     },
     "output_type": "display_data"
    }
   ],
   "source": [
    "nr_generations = 100\n",
    "stats = compute_avg_live_cels(RandomWorldGenerator(nr_worlds=50, size=20, f_alive=0.1), max_gen=nr_generations)\n",
    "_ = plt.plot(range(nr_generations + 1), stats)"
   ]
  },
  {
   "cell_type": "markdown",
   "metadata": {},
   "source": [
    "A second experiment would be to check how many initial world configurations of $p \\times p$ where $p \\le n$ and $n$ is the size of the world.  For a $p \\times p$ patch, there are $2^{p^2}$ initial configurations."
   ]
  },
  {
   "cell_type": "code",
   "execution_count": 10,
   "metadata": {},
   "outputs": [],
   "source": [
    "class PatchGenerator:\n",
    "    '''Iterator class for all worlds that are initialized from all compbinations of cells\n",
    "    are alive or dead in an p by p patch, while all other cells are dead.  The number of\n",
    "    such worlds is 2^(p*p)'''\n",
    "    \n",
    "    def __init__(self, size, patch_size):\n",
    "        '''Initialize the iterator fow a given patch size on a given board size\n",
    "        \n",
    "        Parameters\n",
    "        ----------\n",
    "        size : int\n",
    "            size of the world\n",
    "        patch_size : int\n",
    "            size of the patch, should be less than or equal to size\n",
    "        '''\n",
    "        if size < patch_size:\n",
    "            raise ValueError('patch size should be less or equal to world size')\n",
    "        self._size = size\n",
    "        self._patch_size = patch_size\n",
    "        self._patch_idx = None\n",
    "    \n",
    "    def __iter__(self):\n",
    "        self._patch_idx = 0\n",
    "        return self\n",
    "    \n",
    "    def _create_patch(self):\n",
    "        patch = np.empty((self._patch_size, self._patch_size))\n",
    "        for i in range(self._patch_size):\n",
    "            for j in range(self._patch_size):\n",
    "                patch[i, j] = 1 if self._patch_idx & (1 << (i*self._patch_size + j)) else 0\n",
    "        return patch\n",
    "    \n",
    "    def __next__(self):\n",
    "        if self._patch_idx >= 2**(self._patch_size**2):\n",
    "            raise StopIteration\n",
    "        world = PatchWorld(self._size, self._create_patch())\n",
    "        self._patch_idx += 1\n",
    "        return world"
   ]
  },
  {
   "cell_type": "code",
   "execution_count": 13,
   "metadata": {},
   "outputs": [
    {
     "name": "stdout",
     "output_type": "stream",
     "text": [
      "0 0 0\n",
      "0 0 0\n",
      "0 0 0\n",
      "\n",
      "1 0 0\n",
      "0 0 0\n",
      "0 0 0\n",
      "\n",
      "0 1 0\n",
      "0 0 0\n",
      "0 0 0\n",
      "\n",
      "1 1 0\n",
      "0 0 0\n",
      "0 0 0\n",
      "\n",
      "0 0 0\n",
      "1 0 0\n",
      "0 0 0\n",
      "\n",
      "1 0 0\n",
      "1 0 0\n",
      "0 0 0\n",
      "\n",
      "0 1 0\n",
      "1 0 0\n",
      "0 0 0\n",
      "\n",
      "1 1 0\n",
      "1 0 0\n",
      "0 0 0\n",
      "\n",
      "0 0 0\n",
      "0 1 0\n",
      "0 0 0\n",
      "\n",
      "1 0 0\n",
      "0 1 0\n",
      "0 0 0\n",
      "\n",
      "0 1 0\n",
      "0 1 0\n",
      "0 0 0\n",
      "\n",
      "1 1 0\n",
      "0 1 0\n",
      "0 0 0\n",
      "\n",
      "0 0 0\n",
      "1 1 0\n",
      "0 0 0\n",
      "\n",
      "1 0 0\n",
      "1 1 0\n",
      "0 0 0\n",
      "\n",
      "0 1 0\n",
      "1 1 0\n",
      "0 0 0\n",
      "\n",
      "1 1 0\n",
      "1 1 0\n",
      "0 0 0\n",
      "\n"
     ]
    }
   ],
   "source": [
    "patch_generrator = PatchGenerator(3, 2)\n",
    "for world in patch_generrator:\n",
    "    print(world, end='\\n\\n')"
   ]
  },
  {
   "cell_type": "code",
   "execution_count": 24,
   "metadata": {
    "ExecuteTime": {
     "end_time": "2019-06-28T06:53:09.969508Z",
     "start_time": "2019-06-28T06:53:09.927468Z"
    }
   },
   "outputs": [],
   "source": [
    "def compute_cycle_count(world_generator, max_gen):\n",
    "    '''Function to cmopute statistics on the number of worlds that lead\n",
    "    to cycles of various lengths\n",
    "    \n",
    "    Parameters\n",
    "    ----------\n",
    "    world_generator : iterator\n",
    "        Iterator that returns initialized words\n",
    "    max_gen : int\n",
    "        Maximum number of generation to simulate per word\n",
    "        \n",
    "    Returns\n",
    "    -------\n",
    "    collections.Counter\n",
    "        count for each cycle length, for the number of words that\n",
    "        contain only dead cells and for worlds for which no cycle\n",
    "        was detected.\n",
    "    '''\n",
    "    cycle_count = Counter()\n",
    "    nr_worlds = 0\n",
    "    for world in self._world_gen:\n",
    "        nr_worlds += 1\n",
    "        world_runner = WorldRunner(world, self._max_gen)\n",
    "        world_runner.run()\n",
    "        if world.nr_alive > 0:\n",
    "            if world_runner.has_cycle():\n",
    "                cycle_count[world_runner.cycle_length] += 1\n",
    "            else:\n",
    "                cycle_count['no cycle'] += 1\n",
    "        else:\n",
    "            cycle_count['dead'] += 1\n",
    "    return self._cycle_count"
   ]
  },
  {
   "cell_type": "code",
   "execution_count": 20,
   "metadata": {},
   "outputs": [
    {
     "name": "stdout",
     "output_type": "stream",
     "text": [
      "dead: 11\n",
      "1: 5\n"
     ]
    }
   ],
   "source": [
    "cycle_stats = CycleStatistics(PatchGenerator(5, 2), 10)\n",
    "cycle_stats.compute()\n",
    "cycle_count = cycle_stats.cycle_count()\n",
    "for cycle_length in cycle_count:\n",
    "    print(f'{cycle_length}: {cycle_count[cycle_length]}')"
   ]
  },
  {
   "cell_type": "code",
   "execution_count": null,
   "metadata": {},
   "outputs": [],
   "source": []
  }
 ],
 "metadata": {
  "kernelspec": {
   "display_name": "Python 3",
   "language": "python",
   "name": "python3"
  },
  "language_info": {
   "codemirror_mode": {
    "name": "ipython",
    "version": 3
   },
   "file_extension": ".py",
   "mimetype": "text/x-python",
   "name": "python",
   "nbconvert_exporter": "python",
   "pygments_lexer": "ipython3",
   "version": "3.7.3"
  }
 },
 "nbformat": 4,
 "nbformat_minor": 2
}
