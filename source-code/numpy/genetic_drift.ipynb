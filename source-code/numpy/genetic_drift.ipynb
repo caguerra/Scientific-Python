{
 "cells": [
  {
   "cell_type": "markdown",
   "id": "4955d8ae-54b0-40da-baa3-c1766c8fb4c0",
   "metadata": {},
   "source": [
    "# Requirements"
   ]
  },
  {
   "cell_type": "code",
   "execution_count": 1,
   "id": "6621f06c-50f7-4ebf-9aaa-a63ad29c0bb2",
   "metadata": {
    "tags": []
   },
   "outputs": [],
   "source": [
    "import itertools\n",
    "import numpy as np\n",
    "import random"
   ]
  },
  {
   "cell_type": "markdown",
   "id": "4fcaf1d4-1491-4ddf-ad90-52d6fcd9c99b",
   "metadata": {},
   "source": [
    "# Model"
   ]
  },
  {
   "cell_type": "markdown",
   "id": "3330efdd-6c7c-4ff3-955e-471012390188",
   "metadata": {},
   "source": [
    "The model consists of agents that have a fixed position in space.  They can be in several states, represented by integers.  At each time step, an agent is selected, as well as a random neighbour (von Neuman neighbourhood).  The agent's state is then changed to that of its neighbour.  The simulation ends when all agents are in the same state.\n",
    "\n",
    "The space can have any dimension, and periodic boundaries are applied.  So in 1D this is a ring, in 2D a torus, etc."
   ]
  },
  {
   "cell_type": "code",
   "execution_count": 2,
   "id": "916c196b-0cc3-40a8-9e30-0ec2bb171dd4",
   "metadata": {
    "tags": []
   },
   "outputs": [],
   "source": [
    "class Population:\n",
    "    \n",
    "    def __init__(self, shape, nr_species=2):\n",
    "        '''Create a new population\n",
    "        \n",
    "        Arguments\n",
    "        ---------\n",
    "        shape: tuple[int]\n",
    "            defines the number of dimentions and the size in each dimension\n",
    "        nr_species: int\n",
    "            the number of species to be present initially\n",
    "        '''\n",
    "        self._space = np.random.choice(nr_species, size=shape)\n",
    "        self._neighbours = self._compute_neighbours()\n",
    "        self._reshape = tuple([-1] + [1]*(self._space.ndim - 1))\n",
    "        self._index = tuple([0]*(self._space.ndim - 1))\n",
    "        self._nr_steps = None\n",
    "        \n",
    "    def _compute_neighbours(self):\n",
    "        '''Initialize the neighbour deltas for the given number of dimentions\n",
    "        '''\n",
    "        neighbours = set()\n",
    "        for coordinate in itertools.permutations([1] + [0]*(self._space.ndim - 1),\n",
    "                                                 self._space.ndim):\n",
    "            neighbours.add(coordinate)\n",
    "        for coordinate in itertools.permutations([-1] + [0]*(self._space.ndim - 1),\n",
    "                                                 self._space.ndim):\n",
    "            neighbours.add(coordinate)\n",
    "        return list(map(np.array, neighbours))\n",
    "    \n",
    "    def _step(self):\n",
    "        '''Perform an individual step in the simulation\n",
    "        \n",
    "        Randomly select an agent by coordinate, randomly select a neighbour delta,\n",
    "        if the species are different, update the selected agent, and increment the\n",
    "        number of steps.\n",
    "        '''\n",
    "        coordinate = np.empty((self._space.ndim, ), dtype=np.int32)\n",
    "        for i, dim in enumerate(self._space.shape):\n",
    "            coordinate[i] = np.random.choice(dim, size=1)\n",
    "        species = self._space[tuple(coordinate)]\n",
    "        neighbour = np.mod(coordinate + random.choice(self._neighbours), self._space.shape)\n",
    "        new_species = self._space[tuple(neighbour)]\n",
    "        if species != new_species:\n",
    "            self._space[tuple(coordinate)] = new_species\n",
    "            self._nr_steps += 1\n",
    "        \n",
    "    def run(self):\n",
    "        '''Run the simulation until all agents have the same state\n",
    "        '''\n",
    "        self._nr_steps = 0\n",
    "        while self.nr_species > 1:\n",
    "            self._step()\n",
    "    \n",
    "    @property\n",
    "    def nr_species(self):\n",
    "        '''Return the number of species\n",
    "        \n",
    "        Returs\n",
    "        ------\n",
    "        int\n",
    "            number of species\n",
    "        '''\n",
    "        species = set(x[self._index] for x in self._space.reshape(self._reshape))\n",
    "        return len(species)\n",
    "\n",
    "    @property\n",
    "    def nr_steps(self):\n",
    "        '''Return the number of steps\n",
    "        \n",
    "        Returns\n",
    "        -------\n",
    "        int\n",
    "            number of steps taken in the simulation\n",
    "        '''\n",
    "        return self._nr_steps"
   ]
  },
  {
   "cell_type": "markdown",
   "id": "727f3209-098c-47a4-b85a-2fb3ebbcae71",
   "metadata": {},
   "source": [
    "Create a new population on a $5 \\times 5$ grid with two distinct states.  Run the simulation and return the number of steps."
   ]
  },
  {
   "cell_type": "code",
   "execution_count": 3,
   "id": "91ac8411-ed32-46c1-b310-16d70cb58786",
   "metadata": {
    "tags": []
   },
   "outputs": [
    {
     "data": {
      "text/plain": [
       "89"
      ]
     },
     "execution_count": 3,
     "metadata": {},
     "output_type": "execute_result"
    }
   ],
   "source": [
    "population = Population((5, 5), 2)\n",
    "population.run()\n",
    "population.nr_steps"
   ]
  },
  {
   "cell_type": "markdown",
   "id": "559f6451-8d9e-4d46-bc73-1fb17c881a90",
   "metadata": {},
   "source": [
    "Create a new population on a $5 \\times 5 \\times 5$ grid with two distinct states.  Run the simulation and return the number of steps."
   ]
  },
  {
   "cell_type": "code",
   "execution_count": 4,
   "id": "ce22a855-0d39-437b-978b-49e48eafdac5",
   "metadata": {
    "tags": []
   },
   "outputs": [
    {
     "data": {
      "text/plain": [
       "7182"
      ]
     },
     "execution_count": 4,
     "metadata": {},
     "output_type": "execute_result"
    }
   ],
   "source": [
    "population = Population((5, 5, 5), 2)\n",
    "population.run()\n",
    "population.nr_steps"
   ]
  }
 ],
 "metadata": {
  "kernelspec": {
   "display_name": "Python 3 (ipykernel)",
   "language": "python",
   "name": "python3"
  },
  "language_info": {
   "codemirror_mode": {
    "name": "ipython",
    "version": 3
   },
   "file_extension": ".py",
   "mimetype": "text/x-python",
   "name": "python",
   "nbconvert_exporter": "python",
   "pygments_lexer": "ipython3",
   "version": "3.7.12"
  }
 },
 "nbformat": 4,
 "nbformat_minor": 5
}
