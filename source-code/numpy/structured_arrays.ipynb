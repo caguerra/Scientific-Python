{
 "cells": [
  {
   "cell_type": "markdown",
   "metadata": {},
   "source": [
    "# numpy structured arrays"
   ]
  },
  {
   "cell_type": "code",
   "execution_count": 32,
   "metadata": {
    "ExecuteTime": {
     "end_time": "2019-11-19T13:58:51.077081Z",
     "start_time": "2019-11-19T13:58:50.609733Z"
    }
   },
   "outputs": [],
   "source": [
    "import matplotlib.pyplot as plt\n",
    "%matplotlib inline\n",
    "import numpy as np"
   ]
  },
  {
   "cell_type": "markdown",
   "metadata": {},
   "source": [
    "Create a type description for a structure with two floating point fields (single precision) and a string of at most 20 characters."
   ]
  },
  {
   "cell_type": "code",
   "execution_count": 2,
   "metadata": {
    "ExecuteTime": {
     "end_time": "2019-11-19T13:15:16.932037Z",
     "start_time": "2019-11-19T13:15:16.921398Z"
    }
   },
   "outputs": [],
   "source": [
    "dtype = [\n",
    "    ('x', np.float32),\n",
    "    ('y', np.float32),\n",
    "    ('name', (np.str_, 20)),\n",
    "]"
   ]
  },
  {
   "cell_type": "markdown",
   "metadata": {},
   "source": [
    "Create an empty array of three elements with this type."
   ]
  },
  {
   "cell_type": "code",
   "execution_count": 4,
   "metadata": {
    "ExecuteTime": {
     "end_time": "2019-11-19T13:16:27.693598Z",
     "start_time": "2019-11-19T13:16:27.687139Z"
    }
   },
   "outputs": [],
   "source": [
    "data = np.empty((3,), dtype=dtype)"
   ]
  },
  {
   "cell_type": "markdown",
   "metadata": {},
   "source": [
    "Fill the array elementwise using tuples."
   ]
  },
  {
   "cell_type": "code",
   "execution_count": 33,
   "metadata": {
    "ExecuteTime": {
     "end_time": "2019-11-19T14:01:17.303383Z",
     "start_time": "2019-11-19T14:01:17.291563Z"
    }
   },
   "outputs": [],
   "source": [
    "data[0] = (1.2, 4.5, 'Alpha')\n",
    "data[1] = (2.3, 3.4, 'Gamma')\n",
    "data[2] = (3.4, 2.3, 'Beta')"
   ]
  },
  {
   "cell_type": "markdown",
   "metadata": {},
   "source": [
    "The numpy array can be viewed as a table, so that columns can be selected by name."
   ]
  },
  {
   "cell_type": "code",
   "execution_count": 7,
   "metadata": {
    "ExecuteTime": {
     "end_time": "2019-11-19T13:20:21.199632Z",
     "start_time": "2019-11-19T13:20:21.131635Z"
    }
   },
   "outputs": [
    {
     "data": {
      "text/plain": [
       "array([1.2, 2.3, 3.4], dtype=float32)"
      ]
     },
     "execution_count": 7,
     "metadata": {},
     "output_type": "execute_result"
    }
   ],
   "source": [
    "data['x']"
   ]
  },
  {
   "cell_type": "markdown",
   "metadata": {},
   "source": [
    "Rows are selected by  index, as usual for a numpy array."
   ]
  },
  {
   "cell_type": "code",
   "execution_count": 8,
   "metadata": {
    "ExecuteTime": {
     "end_time": "2019-11-19T13:25:55.662929Z",
     "start_time": "2019-11-19T13:25:55.619880Z"
    }
   },
   "outputs": [
    {
     "data": {
      "text/plain": [
       "(2.3, 3.4, 'Gamma')"
      ]
     },
     "execution_count": 8,
     "metadata": {},
     "output_type": "execute_result"
    }
   ],
   "source": [
    "data[1]"
   ]
  },
  {
   "cell_type": "markdown",
   "metadata": {},
   "source": [
    "The type of a row is the somewhat generic `np.void`, the parent class of all scalar numpy data."
   ]
  },
  {
   "cell_type": "code",
   "execution_count": 11,
   "metadata": {
    "ExecuteTime": {
     "end_time": "2019-11-19T13:28:20.350128Z",
     "start_time": "2019-11-19T13:28:20.332828Z"
    },
    "scrolled": true
   },
   "outputs": [
    {
     "data": {
      "text/plain": [
       "numpy.void"
      ]
     },
     "execution_count": 11,
     "metadata": {},
     "output_type": "execute_result"
    }
   ],
   "source": [
    "type(data[1])"
   ]
  },
  {
   "cell_type": "markdown",
   "metadata": {},
   "source": [
    "Getting a specific cell in a row and column can be done by 2D-indexing."
   ]
  },
  {
   "cell_type": "code",
   "execution_count": 10,
   "metadata": {
    "ExecuteTime": {
     "end_time": "2019-11-19T13:27:52.136065Z",
     "start_time": "2019-11-19T13:27:52.106965Z"
    }
   },
   "outputs": [
    {
     "data": {
      "text/plain": [
       "3.4"
      ]
     },
     "execution_count": 10,
     "metadata": {},
     "output_type": "execute_result"
    }
   ],
   "source": [
    "data['y'][1]"
   ]
  },
  {
   "cell_type": "markdown",
   "metadata": {},
   "source": [
    "First indexing the array, and only then the column is also possible."
   ]
  },
  {
   "cell_type": "code",
   "execution_count": 12,
   "metadata": {
    "ExecuteTime": {
     "end_time": "2019-11-19T13:29:13.068742Z",
     "start_time": "2019-11-19T13:29:13.054954Z"
    }
   },
   "outputs": [
    {
     "data": {
      "text/plain": [
       "3.4"
      ]
     },
     "execution_count": 12,
     "metadata": {},
     "output_type": "execute_result"
    }
   ],
   "source": [
    "data[1]['y']"
   ]
  },
  {
   "cell_type": "markdown",
   "metadata": {},
   "source": [
    "This approach makes it very convenient to plot data by specifying column names."
   ]
  },
  {
   "cell_type": "code",
   "execution_count": 39,
   "metadata": {
    "ExecuteTime": {
     "end_time": "2019-11-19T14:06:44.775853Z",
     "start_time": "2019-11-19T14:06:43.967827Z"
    }
   },
   "outputs": [
    {
     "data": {
      "image/png": "[encoded data removed]",
      "text/plain": [
       "<Figure size 432x288 with 1 Axes>"
      ]
     },
     "metadata": {
      "needs_background": "light"
     },
     "output_type": "display_data"
    }
   ],
   "source": [
    "_ = plt.plot(data['x'], data['y'], 'o')\n",
    "_ = plt.xlabel('$x$')\n",
    "_ = plt.ylabel('$y$')\n",
    "for x, y, name in data:\n",
    "    _ = plt.annotate(name, (x + 0.05, y))"
   ]
  },
  {
   "cell_type": "markdown",
   "metadata": {},
   "source": [
    "As you would expect, selecting columns or rows produces views."
   ]
  },
  {
   "cell_type": "code",
   "execution_count": 16,
   "metadata": {
    "ExecuteTime": {
     "end_time": "2019-11-19T13:44:54.582984Z",
     "start_time": "2019-11-19T13:44:54.570616Z"
    }
   },
   "outputs": [],
   "source": [
    "r = data[1]"
   ]
  },
  {
   "cell_type": "code",
   "execution_count": 17,
   "metadata": {
    "ExecuteTime": {
     "end_time": "2019-11-19T13:45:10.397260Z",
     "start_time": "2019-11-19T13:45:10.390034Z"
    }
   },
   "outputs": [],
   "source": [
    "r['x'] = -2.5"
   ]
  },
  {
   "cell_type": "code",
   "execution_count": 18,
   "metadata": {
    "ExecuteTime": {
     "end_time": "2019-11-19T13:45:14.516667Z",
     "start_time": "2019-11-19T13:45:14.505117Z"
    }
   },
   "outputs": [
    {
     "data": {
      "text/plain": [
       "array([( 1.2, 4.5, 'Alpha'), (-2.5, 3.4, 'Gamma'), ( 3.4, 2.3, 'Beta')],\n",
       "      dtype=[('x', '<f4'), ('y', '<f4'), ('name', '<U20')])"
      ]
     },
     "execution_count": 18,
     "metadata": {},
     "output_type": "execute_result"
    }
   ],
   "source": [
    "data"
   ]
  },
  {
   "cell_type": "code",
   "execution_count": 19,
   "metadata": {
    "ExecuteTime": {
     "end_time": "2019-11-19T13:45:34.121303Z",
     "start_time": "2019-11-19T13:45:34.113557Z"
    }
   },
   "outputs": [],
   "source": [
    "c = data['name']"
   ]
  },
  {
   "cell_type": "code",
   "execution_count": 20,
   "metadata": {
    "ExecuteTime": {
     "end_time": "2019-11-19T13:45:45.030431Z",
     "start_time": "2019-11-19T13:45:45.025275Z"
    }
   },
   "outputs": [],
   "source": [
    "c[2] = 'Delta'"
   ]
  },
  {
   "cell_type": "code",
   "execution_count": 21,
   "metadata": {
    "ExecuteTime": {
     "end_time": "2019-11-19T13:45:49.068496Z",
     "start_time": "2019-11-19T13:45:49.058472Z"
    },
    "scrolled": true
   },
   "outputs": [
    {
     "data": {
      "text/plain": [
       "array([( 1.2, 4.5, 'Alpha'), (-2.5, 3.4, 'Gamma'), ( 3.4, 2.3, 'Delta')],\n",
       "      dtype=[('x', '<f4'), ('y', '<f4'), ('name', '<U20')])"
      ]
     },
     "execution_count": 21,
     "metadata": {},
     "output_type": "execute_result"
    }
   ],
   "source": [
    "data"
   ]
  },
  {
   "cell_type": "markdown",
   "metadata": {},
   "source": [
    "It is also possible to select multiple columns using a list of column names."
   ]
  },
  {
   "cell_type": "code",
   "execution_count": 25,
   "metadata": {
    "ExecuteTime": {
     "end_time": "2019-11-19T13:53:44.713276Z",
     "start_time": "2019-11-19T13:53:44.702700Z"
    }
   },
   "outputs": [
    {
     "data": {
      "text/plain": [
       "array([( 1.2, 'Alpha'), (-2.5, 'Gamma'), ( 3.4, 'Delta')],\n",
       "      dtype={'names':['x','name'], 'formats':['<f4','<U20'], 'offsets':[0,8], 'itemsize':88})"
      ]
     },
     "execution_count": 25,
     "metadata": {},
     "output_type": "execute_result"
    }
   ],
   "source": [
    "data[['x', 'name']]"
   ]
  },
  {
   "cell_type": "markdown",
   "metadata": {},
   "source": [
    "Assigning a string that is longer than the one defined in the data structure does not result in an error, but the string in the array will be truncated to the maximum size."
   ]
  },
  {
   "cell_type": "code",
   "execution_count": 27,
   "metadata": {
    "ExecuteTime": {
     "end_time": "2019-11-19T13:56:06.321346Z",
     "start_time": "2019-11-19T13:56:06.313680Z"
    }
   },
   "outputs": [],
   "source": [
    "data[0]['name'] = 'A'*50"
   ]
  },
  {
   "cell_type": "code",
   "execution_count": 31,
   "metadata": {
    "ExecuteTime": {
     "end_time": "2019-11-19T13:56:39.170086Z",
     "start_time": "2019-11-19T13:56:39.160347Z"
    }
   },
   "outputs": [
    {
     "data": {
      "text/plain": [
       "20"
      ]
     },
     "execution_count": 31,
     "metadata": {},
     "output_type": "execute_result"
    }
   ],
   "source": [
    "len(data[0]['name'])"
   ]
  }
 ],
 "metadata": {
  "kernelspec": {
   "display_name": "Python 3",
   "language": "python",
   "name": "python3"
  },
  "language_info": {
   "codemirror_mode": {
    "name": "ipython",
    "version": 3
   },
   "file_extension": ".py",
   "mimetype": "text/x-python",
   "name": "python",
   "nbconvert_exporter": "python",
   "pygments_lexer": "ipython3",
   "version": "3.7.5"
  }
 },
 "nbformat": 4,
 "nbformat_minor": 2
}
