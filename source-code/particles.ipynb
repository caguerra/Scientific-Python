{
 "cells": [
  {
   "cell_type": "code",
   "execution_count": 1,
   "id": "bb90b0ea-99c1-42ca-8d4c-00e0efbcaa55",
   "metadata": {},
   "outputs": [],
   "source": [
    "import copy\n",
    "import random\n",
    "import math\n",
    "import warnings"
   ]
  },
  {
   "cell_type": "code",
   "execution_count": 2,
   "id": "3dbd2353-e072-4edb-a63d-394cbf466b9b",
   "metadata": {},
   "outputs": [],
   "source": [
    "class Particle:\n",
    "    \n",
    "    def __init__(self, mass, radius):\n",
    "        self._m = float(mass)\n",
    "        self._radius = float(radius)\n",
    "        self._pos = None\n",
    "        self._velocity = None\n",
    "        \n",
    "    @property\n",
    "    def m(self):\n",
    "        return self._m\n",
    "    \n",
    "    @property\n",
    "    def R(self):\n",
    "        return self._radius\n",
    "    \n",
    "    @property\n",
    "    def pos(self):\n",
    "        return self._pos\n",
    "    \n",
    "    @pos.setter\n",
    "    def pos(self, new_pos):\n",
    "        self._pos = new_pos\n",
    "        \n",
    "    @property\n",
    "    def v(self):\n",
    "        return self._velocity\n",
    "    \n",
    "    @v.setter\n",
    "    def v(self, new_v):\n",
    "        self._velocity = new_v\n",
    "        \n",
    "    def __repr__(self):\n",
    "        repr = ''\n",
    "        repr += f'mass   = {self.m}'\n",
    "        repr += f'\\nradius = {self.R}'\n",
    "        repr += f'\\npos    = {self.pos}'\n",
    "        repr += f'\\nv      = {self.v}'\n",
    "        return repr"
   ]
  },
  {
   "cell_type": "code",
   "execution_count": 3,
   "id": "c12d9a8e-7ff9-45c7-b85c-3f7ed7a16ade",
   "metadata": {},
   "outputs": [],
   "source": [
    "def distance(p1, p2):\n",
    "    return math.sqrt(sum(map(lambda c1, c2: (c1 - c2)**2,\n",
    "                             zip(p1, p2))))"
   ]
  },
  {
   "cell_type": "code",
   "execution_count": 5,
   "id": "0a094417-079c-4f7a-8c6f-838d23a93507",
   "metadata": {},
   "outputs": [],
   "source": [
    "p1, p2 = Particle(1.0, 0.5), Particle(2.0, 1.0)"
   ]
  },
  {
   "cell_type": "code",
   "execution_count": 6,
   "id": "fe46f9af-e48e-4a0e-ae9e-198982faabb7",
   "metadata": {},
   "outputs": [],
   "source": [
    "p1.pos = 1.0, 0.5"
   ]
  },
  {
   "cell_type": "code",
   "execution_count": 54,
   "id": "0ec9a8b4-0adf-4bfc-81e8-4ed52636475f",
   "metadata": {},
   "outputs": [],
   "source": [
    "class Mover:\n",
    "    \n",
    "    def __init__(self, particles, delta_t, t_max):\n",
    "        self._particles = particles\n",
    "        self._t = 0.0\n",
    "        self._delta_t = delta_t\n",
    "        self._t_max = t_max\n",
    "        self._actions = []\n",
    "\n",
    "    @staticmethod\n",
    "    def _distance(p1, p2):\n",
    "        return math.sqrt(sum(map(lambda c1, c2: (c1 - c2)**2, zip(p1.pos, p2.pos))\n",
    "    def compute_force(self, particle):\n",
    "        for other in self._particles:\n",
    "            if other is not particle:\n",
    "                if \n",
    "    def move(self):\n",
    "        self._t += self._delta_t\n",
    "        for particle in self._particles:\n",
    "            particle.pos = tuple(map(lambda x: x[0] + x[1]*self._delta_t,\n",
    "                                     zip(particle.pos, particle.v)))\n",
    "    \n",
    "    def run(self, actions=None):\n",
    "        if actions is not None:\n",
    "            self._actions = actions\n",
    "        while self._t <= self._t_max:\n",
    "            self.move()\n",
    "            for action in self._actions:\n",
    "                action(self)"
   ]
  },
  {
   "cell_type": "code",
   "execution_count": 55,
   "id": "32bd50c4-563f-4775-aa9b-58a15d21604f",
   "metadata": {},
   "outputs": [],
   "source": [
    "def init_particles(n, dim=2):\n",
    "    particles = []\n",
    "    for _ in range(n):\n",
    "        radius = 0.5 + random.random()\n",
    "        mass = radius**dim\n",
    "        particle = Particle(mass=mass, radius=radius)\n",
    "        particle.pos = tuple(random.gauss(0.0, 1.0) for _ in range(dim))\n",
    "        particle.v = tuple(random.gauss(0.0, 0.1) for _ in range(dim))\n",
    "        particles.append(particle)\n",
    "    return particles"
   ]
  },
  {
   "cell_type": "code",
   "execution_count": 56,
   "id": "f73e1251-fefe-4a68-9f0b-1e89612ea628",
   "metadata": {},
   "outputs": [],
   "source": [
    "particles = init_particles(2)"
   ]
  },
  {
   "cell_type": "code",
   "execution_count": 57,
   "id": "fc424c1f-06a3-4f1f-9b53-cb80455312c9",
   "metadata": {},
   "outputs": [
    {
     "data": {
      "text/plain": [
       "[mass   = 0.2642777855273799\n",
       " radius = 0.5140795517499017\n",
       " pos    = (-0.5574989602551387, -1.071948257914194)\n",
       " v      = (0.035360447403527305, 0.02313019233790529),\n",
       " mass   = 1.6892314061218123\n",
       " radius = 1.2997043533518737\n",
       " pos    = (-0.4187511229708833, -0.10597243535606966)\n",
       " v      = (0.0358806997234216, -0.1341917753708876)]"
      ]
     },
     "execution_count": 57,
     "metadata": {},
     "output_type": "execute_result"
    }
   ],
   "source": [
    "particles"
   ]
  },
  {
   "cell_type": "code",
   "execution_count": 58,
   "id": "0202537e-08c4-4c7d-b017-0fec06914ffb",
   "metadata": {},
   "outputs": [],
   "source": [
    "simulation = Mover(particles=particles, delta_t=0.01, t_max=1.0)"
   ]
  },
  {
   "cell_type": "code",
   "execution_count": 59,
   "id": "8ae89ace-598c-48ec-af6b-0c1648726e55",
   "metadata": {},
   "outputs": [],
   "source": [
    "simulation.run()"
   ]
  },
  {
   "cell_type": "code",
   "execution_count": 60,
   "id": "fb467f38-b067-4685-b920-d27c75b941a8",
   "metadata": {},
   "outputs": [
    {
     "data": {
      "text/plain": [
       "[mass   = 0.2642777855273799\n",
       " radius = 0.5140795517499017\n",
       " pos    = (-0.5221385128516068, -1.0488180655762882)\n",
       " v      = (0.035360447403527305, 0.02313019233790529),\n",
       " mass   = 1.6892314061218123\n",
       " radius = 1.2997043533518737\n",
       " pos    = (-0.3828704232474604, -0.2401642107269568)\n",
       " v      = (0.0358806997234216, -0.1341917753708876)]"
      ]
     },
     "execution_count": 60,
     "metadata": {},
     "output_type": "execute_result"
    }
   ],
   "source": [
    "particles"
   ]
  },
  {
   "cell_type": "code",
   "execution_count": 69,
   "id": "12b1903d-c7c5-4cd7-b844-2b33a393cd6d",
   "metadata": {},
   "outputs": [],
   "source": [
    "def verify(nr_particles=2, dim=2, delta_t=0.01, t_max=1.0):\n",
    "    particles = init_particles(nr_particles, dim=dim)\n",
    "    orig_particles = copy.deepcopy(particles)\n",
    "    simulation = Mover(particles=particles, delta_t=delta_t, t_max=t_max)\n",
    "    simulation.run()\n",
    "    for orig_particle, particle in zip(orig_particles, particles):\n",
    "        delta_pos = math.sqrt(sum(map(lambda x: (x[0] - x[1])**2,\n",
    "                                      zip(orig_particle.pos, particle.pos))))\n",
    "        v = math.sqrt(sum(map(lambda x: x**2, orig_particle.v)))\n",
    "        if not math.isclose(v*t_max, delta_pos):\n",
    "            warnings.warn('problem')"
   ]
  },
  {
   "cell_type": "code",
   "execution_count": 70,
   "id": "0207ca82-9d0b-4262-970e-d59e5b0c4994",
   "metadata": {},
   "outputs": [],
   "source": [
    "verify(10, dim=3)"
   ]
  },
  {
   "cell_type": "code",
   "execution_count": null,
   "id": "4e068956-0c64-430d-8fdc-c88f24361566",
   "metadata": {},
   "outputs": [],
   "source": []
  }
 ],
 "metadata": {
  "kernelspec": {
   "display_name": "Python 3 (ipykernel)",
   "language": "python",
   "name": "python3"
  },
  "language_info": {
   "codemirror_mode": {
    "name": "ipython",
    "version": 3
   },
   "file_extension": ".py",
   "mimetype": "text/x-python",
   "name": "python",
   "nbconvert_exporter": "python",
   "pygments_lexer": "ipython3",
   "version": "3.10.9"
  }
 },
 "nbformat": 4,
 "nbformat_minor": 5
}
