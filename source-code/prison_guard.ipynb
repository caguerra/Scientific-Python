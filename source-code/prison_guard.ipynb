{
 "cells": [
  {
   "cell_type": "markdown",
   "id": "02e353ab-f21c-4064-8a3b-ff1052f5bf3e",
   "metadata": {},
   "source": [
    "# Requirements"
   ]
  },
  {
   "cell_type": "code",
   "execution_count": 8,
   "id": "79bb0672-a671-4526-ac2f-4fdd1f027e06",
   "metadata": {},
   "outputs": [],
   "source": [
    "from collections import namedtuple\n",
    "import matplotlib.pyplot as plt\n",
    "import numpy as np"
   ]
  },
  {
   "cell_type": "markdown",
   "id": "c3829bfd-2e96-40c2-ac0f-7f84411559de",
   "metadata": {},
   "source": [
    "# Shapes"
   ]
  },
  {
   "cell_type": "markdown",
   "id": "b2328fb6-b2ea-432c-90e7-0166233b3d78",
   "metadata": {},
   "source": [
    "Simple geometric shapes are defined as `namedtuple`s, e.g., a square and a circle."
   ]
  },
  {
   "cell_type": "code",
   "execution_count": 2,
   "id": "eae66591-12aa-4a42-88d6-b635706c7b14",
   "metadata": {},
   "outputs": [],
   "source": [
    "Square = namedtuple('square', ['x', 'y', 'delta_x', 'delta_y'])"
   ]
  },
  {
   "cell_type": "code",
   "execution_count": 3,
   "id": "c18f72e8-a7d5-4665-b6ba-146309902e10",
   "metadata": {},
   "outputs": [],
   "source": [
    "Circle = namedtuple('circle', ['x', 'y', 'r'])"
   ]
  },
  {
   "cell_type": "markdown",
   "id": "43bfe6f9-9d5f-4384-b1d4-a0596587e193",
   "metadata": {},
   "source": [
    "# The prison"
   ]
  },
  {
   "cell_type": "markdown",
   "id": "ac3541be-5831-4c77-8a17-4698c4d65ff1",
   "metadata": {},
   "source": [
    "The prison has outer walls that form a square, and a square building that is situated in the middle of the prison grounds.  The length of the walls of the outer walls is 12, that of the building's walls is 4."
   ]
  },
  {
   "cell_type": "code",
   "execution_count": 17,
   "id": "d59e7537-f7e7-416e-85b3-06799f430fe6",
   "metadata": {},
   "outputs": [],
   "source": [
    "walls = Square(x=0.0, y=0.0, delta_x=12.0, delta_y=12.0)"
   ]
  },
  {
   "cell_type": "code",
   "execution_count": 18,
   "id": "eef149cb-c36c-4ccd-8d37-9ca59eb04751",
   "metadata": {},
   "outputs": [],
   "source": [
    "building = Square(x=4.0, y=4.0, delta_x=4.0, delta_y=4.0)"
   ]
  },
  {
   "cell_type": "markdown",
   "id": "b536a9d8-869b-4aae-baed-ef1d10195235",
   "metadata": {},
   "source": [
    "# Geometries"
   ]
  },
  {
   "cell_type": "markdown",
   "id": "c3f699cc-d20e-4eed-a035-3798405afd60",
   "metadata": {},
   "source": [
    "A geometry is defined as a function that takes $x$ and $y$ coordinates as parameters, and that returns `True` if that point is free, i.e., it is inside of the outer walls, but not in the building on the yard. "
   ]
  },
  {
   "cell_type": "code",
   "execution_count": 21,
   "id": "ff918b9a-32ce-4fa7-b5aa-7247f482ff66",
   "metadata": {},
   "outputs": [],
   "source": [
    "def create_square_in_square_geometry(outer_square, inner_square):\n",
    "    def is_free_coordinate(x, y):\n",
    "        is_in_outer_square = (outer_square.x <= x <= outer_square.x + outer_square.delta_x and\n",
    "                              outer_square.y <= y <= outer_square.y + outer_square.delta_y)\n",
    "        is_in_inner_square = (inner_square.x <= x <= inner_square.x + inner_square.delta_x and\n",
    "                              inner_square.y <= y <= inner_square.y + inner_square.delta_y)\n",
    "        return is_in_outer_square and not is_in_inner_square\n",
    "    return is_free_coordinate"
   ]
  },
  {
   "cell_type": "code",
   "execution_count": 22,
   "id": "46d974a1-49ef-4f9f-8329-e9055856ffc8",
   "metadata": {},
   "outputs": [],
   "source": [
    "geometry = create_square_in_square_geometry(walls, building)"
   ]
  },
  {
   "cell_type": "markdown",
   "id": "e552a58a-b254-4f62-8d66-3fe0e97ee5d5",
   "metadata": {},
   "source": [
    "For debugging purposes, it is convenient to have a function that displays a geometry."
   ]
  },
  {
   "cell_type": "code",
   "execution_count": 12,
   "id": "737bb2df-bf62-43ba-ac30-67e5176470d2",
   "metadata": {},
   "outputs": [],
   "source": [
    "def show_geometry(geometry, square, resolution=101):\n",
    "    x = np.linspace(square.x, square.delta_x, resolution)\n",
    "    y = np.linspace(square.y, square.delta_y, resolution)\n",
    "    X, Y = np.meshgrid(x, y)\n",
    "    shape = np.vectorize(geometry)(X, Y)\n",
    "    plt.imshow(shape)"
   ]
  },
  {
   "cell_type": "code",
   "execution_count": 14,
   "id": "9fc0868a-425a-4e34-9a4c-59f13f7c9feb",
   "metadata": {},
   "outputs": [
    {
     "data": {
      "image/png": "[encoded data removed]",
      "text/plain": [
       "<Figure size 640x480 with 1 Axes>"
      ]
     },
     "metadata": {},
     "output_type": "display_data"
    }
   ],
   "source": [
    "show_geometry(geometry, Square(x=-1.0, y=-1.0, delta_x=13.0, delta_y=13.0))"
   ]
  },
  {
   "cell_type": "markdown",
   "id": "d9537040-0e3c-472c-a5f8-65406b8c2973",
   "metadata": {},
   "source": [
    "# The guard"
   ]
  },
  {
   "cell_type": "markdown",
   "id": "a832f655-283c-4409-9c6e-5bdb937054b1",
   "metadata": {},
   "source": [
    "The question is how much of the prison grounds a guard can see from a given position $x$, $y$.  First, we define a trace function that will compute the distance a guard can see when standing at $x$, $y$, looking in direction $\\alpha$, given the geometry."
   ]
  },
  {
   "cell_type": "code",
   "execution_count": 15,
   "id": "47ece0e7-d7b6-4b49-bb52-ef458371c3e8",
   "metadata": {},
   "outputs": [],
   "source": [
    "def trace(x, y, delta, alpha, geometry):\n",
    "    length = 0.0\n",
    "    delta_x, delta_y = delta*np.cos(alpha), delta*np.sin(alpha)\n",
    "    while geometry(x + delta_x, y + delta_y):\n",
    "        length += delta\n",
    "        x += delta_x\n",
    "        y += delta_y\n",
    "    return length"
   ]
  },
  {
   "cell_type": "markdown",
   "id": "4d6ec4aa-43de-4d16-8526-dae6e1233a5b",
   "metadata": {},
   "source": [
    "When the guard stands in the corner, and looks towards the middle of the prison, facing the corner of the building, the distance should be $\\sqrt{32}$."
   ]
  },
  {
   "cell_type": "code",
   "execution_count": 19,
   "id": "153a535d-6531-4b7a-aebd-cc1f1e662014",
   "metadata": {},
   "outputs": [
    {
     "data": {
      "text/plain": [
       "5.6560000000002235"
      ]
     },
     "execution_count": 19,
     "metadata": {},
     "output_type": "execute_result"
    }
   ],
   "source": [
    "trace(0.0, 0.0, 0.001, np.pi/4.0, geometry)"
   ]
  },
  {
   "cell_type": "code",
   "execution_count": 20,
   "id": "9c8b72b2-dca1-4eb2-8617-4471a904513d",
   "metadata": {},
   "outputs": [
    {
     "data": {
      "text/plain": [
       "5.656854249492381"
      ]
     },
     "execution_count": 20,
     "metadata": {},
     "output_type": "execute_result"
    }
   ],
   "source": [
    "np.sqrt(32.0)"
   ]
  },
  {
   "cell_type": "markdown",
   "id": "bad42947-31a8-495e-a24d-392353a3a9de",
   "metadata": {},
   "source": [
    "When the guard stands in the corner, and looks outward, he faces the wall, so the distance should be 0."
   ]
  },
  {
   "cell_type": "code",
   "execution_count": 16,
   "id": "7aaa828b-e908-4729-be9f-1ac462cfa5c2",
   "metadata": {
    "scrolled": true
   },
   "outputs": [
    {
     "data": {
      "text/plain": [
       "0.0"
      ]
     },
     "execution_count": 16,
     "metadata": {},
     "output_type": "execute_result"
    }
   ],
   "source": [
    "trace(0.0, 0.0, 0.001, -np.pi/4.0, geometry)"
   ]
  },
  {
   "cell_type": "markdown",
   "id": "f3f9728e-e375-4c38-a1e9-7d00633b2f7e",
   "metadata": {},
   "source": [
    "The area visible to the guard can now be computed as the sum of the areas of small triangles.  The triangles are generated by letting the guard look at an angle $\\alpha$ with a field of vision of $\\Delta \\alpha$.  The area of such a triangle is approximately $R(\\alpha)^2 \\Delta\\alpha/2$, where $R(\\alpha)$ is the distance the guard can see in direction $\\alpha$."
   ]
  },
  {
   "cell_type": "code",
   "execution_count": 24,
   "id": "3481d5ed-2ba4-46f9-bc97-b4c6d3258e55",
   "metadata": {},
   "outputs": [],
   "source": [
    "def visible_area(x, y, geometry, delta_alpha, delta):\n",
    "    if not geometry(x, y):\n",
    "        return 0.0\n",
    "    area = 0.0\n",
    "    for alpha in np.arange(0.0, 2.0*np.pi, delta_alpha):\n",
    "        area += trace(x, y, delta, alpha, geometry)**2\n",
    "    return 0.5*area*delta_alpha"
   ]
  },
  {
   "cell_type": "code",
   "execution_count": 25,
   "id": "4ab9b9a9-107c-465a-a1c5-26c487d5aaab",
   "metadata": {},
   "outputs": [
    {
     "data": {
      "text/plain": [
       "87.98183054698586"
      ]
     },
     "execution_count": 25,
     "metadata": {},
     "output_type": "execute_result"
    }
   ],
   "source": [
    "visible_area(0.0, 0.0, geometry, 0.001, 0.001)"
   ]
  },
  {
   "cell_type": "code",
   "execution_count": 36,
   "id": "e03c4083-932c-47b4-afd3-92ef10a5db4d",
   "metadata": {},
   "outputs": [
    {
     "data": {
      "text/plain": [
       "88.0004339404974"
      ]
     },
     "execution_count": 36,
     "metadata": {},
     "output_type": "execute_result"
    }
   ],
   "source": [
    "visible_area(0.0, 4.0, geometry, 0.001, 0.001)"
   ]
  },
  {
   "cell_type": "markdown",
   "id": "ce4b4ea1-81c6-4338-bb16-d08959bc6524",
   "metadata": {},
   "source": [
    "# Best and worst position"
   ]
  },
  {
   "cell_type": "markdown",
   "id": "81349e76-f778-4384-8902-0496918d016b",
   "metadata": {},
   "source": [
    "Where should the guard stand when his back is to one of the walls to see\n",
    "  * the largest area, and\n",
    "  * the smallest area?"
   ]
  },
  {
   "cell_type": "code",
   "execution_count": 28,
   "id": "a1d5ce2c-b3f6-45df-9ebd-467a4721cdbc",
   "metadata": {},
   "outputs": [],
   "source": [
    "xs, areas = [], []\n",
    "for x in np.arange(0.0, 6.0, 0.05):\n",
    "    xs.append(x)\n",
    "    areas.append(visible_area(x, 0.0, geometry, 0.001, 0.001))"
   ]
  },
  {
   "cell_type": "code",
   "execution_count": 29,
   "id": "ebfc8c60-6f20-4552-816b-2de2d1bfe5b1",
   "metadata": {},
   "outputs": [
    {
     "data": {
      "image/png": "[encoded data removed]",
      "text/plain": [
       "<Figure size 640x480 with 1 Axes>"
      ]
     },
     "metadata": {},
     "output_type": "display_data"
    }
   ],
   "source": [
    "plt.plot(xs, areas);"
   ]
  },
  {
   "cell_type": "markdown",
   "id": "5a8227a5-32fb-4d74-ba2a-9ebd2efae469",
   "metadata": {},
   "source": [
    "The guard can survey the largest area either in the corner, or by opposite the corner of the building.  He sees the smallest area overal when facing the middle of the building, but also has suboptimal view around $x \\approx 2.5$."
   ]
  }
 ],
 "metadata": {
  "kernelspec": {
   "display_name": "Python 3 (ipykernel)",
   "language": "python",
   "name": "python3"
  },
  "language_info": {
   "codemirror_mode": {
    "name": "ipython",
    "version": 3
   },
   "file_extension": ".py",
   "mimetype": "text/x-python",
   "name": "python",
   "nbconvert_exporter": "python",
   "pygments_lexer": "ipython3",
   "version": "3.12.2"
  }
 },
 "nbformat": 4,
 "nbformat_minor": 5
}
