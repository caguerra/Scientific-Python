{
 "cells": [
  {
   "cell_type": "markdown",
   "metadata": {},
   "source": [
    "See [Create Your Own Active Matter Simulation (With Python)](https://medium.com/swlh/create-your-own-active-matter-kjsimulation-with-python-76fce4a53b6f) by Philip Mocz."
   ]
  },
  {
   "cell_type": "code",
   "execution_count": 6,
   "metadata": {},
   "outputs": [],
   "source": [
    "import matplotlib.pyplot as plt\n",
    "%matplotlib inline\n",
    "import numpy as np"
   ]
  },
  {
   "cell_type": "code",
   "execution_count": 9,
   "metadata": {},
   "outputs": [],
   "source": [
    "class Swarm:\n",
    "    \n",
    "    def __init__(self, N, L):\n",
    "        self._L = L\n",
    "        self._x = np.random.uniform(low=0.0, high=L, size=(N, ))\n",
    "        self._y = np.random.uniform(low=0.0, high=L, size=(N, ))\n",
    "        self._theta = np.random.uniform(low=0.0, high=2*np.pi, size=(N,))\n",
    "    \n",
    "    @property\n",
    "    def N(self):\n",
    "        return len(self._x)\n",
    "\n",
    "    @property\n",
    "    def x(self):\n",
    "        return self._x.copy()\n",
    "    \n",
    "    @property\n",
    "    def y(self):\n",
    "        return self._y.copy()\n",
    "    \n",
    "    @property\n",
    "    def theta(self):\n",
    "        return self._theta.copy()\n",
    "    \n",
    "    def move(self, v0, R, eta):\n",
    "        new_theta = np.zeros(self.N)\n",
    "        for i in range(self.N):\n",
    "            nr_neighbours = 0\n",
    "            for j in range(self.N):\n",
    "                if (self._x[i] - self._x[j])**2 + (self._y[i] - self._y[j])**2 < R**2:\n",
    "                    new_theta[i] += self._theta[j]\n",
    "                    nr_neighbours += 1\n",
    "            new_theta[i] /= nr_neighbours\n",
    "            self._x[i] += v0*np.cos(self._theta[i])\n",
    "            self._y[i] += v0*np.sin(self._theta[i])\n",
    "        self._theta = new_theta + np.random.uniform(-0.5*eta, 0.5*eta, size=(self.N,))            "
   ]
  },
  {
   "cell_type": "code",
   "execution_count": 12,
   "metadata": {},
   "outputs": [],
   "source": [
    "def plot_swarm(swarm):\n",
    "    plt.plot(swarm.x, swarm.y, '.')"
   ]
  },
  {
   "cell_type": "code",
   "execution_count": 10,
   "metadata": {},
   "outputs": [],
   "source": [
    "swarm = Swarm(10, 1.0)"
   ]
  },
  {
   "cell_type": "code",
   "execution_count": 13,
   "metadata": {},
   "outputs": [
    {
     "data": {
      "image/png": "[encoded data removed]",
      "text/plain": [
       "<Figure size 432x288 with 1 Axes>"
      ]
     },
     "metadata": {
      "needs_background": "light"
     },
     "output_type": "display_data"
    }
   ],
   "source": [
    "plot_swarm(swarm)"
   ]
  },
  {
   "cell_type": "code",
   "execution_count": null,
   "metadata": {},
   "outputs": [],
   "source": []
  }
 ],
 "metadata": {
  "kernelspec": {
   "display_name": "Python 3",
   "language": "python",
   "name": "python3"
  },
  "language_info": {
   "codemirror_mode": {
    "name": "ipython",
    "version": 3
   },
   "file_extension": ".py",
   "mimetype": "text/x-python",
   "name": "python",
   "nbconvert_exporter": "python",
   "pygments_lexer": "ipython3",
   "version": "3.7.9"
  }
 },
 "nbformat": 4,
 "nbformat_minor": 4
}
