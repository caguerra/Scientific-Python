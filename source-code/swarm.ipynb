{
 "cells": [
  {
   "cell_type": "markdown",
   "metadata": {},
   "source": [
    "See [Create Your Own Active Matter Simulation (With Python)](https://medium.com/swlh/create-your-own-active-matter-simulation-with-python-76fce4a53b6f) by Philip Mocz."
   ]
  },
  {
   "cell_type": "code",
   "execution_count": 1,
   "metadata": {},
   "outputs": [],
   "source": [
    "import numpy as np"
   ]
  },
  {
   "cell_type": "code",
   "execution_count": null,
   "metadata": {},
   "outputs": [],
   "source": [
    "class Swarm:\n",
    "    \n",
    "    def __init__(N, L):\n",
    "        self._L = L\n",
    "        self._x = np.random.uniform(low=0.0, high=L, size=(N, ))\n",
    "        self._y = np.random.uniform(low=0.0, high=L, size=(N, ))\n",
    "        self._theta = np.random.uniform(low=0.0, high=2*np.pi, size=(N,))\n",
    "        self._v0 = 1.0\n",
    "        self._R = L/10.0\n",
    "        self._eta = 0.2\n",
    "    \n",
    "    @property\n",
    "    def N(self):\n",
    "        return len(self._x)\n",
    "    \n",
    "    def move(self, v0, R, eta):\n",
    "        new_theta = np.zeros(self.N)\n",
    "        for i in range(self.N):\n",
    "            nr_neighbours = 0\n",
    "            for j in range(self.N):\n",
    "                if (self._x[i] - self._x[j])**2 + (self._y[i] - self._y[j])**2 < self._R**2:\n",
    "                    new_theta[ii += self._theta[j]\n",
    "                    nr_neighbours += 1\n",
    "            new_theta[i] /= nr_neighbours\n",
    "            self._x[i] += self._v0*cos(self._theta[i])\n",
    "            self._y[i] += self._v0*sin(self._theta[i])\n",
    "        self._theta = new-theta + np.random.uniform()\n",
    "                            "
   ]
  }
 ],
 "metadata": {
  "kernelspec": {
   "display_name": "Python 3",
   "language": "python",
   "name": "python3"
  },
  "language_info": {
   "codemirror_mode": {
    "name": "ipython",
    "version": 3
   },
   "file_extension": ".py",
   "mimetype": "text/x-python",
   "name": "python",
   "nbconvert_exporter": "python",
   "pygments_lexer": "ipython3",
   "version": "3.7.9"
  }
 },
 "nbformat": 4,
 "nbformat_minor": 4
}
