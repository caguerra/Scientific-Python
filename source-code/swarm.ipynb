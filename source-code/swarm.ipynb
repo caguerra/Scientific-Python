{
 "cells": [
  {
   "cell_type": "markdown",
   "metadata": {},
   "source": [
    "See [Create Your Own Active Matter Simulation (With Python)](https://medium.com/swlh/create-your-own-active-matter-kjsimulation-with-python-76fce4a53b6f) by Philip Mocz."
   ]
  },
  {
   "cell_type": "code",
   "execution_count": 54,
   "metadata": {},
   "outputs": [],
   "source": [
    "import itertools\n",
    "import matplotlib.pyplot as plt\n",
    "%matplotlib inline\n",
    "import numpy as np"
   ]
  },
  {
   "cell_type": "code",
   "execution_count": 121,
   "metadata": {},
   "outputs": [],
   "source": [
    "class Swarm:\n",
    "    \n",
    "    def __init__(self, N, L):\n",
    "        self._L = L\n",
    "        \n",
    "        self._x = np.random.uniform(low=0.0, high=L, size=(N, ))\n",
    "        self._y = np.random.uniform(low=0.0, high=L, size=(N, ))\n",
    "        self._theta = np.random.uniform(low=0.0, high=2*np.pi, size=(N,))\n",
    "    \n",
    "    @property\n",
    "    def L(self):\n",
    "        return self._L\n",
    "    \n",
    "    @property\n",
    "    def N(self):\n",
    "        return len(self._x)\n",
    "\n",
    "    @property\n",
    "    def x(self):\n",
    "        return self._x.copy()\n",
    "    \n",
    "    @property\n",
    "    def y(self):\n",
    "        return self._y.copy()\n",
    "    \n",
    "    @property\n",
    "    def theta(self):\n",
    "        return self._theta.copy()\n",
    "    \n",
    "    def create_ghost_particles(self):\n",
    "        x_coords = (self._x - self._L, self._x, self._x + self._L)\n",
    "        y_coords = (self._y - self._L, self._y, self._y + self._L)\n",
    "        x_domain, y_domain = [], []\n",
    "        for x, y in itertools.product(x_coords, y_coords):\n",
    "            x_domain.append(x)\n",
    "            y_domain.append(y)\n",
    "        x_ghost = np.concatenate(x_domain)\n",
    "        y_ghost = np.concatenate(y_domain)\n",
    "        return x_ghost, y_ghost\n",
    "\n",
    "    def move(self, v0, R, eta):\n",
    "        x_ghost, y_ghost = self.create_ghost_particles()\n",
    "        new_theta = np.zeros(self.N)\n",
    "        for i in range(self.N):\n",
    "            nr_neighbours = 0\n",
    "            for j, ghost in enumerate(zip(x_ghost, y_ghost)):\n",
    "                if (self._x[i] - ghost[0])**2 + (self._y[i] - ghost[1])**2 < R**2:\n",
    "                    new_theta[i] += self._theta[j % self.N]\n",
    "                    nr_neighbours += 1\n",
    "            new_theta[i] /= nr_neighbours\n",
    "            self._x[i] += v0*np.cos(self._theta[i])\n",
    "            self._y[i] += v0*np.sin(self._theta[i])\n",
    "        self._theta = new_theta + np.random.uniform(-0.5*eta, 0.5*eta, size=(self.N,))\n",
    "        self._x = (self._x + self._L) % self._L\n",
    "        self._y = (self._y + self._L) % self._L"
   ]
  },
  {
   "cell_type": "code",
   "execution_count": 126,
   "metadata": {},
   "outputs": [],
   "source": [
    "def plot_swarm(swarm, step=0):\n",
    "    plt.quiver(swarm.x, swarm.y, np.cos(swarm.theta), np.sin(swarm.theta))"
   ]
  },
  {
   "cell_type": "code",
   "execution_count": 111,
   "metadata": {},
   "outputs": [],
   "source": [
    "def print_swarm(swarm, step=0):\n",
    "    print(f'step {step}:')\n",
    "    print(f'    {swarm.x}')\n",
    "    print(f'    {swarm.y}')\n",
    "    print(f'    {swarm.theta}')"
   ]
  },
  {
   "cell_type": "code",
   "execution_count": 122,
   "metadata": {},
   "outputs": [],
   "source": [
    "swarm = Swarm(3, 1.0)"
   ]
  },
  {
   "cell_type": "code",
   "execution_count": 127,
   "metadata": {},
   "outputs": [
    {
     "data": {
      "image/png": "[encoded data removed]",
      "text/plain": [
       "<Figure size 432x288 with 1 Axes>"
      ]
     },
     "metadata": {
      "needs_background": "light"
     },
     "output_type": "display_data"
    }
   ],
   "source": [
    "plot_swarm(swarm)"
   ]
  },
  {
   "cell_type": "code",
   "execution_count": 102,
   "metadata": {},
   "outputs": [],
   "source": [
    "class Simulator:\n",
    "    \n",
    "    def __init__(self, v0, R, eta, max_step, action):\n",
    "        self._v0 = v0\n",
    "        self._R = R\n",
    "        self._eta = eta\n",
    "        self._max_step = max_step\n",
    "        self._action = action\n",
    "        \n",
    "    def simulate(self, swarm):\n",
    "        self._action(swarm, 0)\n",
    "        for step in range(1, self._max_step + 1):\n",
    "            swarm.move(self._v0, self._R, self._eta)\n",
    "            self._action(swarm, step)"
   ]
  },
  {
   "cell_type": "code",
   "execution_count": 129,
   "metadata": {},
   "outputs": [],
   "source": [
    "simulator = Simulator(v0=0.5, R=0.5, eta =0.1, max_step=10, action=plot_swarm)"
   ]
  },
  {
   "cell_type": "code",
   "execution_count": 130,
   "metadata": {},
   "outputs": [
    {
     "data": {
      "image/png": "[encoded data removed]",
      "text/plain": [
       "<Figure size 432x288 with 1 Axes>"
      ]
     },
     "metadata": {
      "needs_background": "light"
     },
     "output_type": "display_data"
    }
   ],
   "source": [
    "simulator.simulate(swarm)"
   ]
  },
  {
   "cell_type": "code",
   "execution_count": null,
   "metadata": {},
   "outputs": [],
   "source": []
  }
 ],
 "metadata": {
  "kernelspec": {
   "display_name": "Python 3",
   "language": "python",
   "name": "python3"
  },
  "language_info": {
   "codemirror_mode": {
    "name": "ipython",
    "version": 3
   },
   "file_extension": ".py",
   "mimetype": "text/x-python",
   "name": "python",
   "nbconvert_exporter": "python",
   "pygments_lexer": "ipython3",
   "version": "3.7.9"
  }
 },
 "nbformat": 4,
 "nbformat_minor": 4
}
