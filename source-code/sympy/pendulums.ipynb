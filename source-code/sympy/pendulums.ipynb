{
 "cells": [
  {
   "cell_type": "markdown",
   "id": "63a9f53d-a98a-4f01-981e-c69c5e863205",
   "metadata": {},
   "source": [
    "## Requirements"
   ]
  },
  {
   "cell_type": "code",
   "execution_count": 85,
   "id": "a53743da-5045-4e03-85af-a0c09027e4e4",
   "metadata": {},
   "outputs": [],
   "source": [
    "import sympy\n",
    "from sympy import init_printing, symbols\n",
    "from sympy import cos, sin, Derivative, pi\n",
    "\n",
    "init_printing()"
   ]
  },
  {
   "cell_type": "markdown",
   "id": "b98d8a1b-25af-4f91-95f3-084544891c82",
   "metadata": {},
   "source": [
    "## Simple pendulum"
   ]
  },
  {
   "cell_type": "markdown",
   "id": "b89cb36a-ad61-44be-9387-d066930f5137",
   "metadata": {},
   "source": [
    "We want to describe a pendulum suspended from the origin with a length $l$ and a mass $m$, subject to gravity (gravitational accelleration $g$).  The angle the pendulum makes with the $Y$-axis is $\\theta(t)$ where $t$ is the time.\n",
    "![simple pendulum](img/pendulum.gif)"
   ]
  },
  {
   "cell_type": "code",
   "execution_count": 24,
   "id": "0f241b94-ab74-432b-a818-27e23c342395",
   "metadata": {},
   "outputs": [],
   "source": [
    "t, l, g, m = symbols('t l g m', real=True, positive=True)"
   ]
  },
  {
   "cell_type": "markdown",
   "id": "a62ed22d-3fc5-4844-bc39-65c2aa465d40",
   "metadata": {},
   "source": [
    "$\\theta$ is a function of $t$, this can be defined explicitely as follows."
   ]
  },
  {
   "cell_type": "code",
   "execution_count": 19,
   "id": "997f664e-c7d0-4972-83ab-c5a638810f92",
   "metadata": {},
   "outputs": [],
   "source": [
    "theta = symbols(r'\\theta', cls=sympy.Function)\n",
    "theta = theta(t)"
   ]
  },
  {
   "cell_type": "markdown",
   "id": "4df2739c-19c8-41c5-98e0-73474afdb5d0",
   "metadata": {},
   "source": [
    "The $x$ and $y$ coordinates can be expressed as a function of $theta$:"
   ]
  },
  {
   "cell_type": "code",
   "execution_count": 25,
   "id": "21d0cf2e-bc31-4837-b1d8-c21f0b587537",
   "metadata": {},
   "outputs": [
    {
     "data": {
      "image/png": "[encoded data removed]",
      "text/latex": [
       "$\\displaystyle \\left( l \\sin{\\left(\\theta{\\left(t \\right)} \\right)}, \\  - l \\cos{\\left(\\theta{\\left(t \\right)} \\right)}\\right)$"
      ],
      "text/plain": [
       "(l⋅sin(\\theta(t)), -l⋅cos(\\theta(t)))"
      ]
     },
     "execution_count": 25,
     "metadata": {},
     "output_type": "execute_result"
    }
   ],
   "source": [
    "x = l*sin(theta)\n",
    "y = -l*cos(theta)\n",
    "x, y"
   ]
  },
  {
   "cell_type": "markdown",
   "id": "57dfc3f6-92d0-4eb0-9e03-683f10790c0e",
   "metadata": {},
   "source": [
    "We can now express the kinetic and potential energy in function of $x$ and $y$.  The kinetic energy is given by:\n",
    "$$\n",
    "    T = \\frac{1}{2} m (v_x^2 + v_y^2)\n",
    "$$\n",
    "and the potential energy by:\n",
    "$$\n",
    "    U = m g y\n",
    "$$\n",
    "The Langragian is $L = T - U$."
   ]
  },
  {
   "cell_type": "code",
   "execution_count": 26,
   "id": "3fd71e77-6b2f-4c6d-963d-390f3748cd36",
   "metadata": {},
   "outputs": [
    {
     "data": {
      "image/png": "[encoded data removed]",
      "text/latex": [
       "$\\displaystyle \\left( \\frac{m \\left(l^{2} \\sin^{2}{\\left(\\theta{\\left(t \\right)} \\right)} \\left(\\frac{d}{d t} \\theta{\\left(t \\right)}\\right)^{2} + l^{2} \\cos^{2}{\\left(\\theta{\\left(t \\right)} \\right)} \\left(\\frac{d}{d t} \\theta{\\left(t \\right)}\\right)^{2}\\right)}{2}, \\  - g l m \\cos{\\left(\\theta{\\left(t \\right)} \\right)}, \\  g l m \\cos{\\left(\\theta{\\left(t \\right)} \\right)} + \\frac{m \\left(l^{2} \\sin^{2}{\\left(\\theta{\\left(t \\right)} \\right)} \\left(\\frac{d}{d t} \\theta{\\left(t \\right)}\\right)^{2} + l^{2} \\cos^{2}{\\left(\\theta{\\left(t \\right)} \\right)} \\left(\\frac{d}{d t} \\theta{\\left(t \\right)}\\right)^{2}\\right)}{2}\\right)$"
      ],
      "text/plain": [
       "⎛  ⎛                                  2                                     2⎞\n",
       "⎜  ⎜ 2    2            ⎛d            ⎞     2    2            ⎛d            ⎞ ⎟\n",
       "⎜m⋅⎜l ⋅sin (\\theta(t))⋅⎜──(\\theta(t))⎟  + l ⋅cos (\\theta(t))⋅⎜──(\\theta(t))⎟ ⎟\n",
       "⎜  ⎝                   ⎝dt           ⎠                       ⎝dt           ⎠ ⎠\n",
       "⎜─────────────────────────────────────────────────────────────────────────────\n",
       "⎝                                      2                                      \n",
       "\n",
       "                                                  ⎛                           \n",
       "                                                  ⎜ 2    2            ⎛d      \n",
       "                                                m⋅⎜l ⋅sin (\\theta(t))⋅⎜──(\\the\n",
       "                                                  ⎝                   ⎝dt     \n",
       ", -g⋅l⋅m⋅cos(\\theta(t)), g⋅l⋅m⋅cos(\\theta(t)) + ──────────────────────────────\n",
       "                                                                              \n",
       "\n",
       "       2                                     2⎞⎞\n",
       "      ⎞     2    2            ⎛d            ⎞ ⎟⎟\n",
       "ta(t))⎟  + l ⋅cos (\\theta(t))⋅⎜──(\\theta(t))⎟ ⎟⎟\n",
       "      ⎠                       ⎝dt           ⎠ ⎠⎟\n",
       "───────────────────────────────────────────────⎟\n",
       "        2                                      ⎠"
      ]
     },
     "execution_count": 26,
     "metadata": {},
     "output_type": "execute_result"
    }
   ],
   "source": [
    "T = m*(x.diff(t)**2 + y.diff(t)**2)/2\n",
    "U = m*g*y\n",
    "L = T - U\n",
    "T, U, L"
   ]
  },
  {
   "cell_type": "markdown",
   "id": "5f7cb8d6-31be-4815-b44d-641de1f56d6a",
   "metadata": {},
   "source": [
    "For convenience, we define $\\dot{\\theta}(t) = \\frac{d \\theta}{d t}(t)$ and $\\ddot{\\theta} = \\frac{d \\dot{\\theta}}{d t}(t)$."
   ]
  },
  {
   "cell_type": "code",
   "execution_count": 27,
   "id": "37a65154-3222-46c3-ae92-7cea13cac6aa",
   "metadata": {},
   "outputs": [
    {
     "data": {
      "image/png": "[encoded data removed]",
      "text/latex": [
       "$\\displaystyle \\left( \\frac{d}{d t} \\theta{\\left(t \\right)}, \\  \\frac{d^{2}}{d t^{2}} \\theta{\\left(t \\right)}\\right)$"
      ],
      "text/plain": [
       "⎛                 2           ⎞\n",
       "⎜d               d            ⎟\n",
       "⎜──(\\theta(t)), ───(\\theta(t))⎟\n",
       "⎜dt               2           ⎟\n",
       "⎝               dt            ⎠"
      ]
     },
     "execution_count": 27,
     "metadata": {},
     "output_type": "execute_result"
    }
   ],
   "source": [
    "theta_dot = theta.diff(t)\n",
    "theta_dot_dot = theta_dot.diff(t)\n",
    "theta_dot, theta_dot_dot"
   ]
  },
  {
   "cell_type": "markdown",
   "id": "c6a05908-6cca-4aa9-a8f8-20bd9064fd96",
   "metadata": {},
   "source": [
    "Now we can formulate the Euler-Lagrange equation:\n",
    "$$\n",
    "    \\frac{\\partial L}{\\partial \\theta} - \\frac{d}{d t} \\frac{\\partial L}{\\partial \\dot{\\theta}} = 0\n",
    "$$"
   ]
  },
  {
   "cell_type": "code",
   "execution_count": 46,
   "id": "0f063f84-3359-4c21-999c-f32865bf6d2a",
   "metadata": {},
   "outputs": [
    {
     "data": {
      "image/png": "[encoded data removed]",
      "text/latex": [
       "$\\displaystyle - g l m \\sin{\\left(\\theta{\\left(t \\right)} \\right)} - \\frac{m \\left(2 l^{2} \\sin^{2}{\\left(\\theta{\\left(t \\right)} \\right)} \\frac{d^{2}}{d t^{2}} \\theta{\\left(t \\right)} + 2 l^{2} \\cos^{2}{\\left(\\theta{\\left(t \\right)} \\right)} \\frac{d^{2}}{d t^{2}} \\theta{\\left(t \\right)}\\right)}{2}$"
      ],
      "text/plain": [
       "                          ⎛                       2                           \n",
       "                          ⎜   2    2             d                  2    2    \n",
       "                        m⋅⎜2⋅l ⋅sin (\\theta(t))⋅───(\\theta(t)) + 2⋅l ⋅cos (\\th\n",
       "                          ⎜                       2                           \n",
       "                          ⎝                     dt                            \n",
       "-g⋅l⋅m⋅sin(\\theta(t)) - ──────────────────────────────────────────────────────\n",
       "                                                              2               \n",
       "\n",
       "          2           ⎞\n",
       "         d            ⎟\n",
       "eta(t))⋅───(\\theta(t))⎟\n",
       "          2           ⎟\n",
       "        dt            ⎠\n",
       "───────────────────────\n",
       "                       "
      ]
     },
     "execution_count": 46,
     "metadata": {},
     "output_type": "execute_result"
    }
   ],
   "source": [
    "EL_eq = L.diff(theta) - L.diff(theta_dot).diff(t)\n",
    "EL_eq"
   ]
  },
  {
   "cell_type": "markdown",
   "id": "f8f58c0e-2602-4ef4-8f1f-404d51bb4b14",
   "metadata": {},
   "source": [
    "Now we can solve for $\\ddot{\\theta}(t)$, which gives us the differential equation for the motion of the pendulum."
   ]
  },
  {
   "cell_type": "code",
   "execution_count": 47,
   "id": "025ac8dc-e523-4300-98af-8457aba8d425",
   "metadata": {},
   "outputs": [
    {
     "data": {
      "image/png": "[encoded data removed]",
      "text/latex": [
       "$\\displaystyle - \\frac{g \\sin{\\left(\\theta{\\left(t \\right)} \\right)}}{l}$"
      ],
      "text/plain": [
       "-g⋅sin(\\theta(t)) \n",
       "──────────────────\n",
       "        l         "
      ]
     },
     "execution_count": 47,
     "metadata": {},
     "output_type": "execute_result"
    }
   ],
   "source": [
    "rhs = sympy.solve(EL_eq, theta_dot_dot)[0]\n",
    "rhs"
   ]
  },
  {
   "cell_type": "markdown",
   "id": "cb1aa487-2664-44c6-bbcf-6a9864d45655",
   "metadata": {},
   "source": [
    "Now we have the second order ordinary differential equation that we can solve for $\\theta(t)$:\n",
    "$$\n",
    "    \\ddot{\\theta}(t) = - \\frac{g}{l} \\sin \\theta(t)\n",
    "$$"
   ]
  },
  {
   "cell_type": "markdown",
   "id": "ddc5fff2-2a06-4673-a90a-9b27cec6725d",
   "metadata": {},
   "source": [
    "However, this equation is not linear, and no analytic solution is known.  We can either solve it numerically, or approximate the solution for small values of $\\theta(t)$ by a Taylor series expansion to first order."
   ]
  },
  {
   "cell_type": "code",
   "execution_count": 54,
   "id": "6240909e-e698-426e-b769-830cf9ceb2ef",
   "metadata": {},
   "outputs": [],
   "source": [
    "x = symbols('x')\n",
    "lin_rhs = rhs.subs(theta, x) \\\n",
    "    .series(x, 0, n=2).removeO() \\\n",
    "    .subs(x, theta)"
   ]
  },
  {
   "cell_type": "markdown",
   "id": "25e4a87e-c9d4-484f-a2a1-734714dbfaae",
   "metadata": {},
   "source": [
    "Note that we need to fiddle a bit since the `series` method doesn't work when the variable we want to do the series expansion in is a function.  Hence we substitute $x$ for $\\theta(t)$, do the series expansion to second order, drop the $O(x^2)$ term and substitute $\\theta(t)$ back in for $x$."
   ]
  },
  {
   "cell_type": "markdown",
   "id": "6b9d73e2-69a2-4b80-802e-0366e6c2c7df",
   "metadata": {},
   "source": [
    "Now we can solve the second order ordinary differential equation analytically, and we obtain the well-known solution."
   ]
  },
  {
   "cell_type": "code",
   "execution_count": 56,
   "id": "7a0c1f30-d9b8-4684-a6a7-9c180c94ccc5",
   "metadata": {},
   "outputs": [
    {
     "data": {
      "image/png": "[encoded data removed]",
      "text/latex": [
       "$\\displaystyle \\theta{\\left(t \\right)} = C_{1} \\sin{\\left(\\frac{\\sqrt{g} t}{\\sqrt{l}} \\right)} + C_{2} \\cos{\\left(\\frac{\\sqrt{g} t}{\\sqrt{l}} \\right)}$"
      ],
      "text/plain": [
       "                  ⎛√g⋅t⎞         ⎛√g⋅t⎞\n",
       "\\theta(t) = C₁⋅sin⎜────⎟ + C₂⋅cos⎜────⎟\n",
       "                  ⎝ √l ⎠         ⎝ √l ⎠"
      ]
     },
     "execution_count": 56,
     "metadata": {},
     "output_type": "execute_result"
    }
   ],
   "source": [
    "solution = sympy.dsolve(Derivative(theta, t, t) - lin_rhs, theta)\n",
    "solution"
   ]
  },
  {
   "cell_type": "markdown",
   "id": "22d85268-3a0e-4adc-a0c7-5fdb00120550",
   "metadata": {},
   "source": [
    "$C_1$ and $C_2$ can be determined by imposing initial conditions on $\\theta(0)$ and $\\dot{\\theta}(0)$.\n",
    "$$\n",
    "    \\begin{cases}\n",
    "        \\theta(0) = \\theta_0 \\\\\n",
    "        \\dot{\\theta}(0) = \\omega_0\n",
    "    \\end{cases}\n",
    "$$\n"
   ]
  },
  {
   "cell_type": "code",
   "execution_count": 68,
   "id": "dd4dab52-8995-4734-94c8-c6a967f61db7",
   "metadata": {},
   "outputs": [],
   "source": [
    "theta_0 = symbols(r'\\theta_0', real=True)\n",
    "omega_0 = symbols(r'\\omega_0', real=True)"
   ]
  },
  {
   "cell_type": "markdown",
   "id": "b190eadf-6f8b-4ba7-93d1-73cf18b5aa6f",
   "metadata": {},
   "source": [
    "First we get the symbols for $C_1$ and $C_2$ in the solution using `epath`."
   ]
  },
  {
   "cell_type": "code",
   "execution_count": 67,
   "id": "4fd31d9f-c567-49f4-8ac4-3bc8e070cd66",
   "metadata": {},
   "outputs": [
    {
     "data": {
      "image/png": "[encoded data removed]",
      "text/latex": [
       "$\\displaystyle \\left( C_{1}, \\  C_{2}\\right)$"
      ],
      "text/plain": [
       "(C₁, C₂)"
      ]
     },
     "execution_count": 67,
     "metadata": {},
     "output_type": "execute_result"
    }
   ],
   "source": [
    "C_1 = sympy.epath('/[0]/[0]', solution.rhs)[0]\n",
    "C_2 = sympy.epath('/[1]/[0]', solution.rhs)[0]\n",
    "C_1, C_2"
   ]
  },
  {
   "cell_type": "markdown",
   "id": "1e9f7b9b-b99d-42de-9373-bfa81ac2f817",
   "metadata": {},
   "source": [
    "Next, we can solve for $C_2$ using the expression for $\\theta(0)$:"
   ]
  },
  {
   "cell_type": "code",
   "execution_count": 75,
   "id": "f7d7e628-17ba-4e8a-a8c2-5b214ea36eee",
   "metadata": {},
   "outputs": [
    {
     "data": {
      "image/png": "[encoded data removed]",
      "text/latex": [
       "$\\displaystyle \\left\\{ C_{2} : \\theta_{0}\\right\\}$"
      ],
      "text/plain": [
       "{C₂: \\theta₀}"
      ]
     },
     "execution_count": 75,
     "metadata": {},
     "output_type": "execute_result"
    }
   ],
   "source": [
    "C_sols = sympy.solve(solution.rhs.subs(t, 0) - theta_0, C_2, dict=True)[0]\n",
    "C_sols"
   ]
  },
  {
   "cell_type": "markdown",
   "id": "e1b60407-5d1f-475f-bcaf-933d1598bbac",
   "metadata": {},
   "source": [
    "Subsequently, we can solve for $C_1$ using the expression for $\\dot{\\theta}(0)$:"
   ]
  },
  {
   "cell_type": "code",
   "execution_count": 76,
   "id": "6655b554-87c0-4dc7-b6a6-275869d130bd",
   "metadata": {},
   "outputs": [
    {
     "data": {
      "image/png": "[encoded data removed]",
      "text/latex": [
       "$\\displaystyle \\left\\{ C_{1} : \\frac{\\omega_{0} \\sqrt{l}}{\\sqrt{g}}, \\  C_{2} : \\theta_{0}\\right\\}$"
      ],
      "text/plain": [
       "⎧    \\omega₀⋅√l             ⎫\n",
       "⎨C₁: ──────────, C₂: \\theta₀⎬\n",
       "⎩        √g                 ⎭"
      ]
     },
     "execution_count": 76,
     "metadata": {},
     "output_type": "execute_result"
    }
   ],
   "source": [
    "C_sols.update(sympy.solve(solution.rhs.diff(t).subs(t, 0) - omega_0, C_1, dict=True)[0])\n",
    "C_sols"
   ]
  },
  {
   "cell_type": "markdown",
   "id": "daf8bc1c-5297-4e00-b7b3-dc89c3a48334",
   "metadata": {},
   "source": [
    "We obtain the final solution by substituting the values of $C_1$ and $C_2$ into the original solution."
   ]
  },
  {
   "cell_type": "code",
   "execution_count": 78,
   "id": "3caa5eed-34b2-44d0-842f-3873a6f9daef",
   "metadata": {},
   "outputs": [
    {
     "data": {
      "image/png": "[encoded data removed]",
      "text/latex": [
       "$\\displaystyle \\theta{\\left(t \\right)} = \\frac{\\omega_{0} \\sqrt{l} \\sin{\\left(\\frac{\\sqrt{g} t}{\\sqrt{l}} \\right)}}{\\sqrt{g}} + \\theta_{0} \\cos{\\left(\\frac{\\sqrt{g} t}{\\sqrt{l}} \\right)}$"
      ],
      "text/plain": [
       "                          ⎛√g⋅t⎞                    \n",
       "            \\omega₀⋅√l⋅sin⎜────⎟                    \n",
       "                          ⎝ √l ⎠              ⎛√g⋅t⎞\n",
       "\\theta(t) = ──────────────────── + \\theta₀⋅cos⎜────⎟\n",
       "                     √g                       ⎝ √l ⎠"
      ]
     },
     "execution_count": 78,
     "metadata": {},
     "output_type": "execute_result"
    }
   ],
   "source": [
    "final_solution = solution.subs(C_sols)\n",
    "final_solution"
   ]
  },
  {
   "cell_type": "markdown",
   "id": "8b8eb115-b1f8-4fd8-b874-87d79574b991",
   "metadata": {},
   "source": [
    "We can now plot the solution for $l = g = 9.81$, and an initial angle $\\theta = 0.1$ and angular velocity $\\omega_0 = 0.05$."
   ]
  },
  {
   "cell_type": "code",
   "execution_count": 80,
   "id": "70b8d76e-b776-42c0-b2bc-980a42bec1eb",
   "metadata": {},
   "outputs": [],
   "source": [
    "values = {\n",
    "    l: 9.81,\n",
    "    g: 9.81,\n",
    "    theta_0: 0.1,\n",
    "    omega_0: 0.05,\n",
    "}"
   ]
  },
  {
   "cell_type": "code",
   "execution_count": 99,
   "id": "419f365b-3edd-4ecc-a4ba-c7f77d31b328",
   "metadata": {},
   "outputs": [
    {
     "data": {
      "image/png": "[encoded data removed]",
      "text/plain": [
       "<Figure size 432x288 with 1 Axes>"
      ]
     },
     "metadata": {
      "needs_background": "light"
     },
     "output_type": "display_data"
    }
   ],
   "source": [
    "plot = sympy.plot(final_solution.rhs.subs(values),\\\n",
    "                  final_solution.rhs.diff(t).subs(values),\n",
    "                  xlim=(0.0, 3*pi),\n",
    "                  ylabel=None,\n",
    "                  adaptive=False, nb_of_points=200,\n",
    "                  show=False)\n",
    "plot[0].label = r'$\\theta(t)$'\n",
    "plot[1].label = r'$\\dot{\\theta}(t)$'\n",
    "plot.legend = True\n",
    "plot.show()"
   ]
  }
 ],
 "metadata": {
  "kernelspec": {
   "display_name": "Python 3 (ipykernel)",
   "language": "python",
   "name": "python3"
  },
  "language_info": {
   "codemirror_mode": {
    "name": "ipython",
    "version": 3
   },
   "file_extension": ".py",
   "mimetype": "text/x-python",
   "name": "python",
   "nbconvert_exporter": "python",
   "pygments_lexer": "ipython3",
   "version": "3.7.11"
  }
 },
 "nbformat": 4,
 "nbformat_minor": 5
}
