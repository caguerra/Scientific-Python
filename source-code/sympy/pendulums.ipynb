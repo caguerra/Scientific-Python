{
 "cells": [
  {
   "cell_type": "markdown",
   "id": "63a9f53d-a98a-4f01-981e-c69c5e863205",
   "metadata": {
    "toc-hr-collapsed": true
   },
   "source": [
    "## Requirements"
   ]
  },
  {
   "cell_type": "code",
   "execution_count": 1,
   "id": "a53743da-5045-4e03-85af-a0c09027e4e4",
   "metadata": {},
   "outputs": [],
   "source": [
    "import sympy\n",
    "from sympy import init_printing, symbols\n",
    "from sympy import cos, sin, Derivative, pi\n",
    "\n",
    "init_printing()"
   ]
  },
  {
   "cell_type": "markdown",
   "id": "b98d8a1b-25af-4f91-95f3-084544891c82",
   "metadata": {},
   "source": [
    "## Simple pendulum"
   ]
  },
  {
   "cell_type": "markdown",
   "id": "b89cb36a-ad61-44be-9387-d066930f5137",
   "metadata": {},
   "source": [
    "We want to describe a pendulum suspended from the origin with a length $l$ and a mass $m$, subject to gravity (gravitational accelleration $g$).  The angle the pendulum makes with the $Y$-axis is $\\theta(t)$ where $t$ is the time.\n",
    "![simple pendulum](img/pendulum.png)"
   ]
  },
  {
   "cell_type": "markdown",
   "id": "76ef30c3-a6ed-4d5d-8d3a-c80835bc6977",
   "metadata": {},
   "source": [
    "### Equation of motion using Euler-Langrange equation"
   ]
  },
  {
   "cell_type": "code",
   "execution_count": 34,
   "id": "0f241b94-ab74-432b-a818-27e23c342395",
   "metadata": {},
   "outputs": [],
   "source": [
    "t, l, g, m = symbols('t l g m', real=True, positive=True)"
   ]
  },
  {
   "cell_type": "markdown",
   "id": "a62ed22d-3fc5-4844-bc39-65c2aa465d40",
   "metadata": {},
   "source": [
    "$\\theta$ is a function of $t$, this can be defined explicitely as follows."
   ]
  },
  {
   "cell_type": "code",
   "execution_count": 35,
   "id": "997f664e-c7d0-4972-83ab-c5a638810f92",
   "metadata": {},
   "outputs": [],
   "source": [
    "theta = symbols(r'\\theta', cls=sympy.Function)\n",
    "theta = theta(t)"
   ]
  },
  {
   "cell_type": "markdown",
   "id": "4df2739c-19c8-41c5-98e0-73474afdb5d0",
   "metadata": {},
   "source": [
    "The $x$ and $y$ coordinates can be expressed as a function of $theta$:"
   ]
  },
  {
   "cell_type": "code",
   "execution_count": 36,
   "id": "21d0cf2e-bc31-4837-b1d8-c21f0b587537",
   "metadata": {},
   "outputs": [
    {
     "data": {
      "image/png": "[encoded data removed]",
      "text/latex": [
       "$\\displaystyle \\left( l \\sin{\\left(\\theta{\\left(t \\right)} \\right)}, \\  - l \\cos{\\left(\\theta{\\left(t \\right)} \\right)}\\right)$"
      ],
      "text/plain": [
       "(l⋅sin(\\theta(t)), -l⋅cos(\\theta(t)))"
      ]
     },
     "execution_count": 36,
     "metadata": {},
     "output_type": "execute_result"
    }
   ],
   "source": [
    "x = l*sin(theta)\n",
    "y = -l*cos(theta)\n",
    "x, y"
   ]
  },
  {
   "cell_type": "markdown",
   "id": "57dfc3f6-92d0-4eb0-9e03-683f10790c0e",
   "metadata": {},
   "source": [
    "We can now express the kinetic and potential energy in function of $x$ and $y$.  The kinetic energy is given by:\n",
    "$$\n",
    "    T = \\frac{1}{2} m (v_x^2 + v_y^2)\n",
    "$$\n",
    "and the potential energy by:\n",
    "$$\n",
    "    U = m g y\n",
    "$$\n",
    "The Langragian is $L = T - U$."
   ]
  },
  {
   "cell_type": "code",
   "execution_count": 37,
   "id": "3fd71e77-6b2f-4c6d-963d-390f3748cd36",
   "metadata": {},
   "outputs": [
    {
     "data": {
      "image/png": "[encoded data removed]",
      "text/latex": [
       "$\\displaystyle \\left( \\frac{m \\left(l^{2} \\sin^{2}{\\left(\\theta{\\left(t \\right)} \\right)} \\left(\\frac{d}{d t} \\theta{\\left(t \\right)}\\right)^{2} + l^{2} \\cos^{2}{\\left(\\theta{\\left(t \\right)} \\right)} \\left(\\frac{d}{d t} \\theta{\\left(t \\right)}\\right)^{2}\\right)}{2}, \\  - g l m \\cos{\\left(\\theta{\\left(t \\right)} \\right)}, \\  g l m \\cos{\\left(\\theta{\\left(t \\right)} \\right)} + \\frac{m \\left(l^{2} \\sin^{2}{\\left(\\theta{\\left(t \\right)} \\right)} \\left(\\frac{d}{d t} \\theta{\\left(t \\right)}\\right)^{2} + l^{2} \\cos^{2}{\\left(\\theta{\\left(t \\right)} \\right)} \\left(\\frac{d}{d t} \\theta{\\left(t \\right)}\\right)^{2}\\right)}{2}\\right)$"
      ],
      "text/plain": [
       "⎛  ⎛                                  2                                     2⎞                                                  ⎛                         \n",
       "⎜  ⎜ 2    2            ⎛d            ⎞     2    2            ⎛d            ⎞ ⎟                                                  ⎜ 2    2            ⎛d    \n",
       "⎜m⋅⎜l ⋅sin (\\theta(t))⋅⎜──(\\theta(t))⎟  + l ⋅cos (\\theta(t))⋅⎜──(\\theta(t))⎟ ⎟                                                m⋅⎜l ⋅sin (\\theta(t))⋅⎜──(\\t\n",
       "⎜  ⎝                   ⎝dt           ⎠                       ⎝dt           ⎠ ⎠                                                  ⎝                   ⎝dt   \n",
       "⎜─────────────────────────────────────────────────────────────────────────────, -g⋅l⋅m⋅cos(\\theta(t)), g⋅l⋅m⋅cos(\\theta(t)) + ────────────────────────────\n",
       "⎝                                      2                                                                                                                  \n",
       "\n",
       "         2                                     2⎞⎞\n",
       "        ⎞     2    2            ⎛d            ⎞ ⎟⎟\n",
       "heta(t))⎟  + l ⋅cos (\\theta(t))⋅⎜──(\\theta(t))⎟ ⎟⎟\n",
       "        ⎠                       ⎝dt           ⎠ ⎠⎟\n",
       "─────────────────────────────────────────────────⎟\n",
       "          2                                      ⎠"
      ]
     },
     "execution_count": 37,
     "metadata": {},
     "output_type": "execute_result"
    }
   ],
   "source": [
    "T = m*(x.diff(t)**2 + y.diff(t)**2)/2\n",
    "U = m*g*y\n",
    "L = T - U\n",
    "T, U, L"
   ]
  },
  {
   "cell_type": "markdown",
   "id": "5f7cb8d6-31be-4815-b44d-641de1f56d6a",
   "metadata": {},
   "source": [
    "For convenience, we define $\\dot{\\theta}(t) = \\frac{d \\theta}{d t}(t)$ and $\\ddot{\\theta} = \\frac{d \\dot{\\theta}}{d t}(t)$."
   ]
  },
  {
   "cell_type": "code",
   "execution_count": 38,
   "id": "37a65154-3222-46c3-ae92-7cea13cac6aa",
   "metadata": {},
   "outputs": [
    {
     "data": {
      "image/png": "[encoded data removed]",
      "text/latex": [
       "$\\displaystyle \\left( \\frac{d}{d t} \\theta{\\left(t \\right)}, \\  \\frac{d^{2}}{d t^{2}} \\theta{\\left(t \\right)}\\right)$"
      ],
      "text/plain": [
       "⎛                 2           ⎞\n",
       "⎜d               d            ⎟\n",
       "⎜──(\\theta(t)), ───(\\theta(t))⎟\n",
       "⎜dt               2           ⎟\n",
       "⎝               dt            ⎠"
      ]
     },
     "execution_count": 38,
     "metadata": {},
     "output_type": "execute_result"
    }
   ],
   "source": [
    "theta_dot = theta.diff(t)\n",
    "theta_dot_dot = theta_dot.diff(t)\n",
    "theta_dot, theta_dot_dot"
   ]
  },
  {
   "cell_type": "markdown",
   "id": "c6a05908-6cca-4aa9-a8f8-20bd9064fd96",
   "metadata": {},
   "source": [
    "Now we can formulate the Euler-Lagrange equation:\n",
    "$$\n",
    "    \\frac{\\partial L}{\\partial \\theta} - \\frac{d}{d t} \\frac{\\partial L}{\\partial \\dot{\\theta}} = 0\n",
    "$$"
   ]
  },
  {
   "cell_type": "code",
   "execution_count": 39,
   "id": "0f063f84-3359-4c21-999c-f32865bf6d2a",
   "metadata": {},
   "outputs": [
    {
     "data": {
      "image/png": "[encoded data removed]",
      "text/latex": [
       "$\\displaystyle - g l m \\sin{\\left(\\theta{\\left(t \\right)} \\right)} - \\frac{m \\left(2 l^{2} \\sin^{2}{\\left(\\theta{\\left(t \\right)} \\right)} \\frac{d^{2}}{d t^{2}} \\theta{\\left(t \\right)} + 2 l^{2} \\cos^{2}{\\left(\\theta{\\left(t \\right)} \\right)} \\frac{d^{2}}{d t^{2}} \\theta{\\left(t \\right)}\\right)}{2}$"
      ],
      "text/plain": [
       "                          ⎛                       2                                     2           ⎞\n",
       "                          ⎜   2    2             d                  2    2             d            ⎟\n",
       "                        m⋅⎜2⋅l ⋅sin (\\theta(t))⋅───(\\theta(t)) + 2⋅l ⋅cos (\\theta(t))⋅───(\\theta(t))⎟\n",
       "                          ⎜                       2                                     2           ⎟\n",
       "                          ⎝                     dt                                    dt            ⎠\n",
       "-g⋅l⋅m⋅sin(\\theta(t)) - ─────────────────────────────────────────────────────────────────────────────\n",
       "                                                              2                                      "
      ]
     },
     "execution_count": 39,
     "metadata": {},
     "output_type": "execute_result"
    }
   ],
   "source": [
    "EL_eq = L.diff(theta) - L.diff(theta_dot).diff(t)\n",
    "EL_eq"
   ]
  },
  {
   "cell_type": "markdown",
   "id": "f8f58c0e-2602-4ef4-8f1f-404d51bb4b14",
   "metadata": {},
   "source": [
    "Now we can solve for $\\ddot{\\theta}(t)$, which gives us the differential equation for the motion of the pendulum."
   ]
  },
  {
   "cell_type": "code",
   "execution_count": 40,
   "id": "025ac8dc-e523-4300-98af-8457aba8d425",
   "metadata": {},
   "outputs": [
    {
     "data": {
      "image/png": "[encoded data removed]",
      "text/latex": [
       "$\\displaystyle - \\frac{g \\sin{\\left(\\theta{\\left(t \\right)} \\right)}}{l}$"
      ],
      "text/plain": [
       "-g⋅sin(\\theta(t)) \n",
       "──────────────────\n",
       "        l         "
      ]
     },
     "execution_count": 40,
     "metadata": {},
     "output_type": "execute_result"
    }
   ],
   "source": [
    "rhs = sympy.solve(EL_eq, theta_dot_dot)[0]\n",
    "rhs"
   ]
  },
  {
   "cell_type": "markdown",
   "id": "cb1aa487-2664-44c6-bbcf-6a9864d45655",
   "metadata": {},
   "source": [
    "Now we have the second order ordinary differential equation that we can solve for $\\theta(t)$:\n",
    "$$\n",
    "    \\ddot{\\theta}(t) = - \\frac{g}{l} \\sin \\theta(t)\n",
    "$$"
   ]
  },
  {
   "cell_type": "markdown",
   "id": "ddc5fff2-2a06-4673-a90a-9b27cec6725d",
   "metadata": {},
   "source": [
    "However, this equation is not linear, and no analytic solution is known.  We can either solve it numerically, or approximate the solution for small values of $\\theta(t)$ by a Taylor series expansion to first order."
   ]
  },
  {
   "cell_type": "markdown",
   "id": "213c006b-5a13-4509-8bfa-36eed577980c",
   "metadata": {},
   "source": [
    "### Approximate analytic solution"
   ]
  },
  {
   "cell_type": "code",
   "execution_count": 54,
   "id": "6240909e-e698-426e-b769-830cf9ceb2ef",
   "metadata": {},
   "outputs": [],
   "source": [
    "x = symbols('x')\n",
    "lin_rhs = rhs.subs(theta, x) \\\n",
    "    .series(x, 0, n=2).removeO() \\\n",
    "    .subs(x, theta)"
   ]
  },
  {
   "cell_type": "markdown",
   "id": "25e4a87e-c9d4-484f-a2a1-734714dbfaae",
   "metadata": {},
   "source": [
    "Note that we need to fiddle a bit since the `series` method doesn't work when the variable we want to do the series expansion in is a function.  Hence we substitute $x$ for $\\theta(t)$, do the series expansion to second order, drop the $O(x^2)$ term and substitute $\\theta(t)$ back in for $x$."
   ]
  },
  {
   "cell_type": "markdown",
   "id": "6b9d73e2-69a2-4b80-802e-0366e6c2c7df",
   "metadata": {},
   "source": [
    "Now we can solve the second order ordinary differential equation analytically, and we obtain the well-known solution."
   ]
  },
  {
   "cell_type": "code",
   "execution_count": 56,
   "id": "7a0c1f30-d9b8-4684-a6a7-9c180c94ccc5",
   "metadata": {},
   "outputs": [
    {
     "data": {
      "image/png": "[encoded data removed]",
      "text/latex": [
       "$\\displaystyle \\theta{\\left(t \\right)} = C_{1} \\sin{\\left(\\frac{\\sqrt{g} t}{\\sqrt{l}} \\right)} + C_{2} \\cos{\\left(\\frac{\\sqrt{g} t}{\\sqrt{l}} \\right)}$"
      ],
      "text/plain": [
       "                  ⎛√g⋅t⎞         ⎛√g⋅t⎞\n",
       "\\theta(t) = C₁⋅sin⎜────⎟ + C₂⋅cos⎜────⎟\n",
       "                  ⎝ √l ⎠         ⎝ √l ⎠"
      ]
     },
     "execution_count": 56,
     "metadata": {},
     "output_type": "execute_result"
    }
   ],
   "source": [
    "solution = sympy.dsolve(Derivative(theta, t, t) - lin_rhs, theta)\n",
    "solution"
   ]
  },
  {
   "cell_type": "markdown",
   "id": "22d85268-3a0e-4adc-a0c7-5fdb00120550",
   "metadata": {},
   "source": [
    "$C_1$ and $C_2$ can be determined by imposing initial conditions on $\\theta(0)$ and $\\dot{\\theta}(0)$.\n",
    "$$\n",
    "    \\begin{cases}\n",
    "        \\theta(0) = \\theta_0 \\\\\n",
    "        \\dot{\\theta}(0) = \\omega_0\n",
    "    \\end{cases}\n",
    "$$\n"
   ]
  },
  {
   "cell_type": "code",
   "execution_count": 68,
   "id": "dd4dab52-8995-4734-94c8-c6a967f61db7",
   "metadata": {},
   "outputs": [],
   "source": [
    "theta_0 = symbols(r'\\theta_0', real=True)\n",
    "omega_0 = symbols(r'\\omega_0', real=True)"
   ]
  },
  {
   "cell_type": "markdown",
   "id": "b190eadf-6f8b-4ba7-93d1-73cf18b5aa6f",
   "metadata": {},
   "source": [
    "First we get the symbols for $C_1$ and $C_2$ in the solution using `epath`."
   ]
  },
  {
   "cell_type": "code",
   "execution_count": 67,
   "id": "4fd31d9f-c567-49f4-8ac4-3bc8e070cd66",
   "metadata": {},
   "outputs": [
    {
     "data": {
      "image/png": "[encoded data removed]",
      "text/latex": [
       "$\\displaystyle \\left( C_{1}, \\  C_{2}\\right)$"
      ],
      "text/plain": [
       "(C₁, C₂)"
      ]
     },
     "execution_count": 67,
     "metadata": {},
     "output_type": "execute_result"
    }
   ],
   "source": [
    "C_1 = sympy.epath('/[0]/[0]', solution.rhs)[0]\n",
    "C_2 = sympy.epath('/[1]/[0]', solution.rhs)[0]\n",
    "C_1, C_2"
   ]
  },
  {
   "cell_type": "markdown",
   "id": "1e9f7b9b-b99d-42de-9373-bfa81ac2f817",
   "metadata": {},
   "source": [
    "Next, we can solve for $C_2$ using the expression for $\\theta(0)$:"
   ]
  },
  {
   "cell_type": "code",
   "execution_count": 75,
   "id": "f7d7e628-17ba-4e8a-a8c2-5b214ea36eee",
   "metadata": {},
   "outputs": [
    {
     "data": {
      "image/png": "[encoded data removed]",
      "text/latex": [
       "$\\displaystyle \\left\\{ C_{2} : \\theta_{0}\\right\\}$"
      ],
      "text/plain": [
       "{C₂: \\theta₀}"
      ]
     },
     "execution_count": 75,
     "metadata": {},
     "output_type": "execute_result"
    }
   ],
   "source": [
    "C_sols = sympy.solve(solution.rhs.subs(t, 0) - theta_0, C_2, dict=True)[0]\n",
    "C_sols"
   ]
  },
  {
   "cell_type": "markdown",
   "id": "e1b60407-5d1f-475f-bcaf-933d1598bbac",
   "metadata": {},
   "source": [
    "Subsequently, we can solve for $C_1$ using the expression for $\\dot{\\theta}(0)$:"
   ]
  },
  {
   "cell_type": "code",
   "execution_count": 76,
   "id": "6655b554-87c0-4dc7-b6a6-275869d130bd",
   "metadata": {},
   "outputs": [
    {
     "data": {
      "image/png": "[encoded data removed]",
      "text/latex": [
       "$\\displaystyle \\left\\{ C_{1} : \\frac{\\omega_{0} \\sqrt{l}}{\\sqrt{g}}, \\  C_{2} : \\theta_{0}\\right\\}$"
      ],
      "text/plain": [
       "⎧    \\omega₀⋅√l             ⎫\n",
       "⎨C₁: ──────────, C₂: \\theta₀⎬\n",
       "⎩        √g                 ⎭"
      ]
     },
     "execution_count": 76,
     "metadata": {},
     "output_type": "execute_result"
    }
   ],
   "source": [
    "C_sols.update(sympy.solve(solution.rhs.diff(t).subs(t, 0) - omega_0, C_1,\n",
    "                          dict=True)[0])\n",
    "C_sols"
   ]
  },
  {
   "cell_type": "markdown",
   "id": "daf8bc1c-5297-4e00-b7b3-dc89c3a48334",
   "metadata": {},
   "source": [
    "We obtain the final solution by substituting the values of $C_1$ and $C_2$ into the original solution."
   ]
  },
  {
   "cell_type": "code",
   "execution_count": 78,
   "id": "3caa5eed-34b2-44d0-842f-3873a6f9daef",
   "metadata": {},
   "outputs": [
    {
     "data": {
      "image/png": "[encoded data removed]",
      "text/latex": [
       "$\\displaystyle \\theta{\\left(t \\right)} = \\frac{\\omega_{0} \\sqrt{l} \\sin{\\left(\\frac{\\sqrt{g} t}{\\sqrt{l}} \\right)}}{\\sqrt{g}} + \\theta_{0} \\cos{\\left(\\frac{\\sqrt{g} t}{\\sqrt{l}} \\right)}$"
      ],
      "text/plain": [
       "                          ⎛√g⋅t⎞                    \n",
       "            \\omega₀⋅√l⋅sin⎜────⎟                    \n",
       "                          ⎝ √l ⎠              ⎛√g⋅t⎞\n",
       "\\theta(t) = ──────────────────── + \\theta₀⋅cos⎜────⎟\n",
       "                     √g                       ⎝ √l ⎠"
      ]
     },
     "execution_count": 78,
     "metadata": {},
     "output_type": "execute_result"
    }
   ],
   "source": [
    "final_solution = solution.subs(C_sols)\n",
    "final_solution"
   ]
  },
  {
   "cell_type": "markdown",
   "id": "8b8eb115-b1f8-4fd8-b874-87d79574b991",
   "metadata": {},
   "source": [
    "We can now plot the solution for $l = g = 9.81$, and an initial angle $\\theta = 0.1$ and angular velocity $\\omega_0 = 0.05$."
   ]
  },
  {
   "cell_type": "code",
   "execution_count": 80,
   "id": "70b8d76e-b776-42c0-b2bc-980a42bec1eb",
   "metadata": {},
   "outputs": [],
   "source": [
    "values = {\n",
    "    l: 9.81,\n",
    "    g: 9.81,\n",
    "    theta_0: 0.1,\n",
    "    omega_0: 0.05,\n",
    "}"
   ]
  },
  {
   "cell_type": "code",
   "execution_count": 99,
   "id": "419f365b-3edd-4ecc-a4ba-c7f77d31b328",
   "metadata": {},
   "outputs": [
    {
     "data": {
      "image/png": "[encoded data removed]",
      "text/plain": [
       "<Figure size 432x288 with 1 Axes>"
      ]
     },
     "metadata": {
      "needs_background": "light"
     },
     "output_type": "display_data"
    }
   ],
   "source": [
    "plot = sympy.plot(final_solution.rhs.subs(values),\\\n",
    "                  final_solution.rhs.diff(t).subs(values),\n",
    "                  xlim=(0.0, 3*pi),\n",
    "                  ylabel=None,\n",
    "                  adaptive=False, nb_of_points=200,\n",
    "                  show=False)\n",
    "plot[0].label = r'$\\theta(t)$'\n",
    "plot[1].label = r'$\\dot{\\theta}(t)$'\n",
    "plot.legend = True\n",
    "plot.show()"
   ]
  },
  {
   "cell_type": "markdown",
   "id": "470c7337-0672-44c0-8e6c-eae3215bbaf2",
   "metadata": {},
   "source": [
    "### Numerical solution"
   ]
  },
  {
   "cell_type": "markdown",
   "id": "023e21be-c442-4203-a48f-bcb91c7ecc71",
   "metadata": {},
   "source": [
    "We can of course use scipy to solve the equation of motion numerically.  However, scipy's ODE solver can only handle sets of first order equations, and we also can provide the Jacobian in order to speed up the computations.\n",
    "\n",
    "Rewriting the second order differential equation of the form $\\ddot{\\theta} = f(\\dot{\\theta}, \\theta, t)$ is straightforward.  We introduce $\\omega(t) = \\dot{\\theta}(t)$ to obtain:\n",
    "$$\n",
    "    \\begin{cases}\n",
    "        \\frac{d \\theta}{d t}(t) = \\omega(t) \\\\\n",
    "        \\frac{d \\omega}{d t}(t) = f(\\omega(t), \\theta(t), t)\n",
    "    \\end{cases}\n",
    "$$"
   ]
  },
  {
   "cell_type": "code",
   "execution_count": 41,
   "id": "e1c5b6e1-f870-48a5-a68c-77d6b60f0b59",
   "metadata": {},
   "outputs": [],
   "source": [
    "omega = symbols(r'\\omega', cls=sympy.Function)\n",
    "omega = omega(t)"
   ]
  },
  {
   "cell_type": "code",
   "execution_count": 43,
   "id": "e3e9b8d1-cc73-46f8-a017-f305e86e2518",
   "metadata": {},
   "outputs": [
    {
     "data": {
      "image/png": "[encoded data removed]",
      "text/latex": [
       "$\\displaystyle \\left[ \\omega{\\left(t \\right)}, \\  - \\frac{g \\sin{\\left(\\theta{\\left(t \\right)} \\right)}}{l}\\right]$"
      ],
      "text/plain": [
       "⎡           -g⋅sin(\\theta(t)) ⎤\n",
       "⎢\\omega(t), ──────────────────⎥\n",
       "⎣                   l         ⎦"
      ]
     },
     "execution_count": 43,
     "metadata": {},
     "output_type": "execute_result"
    }
   ],
   "source": [
    "eqs_rhs = [omega, rhs]\n",
    "eqs_rhs"
   ]
  },
  {
   "cell_type": "markdown",
   "id": "04988c2b-18c7-4710-8f62-dcf381bd475a",
   "metadata": {},
   "source": [
    "The Jacobian is given by:\n",
    "$$\n",
    "    \\left(\n",
    "        \\begin{array}\n",
    "            \\frac{\\partial f_1}{\\partial \\theta} & \\frac{\\partial f_1}{\\partial \\omega} \\\\\n",
    "            \\frac{\\partial f_2}{\\partial \\theta} & \\frac{\\partial f_2}{\\partial \\omega}\n",
    "        \\end{array}\n",
    "    \\right)\n",
    "$$"
   ]
  },
  {
   "cell_type": "code",
   "execution_count": 46,
   "id": "57bd1b32-8ed5-4f78-8419-edc9660c9675",
   "metadata": {},
   "outputs": [
    {
     "data": {
      "text/latex": [
       "$\\displaystyle \\left[\\begin{matrix}0 & 1\\\\- \\frac{g \\cos{\\left(\\theta{\\left(t \\right)} \\right)}}{l} & 0\\end{matrix}\\right]$"
      ],
      "text/plain": [
       "⎡        0           1⎤\n",
       "⎢                     ⎥\n",
       "⎢-g⋅cos(\\theta(t))    ⎥\n",
       "⎢──────────────────  0⎥\n",
       "⎣        l            ⎦"
      ]
     },
     "execution_count": 46,
     "metadata": {},
     "output_type": "execute_result"
    }
   ],
   "source": [
    "jacobian = sympy.Matrix([\n",
    "    [eqs_rhs[0].diff(theta), eqs_rhs[0].diff(omega)],\n",
    "    [eqs_rhs[1].diff(theta), eqs_rhs[1].diff(omega)],\n",
    "])\n",
    "jacobian"
   ]
  },
  {
   "cell_type": "markdown",
   "id": "ffff2edc-8f33-4eeb-96b2-cd189d2f5a4a",
   "metadata": {},
   "source": [
    "## Double pendulum"
   ]
  },
  {
   "cell_type": "markdown",
   "id": "16efd4ba-f36f-496a-af6a-e53807a174d9",
   "metadata": {},
   "source": [
    "The double pendulum is more complicated system that can even exhibit chaotic behavior.  We consider two pendulums with length $l_1$ and $l_2$, masses $m_1$ and $m_2$ respectively.  The second pendulum is attached to the end of the first.  Their angles with respect to the $Y$-axis are $\\theta_1$ and $\\theta_2$ respectively.\n",
    "![double pendulum](img/double_pendulum.png)"
   ]
  },
  {
   "cell_type": "code",
   "execution_count": 3,
   "id": "e404d8a0-05ad-41d0-9fe1-502f8d37b7ea",
   "metadata": {},
   "outputs": [],
   "source": [
    "l1, m1 = symbols('l_1 m_1', real=True, positive=True)\n",
    "l2, m2 = symbols('l_2 m_2', real=True, positive=True)\n",
    "t, g = symbols('t g', real=True, positive=True)"
   ]
  },
  {
   "cell_type": "markdown",
   "id": "d777deab-759c-4509-9e26-595a7998dd7c",
   "metadata": {},
   "source": [
    "Define the functions $\\theta_1(t)$ and $\\theta_2(t)$."
   ]
  },
  {
   "cell_type": "code",
   "execution_count": 6,
   "id": "a03bdd6d-b401-4e51-8b37-560ee1c9a279",
   "metadata": {},
   "outputs": [],
   "source": [
    "theta1, theta2 = symbols(r'\\theta_1 \\theta_2', cls=sympy.Function)\n",
    "theta1, theta2 = theta1(t), theta2(t)"
   ]
  },
  {
   "cell_type": "markdown",
   "id": "d4e8c4b8-b415-4d01-ac35-be04708cd2a3",
   "metadata": {},
   "source": [
    "Now we can express the carthesian coordinates of the two masses of the pendulum as functions of $\\theta_1(t)$ and $\\theta_2(t)$."
   ]
  },
  {
   "cell_type": "code",
   "execution_count": 7,
   "id": "1d6bb7bf-d17a-4121-9f7a-5421d082043f",
   "metadata": {},
   "outputs": [],
   "source": [
    "x1, y1 = l1*sin(theta1), -l1*cos(theta1)\n",
    "x2, y2 = x1 + l2*sin(theta2), y1 - l2*cos(theta2)"
   ]
  },
  {
   "cell_type": "code",
   "execution_count": 9,
   "id": "3802447c-cc8f-462c-9ced-8e8ae28759cc",
   "metadata": {},
   "outputs": [
    {
     "data": {
      "image/png": "[encoded data removed]",
      "text/latex": [
       "$\\displaystyle \\left( l_{1} \\sin{\\left(\\theta_{1}{\\left(t \\right)} \\right)}, \\  - l_{1} \\cos{\\left(\\theta_{1}{\\left(t \\right)} \\right)}\\right)$"
      ],
      "text/plain": [
       "(l₁⋅sin(\\theta₁(t)), -l₁⋅cos(\\theta₁(t)))"
      ]
     },
     "execution_count": 9,
     "metadata": {},
     "output_type": "execute_result"
    }
   ],
   "source": [
    "x1, y1"
   ]
  },
  {
   "cell_type": "code",
   "execution_count": 8,
   "id": "92594030-3848-4022-bf62-f7dad7c1b376",
   "metadata": {},
   "outputs": [
    {
     "data": {
      "image/png": "[encoded data removed]",
      "text/latex": [
       "$\\displaystyle \\left( l_{1} \\sin{\\left(\\theta_{1}{\\left(t \\right)} \\right)} + l_{2} \\sin{\\left(\\theta_{2}{\\left(t \\right)} \\right)}, \\  - l_{1} \\cos{\\left(\\theta_{1}{\\left(t \\right)} \\right)} - l_{2} \\cos{\\left(\\theta_{2}{\\left(t \\right)} \\right)}\\right)$"
      ],
      "text/plain": [
       "(l₁⋅sin(\\theta₁(t)) + l₂⋅sin(\\theta₂(t)), -l₁⋅cos(\\theta₁(t)) - l₂⋅cos(\\theta₂(t)))"
      ]
     },
     "execution_count": 8,
     "metadata": {},
     "output_type": "execute_result"
    }
   ],
   "source": [
    "x2, y2"
   ]
  },
  {
   "cell_type": "markdown",
   "id": "c005d14e-eb51-45ed-b865-e51de0cbd2fb",
   "metadata": {},
   "source": [
    "Next, we can define the kinetic energy $T$ and the potential energy $U$ of the system, as well as the Lagrangian $L = T - U$."
   ]
  },
  {
   "cell_type": "code",
   "execution_count": 10,
   "id": "890b58a9-dd88-4315-8241-91c5bcac8c62",
   "metadata": {},
   "outputs": [
    {
     "data": {
      "image/png": "[encoded data removed]",
      "text/latex": [
       "$\\displaystyle \\frac{m_{1} \\left(l_{1}^{2} \\sin^{2}{\\left(\\theta_{1}{\\left(t \\right)} \\right)} \\left(\\frac{d}{d t} \\theta_{1}{\\left(t \\right)}\\right)^{2} + l_{1}^{2} \\cos^{2}{\\left(\\theta_{1}{\\left(t \\right)} \\right)} \\left(\\frac{d}{d t} \\theta_{1}{\\left(t \\right)}\\right)^{2}\\right)}{2} + \\frac{m_{2} \\left(\\left(l_{1} \\sin{\\left(\\theta_{1}{\\left(t \\right)} \\right)} \\frac{d}{d t} \\theta_{1}{\\left(t \\right)} + l_{2} \\sin{\\left(\\theta_{2}{\\left(t \\right)} \\right)} \\frac{d}{d t} \\theta_{2}{\\left(t \\right)}\\right)^{2} + \\left(l_{1} \\cos{\\left(\\theta_{1}{\\left(t \\right)} \\right)} \\frac{d}{d t} \\theta_{1}{\\left(t \\right)} + l_{2} \\cos{\\left(\\theta_{2}{\\left(t \\right)} \\right)} \\frac{d}{d t} \\theta_{2}{\\left(t \\right)}\\right)^{2}\\right)}{2}$"
      ],
      "text/plain": [
       "   ⎛                                     2                                        2⎞      ⎛                                                               \n",
       "   ⎜  2    2             ⎛d             ⎞      2    2             ⎛d             ⎞ ⎟      ⎜⎛                   d                                   d      \n",
       "m₁⋅⎜l₁ ⋅sin (\\theta₁(t))⋅⎜──(\\theta₁(t))⎟  + l₁ ⋅cos (\\theta₁(t))⋅⎜──(\\theta₁(t))⎟ ⎟   m₂⋅⎜⎜l₁⋅sin(\\theta₁(t))⋅──(\\theta₁(t)) + l₂⋅sin(\\theta₂(t))⋅──(\\the\n",
       "   ⎝                     ⎝dt            ⎠                         ⎝dt            ⎠ ⎠      ⎝⎝                   dt                                  dt     \n",
       "──────────────────────────────────────────────────────────────────────────────────── + ───────────────────────────────────────────────────────────────────\n",
       "                                         2                                                                                                                \n",
       "\n",
       "        2                                                                          2⎞\n",
       "       ⎞    ⎛                   d                                   d             ⎞ ⎟\n",
       "ta₂(t))⎟  + ⎜l₁⋅cos(\\theta₁(t))⋅──(\\theta₁(t)) + l₂⋅cos(\\theta₂(t))⋅──(\\theta₂(t))⎟ ⎟\n",
       "       ⎠    ⎝                   dt                                  dt            ⎠ ⎠\n",
       "─────────────────────────────────────────────────────────────────────────────────────\n",
       "        2                                                                            "
      ]
     },
     "execution_count": 10,
     "metadata": {},
     "output_type": "execute_result"
    }
   ],
   "source": [
    "T = m1*(x1.diff(t)**2 + y1.diff(t)**2)/2 + \\\n",
    "    m2*(x2.diff(t)**2 + y2.diff(t)**2)/2\n",
    "T"
   ]
  },
  {
   "cell_type": "code",
   "execution_count": 11,
   "id": "d25ef7c4-92cd-4a1d-b02a-04766d239ce4",
   "metadata": {},
   "outputs": [
    {
     "data": {
      "image/png": "[encoded data removed]",
      "text/latex": [
       "$\\displaystyle - g l_{1} m_{1} \\cos{\\left(\\theta_{1}{\\left(t \\right)} \\right)} + g m_{2} \\left(- l_{1} \\cos{\\left(\\theta_{1}{\\left(t \\right)} \\right)} - l_{2} \\cos{\\left(\\theta_{2}{\\left(t \\right)} \\right)}\\right)$"
      ],
      "text/plain": [
       "-g⋅l₁⋅m₁⋅cos(\\theta₁(t)) + g⋅m₂⋅(-l₁⋅cos(\\theta₁(t)) - l₂⋅cos(\\theta₂(t)))"
      ]
     },
     "execution_count": 11,
     "metadata": {},
     "output_type": "execute_result"
    }
   ],
   "source": [
    "U = m1*g*y1 + m2*g*y2\n",
    "U"
   ]
  },
  {
   "cell_type": "code",
   "execution_count": 12,
   "id": "17c0c69b-dd3e-4975-ae70-5c188bebf8cf",
   "metadata": {},
   "outputs": [],
   "source": [
    "L = T - U"
   ]
  },
  {
   "cell_type": "markdown",
   "id": "2eec5ca0-766f-499f-b243-50cbf7311baa",
   "metadata": {},
   "source": [
    "As for the simple pendulum, we can solve the set of Euler-Lagrange equations:\n",
    "$$\n",
    "    \\begin{cases}\n",
    "        \\frac{\\partial L}{\\partial \\theta_1} - \\frac{d}{d t} \\frac{\\partial L}{\\partial \\dot{\\theta_1}} = 0 \\\\\n",
    "        \\frac{\\partial L}{\\partial \\theta_2} - \\frac{d}{d t} \\frac{\\partial L}{\\partial \\dot{\\theta_2}} = 0\n",
    "    \\end{cases}\n",
    "$$"
   ]
  },
  {
   "cell_type": "markdown",
   "id": "f80b1bff-af6d-4ce1-ada8-ecf42c46c1ef",
   "metadata": {},
   "source": [
    "For convenience, we define $\\dot{\\theta}_1(t)$, $\\dot{\\theta}_2(t)$, $\\ddot{\\theta}_1(t)$ and $\\ddot{\\theta}_2(t)$."
   ]
  },
  {
   "cell_type": "code",
   "execution_count": 16,
   "id": "8ff2f897-ea87-453d-bbf4-2147aae9e3d5",
   "metadata": {},
   "outputs": [],
   "source": [
    "theta1_dot, theta2_dot = theta1.diff(t), theta2.diff(t)\n",
    "theta1_ddot, theta2_ddot = theta1_dot.diff(t), theta2_dot.diff(t)"
   ]
  },
  {
   "cell_type": "code",
   "execution_count": 24,
   "id": "266ecf74-7b19-4f7a-b2d0-bba969590b15",
   "metadata": {},
   "outputs": [
    {
     "data": {
      "image/png": "[encoded data removed]",
      "text/latex": [
       "$\\displaystyle - l_{1} \\left(g m_{1} \\sin{\\left(\\theta_{1}{\\left(t \\right)} \\right)} + g m_{2} \\sin{\\left(\\theta_{1}{\\left(t \\right)} \\right)} + l_{1} m_{1} \\frac{d^{2}}{d t^{2}} \\theta_{1}{\\left(t \\right)} + l_{1} m_{2} \\frac{d^{2}}{d t^{2}} \\theta_{1}{\\left(t \\right)} + l_{2} m_{2} \\sin{\\left(\\theta_{1}{\\left(t \\right)} - \\theta_{2}{\\left(t \\right)} \\right)} \\left(\\frac{d}{d t} \\theta_{2}{\\left(t \\right)}\\right)^{2} + l_{2} m_{2} \\cos{\\left(\\theta_{1}{\\left(t \\right)} - \\theta_{2}{\\left(t \\right)} \\right)} \\frac{d^{2}}{d t^{2}} \\theta_{2}{\\left(t \\right)}\\right)$"
      ],
      "text/plain": [
       "    ⎛                                                      2                       2                                                                  2   \n",
       "    ⎜                                                     d                       d                                                   ⎛d             ⎞    \n",
       "-l₁⋅⎜g⋅m₁⋅sin(\\theta₁(t)) + g⋅m₂⋅sin(\\theta₁(t)) + l₁⋅m₁⋅───(\\theta₁(t)) + l₁⋅m₂⋅───(\\theta₁(t)) + l₂⋅m₂⋅sin(\\theta₁(t) - \\theta₂(t))⋅⎜──(\\theta₂(t))⎟  + \n",
       "    ⎜                                                      2                       2                                                  ⎝dt            ⎠    \n",
       "    ⎝                                                    dt                      dt                                                                       \n",
       "\n",
       "                                     2            ⎞\n",
       "                                    d             ⎟\n",
       "l₂⋅m₂⋅cos(\\theta₁(t) - \\theta₂(t))⋅───(\\theta₂(t))⎟\n",
       "                                     2            ⎟\n",
       "                                   dt             ⎠"
      ]
     },
     "execution_count": 24,
     "metadata": {},
     "output_type": "execute_result"
    }
   ],
   "source": [
    "EL_eq1 = (L.diff(theta1) - L.diff(theta1_dot).diff(t)).simplify()\n",
    "EL_eq1"
   ]
  },
  {
   "cell_type": "code",
   "execution_count": 25,
   "id": "1ccf3cd8-ad9d-4608-a6bc-896d62a9e237",
   "metadata": {},
   "outputs": [
    {
     "data": {
      "image/png": "[encoded data removed]",
      "text/latex": [
       "$\\displaystyle l_{2} m_{2} \\left(- g \\sin{\\left(\\theta_{2}{\\left(t \\right)} \\right)} + l_{1} \\sin{\\left(\\theta_{1}{\\left(t \\right)} - \\theta_{2}{\\left(t \\right)} \\right)} \\left(\\frac{d}{d t} \\theta_{1}{\\left(t \\right)}\\right)^{2} - l_{1} \\cos{\\left(\\theta_{1}{\\left(t \\right)} - \\theta_{2}{\\left(t \\right)} \\right)} \\frac{d^{2}}{d t^{2}} \\theta_{1}{\\left(t \\right)} - l_{2} \\frac{d^{2}}{d t^{2}} \\theta_{2}{\\left(t \\right)}\\right)$"
      ],
      "text/plain": [
       "      ⎛                                                                     2                                     2                    2            ⎞\n",
       "      ⎜                                                     ⎛d             ⎞                                     d                    d             ⎟\n",
       "l₂⋅m₂⋅⎜-g⋅sin(\\theta₂(t)) + l₁⋅sin(\\theta₁(t) - \\theta₂(t))⋅⎜──(\\theta₁(t))⎟  - l₁⋅cos(\\theta₁(t) - \\theta₂(t))⋅───(\\theta₁(t)) - l₂⋅───(\\theta₂(t))⎟\n",
       "      ⎜                                                     ⎝dt            ⎠                                      2                    2            ⎟\n",
       "      ⎝                                                                                                         dt                   dt             ⎠"
      ]
     },
     "execution_count": 25,
     "metadata": {},
     "output_type": "execute_result"
    }
   ],
   "source": [
    "EL_eq2 = (L.diff(theta2) - L.diff(theta2_dot).diff(t)).simplify()\n",
    "EL_eq2"
   ]
  },
  {
   "cell_type": "code",
   "execution_count": 26,
   "id": "8b62fd47-471e-4e7d-a1e5-c1581c86ca04",
   "metadata": {},
   "outputs": [],
   "source": [
    "rhs = sympy.solve({EL_eq1, EL_eq2}, {theta1_ddot, theta2_ddot})"
   ]
  },
  {
   "cell_type": "code",
   "execution_count": 29,
   "id": "499d3cdd-5531-4bc8-b236-809f3e9e1673",
   "metadata": {},
   "outputs": [
    {
     "data": {
      "image/png": "[encoded data removed]",
      "text/latex": [
       "$\\displaystyle \\frac{- g m_{1} \\sin{\\left(\\theta_{1}{\\left(t \\right)} \\right)} - \\frac{g m_{2} \\sin{\\left(\\theta_{1}{\\left(t \\right)} - 2 \\theta_{2}{\\left(t \\right)} \\right)}}{2} - \\frac{g m_{2} \\sin{\\left(\\theta_{1}{\\left(t \\right)} \\right)}}{2} - \\frac{l_{1} m_{2} \\sin{\\left(2 \\theta_{1}{\\left(t \\right)} - 2 \\theta_{2}{\\left(t \\right)} \\right)} \\left(\\frac{d}{d t} \\theta_{1}{\\left(t \\right)}\\right)^{2}}{2} - l_{2} m_{2} \\sin{\\left(\\theta_{1}{\\left(t \\right)} - \\theta_{2}{\\left(t \\right)} \\right)} \\left(\\frac{d}{d t} \\theta_{2}{\\left(t \\right)}\\right)^{2}}{l_{1} \\left(m_{1} - m_{2} \\cos^{2}{\\left(\\theta_{1}{\\left(t \\right)} - \\theta_{2}{\\left(t \\right)} \\right)} + m_{2}\\right)}$"
      ],
      "text/plain": [
       "                                                                                                                                            2             \n",
       "                                                                                                                            ⎛d             ⎞              \n",
       "                                                                                     l₁⋅m₂⋅sin(2⋅\\theta₁(t) - 2⋅\\theta₂(t))⋅⎜──(\\theta₁(t))⎟              \n",
       "                        g⋅m₂⋅sin(\\theta₁(t) - 2⋅\\theta₂(t))   g⋅m₂⋅sin(\\theta₁(t))                                          ⎝dt            ⎠              \n",
       "-g⋅m₁⋅sin(\\theta₁(t)) - ─────────────────────────────────── - ──────────────────── - ──────────────────────────────────────────────────────── - l₂⋅m₂⋅sin(\n",
       "                                         2                             2                                        2                                         \n",
       "──────────────────────────────────────────────────────────────────────────────────────────────────────────────────────────────────────────────────────────\n",
       "                                                                             ⎛           2                              ⎞                                 \n",
       "                                                                          l₁⋅⎝m₁ - m₂⋅cos (\\theta₁(t) - \\theta₂(t)) + m₂⎠                                 \n",
       "\n",
       "                                          \n",
       "                                          \n",
       "                                         2\n",
       "                         ⎛d             ⎞ \n",
       "\\theta₁(t) - \\theta₂(t))⋅⎜──(\\theta₂(t))⎟ \n",
       "                         ⎝dt            ⎠ \n",
       "──────────────────────────────────────────\n",
       "                                          \n",
       "                                          "
      ]
     },
     "execution_count": 29,
     "metadata": {},
     "output_type": "execute_result"
    }
   ],
   "source": [
    "rhs[theta1_ddot].simplify()"
   ]
  },
  {
   "cell_type": "code",
   "execution_count": 30,
   "id": "d04cda8b-bc0a-41b2-97d7-e42f84d353b0",
   "metadata": {},
   "outputs": [
    {
     "data": {
      "image/png": "[encoded data removed]",
      "text/latex": [
       "$\\displaystyle \\frac{\\frac{g m_{1} \\sin{\\left(2 \\theta_{1}{\\left(t \\right)} - \\theta_{2}{\\left(t \\right)} \\right)}}{2} - \\frac{g m_{1} \\sin{\\left(\\theta_{2}{\\left(t \\right)} \\right)}}{2} + \\frac{g m_{2} \\sin{\\left(2 \\theta_{1}{\\left(t \\right)} - \\theta_{2}{\\left(t \\right)} \\right)}}{2} - \\frac{g m_{2} \\sin{\\left(\\theta_{2}{\\left(t \\right)} \\right)}}{2} + l_{1} m_{1} \\sin{\\left(\\theta_{1}{\\left(t \\right)} - \\theta_{2}{\\left(t \\right)} \\right)} \\left(\\frac{d}{d t} \\theta_{1}{\\left(t \\right)}\\right)^{2} + l_{1} m_{2} \\sin{\\left(\\theta_{1}{\\left(t \\right)} - \\theta_{2}{\\left(t \\right)} \\right)} \\left(\\frac{d}{d t} \\theta_{1}{\\left(t \\right)}\\right)^{2} + \\frac{l_{2} m_{2} \\sin{\\left(2 \\theta_{1}{\\left(t \\right)} - 2 \\theta_{2}{\\left(t \\right)} \\right)} \\left(\\frac{d}{d t} \\theta_{2}{\\left(t \\right)}\\right)^{2}}{2}}{l_{2} \\left(m_{1} - m_{2} \\cos^{2}{\\left(\\theta_{1}{\\left(t \\right)} - \\theta_{2}{\\left(t \\right)} \\right)} + m_{2}\\right)}$"
      ],
      "text/plain": [
       "                                                                                                                                                          \n",
       "                                                                                                                                                          \n",
       "                                                                                                                                                          \n",
       "g⋅m₁⋅sin(2⋅\\theta₁(t) - \\theta₂(t))   g⋅m₁⋅sin(\\theta₂(t))   g⋅m₂⋅sin(2⋅\\theta₁(t) - \\theta₂(t))   g⋅m₂⋅sin(\\theta₂(t))                                   \n",
       "─────────────────────────────────── - ──────────────────── + ─────────────────────────────────── - ──────────────────── + l₁⋅m₁⋅sin(\\theta₁(t) - \\theta₂(t\n",
       "                 2                             2                              2                             2                                             \n",
       "──────────────────────────────────────────────────────────────────────────────────────────────────────────────────────────────────────────────────────────\n",
       "                                                                                                                           ⎛           2                  \n",
       "                                                                                                                        l₂⋅⎝m₁ - m₂⋅cos (\\theta₁(t) - \\the\n",
       "\n",
       "                                                                                                                                     2\n",
       "                                                                                                                     ⎛d             ⎞ \n",
       "                   2                                                      2   l₂⋅m₂⋅sin(2⋅\\theta₁(t) - 2⋅\\theta₂(t))⋅⎜──(\\theta₂(t))⎟ \n",
       "   ⎛d             ⎞                                       ⎛d             ⎞                                           ⎝dt            ⎠ \n",
       "))⋅⎜──(\\theta₁(t))⎟  + l₁⋅m₂⋅sin(\\theta₁(t) - \\theta₂(t))⋅⎜──(\\theta₁(t))⎟  + ────────────────────────────────────────────────────────\n",
       "   ⎝dt            ⎠                                       ⎝dt            ⎠                               2                            \n",
       "──────────────────────────────────────────────────────────────────────────────────────────────────────────────────────────────────────\n",
       "            ⎞                                                                                                                         \n",
       "ta₂(t)) + m₂⎠                                                                                                                         "
      ]
     },
     "execution_count": 30,
     "metadata": {},
     "output_type": "execute_result"
    }
   ],
   "source": [
    "rhs[theta2_ddot].simplify()"
   ]
  },
  {
   "cell_type": "markdown",
   "id": "6c5cd183-e948-44d2-93ae-ae54a833e890",
   "metadata": {},
   "source": [
    "Setting $m_2 = 0$ in the solution for $\\ddot{\\theta}_1$ should yield the result for a simple pendulum."
   ]
  },
  {
   "cell_type": "code",
   "execution_count": 31,
   "id": "af388c7e-5b6b-478f-be43-8c48d7b3d767",
   "metadata": {},
   "outputs": [
    {
     "data": {
      "image/png": "[encoded data removed]",
      "text/latex": [
       "$\\displaystyle - \\frac{g \\sin{\\left(\\theta_{1}{\\left(t \\right)} \\right)}}{l_{1}}$"
      ],
      "text/plain": [
       "-g⋅sin(\\theta₁(t)) \n",
       "───────────────────\n",
       "         l₁        "
      ]
     },
     "execution_count": 31,
     "metadata": {},
     "output_type": "execute_result"
    }
   ],
   "source": [
    "rhs[theta1_ddot].subs(m2, 0)"
   ]
  },
  {
   "cell_type": "code",
   "execution_count": null,
   "id": "51e31cd6-07b0-4181-8b69-e60e349ee86f",
   "metadata": {},
   "outputs": [],
   "source": []
  }
 ],
 "metadata": {
  "kernelspec": {
   "display_name": "Python 3 (ipykernel)",
   "language": "python",
   "name": "python3"
  },
  "language_info": {
   "codemirror_mode": {
    "name": "ipython",
    "version": 3
   },
   "file_extension": ".py",
   "mimetype": "text/x-python",
   "name": "python",
   "nbconvert_exporter": "python",
   "pygments_lexer": "ipython3",
   "version": "3.7.15"
  }
 },
 "nbformat": 4,
 "nbformat_minor": 5
}
