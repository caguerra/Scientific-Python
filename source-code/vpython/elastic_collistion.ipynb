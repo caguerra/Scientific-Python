{
 "cells": [
  {
   "cell_type": "markdown",
   "id": "9c02acd4-b67c-443f-90ac-defc0bb2d9d7",
   "metadata": {},
   "source": [
    "## Requirements"
   ]
  },
  {
   "cell_type": "code",
   "execution_count": 1,
   "id": "451c1297-aeee-4c36-98aa-819fa343c76b",
   "metadata": {
    "tags": []
   },
   "outputs": [
    {
     "data": {
      "text/html": [
       "<div id=\"glowscript\" class=\"glowscript\"></div>"
      ],
      "text/plain": [
       "<IPython.core.display.HTML object>"
      ]
     },
     "metadata": {},
     "output_type": "display_data"
    },
    {
     "data": {
      "application/javascript": [
       "if (typeof Jupyter !== \"undefined\") { window.__context = { glowscript_container: $(\"#glowscript\").removeAttr(\"id\")};}else{ element.textContent = ' ';}"
      ],
      "text/plain": [
       "<IPython.core.display.Javascript object>"
      ]
     },
     "metadata": {},
     "output_type": "display_data"
    }
   ],
   "source": [
    "import matplotlib.pyplot as plt\n",
    "from vpython import canvas, rate, sphere, sqrt, vector"
   ]
  },
  {
   "cell_type": "markdown",
   "id": "c90d176c-7080-474d-b00c-ce298c2ac93c",
   "metadata": {},
   "source": [
    "## Problem setting"
   ]
  },
  {
   "cell_type": "markdown",
   "id": "5d246fb8-4fcd-423b-bd9d-faab527ea5cd",
   "metadata": {},
   "source": [
    "Consider two particles $p_1$ and $p_2$ with given masses $m_1$ and $m_2$, radii $R_1$ and $R_2$, initial positions $\\vec{r}_1$ and $\\vec{r}_2$ (in 3D) and velocities $\\vec{v}_1$ and $\\vec{v}_2$ respectively.  We consider elastic collision, so both momentum and energy are conserved quantities.\n",
    "\n",
    "We use time discretization to simulate the system, starting at $t = 0$ and using time intervals $\\Delta t$.  Since there are no forces acting on the particles unless they collide, the equations of motion are given by\n",
    "$$\n",
    "    \\begin{array}{rcl}\n",
    "        \\vec{r}_1(t + \\Delta t) & = & \\vec{r}_1(t) + \\vec{v}_1(t) \\Delta t \\\\\n",
    "        \\vec{r}_2(t + \\Delta t) & = & \\vec{r}_2(t) + \\vec{v}_2(t) \\Delta t\n",
    "    \\end{array}\n",
    "$$\n",
    "\n",
    "So when the particles do not collide, $\\vec{v}_1(t + \\Delta t) = \\vec{v}_1(t)$ and $\\vec{v}_2(t + \\Delta t) = \\vec{v}_2(t)$."
   ]
  },
  {
   "cell_type": "markdown",
   "id": "ae5c919d-f6c6-484b-b87d-bf7df7971d88",
   "metadata": {},
   "source": [
    "The collision is modelled by a force that is parallel to\n",
    "$\\vec{r}_1 - \\vec{r}_2$ and proportional to its length.  When\n",
    "$\\| \\vec{r}_1 - \\vec{r}_2 \\| < R_1 + R_2$, the force exerted by the first particle exerted on the second is $\\vec{F}_{12} = \\vec{r}_1 - \\vec{r}_2$\n",
    "while the force of the second particle on the first is\n",
    "$\\vec{F}_{21} = -\\vec{F}_{12}$.\n",
    "\n",
    "$$\n",
    "    \\begin{array}{rcl}\n",
    "         \\vec{v}_1(t + \\Delta t) & = & \\vec{v}_1(t) + \\frac{\\vec{F}_{12}(t)}{m_1} \\Delta t \\\\\n",
    "         \\vec{v}_2(t + \\Delta t) & = & \\vec{v}_2(t) + \\frac{\\vec{F}_{21}(t)}{m_2} \\Delta t\n",
    "    \\end{array}\n",
    "$$"
   ]
  },
  {
   "cell_type": "markdown",
   "id": "ba01fb8a-39ab-4ac2-ac3a-2f38c2027d51",
   "metadata": {},
   "source": [
    "The collision can be visualized using vpython."
   ]
  },
  {
   "cell_type": "markdown",
   "id": "57e9faa5-b5d5-46cb-82b0-cdee8ae5d487",
   "metadata": {},
   "source": [
    "## Implementation"
   ]
  },
  {
   "cell_type": "markdown",
   "id": "db82c9a9-89b5-4c62-9814-6e01844c72c9",
   "metadata": {},
   "source": [
    "For convenience, we first write a function to create a vpython `sphere` that represents a particle.  For convenience, the radius of the particle is always equal to 1."
   ]
  },
  {
   "cell_type": "code",
   "execution_count": 2,
   "id": "ea41ca78-6b37-4168-b84a-b9923e79f3ed",
   "metadata": {
    "tags": []
   },
   "outputs": [],
   "source": [
    "def create_particle(m, pos, v):\n",
    "    radius = 1.0\n",
    "    particle = sphere(pos=pos, radius=radius)\n",
    "    particle.m = m\n",
    "    particle.v = v\n",
    "    return particle"
   ]
  },
  {
   "cell_type": "markdown",
   "id": "5062bbe3-0b76-45ea-b21a-748c2bc49562",
   "metadata": {},
   "source": [
    "A second function computes the force that the first particle exerts on the second, which is $\\vec{0}$ when they do not collide."
   ]
  },
  {
   "cell_type": "code",
   "execution_count": 3,
   "id": "cc2f0d58-4cd5-4dd2-a3c1-04dc03aa0ed8",
   "metadata": {
    "tags": []
   },
   "outputs": [],
   "source": [
    "def interaction_force(p1, p2):\n",
    "    distance = sqrt((p1.pos.x - p2.pos.x)**2 + (p1.pos.y - p2.pos.y)**2 + (p1.pos.z - p2.pos.z)**2)\n",
    "    if distance >= p1.radius + p2.radius:\n",
    "        return vector(0.0, 0.0, 0.0)\n",
    "    else:\n",
    "        force_vector = (p1.pos - p2.pos)\n",
    "        return force_vector"
   ]
  },
  {
   "cell_type": "markdown",
   "id": "fe4e7099-6442-4deb-be8d-8fc38199a777",
   "metadata": {},
   "source": [
    "A third functions computes the total kinetic energy of the two particles."
   ]
  },
  {
   "cell_type": "code",
   "execution_count": 4,
   "id": "fc8f2a71-20c5-4966-be75-1e0c020d025a",
   "metadata": {
    "tags": []
   },
   "outputs": [],
   "source": [
    "def total_kinetic_energy(p1, p2):\n",
    "    v1_sqr = p1.v.x**2 + p1.v.y**2 + p1.v.z**2\n",
    "    v2_sqr = p2.v.x**2 + p2.v.y**2 + p2.v.z**2\n",
    "    return 0.5*(p1.m*v1_sqr + p2.m*v2_sqr)"
   ]
  },
  {
   "cell_type": "markdown",
   "id": "7251a09f-3f3e-4390-b4a1-86e86a17b8a5",
   "metadata": {},
   "source": [
    "Finally, we implement the actual simulation."
   ]
  },
  {
   "cell_type": "code",
   "execution_count": 14,
   "id": "8830152d-8df7-4c30-a04b-7157ff45e012",
   "metadata": {
    "tags": []
   },
   "outputs": [],
   "source": [
    "def animate_particles(m1, pos1, v1, m2, pos2, v2, t_max=10.0):\n",
    "    canvas()\n",
    "    p1 = create_particle(m1, pos1, v1)\n",
    "    p2 = create_particle(m2, pos2, v2)\n",
    "    time = []\n",
    "    kinetic_energy = []\n",
    "    momentum = []\n",
    "    t = 0\n",
    "    delta_t = 0.0001\n",
    "    while t <= t_max:\n",
    "        time.append(t)\n",
    "        kinetic_energy.append(total_kinetic_energy(p1, p2))\n",
    "        momentum.append(p1.m*p1.v + p2.m*p2.v)\n",
    "        rate(1.0/delta_t)\n",
    "        p1.pos += p1.v*delta_t\n",
    "        p2.pos += p2.v*delta_t\n",
    "        F12 = interaction_force(p1, p2)\n",
    "        F21 = -F12\n",
    "        p1.v += F12*delta_t/p1.m\n",
    "        p2.v += F21*delta_t/p2.m\n",
    "        t += delta_t\n",
    "    return time, kinetic_energy, momentum"
   ]
  },
  {
   "cell_type": "code",
   "execution_count": 15,
   "id": "88d8388f-22b4-441f-b8c6-40c7deb1be8d",
   "metadata": {
    "tags": []
   },
   "outputs": [
    {
     "data": {
      "text/html": [
       "<div id=\"glowscript\" class=\"glowscript\"></div>"
      ],
      "text/plain": [
       "<IPython.core.display.HTML object>"
      ]
     },
     "metadata": {},
     "output_type": "display_data"
    },
    {
     "data": {
      "application/javascript": [
       "if (typeof Jupyter !== \"undefined\") { window.__context = { glowscript_container: $(\"#glowscript\").removeAttr(\"id\")};}else{ element.textContent = ' ';}"
      ],
      "text/plain": [
       "<IPython.core.display.Javascript object>"
      ]
     },
     "metadata": {},
     "output_type": "display_data"
    }
   ],
   "source": [
    "m1 = 1.0\n",
    "pos1 = vector(-5.0, 0.5, 0.0)\n",
    "v1 = vector(1.0, 0.0, 0.0)\n",
    "m2 = 1.0\n",
    "pos2 = vector(0.0, 0.0, 0.0)\n",
    "v2 = vector(0.0, 0.0, 0.0)\n",
    "time, kinetic_energy, momentum = animate_particles(m1, pos1, v1, m2, pos2, v2)"
   ]
  },
  {
   "cell_type": "code",
   "execution_count": 18,
   "id": "e886fe54-5f11-480f-bada-e1a8dc58cbfa",
   "metadata": {},
   "outputs": [
    {
     "data": {
      "image/png": "[encoded data removed]",
      "text/plain": [
       "<Figure size 640x480 with 1 Axes>"
      ]
     },
     "metadata": {},
     "output_type": "display_data"
    }
   ],
   "source": [
    "plt.plot(time, kinetic_energy)\n",
    "plt.xlabel('$t$')\n",
    "plt.ylabel('$E_{\\mathrm{kinetic}}$');"
   ]
  },
  {
   "cell_type": "code",
   "execution_count": 13,
   "id": "9efb44be-22e3-4ecf-b3f4-4f7b479b5bbe",
   "metadata": {},
   "outputs": [
    {
     "name": "stdout",
     "output_type": "stream",
     "text": [
      "initial momentum: <1, 0, 0>,\n",
      "final momentum:   <1, 0, 0>\n"
     ]
    }
   ],
   "source": [
    "print(f'initial momentum: {momentum[0]},\\nfinal momentum:   {momentum[-1]}')"
   ]
  },
  {
   "cell_type": "markdown",
   "id": "e04efddc-9044-4427-8f76-10415d4d4f5e",
   "metadata": {},
   "source": [
    "Both the total kinetic energy and momentum are conserved quantities.  However, note that $\\Delta t$ should be sufficiently small."
   ]
  },
  {
   "cell_type": "code",
   "execution_count": null,
   "id": "c137be46-35bd-43ff-9c42-4c013d754622",
   "metadata": {},
   "outputs": [],
   "source": []
  }
 ],
 "metadata": {
  "kernelspec": {
   "display_name": "Python 3 (ipykernel)",
   "language": "python",
   "name": "python3"
  },
  "language_info": {
   "codemirror_mode": {
    "name": "ipython",
    "version": 3
   },
   "file_extension": ".py",
   "mimetype": "text/x-python",
   "name": "python",
   "nbconvert_exporter": "python",
   "pygments_lexer": "ipython3",
   "version": "3.10.9"
  }
 },
 "nbformat": 4,
 "nbformat_minor": 5
}
