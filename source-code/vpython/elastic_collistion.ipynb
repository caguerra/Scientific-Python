{
 "cells": [
  {
   "cell_type": "code",
   "execution_count": 15,
   "id": "451c1297-aeee-4c36-98aa-819fa343c76b",
   "metadata": {
    "tags": []
   },
   "outputs": [],
   "source": [
    "from vpython import canvas, rate, sphere, sqrt, vector"
   ]
  },
  {
   "cell_type": "code",
   "execution_count": 6,
   "id": "ea41ca78-6b37-4168-b84a-b9923e79f3ed",
   "metadata": {
    "tags": []
   },
   "outputs": [],
   "source": [
    "def create_particle(m, pos, v):\n",
    "    radius = 1.0\n",
    "    particle = sphere(pos=pos, radius=radius)\n",
    "    particle.m = m\n",
    "    particle.v = v\n",
    "    return particle"
   ]
  },
  {
   "cell_type": "code",
   "execution_count": 12,
   "id": "816743e2-b42c-456f-a40f-a91b12c7e5fb",
   "metadata": {
    "tags": []
   },
   "outputs": [],
   "source": [
    "p1 = create_particle(1.0, vector(-5.0, 0.0, 0.0), vector(1.0, 0.0, 0.0))\n",
    "p2 = create_particle(1.0, vector(5.0, 0.0, 0.0), vector(-1.0, 0.0, 0.0))"
   ]
  },
  {
   "cell_type": "code",
   "execution_count": 24,
   "id": "cc2f0d58-4cd5-4dd2-a3c1-04dc03aa0ed8",
   "metadata": {
    "tags": []
   },
   "outputs": [],
   "source": [
    "def interaction_force(p1, p2):\n",
    "    distance = sqrt((p1.pos.x - p2.pos.x)**2 + (p1.pos.y - p2.pos.y)**2 + (p1.pos.z - p2.pos.z)**2)\n",
    "    if distance >= p1.radius + p2.radius:\n",
    "        return vector(0.0, 0.0, 0.0), vector(0.0, 0.0, 0.0)\n",
    "    else:\n",
    "        force_vector = (p1.pos - p2.pos)/distance\n",
    "        return force_vector, -force_vector"
   ]
  },
  {
   "cell_type": "code",
   "execution_count": 25,
   "id": "1f6c27b7-78e0-4cc4-8837-f382b79b104f",
   "metadata": {
    "tags": []
   },
   "outputs": [
    {
     "data": {
      "text/plain": [
       "(<0, 0, 0>, <0, 0, 0>)"
      ]
     },
     "execution_count": 25,
     "metadata": {},
     "output_type": "execute_result"
    }
   ],
   "source": [
    "interaction_force(p1, p2)"
   ]
  },
  {
   "cell_type": "code",
   "execution_count": 26,
   "id": "8830152d-8df7-4c30-a04b-7157ff45e012",
   "metadata": {
    "tags": []
   },
   "outputs": [],
   "source": [
    "def animate_particles(m1, pos1, v1, m2, pos2, v2, t_max=10.0):\n",
    "    canvas()\n",
    "    p1 = create_particle(m1, pos1, v1)\n",
    "    p2 = create_particle(m2, pos2, v2)\n",
    "    t = 0\n",
    "    delta_t = 0.01\n",
    "    while t <= t_max:\n",
    "        rate(1.0/delta_t)\n",
    "        p1.pos += p1.v*delta_t\n",
    "        p2.pos += p2.v*delta_t\n",
    "        F1, F2 = interaction_force(p1, p2)\n",
    "        p1.v += F1/p1.m\n",
    "        p2.v += F2/p2.m\n",
    "        t += delta_t"
   ]
  },
  {
   "cell_type": "code",
   "execution_count": 29,
   "id": "88d8388f-22b4-441f-b8c6-40c7deb1be8d",
   "metadata": {
    "tags": []
   },
   "outputs": [
    {
     "data": {
      "text/html": [
       "<div id=\"glowscript\" class=\"glowscript\"></div>"
      ],
      "text/plain": [
       "<IPython.core.display.HTML object>"
      ]
     },
     "metadata": {},
     "output_type": "display_data"
    },
    {
     "data": {
      "application/javascript": [
       "if (typeof Jupyter !== \"undefined\") { window.__context = { glowscript_container: $(\"#glowscript\").removeAttr(\"id\")};}else{ element.textContent = ' ';}"
      ],
      "text/plain": [
       "<IPython.core.display.Javascript object>"
      ]
     },
     "metadata": {},
     "output_type": "display_data"
    }
   ],
   "source": [
    "m1 = 1.5\n",
    "pos1 = vector(-5.0, 0.5, 0.0)\n",
    "v1 = vector(1.0, 0.0, 0.0)\n",
    "m2 = 1.0\n",
    "pos2 = vector(5.0, -0.5, 0.0)\n",
    "v2 = vector(-1.0, 0.0, 0.0)\n",
    "animate_particles(m1, pos1, v1, m2, pos2, v2)"
   ]
  },
  {
   "cell_type": "code",
   "execution_count": null,
   "id": "e886fe54-5f11-480f-bada-e1a8dc58cbfa",
   "metadata": {},
   "outputs": [],
   "source": []
  }
 ],
 "metadata": {
  "kernelspec": {
   "display_name": "Python 3 (ipykernel)",
   "language": "python",
   "name": "python3"
  },
  "language_info": {
   "codemirror_mode": {
    "name": "ipython",
    "version": 3
   },
   "file_extension": ".py",
   "mimetype": "text/x-python",
   "name": "python",
   "nbconvert_exporter": "python",
   "pygments_lexer": "ipython3",
   "version": "3.10.9"
  }
 },
 "nbformat": 4,
 "nbformat_minor": 5
}
