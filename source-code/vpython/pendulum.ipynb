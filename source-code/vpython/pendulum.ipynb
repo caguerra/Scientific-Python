{
 "cells": [
  {
   "cell_type": "markdown",
   "id": "ae2ba95d-27c6-4a6b-a906-f5358ae179d2",
   "metadata": {},
   "source": [
    "## Requirements"
   ]
  },
  {
   "cell_type": "code",
   "execution_count": 1,
   "id": "51087eb8-6f51-451c-b1d6-9dd4066bfd48",
   "metadata": {},
   "outputs": [
    {
     "data": {
      "text/html": [
       "<div id=\"glowscript\" class=\"glowscript\"></div>"
      ],
      "text/plain": [
       "<IPython.core.display.HTML object>"
      ]
     },
     "metadata": {},
     "output_type": "display_data"
    },
    {
     "data": {
      "application/javascript": [
       "if (typeof Jupyter !== \"undefined\") { window.__context = { glowscript_container: $(\"#glowscript\").removeAttr(\"id\")};}else{ element.textContent = ' ';}"
      ],
      "text/plain": [
       "<IPython.core.display.Javascript object>"
      ]
     },
     "metadata": {},
     "output_type": "display_data"
    }
   ],
   "source": [
    "import scipy.integrate\n",
    "from vpython import canvas, color, cylinder, rate, sphere, sin, cos, pi, vector"
   ]
  },
  {
   "cell_type": "markdown",
   "id": "22d9f381-75eb-407e-a0b2-54e136db2a0c",
   "metadata": {},
   "source": [
    "## Single pendulum"
   ]
  },
  {
   "cell_type": "markdown",
   "id": "eaf78dd8-5edc-4832-82df-c95572eaeec6",
   "metadata": {},
   "source": [
    "### Set of ordinary differential equations"
   ]
  },
  {
   "cell_type": "markdown",
   "id": "de1a3e87-297e-4da0-a572-70a57257d6c9",
   "metadata": {},
   "source": [
    "The motion of a frictionless pendulum is given by the following set of first order differentical equations:\n",
    "\n",
    "$$\n",
    "    \\begin{cases}\n",
    "        \\frac{d \\theta}{d t}(t) = \\omega(t) \\\\\n",
    "        \\frac{d \\omega}{d t}(t) = -\\frac{m g}{l} \\sin \\theta(t)\n",
    "    \\end{cases}\n",
    "$$\n",
    "\n",
    "where $m$ and $l$ are the mass and the length of the pendulum respectively, $g$ is the gravitational accelleration, $theta(t)$ is the angle of the pendulum with respect to the $Y$-axis, and $\\omega(t)$ is the angular velocity.\n",
    "\n",
    "To numerically solve this set of equations, we write a function that returns the values of the righthand side of these equations as a list."
   ]
  },
  {
   "cell_type": "code",
   "execution_count": null,
   "id": "a48687e7-cf7c-4e7b-8a66-04100624c129",
   "metadata": {},
   "outputs": [],
   "source": [
    "def funcs(t, Y, g, l, m):\n",
    "    theta, omega = Y\n",
    "    return [\n",
    "        omega,\n",
    "        -m*g*sin(theta)/l,\n",
    "    ]"
   ]
  },
  {
   "cell_type": "markdown",
   "id": "91f364cc-ca92-44f0-af5c-75f4c3450e00",
   "metadata": {},
   "source": [
    "In addition, we compute the Jacobian, i.e., if we define $f_1(\\theta, \\omega, t) = \\omega$ and $f_2(\\theta, \\omega, t) = - \\frac{m g}{l} \\sin \\theta$, than the Jacobian is given by:\n",
    "$$\n",
    "    \\left(\n",
    "        \\begin{matrix}\n",
    "            \\frac{\\partial f_1}{\\partial \\theta} & \\frac{\\partial f_1}{\\partial \\omega} \\\\\n",
    "            \\frac{\\partial f_2}{\\partial \\theta} & \\frac{\\partial f_2}{\\partial \\omega}\n",
    "        \\end{matrix}\n",
    "    \\right)\n",
    "$$"
   ]
  },
  {
   "cell_type": "code",
   "execution_count": null,
   "id": "1facc45c-450c-408e-8b3a-e4f464d50c91",
   "metadata": {},
   "outputs": [],
   "source": [
    "def jac(t, Y, g, l, m):\n",
    "    theta, omega = Y\n",
    "    return [\n",
    "        [0.0, 1.0],\n",
    "        [-m*g*cos(theta)/l, 0.0],\n",
    "    ]"
   ]
  },
  {
   "cell_type": "markdown",
   "id": "6f3ee1d1-3c55-4d6d-af86-b313d6660cad",
   "metadata": {},
   "source": [
    "### Animation"
   ]
  },
  {
   "cell_type": "markdown",
   "id": "60ad44fb-b1b3-4890-bc38-011073eb59c4",
   "metadata": {},
   "source": [
    "Next, we define a function that takes all relevant parameters as arguments, sets up the VPython scene, the system of ODEs, and integrates the set of equations, updating the scene's objects after each time step."
   ]
  },
  {
   "cell_type": "code",
   "execution_count": null,
   "id": "030e4465-c1af-46e8-bc7f-5fdf69e45ea4",
   "metadata": {
    "tags": []
   },
   "outputs": [],
   "source": [
    "def animate(t_max, theta0, omega0=0.0, g=9.81, l=9.81/10.0, m=1.0, delta_t=0.01):\n",
    "    rate_value = int(1.0/delta_t)\n",
    "    # set up the scene\n",
    "    canvas()\n",
    "    # set a hidden point in the scene to make sure that the pivot is centered\n",
    "    hidden = sphere(pos=vector(-l/2.0, -l, 0.0), radius=0.0001)\n",
    "    pivot = sphere(pos=vector(0.0, 0.0, 0.0), radius=0.005)\n",
    "    mass = sphere(pos=vector(l*sin(theta0), -l*cos(theta0), 0.0),\n",
    "                  radius=0.05,\n",
    "                  color=color.yellow,\n",
    "                  make_trail=True, retain=10)\n",
    "    string = cylinder(pos=pivot.pos, axis=mass.pos - pivot.pos,\n",
    "                      radius= 0.01)\n",
    "    # define the ODE system\n",
    "    system = scipy.integrate.ode(funcs, jac) \\\n",
    "        .set_integrator('dopri5') \\\n",
    "        .set_f_params(g, l, m) \\\n",
    "        .set_jac_params(g, l, m) \\\n",
    "        .set_initial_value((theta0, omega0), 0.0)\n",
    "    # integrate the system of ODEs and update the scene's objects accordingly\n",
    "    while system.successful() and system.t < t_max:\n",
    "        rate(rate_value)\n",
    "        system.integrate(system.t + delta_t)\n",
    "        theta, omega = system.y\n",
    "        mass.pos = vector(l*sin(theta), -l*cos(theta), 0.0)\n",
    "        string.axis =  mass.pos - pivot.pos\n",
    "    mass.clear_trail()"
   ]
  },
  {
   "cell_type": "markdown",
   "id": "327081da-f87e-4a5f-af6f-ff24de017153",
   "metadata": {},
   "source": [
    "Run the animation for $\\theta_0 = \\frac{\\pi}{6}$."
   ]
  },
  {
   "cell_type": "code",
   "execution_count": null,
   "id": "194b68af-f7a4-4877-9c8f-4ec2c68b16eb",
   "metadata": {},
   "outputs": [],
   "source": [
    "animate(10*pi, pi/6.0)"
   ]
  },
  {
   "cell_type": "markdown",
   "id": "c20369fe-0449-4c7d-b5be-26927838438c",
   "metadata": {},
   "source": [
    "Run the animation for $\\theta = \\frac{95\\pi}{100}$."
   ]
  },
  {
   "cell_type": "code",
   "execution_count": null,
   "id": "fb68e348-ef3d-43c9-919b-fa9a86d9f813",
   "metadata": {},
   "outputs": [],
   "source": [
    "animate(10*pi, 0.95*pi)"
   ]
  },
  {
   "cell_type": "markdown",
   "id": "5f7db2df-36ca-4dda-ac1c-a1ee1889d3aa",
   "metadata": {},
   "source": [
    "## Double pendulum"
   ]
  },
  {
   "cell_type": "markdown",
   "id": "4a320cb1-5639-40c0-9e09-a388a8b927cd",
   "metadata": {},
   "source": [
    "The set of four non-linear ordinary differential equations that describe the motion of a double pendulum has been derived using sympy, and the functions that compute the right hand side of the equations and the Jacobian have been pickled.  We can load these pickled functions and reuse them here."
   ]
  },
  {
   "cell_type": "code",
   "execution_count": 2,
   "id": "e8ed55cb-1c47-4d47-8dbe-5dbb8eb96058",
   "metadata": {},
   "outputs": [],
   "source": [
    "%load_ext autoreload\n",
    "%autoreload 2\n",
    "from double_pendulum import compute_odes"
   ]
  },
  {
   "cell_type": "code",
   "execution_count": 3,
   "id": "4160b3ff-e664-47c8-b17d-8b44eaf6f948",
   "metadata": {},
   "outputs": [],
   "source": [
    "sp_funcs, sp_jac = compute_odes()"
   ]
  },
  {
   "cell_type": "code",
   "execution_count": 4,
   "id": "28469ad4-a296-4de9-b9a2-bba2db525c2d",
   "metadata": {
    "tags": []
   },
   "outputs": [],
   "source": [
    "def animate(t_max, theta1_0, omega1_0, theta2_0, omega2_0,\n",
    "            g=9.81, l1=9.81/10.0, m1=1.0, l2=9.81/10.0, m2=0.5,\n",
    "            delta_t=0.01):\n",
    "    rate_value = int(1.0/delta_t)\n",
    "    # set up the scene\n",
    "    canvas()\n",
    "    # set a hidden point in the scene to make sure that the pivot is centered\n",
    "    l = l1 + l2\n",
    "    hidden = sphere(pos=vector(-l/2.0, -l, 0.0), radius=0.0001)\n",
    "    pivot = sphere(pos=vector(0.0, 0.0, 0.0), radius=0.005)\n",
    "    x1 = l1*sin(theta1_0)\n",
    "    y1 = -l1*cos(theta1_0)\n",
    "    mass1 = sphere(pos=vector(x1, y1, 0.0),\n",
    "                   radius=0.05,\n",
    "                   color=color.yellow,\n",
    "                   make_trail=True, retain=10)\n",
    "    string1 = cylinder(pos=pivot.pos, axis=mass1.pos - pivot.pos,\n",
    "                       radius= 0.01)\n",
    "    x2 = x1 + l2*sin(theta2_0)\n",
    "    y2 = y1 - l2*cos(theta2_0)\n",
    "    mass2 = sphere(pos=vector(x2, y2, 0.0),\n",
    "                   radius=0.05,\n",
    "                   color=color.yellow,\n",
    "                   make_trail=True, retain=10)\n",
    "    string2 = cylinder(pos=mass1.pos, axis=mass2.pos - mass1.pos,\n",
    "                       radius= 0.01)\n",
    "    # define the ODE system\n",
    "    system = scipy.integrate.ode(sp_funcs, sp_jac) \\\n",
    "        .set_integrator('dopri5') \\\n",
    "        .set_f_params(g, l1, m1, l2, m2) \\\n",
    "        .set_jac_params(g, l1, m1, l2, m2) \\\n",
    "        .set_initial_value((theta1_0, omega1_0, theta2_0, omega2_0), 0.0)\n",
    "    # integrate the system of ODEs and update the scene's objects accordingly\n",
    "    while system.successful() and system.t < t_max:\n",
    "        rate(rate_value)\n",
    "        system.integrate(system.t + delta_t)\n",
    "        theta1, omega1, theta2, omega2 = system.y\n",
    "        mass1.pos = vector(l1*sin(theta1), -l1*cos(theta1), 0.0)\n",
    "        string1.axis =  mass1.pos - pivot.pos\n",
    "        mass2.pos = mass1.pos + vector(l2*sin(theta2), -l2*cos(theta2), 0.0)\n",
    "        string2.pos = mass1.pos\n",
    "        string2.axis = mass2.pos - mass1.pos\n",
    "    # mass1.clear_trail()\n",
    "    # mass2.clear_trail()"
   ]
  },
  {
   "cell_type": "code",
   "execution_count": null,
   "id": "880f74a4-c3c9-4d60-867c-bfd2cf36b103",
   "metadata": {},
   "outputs": [
    {
     "data": {
      "text/html": [
       "<div id=\"glowscript\" class=\"glowscript\"></div>"
      ],
      "text/plain": [
       "<IPython.core.display.HTML object>"
      ]
     },
     "metadata": {},
     "output_type": "display_data"
    },
    {
     "data": {
      "application/javascript": [
       "if (typeof Jupyter !== \"undefined\") { window.__context = { glowscript_container: $(\"#glowscript\").removeAttr(\"id\")};}else{ element.textContent = ' ';}"
      ],
      "text/plain": [
       "<IPython.core.display.Javascript object>"
      ]
     },
     "metadata": {},
     "output_type": "display_data"
    },
    {
     "data": {
      "application/javascript": [
       "if (typeof Jupyter !== \"undefined\") {require.undef(\"nbextensions/vpython_libraries/glow.min\");}else{element.textContent = ' ';}"
      ],
      "text/plain": [
       "<IPython.core.display.Javascript object>"
      ]
     },
     "metadata": {},
     "output_type": "display_data"
    },
    {
     "data": {
      "application/javascript": [
       "if (typeof Jupyter !== \"undefined\") {require.undef(\"nbextensions/vpython_libraries/glowcomm\");}else{element.textContent = ' ';}"
      ],
      "text/plain": [
       "<IPython.core.display.Javascript object>"
      ]
     },
     "metadata": {},
     "output_type": "display_data"
    },
    {
     "data": {
      "application/javascript": [
       "if (typeof Jupyter !== \"undefined\") {require.undef(\"nbextensions/vpython_libraries/jquery-ui.custom.min\");}else{element.textContent = ' ';}"
      ],
      "text/plain": [
       "<IPython.core.display.Javascript object>"
      ]
     },
     "metadata": {},
     "output_type": "display_data"
    },
    {
     "data": {
      "application/javascript": [
       "if (typeof Jupyter !== \"undefined\") {require([\"nbextensions/vpython_libraries/glow.min\"], function(){console.log(\"GLOW LOADED\");});}else{element.textContent = ' ';}"
      ],
      "text/plain": [
       "<IPython.core.display.Javascript object>"
      ]
     },
     "metadata": {},
     "output_type": "display_data"
    },
    {
     "data": {
      "application/javascript": [
       "if (typeof Jupyter !== \"undefined\") {require([\"nbextensions/vpython_libraries/glowcomm\"], function(){console.log(\"GLOWCOMM LOADED\");});}else{element.textContent = ' ';}"
      ],
      "text/plain": [
       "<IPython.core.display.Javascript object>"
      ]
     },
     "metadata": {},
     "output_type": "display_data"
    },
    {
     "data": {
      "application/javascript": [
       "if (typeof Jupyter !== \"undefined\") {require([\"nbextensions/vpython_libraries/jquery-ui.custom.min\"], function(){console.log(\"JQUERY LOADED\");});}else{element.textContent = ' ';}"
      ],
      "text/plain": [
       "<IPython.core.display.Javascript object>"
      ]
     },
     "metadata": {},
     "output_type": "display_data"
    }
   ],
   "source": [
    "animate(100*pi, 0.1, 0.0, 0.2, 0.5)"
   ]
  },
  {
   "cell_type": "code",
   "execution_count": null,
   "id": "1803c1cd-306b-4307-835b-1fcb8c7f9a77",
   "metadata": {},
   "outputs": [],
   "source": []
  }
 ],
 "metadata": {
  "kernelspec": {
   "display_name": "Python 3 (ipykernel)",
   "language": "python",
   "name": "python3"
  },
  "language_info": {
   "codemirror_mode": {
    "name": "ipython",
    "version": 3
   },
   "file_extension": ".py",
   "mimetype": "text/x-python",
   "name": "python",
   "nbconvert_exporter": "python",
   "pygments_lexer": "ipython3",
   "version": "3.10.8"
  }
 },
 "nbformat": 4,
 "nbformat_minor": 5
}
