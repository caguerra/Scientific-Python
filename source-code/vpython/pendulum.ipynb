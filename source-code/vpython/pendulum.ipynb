{
 "cells": [
  {
   "cell_type": "markdown",
   "id": "ae2ba95d-27c6-4a6b-a906-f5358ae179d2",
   "metadata": {},
   "source": [
    "## Requirements"
   ]
  },
  {
   "cell_type": "code",
   "execution_count": null,
   "id": "51087eb8-6f51-451c-b1d6-9dd4066bfd48",
   "metadata": {},
   "outputs": [],
   "source": [
    "import scipy.integrate\n",
    "from vpython import canvas, color, cylinder, rate, sphere, sin, cos, pi, vector"
   ]
  },
  {
   "cell_type": "markdown",
   "id": "eaf78dd8-5edc-4832-82df-c95572eaeec6",
   "metadata": {},
   "source": [
    "## Set of ordinary differential equations"
   ]
  },
  {
   "cell_type": "markdown",
   "id": "de1a3e87-297e-4da0-a572-70a57257d6c9",
   "metadata": {},
   "source": [
    "The motion of a frictionless pendulum is given by the following set of first order differentical equations:\n",
    "\n",
    "$$\n",
    "    \\begin{cases}\n",
    "        \\frac{d \\theta}{d t}(t) = \\omega(t) \\\\\n",
    "        \\frac{d \\omega}{d t}(t) = -\\frac{m g}{l} \\sin \\theta(t)\n",
    "    \\end{cases}\n",
    "$$\n",
    "\n",
    "where $m$ and $l$ are the mass and the length of the pendulum respectively, $g$ is the gravitational accelleration, $theta(t)$ is the angle of the pendulum with respect to the $Y$-axis, and $\\omega(t)$ is the angular velocity.\n",
    "\n",
    "To numerically solve this set of equations, we write a function that returns the values of the righthand side of these equations as a list."
   ]
  },
  {
   "cell_type": "code",
   "execution_count": null,
   "id": "a48687e7-cf7c-4e7b-8a66-04100624c129",
   "metadata": {},
   "outputs": [],
   "source": [
    "def funcs(t, Y, g, l, m):\n",
    "    theta, omega = Y\n",
    "    return [\n",
    "        omega,\n",
    "        -m*g*sin(theta)/l,\n",
    "    ]"
   ]
  },
  {
   "cell_type": "markdown",
   "id": "91f364cc-ca92-44f0-af5c-75f4c3450e00",
   "metadata": {},
   "source": [
    "In addition, we compute the Jacobian, i.e., if we define $f_1(\\theta, \\omega, t) = \\omega$ and $f_2(\\theta, \\omega, t) = - \\frac{m g}{l} \\sin \\theta$, than the Jacobian is given by:\n",
    "$$\n",
    "    \\left(\n",
    "        \\begin{matrix}\n",
    "            \\frac{\\partial f_1}{\\partial \\theta} & \\frac{\\partial f_1}{\\partial \\omega} \\\\\n",
    "            \\frac{\\partial f_2}{\\partial \\theta} & \\frac{\\partial f_2}{\\partial \\omega}\n",
    "        \\end{matrix}\n",
    "    \\right)\n",
    "$$"
   ]
  },
  {
   "cell_type": "code",
   "execution_count": null,
   "id": "1facc45c-450c-408e-8b3a-e4f464d50c91",
   "metadata": {},
   "outputs": [],
   "source": [
    "def jac(t, Y, g, l, m):\n",
    "    theta, omega = Y\n",
    "    return [\n",
    "        [0.0, 1.0],\n",
    "        [-m*g*cos(theta)/l, 0.0],\n",
    "    ]"
   ]
  },
  {
   "cell_type": "markdown",
   "id": "60ad44fb-b1b3-4890-bc38-011073eb59c4",
   "metadata": {},
   "source": [
    "Next, we define a function that takes all relevant parameters as arguments, sets up the VPython scene, the system of ODEs, and integrates the set of equations, updating the scene's objects after each time step."
   ]
  },
  {
   "cell_type": "code",
   "execution_count": null,
   "id": "030e4465-c1af-46e8-bc7f-5fdf69e45ea4",
   "metadata": {
    "tags": []
   },
   "outputs": [],
   "source": [
    "def animate(t_max, theta0, omega0=0.0, g=9.81, l=9.81/10.0, m=1.0, delta_t=0.01):\n",
    "    rate_value = int(1.0/delta_t)\n",
    "    # set up the scene\n",
    "    canvas()\n",
    "    # set a hidden point in the scene to make sure that the pivot is centered\n",
    "    hidden = sphere(pos=vector(-l/2.0, -l, 0.0), radius=0.0001)\n",
    "    pivot = sphere(pos=vector(0.0, 0.0, 0.0), radius=0.005)\n",
    "    mass = sphere(pos=vector(l*sin(theta0), -l*cos(theta0), 0.0),\n",
    "                  radius=0.05,\n",
    "                  color=color.yellow,\n",
    "                  make_trail=True, retain=10)\n",
    "    string = cylinder(pos=pivot.pos, axis=mass.pos - pivot.pos,\n",
    "                      radius= 0.01)\n",
    "    # define the ODE system\n",
    "    system = scipy.integrate.ode(funcs, jac) \\\n",
    "        .set_integrator('dopri5') \\\n",
    "        .set_f_params(g, l, m) \\\n",
    "        .set_jac_params(g, l, m) \\\n",
    "        .set_initial_value((theta0, omega0), 0.0)\n",
    "    # integrate the system of ODEs and update the scene's objects accordingly\n",
    "    while system.successful() and system.t < t_max:\n",
    "        rate(rate_value)\n",
    "        system.integrate(system.t + delta_t)\n",
    "        theta, omega = system.y\n",
    "        mass.pos = vector(l*sin(theta), -l*cos(theta), 0.0)\n",
    "        string.axis =  mass.pos - pivot.pos\n",
    "    mass.clear_trail()"
   ]
  },
  {
   "cell_type": "markdown",
   "id": "327081da-f87e-4a5f-af6f-ff24de017153",
   "metadata": {},
   "source": [
    "Run the animation for $\\theta_0 = \\frac{\\pi}{6}$."
   ]
  },
  {
   "cell_type": "code",
   "execution_count": null,
   "id": "194b68af-f7a4-4877-9c8f-4ec2c68b16eb",
   "metadata": {},
   "outputs": [],
   "source": [
    "animate(10*pi, pi/6.0)"
   ]
  },
  {
   "cell_type": "markdown",
   "id": "c20369fe-0449-4c7d-b5be-26927838438c",
   "metadata": {},
   "source": [
    "Run the animation for $\\theta = \\frac{95\\pi}{100}$."
   ]
  },
  {
   "cell_type": "code",
   "execution_count": null,
   "id": "fb68e348-ef3d-43c9-919b-fa9a86d9f813",
   "metadata": {},
   "outputs": [],
   "source": [
    "animate(10*pi, 0.95*pi)"
   ]
  }
 ],
 "metadata": {
  "kernelspec": {
   "display_name": "Python 3 (ipykernel)",
   "language": "python",
   "name": "python3"
  },
  "language_info": {
   "codemirror_mode": {
    "name": "ipython",
    "version": 3
   },
   "file_extension": ".py",
   "mimetype": "text/x-python",
   "name": "python",
   "nbconvert_exporter": "python",
   "pygments_lexer": "ipython3",
   "version": "3.10.8"
  }
 },
 "nbformat": 4,
 "nbformat_minor": 5
}
