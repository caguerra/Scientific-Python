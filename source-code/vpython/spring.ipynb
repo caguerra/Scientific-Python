{
 "cells": [
  {
   "cell_type": "code",
   "execution_count": 1,
   "id": "5a9180d9-abc4-4d97-a78d-e79ba11e886f",
   "metadata": {
    "tags": []
   },
   "outputs": [
    {
     "data": {
      "text/html": [
       "<div id=\"glowscript\" class=\"glowscript\"></div>"
      ],
      "text/plain": [
       "<IPython.core.display.HTML object>"
      ]
     },
     "metadata": {},
     "output_type": "display_data"
    },
    {
     "data": {
      "application/javascript": [
       "if (typeof Jupyter !== \"undefined\") { window.__context = { glowscript_container: $(\"#glowscript\").removeAttr(\"id\")};}else{ element.textContent = ' ';}"
      ],
      "text/plain": [
       "<IPython.core.display.Javascript object>"
      ]
     },
     "metadata": {},
     "output_type": "display_data"
    }
   ],
   "source": [
    "from ipywidgets import interact_manual\n",
    "from vpython import canvas, helix, rate, scene, sphere, vector"
   ]
  },
  {
   "cell_type": "code",
   "execution_count": 35,
   "id": "0a509abc-47ab-4fdd-b145-d2c8f73a548b",
   "metadata": {
    "tags": []
   },
   "outputs": [
    {
     "data": {
      "application/vnd.jupyter.widget-view+json": {
       "model_id": "6cd389fa3581464a91d30998448ad317",
       "version_major": 2,
       "version_minor": 0
      },
      "text/plain": [
       "interactive(children=(FloatSlider(value=10.0, description='t_max', max=30.0, min=-10.0), FloatSlider(value=1.0…"
      ]
     },
     "metadata": {},
     "output_type": "display_data"
    }
   ],
   "source": [
    "@interact_manual(m=(0.1, 20), k=(0.1, 20))\n",
    "def animate_spring(t_max=10.0, m=1.0, k=9.81):\n",
    "    spring_length = 1.0\n",
    "    canvas(forward=vector(0.0, -1.0, 0.0))\n",
    "    pivot_pos = vector(0.0, 0.0, 0.5)\n",
    "    mass_pos = vector(0.0, 0.0, -spring_length)\n",
    "    spring_axis_orig = mass_pos - pivot_pos\n",
    "    spring = helix(pos=pivot_pos, axis=spring_axis_orig,\n",
    "                   radius=0.2, width=0.1)\n",
    "    pivot = sphere(pos=pivot_pos, radius=0.1)\n",
    "    mass = sphere(pos=mass_pos, radius=0.2*m**(1/3))\n",
    "    mass.v = vector(0.0, 0.0, 0.0)\n",
    "    g = 9.81\n",
    "    t = 0.0\n",
    "    delta_t = 0.01\n",
    "    while t <= t_max:\n",
    "        rate(int(1.0/delta_t))\n",
    "        grav_force = m*g*vector(0.0, 0.0, -1.0)\n",
    "        spring_force = k*(spring_axis_orig - spring.axis)\n",
    "        mass.v += delta_t*(grav_force + spring_force)/m\n",
    "        mass.pos += delta_t*mass.v\n",
    "        spring.axis = mass.pos - pivot.pos\n",
    "        t += delta_t"
   ]
  }
 ],
 "metadata": {
  "kernelspec": {
   "display_name": "Python 3 (ipykernel)",
   "language": "python",
   "name": "python3"
  },
  "language_info": {
   "codemirror_mode": {
    "name": "ipython",
    "version": 3
   },
   "file_extension": ".py",
   "mimetype": "text/x-python",
   "name": "python",
   "nbconvert_exporter": "python",
   "pygments_lexer": "ipython3",
   "version": "3.10.9"
  }
 },
 "nbformat": 4,
 "nbformat_minor": 5
}
