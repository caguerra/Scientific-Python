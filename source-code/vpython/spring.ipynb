{
 "cells": [
  {
   "cell_type": "markdown",
   "id": "f3145a6f-8527-4b8e-889d-8b072c8e5cb0",
   "metadata": {},
   "source": [
    "# Requirements"
   ]
  },
  {
   "cell_type": "code",
   "execution_count": 2,
   "id": "5a9180d9-abc4-4d97-a78d-e79ba11e886f",
   "metadata": {
    "tags": []
   },
   "outputs": [
    {
     "data": {
      "text/html": [
       "<div id=\"glowscript\" class=\"glowscript\"></div>"
      ],
      "text/plain": [
       "<IPython.core.display.HTML object>"
      ]
     },
     "metadata": {},
     "output_type": "display_data"
    },
    {
     "data": {
      "application/javascript": [
       "if (typeof Jupyter !== \"undefined\") { window.__context = { glowscript_container: $(\"#glowscript\").removeAttr(\"id\")};}else{ element.textContent = ' ';}"
      ],
      "text/plain": [
       "<IPython.core.display.Javascript object>"
      ]
     },
     "metadata": {},
     "output_type": "display_data"
    }
   ],
   "source": [
    "from ipywidgets import interact_manual\n",
    "from vpython import canvas, helix, rate, scene, sphere, vector"
   ]
  },
  {
   "cell_type": "markdown",
   "id": "fdc7f2dd-de08-4ac0-bf2f-8bd3169bc8b6",
   "metadata": {
    "jp-MarkdownHeadingCollapsed": true,
    "tags": []
   },
   "source": [
    "# Problem setting\n",
    "\n",
    "We consider a mass suspended from a spring.  The mass $m$ as well as the spring constant $k$ and a length in rest of $l_0$ can be specified. The other end of the spring is suspended from a fixed point at the origin $(0, 0, 0)$.\n",
    "\n",
    "Gravity acts on the mass, while we assume that the spring is massless.  The gravitational force is $F_g = -m g$ where $g = 9.81 \\frac{m}{s^2}$ is the gravitational acceleration on Earth.  This force acts along the $Z$-axis.\n",
    "\n",
    "The force exerted by the spring on the sphere when it has length $l$ is given by Hooke's law, $F_s = k (l - l_0)$.  This force also acts along the $Z$-axis.\n",
    "\n",
    "At time $t = 0$, the length of the spring is $l_0$, so the position of the mass will be $(0, 0, -l_0)$.  The mass is also assumed to be at rest."
   ]
  },
  {
   "cell_type": "markdown",
   "id": "696fcae9-49d3-4fed-9266-9ddfd9d78d23",
   "metadata": {},
   "source": [
    "# Implementation"
   ]
  },
  {
   "cell_type": "markdown",
   "id": "3fe24b0b-da1d-4c57-8442-b905391ee2dd",
   "metadata": {},
   "source": [
    "We define the simulation of the system as a function that takes three arguments:\n",
    "* the maximum time $t_{\\rm{max}}$ we want to run the simulation for;\n",
    "* the mass $m$; and\n",
    "* the spring constant $k$.\n",
    "\n",
    "We assume that the spring length in rest is $l_0 = 1$.\n",
    "\n",
    "We will compute the position of the mass at intervals of $\\Delta t = 0.01$ using Euler's integration method and Newton's second law of motion.\n",
    "\n",
    "$$\n",
    "    \\begin{array}{rcl}\n",
    "        m \\frac{d\\vec{v}}{dt} & = & \\vec{F} \\\\\n",
    "        \\frac{d\\vec{x}}{dt} & = & \\vec{v} \\\\\n",
    "    \\end{array}\n",
    "$$\n",
    "\n",
    "Here, $\\vec{x}$ and $\\vec{v}$ are the position and velocity of the mass, and $\\vec{F}$ is the total force acting on the mass.\n",
    "\n",
    "These equation can be discretized as follows:\n",
    "\n",
    "$$\n",
    "    \\begin{array}{rcl}\n",
    "        \\vec{v}_{t + \\Delta t} & = & \\vec{v}_t + \\frac{\\vec{F}}{m} \\Delta t \\\\\n",
    "        \\vec{x}_{t + \\Delta t} & = & \\vec{x}_t + \\vec{v} \\Delta t\n",
    "    \\end{array}\n",
    "$$\n",
    "\n",
    "We use vpython to visualize the movement of the spring, and ipywidgets to create the controls for the simulation."
   ]
  },
  {
   "cell_type": "code",
   "execution_count": 4,
   "id": "0a509abc-47ab-4fdd-b145-d2c8f73a548b",
   "metadata": {
    "tags": []
   },
   "outputs": [
    {
     "data": {
      "application/vnd.jupyter.widget-view+json": {
       "model_id": "1449cefc3aa94d69acd797530353e22b",
       "version_major": 2,
       "version_minor": 0
      },
      "text/plain": [
       "interactive(children=(FloatSlider(value=10.0, description='t_max', max=30.0, min=-10.0), FloatSlider(value=1.0…"
      ]
     },
     "metadata": {},
     "output_type": "display_data"
    }
   ],
   "source": [
    "@interact_manual(t=(1, 20), m=(0.1, 10), k=(0.1, 20))\n",
    "def animate_spring(t_max=10.0, m=1.0, k=9.81):\n",
    "    # Define the constants.\n",
    "    l_0 = 1.0\n",
    "    g = 9.81\n",
    "    \n",
    "    # Create a canvas, making sure we look at the system from the\n",
    "    # proper direction.\n",
    "    canvas(forward=vector(0.0, -1.0, 0.0))\n",
    "    \n",
    "    # Define the position of the fixed point and the initial\n",
    "    # position of the mass.\n",
    "    fixed_pos = vector(0.0, 0.0, 0.5)\n",
    "    mass_pos = vector(0.0, 0.0, -l_0)\n",
    "    \n",
    "    # Define the vector that initially connects the pivot point to\n",
    "    # the mass.\n",
    "    init_spring_axis = mass_pos - fixed_pos\n",
    "    \n",
    "    # Visualize the spring as a helix, finetuning its appearance\n",
    "    # by specifying the radius and the width.\n",
    "    spring = helix(pos=fixed_pos, axis=init_spring_axis,\n",
    "                   radius=0.2, width=0.1)\n",
    "    \n",
    "    # Visualize the fixed point as well as the mass as spheres\n",
    "    # the radius of the sphere for the mass depends on m\n",
    "    # through the constant density (1.0 for convenience)\n",
    "    # and the volume of the mass.\n",
    "    fixed = sphere(pos=fixed_pos, radius=0.1)\n",
    "    mass = sphere(pos=mass_pos, radius=0.2*m**(1/3))\n",
    "    \n",
    "    # Set the initial velocity of the mass to 0.\n",
    "    mass.v = vector(0.0, 0.0, 0.0)\n",
    "    \n",
    "    # The simulation starts at t = 0, and delta_t = 0.01\n",
    "    t = 0.0\n",
    "    delta_t = 0.01\n",
    "    while t <= t_max:\n",
    "        # We set the rate for the visualization at 1/delta_t.\n",
    "        rate(int(1.0/delta_t))\n",
    "        # Compute the forces that act on the mass\n",
    "        grav_force = m*g*vector(0.0, 0.0, -1.0)\n",
    "        spring_force = k*(init_spring_axis - spring.axis)\n",
    "        # Update the velocity of the mass according to Newton's la.\n",
    "        mass.v += delta_t*(grav_force + spring_force)/m\n",
    "        # Compute the new position of the mass, given its velocity.\n",
    "        mass.pos += delta_t*mass.v\n",
    "        # Update the axis of the spring based on the new position of\n",
    "        # the mass.\n",
    "        spring.axis = mass.pos - fixed.pos\n",
    "        # Update the current time.\n",
    "        t += delta_t"
   ]
  }
 ],
 "metadata": {
  "kernelspec": {
   "display_name": "Python 3 (ipykernel)",
   "language": "python",
   "name": "python3"
  },
  "language_info": {
   "codemirror_mode": {
    "name": "ipython",
    "version": 3
   },
   "file_extension": ".py",
   "mimetype": "text/x-python",
   "name": "python",
   "nbconvert_exporter": "python",
   "pygments_lexer": "ipython3",
   "version": "3.10.9"
  }
 },
 "nbformat": 4,
 "nbformat_minor": 5
}
