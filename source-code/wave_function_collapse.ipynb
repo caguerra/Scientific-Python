{
 "cells": [
  {
   "cell_type": "markdown",
   "metadata": {},
   "source": [
    "\n",
    "# Wave function collapse"
   ]
  },
  {
   "cell_type": "markdown",
   "metadata": {},
   "source": [
    "See [Wave Function Collapse — Tutorial of a Basic Example Implementation in Python](https://medium.com/swlh/wave-function-collapse-tutorial-with-a-basic-exmaple-implementation-in-python-152d83d5cdb1) by Mateusz Bugaj."
   ]
  },
  {
   "cell_type": "code",
   "execution_count": 2,
   "metadata": {},
   "outputs": [],
   "source": [
    "from collections import Counter\n",
    "import matplotlib.pyplot as plt\n",
    "import numpy as np\n",
    "import random"
   ]
  },
  {
   "cell_type": "markdown",
   "metadata": {},
   "source": [
    "The original pattern to start from."
   ]
  },
  {
   "cell_type": "code",
   "execution_count": 3,
   "metadata": {},
   "outputs": [],
   "source": [
    "pattern = np.array([\n",
    "    [255, 255, 255, 255],\n",
    "    [255,   0,   0,   0],\n",
    "    [255,   0, 138,   0],\n",
    "    [255,   0,   0,   0],\n",
    "], dtype=np.uint8)"
   ]
  },
  {
   "cell_type": "markdown",
   "metadata": {},
   "source": [
    "It is convenient to represent patterns and subpatterns by numpy arrays, but those are not hashable and hence can not be used as keys in dictionaries or as members of sets.  Hence we define a wrapper class to ensure that the wrapped objects can be hashed.  This is not strictly required, but it will make the implementation much more transparent."
   ]
  },
  {
   "cell_type": "code",
   "execution_count": 4,
   "metadata": {},
   "outputs": [],
   "source": [
    "class Subpattern:\n",
    "    \n",
    "    def __init__(self, subpattern):\n",
    "        self._hash = hash(tuple(subpattern.flatten().tolist()))\n",
    "        self._pattern = subpattern\n",
    "        \n",
    "    @property\n",
    "    def pattern(self):\n",
    "        return self._pattern.copy()\n",
    "    \n",
    "    def __hash__(self):\n",
    "        return self._hash\n",
    "    \n",
    "    def __eq__(self, other):\n",
    "        if isinstance(other, Subpattern):\n",
    "            return self._hash ==other._hash\n",
    "        return NotImplemented   \n",
    "    \n",
    "    def __repr__(self):\n",
    "        return str(self._pattern)"
   ]
  },
  {
   "cell_type": "markdown",
   "metadata": {},
   "source": [
    "A function to extract all subpatterns from a given pattern, i.e., all $width \\times height$ subpatterns, but also their rotations and reflections.  The unique patterns will be returned as keys in a dictionary that stores the probability of the subpattern."
   ]
  },
  {
   "cell_type": "code",
   "execution_count": 5,
   "metadata": {},
   "outputs": [],
   "source": [
    "def extract_subpatterns(pattern, width=2, height=2):\n",
    "    counter = Counter()\n",
    "    for i in range(pattern.shape[0] - width + 1):\n",
    "        for j in range(pattern.shape[1] - height + 1):\n",
    "            subpattern = pattern[i:i + width, j:j + height].copy()\n",
    "            for k in range(4):\n",
    "                counter[Subpattern(np.rot90(subpattern, k=k))] += 1\n",
    "            for axis in range(2):\n",
    "                counter[Subpattern(np.flip(subpattern, axis=axis))]\n",
    "    total_count = sum(counter.values())\n",
    "    subpatterns = {pattern: count/total_count for pattern, count in counter.items()}\n",
    "    return subpatterns"
   ]
  },
  {
   "cell_type": "code",
   "execution_count": 6,
   "metadata": {},
   "outputs": [],
   "source": [
    "subpattern_probs = extract_subpatterns(pattern)"
   ]
  },
  {
   "cell_type": "markdown",
   "metadata": {},
   "source": [
    "For this particular starting pattern, there should be 12 unique subpatterns."
   ]
  },
  {
   "cell_type": "code",
   "execution_count": 7,
   "metadata": {},
   "outputs": [
    {
     "data": {
      "text/plain": [
       "12"
      ]
     },
     "execution_count": 7,
     "metadata": {},
     "output_type": "execute_result"
    }
   ],
   "source": [
    "len(subpattern_probs)"
   ]
  },
  {
   "cell_type": "markdown",
   "metadata": {},
   "source": [
    "For testing purposes, also create a list with the subpatterns only."
   ]
  },
  {
   "cell_type": "code",
   "execution_count": 8,
   "metadata": {},
   "outputs": [],
   "source": [
    "subpatterns = list(subpattern_probs.keys())"
   ]
  },
  {
   "cell_type": "markdown",
   "metadata": {},
   "source": [
    "Starting from a given position, we can move up-left, up, up-right, left, right, down-left, down, down-right.  These directions can be represented by a tuple:\n",
    "  * up-left: `(-1, -1)`\n",
    "  * up: `(-1, 0)`\n",
    "  * up-right: `(-1, 1)`\n",
    "  * left: `(0, -1)`\n",
    "  * right: `(0, 1)`\n",
    "  * down-left: `(1, -1)`\n",
    "  * down: `(1, 0)`\n",
    "  * down-right: `(1, 1)`\n",
    "  \n",
    "The following function computes all directions.  It can optionally take into account that when you're at the top row, you can't go up, or if you're at the bottom-right, you can go neither down nor right."
   ]
  },
  {
   "cell_type": "code",
   "execution_count": 9,
   "metadata": {},
   "outputs": [],
   "source": [
    "def compute_directions(is_bottom=False, is_top=False, is_left=False, is_right=False):\n",
    "    directions = set()\n",
    "    bottom = 0 if is_bottom else 1\n",
    "    top = 0 if is_top else -1\n",
    "    left = 0 if is_left else -1\n",
    "    right = 0 if is_right else 1\n",
    "    for row in range(top, bottom + 1):\n",
    "        for col in range(left, right + 1):\n",
    "            if row != 0 or col != 0:\n",
    "                directions.add((row, col))\n",
    "    return directions"
   ]
  },
  {
   "cell_type": "code",
   "execution_count": 10,
   "metadata": {},
   "outputs": [
    {
     "data": {
      "text/plain": [
       "{(0, 1), (-1, 1), (1, 1), (-1, 0), (1, 0)}"
      ]
     },
     "execution_count": 10,
     "metadata": {},
     "output_type": "execute_result"
    }
   ],
   "source": [
    "compute_directions(is_left=True)"
   ]
  },
  {
   "cell_type": "markdown",
   "metadata": {},
   "source": [
    "Class to represent the rules of next pattern placement.  For each pattern and each direction, all possible next patterns are stored in a set.  A next pattern can be placed in a given direction when the overlapping pixels match."
   ]
  },
  {
   "cell_type": "code",
   "execution_count": 11,
   "metadata": {},
   "outputs": [],
   "source": [
    "class Rules:\n",
    "    \n",
    "    def __init__(self, patterns):\n",
    "        directions = compute_directions()\n",
    "        self._rules = dict()\n",
    "        for pattern in patterns:\n",
    "            self._rules[pattern] = {direction: set() for direction in directions}\n",
    "        for pattern, directions in self._rules.items():\n",
    "            for direction in directions:\n",
    "                for next_pattern in patterns:\n",
    "                    tile = Rules.get_offset_pattern(pattern, (direction[0], direction[1]))\n",
    "                    next_tile = Rules.get_offset_pattern(next_pattern, (-direction[0], -direction[1]))\n",
    "                    if tile == next_tile:\n",
    "                        self._rules[pattern][direction].add(next_pattern)\n",
    "    \n",
    "    def is_possible(self, pattern, direction, next_pattern):\n",
    "        return next_pattern in self._rules[pattern][direction]\n",
    "    \n",
    "    def possibilities(self, pattern, direction):\n",
    "        return self._rules[pattern][direction]\n",
    "    \n",
    "    @staticmethod\n",
    "    def get_offset_pattern(pattern, offset):\n",
    "        row, col = offset\n",
    "        indices = {(i, j) for i in range(2) for j in range(2)}\n",
    "        offset_indices = {(t[0] + row, t[1] + col) for t in indices}\n",
    "        return [pattern.pattern[t] for t in sorted(indices & offset_indices)]"
   ]
  },
  {
   "cell_type": "markdown",
   "metadata": {},
   "source": [
    "Test the static method that computes the overlap when a next pattern has a given direction."
   ]
  },
  {
   "cell_type": "code",
   "execution_count": 12,
   "metadata": {},
   "outputs": [],
   "source": [
    "pattern = Subpattern(np.array([[1, 2], [3, 4]]))"
   ]
  },
  {
   "cell_type": "code",
   "execution_count": 13,
   "metadata": {},
   "outputs": [
    {
     "data": {
      "text/plain": [
       "[[1 2]\n",
       " [3 4]]"
      ]
     },
     "execution_count": 13,
     "metadata": {},
     "output_type": "execute_result"
    }
   ],
   "source": [
    "pattern"
   ]
  },
  {
   "cell_type": "code",
   "execution_count": 14,
   "metadata": {},
   "outputs": [
    {
     "name": "stdout",
     "output_type": "stream",
     "text": [
      "(0, 1): [2, 4]\n",
      "(-1, -1): [1]\n",
      "(-1, 1): [2]\n",
      "(1, 1): [4]\n",
      "(1, -1): [3]\n",
      "(-1, 0): [1, 2]\n",
      "(1, 0): [3, 4]\n",
      "(0, -1): [1, 3]\n"
     ]
    }
   ],
   "source": [
    "for direction in compute_directions():\n",
    "    print(f'{direction}: {Rules.get_offset_pattern(pattern, direction)}')"
   ]
  },
  {
   "cell_type": "code",
   "execution_count": 15,
   "metadata": {},
   "outputs": [],
   "source": [
    "rules = Rules(subpatterns)"
   ]
  },
  {
   "cell_type": "code",
   "execution_count": 16,
   "metadata": {},
   "outputs": [
    {
     "data": {
      "text/plain": [
       "[[255 255]\n",
       " [255   0]]"
      ]
     },
     "execution_count": 16,
     "metadata": {},
     "output_type": "execute_result"
    }
   ],
   "source": [
    "subpatterns[0]"
   ]
  },
  {
   "cell_type": "code",
   "execution_count": 17,
   "metadata": {},
   "outputs": [
    {
     "data": {
      "text/plain": [
       "{[[255 255]\n",
       " [  0   0]], [[255 255]\n",
       " [  0 255]]}"
      ]
     },
     "execution_count": 17,
     "metadata": {},
     "output_type": "execute_result"
    }
   ],
   "source": [
    "rules.possibilities(subpatterns[0], (0, 1))"
   ]
  },
  {
   "cell_type": "code",
   "execution_count": 18,
   "metadata": {},
   "outputs": [],
   "source": [
    "def embed(pattern, offset=(0, 0)):\n",
    "    embedding = np.empty((pattern.pattern.shape[0] + 2, pattern.pattern.shape[1] + 2))\n",
    "    embedding.fill(-1)\n",
    "    row = 1 + offset[0]\n",
    "    col = 1 + offset[1]\n",
    "    embedding[row:row + 2, col:col + 2] = pattern.pattern\n",
    "    return embedding"
   ]
  },
  {
   "cell_type": "code",
   "execution_count": 19,
   "metadata": {},
   "outputs": [
    {
     "data": {
      "text/plain": [
       "array([[ -1.,  -1.,  -1.,  -1.],\n",
       "       [ -1., 255., 255.,  -1.],\n",
       "       [ -1., 255.,   0.,  -1.],\n",
       "       [ -1.,  -1.,  -1.,  -1.]])"
      ]
     },
     "execution_count": 19,
     "metadata": {},
     "output_type": "execute_result"
    }
   ],
   "source": [
    "embed(subpatterns[0])"
   ]
  },
  {
   "cell_type": "code",
   "execution_count": 20,
   "metadata": {},
   "outputs": [
    {
     "data": {
      "text/plain": [
       "array([[ -1.,  -1.,  -1.,  -1.],\n",
       "       [ -1.,  -1.,  -1.,  -1.],\n",
       "       [ -1.,  -1., 255., 255.],\n",
       "       [ -1.,  -1., 255.,   0.]])"
      ]
     },
     "execution_count": 20,
     "metadata": {},
     "output_type": "execute_result"
    }
   ],
   "source": [
    "embed(subpatterns[0], (1, 1))"
   ]
  },
  {
   "cell_type": "code",
   "execution_count": 21,
   "metadata": {},
   "outputs": [],
   "source": [
    "def are_compatible(pattern, direction, next_pattern):\n",
    "    embedding = embed(pattern)\n",
    "    next_embedding = embed(next_pattern, direction)\n",
    "    mask = np.logical_and(embedding > -0.5, next_embedding > -0.5)\n",
    "    return (embedding[mask] == next_embedding[mask]).all()"
   ]
  },
  {
   "cell_type": "code",
   "execution_count": 22,
   "metadata": {},
   "outputs": [
    {
     "data": {
      "text/plain": [
       "False"
      ]
     },
     "execution_count": 22,
     "metadata": {},
     "output_type": "execute_result"
    }
   ],
   "source": [
    "are_compatible(subpatterns[0], (1, 0), subpatterns[0])"
   ]
  },
  {
   "cell_type": "code",
   "execution_count": 23,
   "metadata": {},
   "outputs": [],
   "source": [
    "for pattern in subpatterns:\n",
    "    for direction in compute_directions():\n",
    "        for next_pattern in rules.possibilities(pattern, direction):\n",
    "            if not are_compatible(pattern, direction, next_pattern):\n",
    "                print(pattern, direction, next_pattern)"
   ]
  },
  {
   "cell_type": "code",
   "execution_count": 24,
   "metadata": {},
   "outputs": [],
   "source": [
    "class Image:\n",
    "    \n",
    "    def __init__(self, width, height, rules, probabilities):\n",
    "        self._rules = rules\n",
    "        self._probs = probabilities\n",
    "        self._img = list()\n",
    "        for row in range(height):\n",
    "            self._img.append(list())\n",
    "            for _ in range(width):\n",
    "                self._img[row].append(set(probabilities.keys()))\n",
    " \n",
    "    @property\n",
    "    def width(self):\n",
    "        return len(self._img[0])\n",
    "\n",
    "    @property\n",
    "    def height(self):\n",
    "        return len(self._img)\n",
    "    \n",
    "    def is_collapsed(self):\n",
    "        all(all(map(lambda x: len(x) == 1, row)) for row in self._img)\n",
    "        \n",
    "    def possible_patterns_at(self, row, col):\n",
    "        return self._img[row][col]\n",
    "    \n",
    "    def shannon_entropy_at(self, row, col):\n",
    "        if len(self.possible_patterns_at(row, col)) > 1:\n",
    "            entropy = 0.0\n",
    "            for pattern in self.possible_patterns_at(row, col):\n",
    "                entropy -= self._probs[pattern]*np.log(self._probs[pattern])\n",
    "            return entropy + random.uniform(0, 0.1)\n",
    "        else:\n",
    "            return np.inf\n",
    "    \n",
    "    def collapse_site(self):\n",
    "        entropy = np.array([[self.shannon_entropy_at(row, col) for col in range(self.width)] for row in range(self.height)])\n",
    "        row, col = np.unravel_index(np.argmax(entropy), entropy.shape)\n",
    "        pattern = max(self._probs, key=lambda x: self._probs[x])\n",
    "        self._img[row][col].clear()\n",
    "        self._img[row][col].add(pattern)\n",
    "        return row, col\n",
    "    \n",
    "    def get_neighbours(self, row, col):\n",
    "        directions = compute_directions(\n",
    "            is_top=row== 0,\n",
    "            is_bottom=row == self.height - 1,\n",
    "            is_left=col == 0,\n",
    "            is_right=col == self.width - 1\n",
    "        )\n",
    "        return [(row + d[0], col + d[1]) for d in directions]\n",
    " \n",
    "    def collapse(self):\n",
    "        while not self.is_collapsed():\n",
    "            row, col = self.collapse_site()\n",
    "            print(f'collapsing ({row}, {col})')\n",
    "            stack = set()\n",
    "            stack.add((row, col))\n",
    "            while stack:\n",
    "                row, col = stack.pop()\n",
    "                # print(f'  reducing ({row}, {col})')\n",
    "                directions = compute_directions(\n",
    "                    is_top=row== 0,\n",
    "                    is_bottom=row == self.height - 1,\n",
    "                    is_left=col == 0,\n",
    "                    is_right=col == self.width - 1\n",
    "                )\n",
    "                for d in directions:\n",
    "                    # print(f'    checking ({row + d[0]}, {col + d[1]})')\n",
    "                    next_patterns = self._img[row + d[0]][col + d[1]]\n",
    "                    to_remove = set()\n",
    "                    for next_pattern in next_patterns:\n",
    "                        if not any(self._rules.is_possible(pattern, d, next_pattern) for pattern in self._img[row][col]):\n",
    "                            to_remove.add(next_pattern)\n",
    "                    if to_remove:\n",
    "                        self._img[row + d[0]][col + d[1]] -= to_remove\n",
    "                        stack.add((row + d[0], col + d[1]))\n",
    "        return self.get_image()\n",
    "    \n",
    "    def get_image(self):\n",
    "        img = np.empty((self.height, self.width))\n",
    "        for row in range(self.height):\n",
    "            for col in range(self.width):\n",
    "                pattern = self._img[row][col].pop()\n",
    "                img[row, col] = pattern.pattern[0, 0]\n",
    "        return img"
   ]
  },
  {
   "cell_type": "code",
   "execution_count": 25,
   "metadata": {},
   "outputs": [],
   "source": [
    "image = Image(5, 6, rules, subpattern_probs)"
   ]
  },
  {
   "cell_type": "code",
   "execution_count": null,
   "metadata": {},
   "outputs": [],
   "source": [
    "img = image.collapse()"
   ]
  },
  {
   "cell_type": "code",
   "execution_count": 378,
   "metadata": {},
   "outputs": [
    {
     "name": "stdout",
     "output_type": "stream",
     "text": [
      "9\n",
      "7\n",
      "3\n",
      "2\n",
      "5\n",
      "6\n",
      "9\n",
      "7\n",
      "3\n",
      "1\n",
      "3\n",
      "5\n",
      "9\n",
      "7\n",
      "3\n",
      "2\n",
      "5\n",
      "6\n",
      "9\n",
      "8\n",
      "5\n",
      "5\n",
      "8\n",
      "8\n",
      "11\n",
      "11\n",
      "10\n",
      "10\n",
      "11\n",
      "11\n"
     ]
    }
   ],
   "source": [
    "for x in range(image.width):\n",
    "    for y in range(image.height):\n",
    "        print(len(image._img[y][x]))"
   ]
  },
  {
   "cell_type": "code",
   "execution_count": null,
   "metadata": {},
   "outputs": [],
   "source": [
    "entropy"
   ]
  },
  {
   "cell_type": "code",
   "execution_count": 377,
   "metadata": {},
   "outputs": [
    {
     "data": {
      "text/plain": [
       "[[{[[  0   0]\n",
       "    [  0 138]],\n",
       "   [[  0   0]\n",
       "    [138   0]],\n",
       "   [[  0   0]\n",
       "    [255 255]],\n",
       "   [[  0 255]\n",
       "    [  0 255]],\n",
       "   [[  0 255]\n",
       "    [255 255]],\n",
       "   [[255   0]\n",
       "    [255   0]],\n",
       "   [[255   0]\n",
       "    [255 255]],\n",
       "   [[255 255]\n",
       "    [  0 255]],\n",
       "   [[255 255]\n",
       "    [255   0]]},\n",
       "  {[[  0   0]\n",
       "    [  0 138]],\n",
       "   [[  0   0]\n",
       "    [138   0]],\n",
       "   [[  0   0]\n",
       "    [255 255]],\n",
       "   [[  0 255]\n",
       "    [  0 255]],\n",
       "   [[  0 255]\n",
       "    [255 255]],\n",
       "   [[255   0]\n",
       "    [255   0]],\n",
       "   [[255   0]\n",
       "    [255 255]],\n",
       "   [[255 255]\n",
       "    [  0 255]],\n",
       "   [[255 255]\n",
       "    [255   0]]},\n",
       "  {[[  0   0]\n",
       "    [  0 138]],\n",
       "   [[  0   0]\n",
       "    [138   0]],\n",
       "   [[  0   0]\n",
       "    [255 255]],\n",
       "   [[  0 255]\n",
       "    [  0 255]],\n",
       "   [[  0 255]\n",
       "    [255 255]],\n",
       "   [[255   0]\n",
       "    [255   0]],\n",
       "   [[255   0]\n",
       "    [255 255]],\n",
       "   [[255 255]\n",
       "    [  0 255]],\n",
       "   [[255 255]\n",
       "    [255   0]]},\n",
       "  {[[  0   0]\n",
       "    [  0 138]],\n",
       "   [[  0   0]\n",
       "    [138   0]],\n",
       "   [[  0   0]\n",
       "    [255 255]],\n",
       "   [[  0 255]\n",
       "    [  0 255]],\n",
       "   [[  0 255]\n",
       "    [255 255]],\n",
       "   [[255   0]\n",
       "    [255   0]],\n",
       "   [[255   0]\n",
       "    [255 255]],\n",
       "   [[255 255]\n",
       "    [  0 255]],\n",
       "   [[255 255]\n",
       "    [255   0]]},\n",
       "  {[[  0   0]\n",
       "    [  0 138]],\n",
       "   [[  0   0]\n",
       "    [138   0]],\n",
       "   [[  0   0]\n",
       "    [255 255]],\n",
       "   [[  0 138]\n",
       "    [  0   0]],\n",
       "   [[  0 255]\n",
       "    [  0 255]],\n",
       "   [[  0 255]\n",
       "    [255 255]],\n",
       "   [[255   0]\n",
       "    [255   0]],\n",
       "   [[255   0]\n",
       "    [255 255]],\n",
       "   [[255 255]\n",
       "    [  0   0]],\n",
       "   [[255 255]\n",
       "    [  0 255]],\n",
       "   [[255 255]\n",
       "    [255   0]]}],\n",
       " [{[[  0 138]\n",
       "    [  0   0]],\n",
       "   [[  0 255]\n",
       "    [  0 255]],\n",
       "   [[138   0]\n",
       "    [  0   0]],\n",
       "   [[255   0]\n",
       "    [255   0]],\n",
       "   [[255 255]\n",
       "    [  0   0]],\n",
       "   [[255 255]\n",
       "    [  0 255]],\n",
       "   [[255 255]\n",
       "    [255   0]]},\n",
       "  {[[  0 138]\n",
       "    [  0   0]],\n",
       "   [[  0 255]\n",
       "    [  0 255]],\n",
       "   [[138   0]\n",
       "    [  0   0]],\n",
       "   [[255   0]\n",
       "    [255   0]],\n",
       "   [[255 255]\n",
       "    [  0   0]],\n",
       "   [[255 255]\n",
       "    [  0 255]],\n",
       "   [[255 255]\n",
       "    [255   0]]},\n",
       "  {[[  0 138]\n",
       "    [  0   0]],\n",
       "   [[  0 255]\n",
       "    [  0 255]],\n",
       "   [[138   0]\n",
       "    [  0   0]],\n",
       "   [[255   0]\n",
       "    [255   0]],\n",
       "   [[255 255]\n",
       "    [  0   0]],\n",
       "   [[255 255]\n",
       "    [  0 255]],\n",
       "   [[255 255]\n",
       "    [255   0]]},\n",
       "  {[[  0 138]\n",
       "    [  0   0]],\n",
       "   [[  0 255]\n",
       "    [  0 255]],\n",
       "   [[138   0]\n",
       "    [  0   0]],\n",
       "   [[255   0]\n",
       "    [255   0]],\n",
       "   [[255   0]\n",
       "    [255 255]],\n",
       "   [[255 255]\n",
       "    [  0   0]],\n",
       "   [[255 255]\n",
       "    [  0 255]],\n",
       "   [[255 255]\n",
       "    [255   0]]},\n",
       "  {[[  0   0]\n",
       "    [  0 138]],\n",
       "   [[  0   0]\n",
       "    [255 255]],\n",
       "   [[  0 138]\n",
       "    [  0   0]],\n",
       "   [[  0 255]\n",
       "    [  0 255]],\n",
       "   [[  0 255]\n",
       "    [255 255]],\n",
       "   [[138   0]\n",
       "    [  0   0]],\n",
       "   [[255   0]\n",
       "    [255   0]],\n",
       "   [[255   0]\n",
       "    [255 255]],\n",
       "   [[255 255]\n",
       "    [  0   0]],\n",
       "   [[255 255]\n",
       "    [  0 255]],\n",
       "   [[255 255]\n",
       "    [255   0]]}],\n",
       " [{[[  0   0]\n",
       "    [255 255]],\n",
       "   [[  0 255]\n",
       "    [255 255]],\n",
       "   [[255   0]\n",
       "    [255 255]]},\n",
       "  {[[  0   0]\n",
       "    [255 255]],\n",
       "   [[  0 255]\n",
       "    [255 255]],\n",
       "   [[255   0]\n",
       "    [255 255]]},\n",
       "  {[[  0   0]\n",
       "    [255 255]],\n",
       "   [[  0 255]\n",
       "    [255 255]],\n",
       "   [[255   0]\n",
       "    [255 255]]},\n",
       "  {[[  0   0]\n",
       "    [255 255]],\n",
       "   [[  0 255]\n",
       "    [255 255]],\n",
       "   [[255   0]\n",
       "    [255   0]],\n",
       "   [[255   0]\n",
       "    [255 255]],\n",
       "   [[255 255]\n",
       "    [255   0]]},\n",
       "  {[[  0   0]\n",
       "    [  0 138]],\n",
       "   [[  0   0]\n",
       "    [255 255]],\n",
       "   [[  0 138]\n",
       "    [  0   0]],\n",
       "   [[  0 255]\n",
       "    [  0 255]],\n",
       "   [[  0 255]\n",
       "    [255 255]],\n",
       "   [[255   0]\n",
       "    [255   0]],\n",
       "   [[255   0]\n",
       "    [255 255]],\n",
       "   [[255 255]\n",
       "    [  0   0]],\n",
       "   [[255 255]\n",
       "    [  0 255]],\n",
       "   [[255 255]\n",
       "    [255   0]]}],\n",
       " [{[[255 255]\n",
       "    [  0   0]],\n",
       "   [[255 255]\n",
       "    [255   0]]},\n",
       "  {[[255 255]\n",
       "    [  0   0]]},\n",
       "  {[[255 255]\n",
       "    [  0   0]],\n",
       "   [[255 255]\n",
       "    [  0 255]]},\n",
       "  {[[255   0]\n",
       "    [255   0]],\n",
       "   [[255   0]\n",
       "    [255 255]],\n",
       "   [[255 255]\n",
       "    [  0   0]],\n",
       "   [[255 255]\n",
       "    [  0 255]],\n",
       "   [[255 255]\n",
       "    [255   0]]},\n",
       "  {[[  0   0]\n",
       "    [  0 138]],\n",
       "   [[  0   0]\n",
       "    [255 255]],\n",
       "   [[  0 138]\n",
       "    [  0   0]],\n",
       "   [[  0 255]\n",
       "    [  0 255]],\n",
       "   [[  0 255]\n",
       "    [255 255]],\n",
       "   [[255   0]\n",
       "    [255   0]],\n",
       "   [[255   0]\n",
       "    [255 255]],\n",
       "   [[255 255]\n",
       "    [  0   0]],\n",
       "   [[255 255]\n",
       "    [  0 255]],\n",
       "   [[255 255]\n",
       "    [255   0]]}],\n",
       " [{[[  0   0]\n",
       "    [  0 138]],\n",
       "   [[  0   0]\n",
       "    [138   0]],\n",
       "   [[  0   0]\n",
       "    [255 255]],\n",
       "   [[255   0]\n",
       "    [255   0]],\n",
       "   [[255   0]\n",
       "    [255 255]]},\n",
       "  {[[  0   0]\n",
       "    [  0 138]],\n",
       "   [[  0   0]\n",
       "    [138   0]],\n",
       "   [[  0   0]\n",
       "    [255 255]]},\n",
       "  {[[  0   0]\n",
       "    [  0 138]],\n",
       "   [[  0   0]\n",
       "    [138   0]],\n",
       "   [[  0   0]\n",
       "    [255 255]],\n",
       "   [[  0 255]\n",
       "    [  0 255]],\n",
       "   [[  0 255]\n",
       "    [255 255]]},\n",
       "  {[[  0   0]\n",
       "    [  0 138]],\n",
       "   [[  0   0]\n",
       "    [138   0]],\n",
       "   [[  0   0]\n",
       "    [255 255]],\n",
       "   [[  0 255]\n",
       "    [  0 255]],\n",
       "   [[  0 255]\n",
       "    [255 255]],\n",
       "   [[255   0]\n",
       "    [255   0]],\n",
       "   [[255   0]\n",
       "    [255 255]],\n",
       "   [[255 255]\n",
       "    [255   0]]},\n",
       "  {[[  0   0]\n",
       "    [  0 138]],\n",
       "   [[  0   0]\n",
       "    [138   0]],\n",
       "   [[  0   0]\n",
       "    [255 255]],\n",
       "   [[  0 138]\n",
       "    [  0   0]],\n",
       "   [[  0 255]\n",
       "    [  0 255]],\n",
       "   [[  0 255]\n",
       "    [255 255]],\n",
       "   [[255   0]\n",
       "    [255   0]],\n",
       "   [[255   0]\n",
       "    [255 255]],\n",
       "   [[255 255]\n",
       "    [  0   0]],\n",
       "   [[255 255]\n",
       "    [  0 255]],\n",
       "   [[255 255]\n",
       "    [255   0]]}],\n",
       " [{[[  0 138]\n",
       "    [  0   0]],\n",
       "   [[138   0]\n",
       "    [  0   0]],\n",
       "   [[255   0]\n",
       "    [255   0]],\n",
       "   [[255 255]\n",
       "    [  0   0]],\n",
       "   [[255 255]\n",
       "    [  0 255]],\n",
       "   [[255 255]\n",
       "    [255   0]]},\n",
       "  {[[  0 138]\n",
       "    [  0   0]],\n",
       "   [[138   0]\n",
       "    [  0   0]],\n",
       "   [[255 255]\n",
       "    [  0   0]],\n",
       "   [[255 255]\n",
       "    [  0 255]],\n",
       "   [[255 255]\n",
       "    [255   0]]},\n",
       "  {[[  0 138]\n",
       "    [  0   0]],\n",
       "   [[  0 255]\n",
       "    [  0 255]],\n",
       "   [[138   0]\n",
       "    [  0   0]],\n",
       "   [[255 255]\n",
       "    [  0   0]],\n",
       "   [[255 255]\n",
       "    [  0 255]],\n",
       "   [[255 255]\n",
       "    [255   0]]},\n",
       "  {[[  0 138]\n",
       "    [  0   0]],\n",
       "   [[  0 255]\n",
       "    [  0 255]],\n",
       "   [[138   0]\n",
       "    [  0   0]],\n",
       "   [[255   0]\n",
       "    [255   0]],\n",
       "   [[255   0]\n",
       "    [255 255]],\n",
       "   [[255 255]\n",
       "    [  0   0]],\n",
       "   [[255 255]\n",
       "    [  0 255]],\n",
       "   [[255 255]\n",
       "    [255   0]]},\n",
       "  {[[  0   0]\n",
       "    [  0 138]],\n",
       "   [[  0   0]\n",
       "    [255 255]],\n",
       "   [[  0 138]\n",
       "    [  0   0]],\n",
       "   [[  0 255]\n",
       "    [  0 255]],\n",
       "   [[  0 255]\n",
       "    [255 255]],\n",
       "   [[138   0]\n",
       "    [  0   0]],\n",
       "   [[255   0]\n",
       "    [255   0]],\n",
       "   [[255   0]\n",
       "    [255 255]],\n",
       "   [[255 255]\n",
       "    [  0   0]],\n",
       "   [[255 255]\n",
       "    [  0 255]],\n",
       "   [[255 255]\n",
       "    [255   0]]}]]"
      ]
     },
     "execution_count": 377,
     "metadata": {},
     "output_type": "execute_result"
    }
   ],
   "source": [
    "image._img"
   ]
  },
  {
   "cell_type": "code",
   "execution_count": null,
   "metadata": {},
   "outputs": [],
   "source": []
  }
 ],
 "metadata": {
  "kernelspec": {
   "display_name": "Python 3",
   "language": "python",
   "name": "python3"
  },
  "language_info": {
   "codemirror_mode": {
    "name": "ipython",
    "version": 3
   },
   "file_extension": ".py",
   "mimetype": "text/x-python",
   "name": "python",
   "nbconvert_exporter": "python",
   "pygments_lexer": "ipython3",
   "version": "3.7.9"
  }
 },
 "nbformat": 4,
 "nbformat_minor": 4
}
